{
  "nbformat": 4,
  "nbformat_minor": 0,
  "metadata": {
    "anaconda-cloud": {},
    "kernelspec": {
      "display_name": "Python 3",
      "language": "python",
      "name": "python3"
    },
    "language_info": {
      "codemirror_mode": {
        "name": "ipython",
        "version": 3
      },
      "file_extension": ".py",
      "mimetype": "text/x-python",
      "name": "python",
      "nbconvert_exporter": "python",
      "pygments_lexer": "ipython3",
      "version": "3.6.2"
    },
    "colab": {
      "name": "pytorch.ipynb",
      "provenance": []
    },
    "accelerator": "TPU",
    "widgets": {
      "application/vnd.jupyter.widget-state+json": {
        "bdcd76eb401b4ed9943f07406d53bc09": {
          "model_module": "@jupyter-widgets/controls",
          "model_name": "HBoxModel",
          "model_module_version": "1.5.0",
          "state": {
            "_view_name": "HBoxView",
            "_dom_classes": [],
            "_model_name": "HBoxModel",
            "_view_module": "@jupyter-widgets/controls",
            "_model_module_version": "1.5.0",
            "_view_count": null,
            "_view_module_version": "1.5.0",
            "box_style": "",
            "layout": "IPY_MODEL_97728fba7e1946dc9dc018a06736573a",
            "_model_module": "@jupyter-widgets/controls",
            "children": [
              "IPY_MODEL_440cd7f0de5b42749ccc7bf9cb3f3b87",
              "IPY_MODEL_728c49b935704f849ee862246bfb6dbb",
              "IPY_MODEL_79371f7bb5da44c29808b6986fd1606a"
            ]
          }
        },
        "97728fba7e1946dc9dc018a06736573a": {
          "model_module": "@jupyter-widgets/base",
          "model_name": "LayoutModel",
          "model_module_version": "1.2.0",
          "state": {
            "_view_name": "LayoutView",
            "grid_template_rows": null,
            "right": null,
            "justify_content": null,
            "_view_module": "@jupyter-widgets/base",
            "overflow": null,
            "_model_module_version": "1.2.0",
            "_view_count": null,
            "flex_flow": null,
            "width": null,
            "min_width": null,
            "border": null,
            "align_items": null,
            "bottom": null,
            "_model_module": "@jupyter-widgets/base",
            "top": null,
            "grid_column": null,
            "overflow_y": null,
            "overflow_x": null,
            "grid_auto_flow": null,
            "grid_area": null,
            "grid_template_columns": null,
            "flex": null,
            "_model_name": "LayoutModel",
            "justify_items": null,
            "grid_row": null,
            "max_height": null,
            "align_content": null,
            "visibility": null,
            "align_self": null,
            "height": null,
            "min_height": null,
            "padding": null,
            "grid_auto_rows": null,
            "grid_gap": null,
            "max_width": null,
            "order": null,
            "_view_module_version": "1.2.0",
            "grid_template_areas": null,
            "object_position": null,
            "object_fit": null,
            "grid_auto_columns": null,
            "margin": null,
            "display": null,
            "left": null
          }
        },
        "440cd7f0de5b42749ccc7bf9cb3f3b87": {
          "model_module": "@jupyter-widgets/controls",
          "model_name": "HTMLModel",
          "model_module_version": "1.5.0",
          "state": {
            "_view_name": "HTMLView",
            "style": "IPY_MODEL_828d381d7def43c5a425c005bf2602f6",
            "_dom_classes": [],
            "description": "",
            "_model_name": "HTMLModel",
            "placeholder": "​",
            "_view_module": "@jupyter-widgets/controls",
            "_model_module_version": "1.5.0",
            "value": "",
            "_view_count": null,
            "_view_module_version": "1.5.0",
            "description_tooltip": null,
            "_model_module": "@jupyter-widgets/controls",
            "layout": "IPY_MODEL_bf6f819f6670457b804c2677026f6d82"
          }
        },
        "728c49b935704f849ee862246bfb6dbb": {
          "model_module": "@jupyter-widgets/controls",
          "model_name": "FloatProgressModel",
          "model_module_version": "1.5.0",
          "state": {
            "_view_name": "ProgressView",
            "style": "IPY_MODEL_3fd44b6dcb0044e99aa76e67c7c91c60",
            "_dom_classes": [],
            "description": "",
            "_model_name": "FloatProgressModel",
            "bar_style": "success",
            "max": 9912422,
            "_view_module": "@jupyter-widgets/controls",
            "_model_module_version": "1.5.0",
            "value": 9912422,
            "_view_count": null,
            "_view_module_version": "1.5.0",
            "orientation": "horizontal",
            "min": 0,
            "description_tooltip": null,
            "_model_module": "@jupyter-widgets/controls",
            "layout": "IPY_MODEL_162fb6e576154e6aaf2f2da6eb418e1d"
          }
        },
        "79371f7bb5da44c29808b6986fd1606a": {
          "model_module": "@jupyter-widgets/controls",
          "model_name": "HTMLModel",
          "model_module_version": "1.5.0",
          "state": {
            "_view_name": "HTMLView",
            "style": "IPY_MODEL_fc6590e4b150425fb61d048a15659cfd",
            "_dom_classes": [],
            "description": "",
            "_model_name": "HTMLModel",
            "placeholder": "​",
            "_view_module": "@jupyter-widgets/controls",
            "_model_module_version": "1.5.0",
            "value": " 9913344/? [00:00&lt;00:00, 44836975.67it/s]",
            "_view_count": null,
            "_view_module_version": "1.5.0",
            "description_tooltip": null,
            "_model_module": "@jupyter-widgets/controls",
            "layout": "IPY_MODEL_48844f95a0fc478a99a46597e41d5252"
          }
        },
        "828d381d7def43c5a425c005bf2602f6": {
          "model_module": "@jupyter-widgets/controls",
          "model_name": "DescriptionStyleModel",
          "model_module_version": "1.5.0",
          "state": {
            "_view_name": "StyleView",
            "_model_name": "DescriptionStyleModel",
            "description_width": "",
            "_view_module": "@jupyter-widgets/base",
            "_model_module_version": "1.5.0",
            "_view_count": null,
            "_view_module_version": "1.2.0",
            "_model_module": "@jupyter-widgets/controls"
          }
        },
        "bf6f819f6670457b804c2677026f6d82": {
          "model_module": "@jupyter-widgets/base",
          "model_name": "LayoutModel",
          "model_module_version": "1.2.0",
          "state": {
            "_view_name": "LayoutView",
            "grid_template_rows": null,
            "right": null,
            "justify_content": null,
            "_view_module": "@jupyter-widgets/base",
            "overflow": null,
            "_model_module_version": "1.2.0",
            "_view_count": null,
            "flex_flow": null,
            "width": null,
            "min_width": null,
            "border": null,
            "align_items": null,
            "bottom": null,
            "_model_module": "@jupyter-widgets/base",
            "top": null,
            "grid_column": null,
            "overflow_y": null,
            "overflow_x": null,
            "grid_auto_flow": null,
            "grid_area": null,
            "grid_template_columns": null,
            "flex": null,
            "_model_name": "LayoutModel",
            "justify_items": null,
            "grid_row": null,
            "max_height": null,
            "align_content": null,
            "visibility": null,
            "align_self": null,
            "height": null,
            "min_height": null,
            "padding": null,
            "grid_auto_rows": null,
            "grid_gap": null,
            "max_width": null,
            "order": null,
            "_view_module_version": "1.2.0",
            "grid_template_areas": null,
            "object_position": null,
            "object_fit": null,
            "grid_auto_columns": null,
            "margin": null,
            "display": null,
            "left": null
          }
        },
        "3fd44b6dcb0044e99aa76e67c7c91c60": {
          "model_module": "@jupyter-widgets/controls",
          "model_name": "ProgressStyleModel",
          "model_module_version": "1.5.0",
          "state": {
            "_view_name": "StyleView",
            "_model_name": "ProgressStyleModel",
            "description_width": "",
            "_view_module": "@jupyter-widgets/base",
            "_model_module_version": "1.5.0",
            "_view_count": null,
            "_view_module_version": "1.2.0",
            "bar_color": null,
            "_model_module": "@jupyter-widgets/controls"
          }
        },
        "162fb6e576154e6aaf2f2da6eb418e1d": {
          "model_module": "@jupyter-widgets/base",
          "model_name": "LayoutModel",
          "model_module_version": "1.2.0",
          "state": {
            "_view_name": "LayoutView",
            "grid_template_rows": null,
            "right": null,
            "justify_content": null,
            "_view_module": "@jupyter-widgets/base",
            "overflow": null,
            "_model_module_version": "1.2.0",
            "_view_count": null,
            "flex_flow": null,
            "width": null,
            "min_width": null,
            "border": null,
            "align_items": null,
            "bottom": null,
            "_model_module": "@jupyter-widgets/base",
            "top": null,
            "grid_column": null,
            "overflow_y": null,
            "overflow_x": null,
            "grid_auto_flow": null,
            "grid_area": null,
            "grid_template_columns": null,
            "flex": null,
            "_model_name": "LayoutModel",
            "justify_items": null,
            "grid_row": null,
            "max_height": null,
            "align_content": null,
            "visibility": null,
            "align_self": null,
            "height": null,
            "min_height": null,
            "padding": null,
            "grid_auto_rows": null,
            "grid_gap": null,
            "max_width": null,
            "order": null,
            "_view_module_version": "1.2.0",
            "grid_template_areas": null,
            "object_position": null,
            "object_fit": null,
            "grid_auto_columns": null,
            "margin": null,
            "display": null,
            "left": null
          }
        },
        "fc6590e4b150425fb61d048a15659cfd": {
          "model_module": "@jupyter-widgets/controls",
          "model_name": "DescriptionStyleModel",
          "model_module_version": "1.5.0",
          "state": {
            "_view_name": "StyleView",
            "_model_name": "DescriptionStyleModel",
            "description_width": "",
            "_view_module": "@jupyter-widgets/base",
            "_model_module_version": "1.5.0",
            "_view_count": null,
            "_view_module_version": "1.2.0",
            "_model_module": "@jupyter-widgets/controls"
          }
        },
        "48844f95a0fc478a99a46597e41d5252": {
          "model_module": "@jupyter-widgets/base",
          "model_name": "LayoutModel",
          "model_module_version": "1.2.0",
          "state": {
            "_view_name": "LayoutView",
            "grid_template_rows": null,
            "right": null,
            "justify_content": null,
            "_view_module": "@jupyter-widgets/base",
            "overflow": null,
            "_model_module_version": "1.2.0",
            "_view_count": null,
            "flex_flow": null,
            "width": null,
            "min_width": null,
            "border": null,
            "align_items": null,
            "bottom": null,
            "_model_module": "@jupyter-widgets/base",
            "top": null,
            "grid_column": null,
            "overflow_y": null,
            "overflow_x": null,
            "grid_auto_flow": null,
            "grid_area": null,
            "grid_template_columns": null,
            "flex": null,
            "_model_name": "LayoutModel",
            "justify_items": null,
            "grid_row": null,
            "max_height": null,
            "align_content": null,
            "visibility": null,
            "align_self": null,
            "height": null,
            "min_height": null,
            "padding": null,
            "grid_auto_rows": null,
            "grid_gap": null,
            "max_width": null,
            "order": null,
            "_view_module_version": "1.2.0",
            "grid_template_areas": null,
            "object_position": null,
            "object_fit": null,
            "grid_auto_columns": null,
            "margin": null,
            "display": null,
            "left": null
          }
        },
        "f0b7f17135664050a74189e2871eb199": {
          "model_module": "@jupyter-widgets/controls",
          "model_name": "HBoxModel",
          "model_module_version": "1.5.0",
          "state": {
            "_view_name": "HBoxView",
            "_dom_classes": [],
            "_model_name": "HBoxModel",
            "_view_module": "@jupyter-widgets/controls",
            "_model_module_version": "1.5.0",
            "_view_count": null,
            "_view_module_version": "1.5.0",
            "box_style": "",
            "layout": "IPY_MODEL_91ad8e9d9ce946f1ae808124556888df",
            "_model_module": "@jupyter-widgets/controls",
            "children": [
              "IPY_MODEL_bb7ed5a4519c4f4ab7e9d71d0f6472c7",
              "IPY_MODEL_4266fcde68b0412a96915db32a7127f1",
              "IPY_MODEL_143d2409d1fc44d69c2e67153fc79cb1"
            ]
          }
        },
        "91ad8e9d9ce946f1ae808124556888df": {
          "model_module": "@jupyter-widgets/base",
          "model_name": "LayoutModel",
          "model_module_version": "1.2.0",
          "state": {
            "_view_name": "LayoutView",
            "grid_template_rows": null,
            "right": null,
            "justify_content": null,
            "_view_module": "@jupyter-widgets/base",
            "overflow": null,
            "_model_module_version": "1.2.0",
            "_view_count": null,
            "flex_flow": null,
            "width": null,
            "min_width": null,
            "border": null,
            "align_items": null,
            "bottom": null,
            "_model_module": "@jupyter-widgets/base",
            "top": null,
            "grid_column": null,
            "overflow_y": null,
            "overflow_x": null,
            "grid_auto_flow": null,
            "grid_area": null,
            "grid_template_columns": null,
            "flex": null,
            "_model_name": "LayoutModel",
            "justify_items": null,
            "grid_row": null,
            "max_height": null,
            "align_content": null,
            "visibility": null,
            "align_self": null,
            "height": null,
            "min_height": null,
            "padding": null,
            "grid_auto_rows": null,
            "grid_gap": null,
            "max_width": null,
            "order": null,
            "_view_module_version": "1.2.0",
            "grid_template_areas": null,
            "object_position": null,
            "object_fit": null,
            "grid_auto_columns": null,
            "margin": null,
            "display": null,
            "left": null
          }
        },
        "bb7ed5a4519c4f4ab7e9d71d0f6472c7": {
          "model_module": "@jupyter-widgets/controls",
          "model_name": "HTMLModel",
          "model_module_version": "1.5.0",
          "state": {
            "_view_name": "HTMLView",
            "style": "IPY_MODEL_de5f03420a7e4be08780d94f048ce880",
            "_dom_classes": [],
            "description": "",
            "_model_name": "HTMLModel",
            "placeholder": "​",
            "_view_module": "@jupyter-widgets/controls",
            "_model_module_version": "1.5.0",
            "value": "",
            "_view_count": null,
            "_view_module_version": "1.5.0",
            "description_tooltip": null,
            "_model_module": "@jupyter-widgets/controls",
            "layout": "IPY_MODEL_4c5e8762953b42ab92d7a1a680ef1901"
          }
        },
        "4266fcde68b0412a96915db32a7127f1": {
          "model_module": "@jupyter-widgets/controls",
          "model_name": "FloatProgressModel",
          "model_module_version": "1.5.0",
          "state": {
            "_view_name": "ProgressView",
            "style": "IPY_MODEL_fdc685ad2d8049c498b98ac83be7eb73",
            "_dom_classes": [],
            "description": "",
            "_model_name": "FloatProgressModel",
            "bar_style": "success",
            "max": 28881,
            "_view_module": "@jupyter-widgets/controls",
            "_model_module_version": "1.5.0",
            "value": 28881,
            "_view_count": null,
            "_view_module_version": "1.5.0",
            "orientation": "horizontal",
            "min": 0,
            "description_tooltip": null,
            "_model_module": "@jupyter-widgets/controls",
            "layout": "IPY_MODEL_03d259c5bf2e44648d74125ff08ad095"
          }
        },
        "143d2409d1fc44d69c2e67153fc79cb1": {
          "model_module": "@jupyter-widgets/controls",
          "model_name": "HTMLModel",
          "model_module_version": "1.5.0",
          "state": {
            "_view_name": "HTMLView",
            "style": "IPY_MODEL_8c5d262eee30440c8f2902be4c81ece0",
            "_dom_classes": [],
            "description": "",
            "_model_name": "HTMLModel",
            "placeholder": "​",
            "_view_module": "@jupyter-widgets/controls",
            "_model_module_version": "1.5.0",
            "value": " 29696/? [00:00&lt;00:00, 875316.60it/s]",
            "_view_count": null,
            "_view_module_version": "1.5.0",
            "description_tooltip": null,
            "_model_module": "@jupyter-widgets/controls",
            "layout": "IPY_MODEL_c5392224ce9a4aa69e691114aa678af8"
          }
        },
        "de5f03420a7e4be08780d94f048ce880": {
          "model_module": "@jupyter-widgets/controls",
          "model_name": "DescriptionStyleModel",
          "model_module_version": "1.5.0",
          "state": {
            "_view_name": "StyleView",
            "_model_name": "DescriptionStyleModel",
            "description_width": "",
            "_view_module": "@jupyter-widgets/base",
            "_model_module_version": "1.5.0",
            "_view_count": null,
            "_view_module_version": "1.2.0",
            "_model_module": "@jupyter-widgets/controls"
          }
        },
        "4c5e8762953b42ab92d7a1a680ef1901": {
          "model_module": "@jupyter-widgets/base",
          "model_name": "LayoutModel",
          "model_module_version": "1.2.0",
          "state": {
            "_view_name": "LayoutView",
            "grid_template_rows": null,
            "right": null,
            "justify_content": null,
            "_view_module": "@jupyter-widgets/base",
            "overflow": null,
            "_model_module_version": "1.2.0",
            "_view_count": null,
            "flex_flow": null,
            "width": null,
            "min_width": null,
            "border": null,
            "align_items": null,
            "bottom": null,
            "_model_module": "@jupyter-widgets/base",
            "top": null,
            "grid_column": null,
            "overflow_y": null,
            "overflow_x": null,
            "grid_auto_flow": null,
            "grid_area": null,
            "grid_template_columns": null,
            "flex": null,
            "_model_name": "LayoutModel",
            "justify_items": null,
            "grid_row": null,
            "max_height": null,
            "align_content": null,
            "visibility": null,
            "align_self": null,
            "height": null,
            "min_height": null,
            "padding": null,
            "grid_auto_rows": null,
            "grid_gap": null,
            "max_width": null,
            "order": null,
            "_view_module_version": "1.2.0",
            "grid_template_areas": null,
            "object_position": null,
            "object_fit": null,
            "grid_auto_columns": null,
            "margin": null,
            "display": null,
            "left": null
          }
        },
        "fdc685ad2d8049c498b98ac83be7eb73": {
          "model_module": "@jupyter-widgets/controls",
          "model_name": "ProgressStyleModel",
          "model_module_version": "1.5.0",
          "state": {
            "_view_name": "StyleView",
            "_model_name": "ProgressStyleModel",
            "description_width": "",
            "_view_module": "@jupyter-widgets/base",
            "_model_module_version": "1.5.0",
            "_view_count": null,
            "_view_module_version": "1.2.0",
            "bar_color": null,
            "_model_module": "@jupyter-widgets/controls"
          }
        },
        "03d259c5bf2e44648d74125ff08ad095": {
          "model_module": "@jupyter-widgets/base",
          "model_name": "LayoutModel",
          "model_module_version": "1.2.0",
          "state": {
            "_view_name": "LayoutView",
            "grid_template_rows": null,
            "right": null,
            "justify_content": null,
            "_view_module": "@jupyter-widgets/base",
            "overflow": null,
            "_model_module_version": "1.2.0",
            "_view_count": null,
            "flex_flow": null,
            "width": null,
            "min_width": null,
            "border": null,
            "align_items": null,
            "bottom": null,
            "_model_module": "@jupyter-widgets/base",
            "top": null,
            "grid_column": null,
            "overflow_y": null,
            "overflow_x": null,
            "grid_auto_flow": null,
            "grid_area": null,
            "grid_template_columns": null,
            "flex": null,
            "_model_name": "LayoutModel",
            "justify_items": null,
            "grid_row": null,
            "max_height": null,
            "align_content": null,
            "visibility": null,
            "align_self": null,
            "height": null,
            "min_height": null,
            "padding": null,
            "grid_auto_rows": null,
            "grid_gap": null,
            "max_width": null,
            "order": null,
            "_view_module_version": "1.2.0",
            "grid_template_areas": null,
            "object_position": null,
            "object_fit": null,
            "grid_auto_columns": null,
            "margin": null,
            "display": null,
            "left": null
          }
        },
        "8c5d262eee30440c8f2902be4c81ece0": {
          "model_module": "@jupyter-widgets/controls",
          "model_name": "DescriptionStyleModel",
          "model_module_version": "1.5.0",
          "state": {
            "_view_name": "StyleView",
            "_model_name": "DescriptionStyleModel",
            "description_width": "",
            "_view_module": "@jupyter-widgets/base",
            "_model_module_version": "1.5.0",
            "_view_count": null,
            "_view_module_version": "1.2.0",
            "_model_module": "@jupyter-widgets/controls"
          }
        },
        "c5392224ce9a4aa69e691114aa678af8": {
          "model_module": "@jupyter-widgets/base",
          "model_name": "LayoutModel",
          "model_module_version": "1.2.0",
          "state": {
            "_view_name": "LayoutView",
            "grid_template_rows": null,
            "right": null,
            "justify_content": null,
            "_view_module": "@jupyter-widgets/base",
            "overflow": null,
            "_model_module_version": "1.2.0",
            "_view_count": null,
            "flex_flow": null,
            "width": null,
            "min_width": null,
            "border": null,
            "align_items": null,
            "bottom": null,
            "_model_module": "@jupyter-widgets/base",
            "top": null,
            "grid_column": null,
            "overflow_y": null,
            "overflow_x": null,
            "grid_auto_flow": null,
            "grid_area": null,
            "grid_template_columns": null,
            "flex": null,
            "_model_name": "LayoutModel",
            "justify_items": null,
            "grid_row": null,
            "max_height": null,
            "align_content": null,
            "visibility": null,
            "align_self": null,
            "height": null,
            "min_height": null,
            "padding": null,
            "grid_auto_rows": null,
            "grid_gap": null,
            "max_width": null,
            "order": null,
            "_view_module_version": "1.2.0",
            "grid_template_areas": null,
            "object_position": null,
            "object_fit": null,
            "grid_auto_columns": null,
            "margin": null,
            "display": null,
            "left": null
          }
        },
        "c18afcd7d902447ea0717871c816dc1e": {
          "model_module": "@jupyter-widgets/controls",
          "model_name": "HBoxModel",
          "model_module_version": "1.5.0",
          "state": {
            "_view_name": "HBoxView",
            "_dom_classes": [],
            "_model_name": "HBoxModel",
            "_view_module": "@jupyter-widgets/controls",
            "_model_module_version": "1.5.0",
            "_view_count": null,
            "_view_module_version": "1.5.0",
            "box_style": "",
            "layout": "IPY_MODEL_001b7e5585c34d8a847f327c4724dfee",
            "_model_module": "@jupyter-widgets/controls",
            "children": [
              "IPY_MODEL_509366192ef54d7fae9c0d8e36cdb7cb",
              "IPY_MODEL_04aff80e09f84f9dacb1e08bf6b0efb2",
              "IPY_MODEL_80bd2146606f42d18eb8a4cc77cfdcff"
            ]
          }
        },
        "001b7e5585c34d8a847f327c4724dfee": {
          "model_module": "@jupyter-widgets/base",
          "model_name": "LayoutModel",
          "model_module_version": "1.2.0",
          "state": {
            "_view_name": "LayoutView",
            "grid_template_rows": null,
            "right": null,
            "justify_content": null,
            "_view_module": "@jupyter-widgets/base",
            "overflow": null,
            "_model_module_version": "1.2.0",
            "_view_count": null,
            "flex_flow": null,
            "width": null,
            "min_width": null,
            "border": null,
            "align_items": null,
            "bottom": null,
            "_model_module": "@jupyter-widgets/base",
            "top": null,
            "grid_column": null,
            "overflow_y": null,
            "overflow_x": null,
            "grid_auto_flow": null,
            "grid_area": null,
            "grid_template_columns": null,
            "flex": null,
            "_model_name": "LayoutModel",
            "justify_items": null,
            "grid_row": null,
            "max_height": null,
            "align_content": null,
            "visibility": null,
            "align_self": null,
            "height": null,
            "min_height": null,
            "padding": null,
            "grid_auto_rows": null,
            "grid_gap": null,
            "max_width": null,
            "order": null,
            "_view_module_version": "1.2.0",
            "grid_template_areas": null,
            "object_position": null,
            "object_fit": null,
            "grid_auto_columns": null,
            "margin": null,
            "display": null,
            "left": null
          }
        },
        "509366192ef54d7fae9c0d8e36cdb7cb": {
          "model_module": "@jupyter-widgets/controls",
          "model_name": "HTMLModel",
          "model_module_version": "1.5.0",
          "state": {
            "_view_name": "HTMLView",
            "style": "IPY_MODEL_43c7ec2c3d48498fb56477e5a2151ffa",
            "_dom_classes": [],
            "description": "",
            "_model_name": "HTMLModel",
            "placeholder": "​",
            "_view_module": "@jupyter-widgets/controls",
            "_model_module_version": "1.5.0",
            "value": "",
            "_view_count": null,
            "_view_module_version": "1.5.0",
            "description_tooltip": null,
            "_model_module": "@jupyter-widgets/controls",
            "layout": "IPY_MODEL_5a1cd884ad374a518078edb28fba32e7"
          }
        },
        "04aff80e09f84f9dacb1e08bf6b0efb2": {
          "model_module": "@jupyter-widgets/controls",
          "model_name": "FloatProgressModel",
          "model_module_version": "1.5.0",
          "state": {
            "_view_name": "ProgressView",
            "style": "IPY_MODEL_41bf4f39584c4a07916fe13e93527141",
            "_dom_classes": [],
            "description": "",
            "_model_name": "FloatProgressModel",
            "bar_style": "success",
            "max": 1648877,
            "_view_module": "@jupyter-widgets/controls",
            "_model_module_version": "1.5.0",
            "value": 1648877,
            "_view_count": null,
            "_view_module_version": "1.5.0",
            "orientation": "horizontal",
            "min": 0,
            "description_tooltip": null,
            "_model_module": "@jupyter-widgets/controls",
            "layout": "IPY_MODEL_1cd9005b020545dbbdf7783166692a5f"
          }
        },
        "80bd2146606f42d18eb8a4cc77cfdcff": {
          "model_module": "@jupyter-widgets/controls",
          "model_name": "HTMLModel",
          "model_module_version": "1.5.0",
          "state": {
            "_view_name": "HTMLView",
            "style": "IPY_MODEL_708cf5db3a944a97abb4dd78c05868e3",
            "_dom_classes": [],
            "description": "",
            "_model_name": "HTMLModel",
            "placeholder": "​",
            "_view_module": "@jupyter-widgets/controls",
            "_model_module_version": "1.5.0",
            "value": " 1649664/? [00:00&lt;00:00, 14786045.31it/s]",
            "_view_count": null,
            "_view_module_version": "1.5.0",
            "description_tooltip": null,
            "_model_module": "@jupyter-widgets/controls",
            "layout": "IPY_MODEL_e2f550114c844c9a841992008bfcce76"
          }
        },
        "43c7ec2c3d48498fb56477e5a2151ffa": {
          "model_module": "@jupyter-widgets/controls",
          "model_name": "DescriptionStyleModel",
          "model_module_version": "1.5.0",
          "state": {
            "_view_name": "StyleView",
            "_model_name": "DescriptionStyleModel",
            "description_width": "",
            "_view_module": "@jupyter-widgets/base",
            "_model_module_version": "1.5.0",
            "_view_count": null,
            "_view_module_version": "1.2.0",
            "_model_module": "@jupyter-widgets/controls"
          }
        },
        "5a1cd884ad374a518078edb28fba32e7": {
          "model_module": "@jupyter-widgets/base",
          "model_name": "LayoutModel",
          "model_module_version": "1.2.0",
          "state": {
            "_view_name": "LayoutView",
            "grid_template_rows": null,
            "right": null,
            "justify_content": null,
            "_view_module": "@jupyter-widgets/base",
            "overflow": null,
            "_model_module_version": "1.2.0",
            "_view_count": null,
            "flex_flow": null,
            "width": null,
            "min_width": null,
            "border": null,
            "align_items": null,
            "bottom": null,
            "_model_module": "@jupyter-widgets/base",
            "top": null,
            "grid_column": null,
            "overflow_y": null,
            "overflow_x": null,
            "grid_auto_flow": null,
            "grid_area": null,
            "grid_template_columns": null,
            "flex": null,
            "_model_name": "LayoutModel",
            "justify_items": null,
            "grid_row": null,
            "max_height": null,
            "align_content": null,
            "visibility": null,
            "align_self": null,
            "height": null,
            "min_height": null,
            "padding": null,
            "grid_auto_rows": null,
            "grid_gap": null,
            "max_width": null,
            "order": null,
            "_view_module_version": "1.2.0",
            "grid_template_areas": null,
            "object_position": null,
            "object_fit": null,
            "grid_auto_columns": null,
            "margin": null,
            "display": null,
            "left": null
          }
        },
        "41bf4f39584c4a07916fe13e93527141": {
          "model_module": "@jupyter-widgets/controls",
          "model_name": "ProgressStyleModel",
          "model_module_version": "1.5.0",
          "state": {
            "_view_name": "StyleView",
            "_model_name": "ProgressStyleModel",
            "description_width": "",
            "_view_module": "@jupyter-widgets/base",
            "_model_module_version": "1.5.0",
            "_view_count": null,
            "_view_module_version": "1.2.0",
            "bar_color": null,
            "_model_module": "@jupyter-widgets/controls"
          }
        },
        "1cd9005b020545dbbdf7783166692a5f": {
          "model_module": "@jupyter-widgets/base",
          "model_name": "LayoutModel",
          "model_module_version": "1.2.0",
          "state": {
            "_view_name": "LayoutView",
            "grid_template_rows": null,
            "right": null,
            "justify_content": null,
            "_view_module": "@jupyter-widgets/base",
            "overflow": null,
            "_model_module_version": "1.2.0",
            "_view_count": null,
            "flex_flow": null,
            "width": null,
            "min_width": null,
            "border": null,
            "align_items": null,
            "bottom": null,
            "_model_module": "@jupyter-widgets/base",
            "top": null,
            "grid_column": null,
            "overflow_y": null,
            "overflow_x": null,
            "grid_auto_flow": null,
            "grid_area": null,
            "grid_template_columns": null,
            "flex": null,
            "_model_name": "LayoutModel",
            "justify_items": null,
            "grid_row": null,
            "max_height": null,
            "align_content": null,
            "visibility": null,
            "align_self": null,
            "height": null,
            "min_height": null,
            "padding": null,
            "grid_auto_rows": null,
            "grid_gap": null,
            "max_width": null,
            "order": null,
            "_view_module_version": "1.2.0",
            "grid_template_areas": null,
            "object_position": null,
            "object_fit": null,
            "grid_auto_columns": null,
            "margin": null,
            "display": null,
            "left": null
          }
        },
        "708cf5db3a944a97abb4dd78c05868e3": {
          "model_module": "@jupyter-widgets/controls",
          "model_name": "DescriptionStyleModel",
          "model_module_version": "1.5.0",
          "state": {
            "_view_name": "StyleView",
            "_model_name": "DescriptionStyleModel",
            "description_width": "",
            "_view_module": "@jupyter-widgets/base",
            "_model_module_version": "1.5.0",
            "_view_count": null,
            "_view_module_version": "1.2.0",
            "_model_module": "@jupyter-widgets/controls"
          }
        },
        "e2f550114c844c9a841992008bfcce76": {
          "model_module": "@jupyter-widgets/base",
          "model_name": "LayoutModel",
          "model_module_version": "1.2.0",
          "state": {
            "_view_name": "LayoutView",
            "grid_template_rows": null,
            "right": null,
            "justify_content": null,
            "_view_module": "@jupyter-widgets/base",
            "overflow": null,
            "_model_module_version": "1.2.0",
            "_view_count": null,
            "flex_flow": null,
            "width": null,
            "min_width": null,
            "border": null,
            "align_items": null,
            "bottom": null,
            "_model_module": "@jupyter-widgets/base",
            "top": null,
            "grid_column": null,
            "overflow_y": null,
            "overflow_x": null,
            "grid_auto_flow": null,
            "grid_area": null,
            "grid_template_columns": null,
            "flex": null,
            "_model_name": "LayoutModel",
            "justify_items": null,
            "grid_row": null,
            "max_height": null,
            "align_content": null,
            "visibility": null,
            "align_self": null,
            "height": null,
            "min_height": null,
            "padding": null,
            "grid_auto_rows": null,
            "grid_gap": null,
            "max_width": null,
            "order": null,
            "_view_module_version": "1.2.0",
            "grid_template_areas": null,
            "object_position": null,
            "object_fit": null,
            "grid_auto_columns": null,
            "margin": null,
            "display": null,
            "left": null
          }
        },
        "1825accbaa114f02ae474b0bf0bc6f14": {
          "model_module": "@jupyter-widgets/controls",
          "model_name": "HBoxModel",
          "model_module_version": "1.5.0",
          "state": {
            "_view_name": "HBoxView",
            "_dom_classes": [],
            "_model_name": "HBoxModel",
            "_view_module": "@jupyter-widgets/controls",
            "_model_module_version": "1.5.0",
            "_view_count": null,
            "_view_module_version": "1.5.0",
            "box_style": "",
            "layout": "IPY_MODEL_96fb1fb23e4b48ee83aec195b434a94f",
            "_model_module": "@jupyter-widgets/controls",
            "children": [
              "IPY_MODEL_c00f31687c9b4203b794cb48f005ee65",
              "IPY_MODEL_b1e51841e36f46dfabfa32c045032772",
              "IPY_MODEL_6afd606b5d5f4c51a7295d4a3c8ea6bd"
            ]
          }
        },
        "96fb1fb23e4b48ee83aec195b434a94f": {
          "model_module": "@jupyter-widgets/base",
          "model_name": "LayoutModel",
          "model_module_version": "1.2.0",
          "state": {
            "_view_name": "LayoutView",
            "grid_template_rows": null,
            "right": null,
            "justify_content": null,
            "_view_module": "@jupyter-widgets/base",
            "overflow": null,
            "_model_module_version": "1.2.0",
            "_view_count": null,
            "flex_flow": null,
            "width": null,
            "min_width": null,
            "border": null,
            "align_items": null,
            "bottom": null,
            "_model_module": "@jupyter-widgets/base",
            "top": null,
            "grid_column": null,
            "overflow_y": null,
            "overflow_x": null,
            "grid_auto_flow": null,
            "grid_area": null,
            "grid_template_columns": null,
            "flex": null,
            "_model_name": "LayoutModel",
            "justify_items": null,
            "grid_row": null,
            "max_height": null,
            "align_content": null,
            "visibility": null,
            "align_self": null,
            "height": null,
            "min_height": null,
            "padding": null,
            "grid_auto_rows": null,
            "grid_gap": null,
            "max_width": null,
            "order": null,
            "_view_module_version": "1.2.0",
            "grid_template_areas": null,
            "object_position": null,
            "object_fit": null,
            "grid_auto_columns": null,
            "margin": null,
            "display": null,
            "left": null
          }
        },
        "c00f31687c9b4203b794cb48f005ee65": {
          "model_module": "@jupyter-widgets/controls",
          "model_name": "HTMLModel",
          "model_module_version": "1.5.0",
          "state": {
            "_view_name": "HTMLView",
            "style": "IPY_MODEL_3cdbd5b92c084db6944c8c521c3a4314",
            "_dom_classes": [],
            "description": "",
            "_model_name": "HTMLModel",
            "placeholder": "​",
            "_view_module": "@jupyter-widgets/controls",
            "_model_module_version": "1.5.0",
            "value": "",
            "_view_count": null,
            "_view_module_version": "1.5.0",
            "description_tooltip": null,
            "_model_module": "@jupyter-widgets/controls",
            "layout": "IPY_MODEL_74e99ef0b9754bfc90756fee28d32440"
          }
        },
        "b1e51841e36f46dfabfa32c045032772": {
          "model_module": "@jupyter-widgets/controls",
          "model_name": "FloatProgressModel",
          "model_module_version": "1.5.0",
          "state": {
            "_view_name": "ProgressView",
            "style": "IPY_MODEL_487f33d544524045b31664b86756cb71",
            "_dom_classes": [],
            "description": "",
            "_model_name": "FloatProgressModel",
            "bar_style": "success",
            "max": 4542,
            "_view_module": "@jupyter-widgets/controls",
            "_model_module_version": "1.5.0",
            "value": 4542,
            "_view_count": null,
            "_view_module_version": "1.5.0",
            "orientation": "horizontal",
            "min": 0,
            "description_tooltip": null,
            "_model_module": "@jupyter-widgets/controls",
            "layout": "IPY_MODEL_2afa37f2dcbc448b9fae9fec5ecda9f2"
          }
        },
        "6afd606b5d5f4c51a7295d4a3c8ea6bd": {
          "model_module": "@jupyter-widgets/controls",
          "model_name": "HTMLModel",
          "model_module_version": "1.5.0",
          "state": {
            "_view_name": "HTMLView",
            "style": "IPY_MODEL_8f124de8b25449a19b76c812c0654edd",
            "_dom_classes": [],
            "description": "",
            "_model_name": "HTMLModel",
            "placeholder": "​",
            "_view_module": "@jupyter-widgets/controls",
            "_model_module_version": "1.5.0",
            "value": " 5120/? [00:00&lt;00:00, 99568.05it/s]",
            "_view_count": null,
            "_view_module_version": "1.5.0",
            "description_tooltip": null,
            "_model_module": "@jupyter-widgets/controls",
            "layout": "IPY_MODEL_863cbce5873740008af78e3b10f9a49a"
          }
        },
        "3cdbd5b92c084db6944c8c521c3a4314": {
          "model_module": "@jupyter-widgets/controls",
          "model_name": "DescriptionStyleModel",
          "model_module_version": "1.5.0",
          "state": {
            "_view_name": "StyleView",
            "_model_name": "DescriptionStyleModel",
            "description_width": "",
            "_view_module": "@jupyter-widgets/base",
            "_model_module_version": "1.5.0",
            "_view_count": null,
            "_view_module_version": "1.2.0",
            "_model_module": "@jupyter-widgets/controls"
          }
        },
        "74e99ef0b9754bfc90756fee28d32440": {
          "model_module": "@jupyter-widgets/base",
          "model_name": "LayoutModel",
          "model_module_version": "1.2.0",
          "state": {
            "_view_name": "LayoutView",
            "grid_template_rows": null,
            "right": null,
            "justify_content": null,
            "_view_module": "@jupyter-widgets/base",
            "overflow": null,
            "_model_module_version": "1.2.0",
            "_view_count": null,
            "flex_flow": null,
            "width": null,
            "min_width": null,
            "border": null,
            "align_items": null,
            "bottom": null,
            "_model_module": "@jupyter-widgets/base",
            "top": null,
            "grid_column": null,
            "overflow_y": null,
            "overflow_x": null,
            "grid_auto_flow": null,
            "grid_area": null,
            "grid_template_columns": null,
            "flex": null,
            "_model_name": "LayoutModel",
            "justify_items": null,
            "grid_row": null,
            "max_height": null,
            "align_content": null,
            "visibility": null,
            "align_self": null,
            "height": null,
            "min_height": null,
            "padding": null,
            "grid_auto_rows": null,
            "grid_gap": null,
            "max_width": null,
            "order": null,
            "_view_module_version": "1.2.0",
            "grid_template_areas": null,
            "object_position": null,
            "object_fit": null,
            "grid_auto_columns": null,
            "margin": null,
            "display": null,
            "left": null
          }
        },
        "487f33d544524045b31664b86756cb71": {
          "model_module": "@jupyter-widgets/controls",
          "model_name": "ProgressStyleModel",
          "model_module_version": "1.5.0",
          "state": {
            "_view_name": "StyleView",
            "_model_name": "ProgressStyleModel",
            "description_width": "",
            "_view_module": "@jupyter-widgets/base",
            "_model_module_version": "1.5.0",
            "_view_count": null,
            "_view_module_version": "1.2.0",
            "bar_color": null,
            "_model_module": "@jupyter-widgets/controls"
          }
        },
        "2afa37f2dcbc448b9fae9fec5ecda9f2": {
          "model_module": "@jupyter-widgets/base",
          "model_name": "LayoutModel",
          "model_module_version": "1.2.0",
          "state": {
            "_view_name": "LayoutView",
            "grid_template_rows": null,
            "right": null,
            "justify_content": null,
            "_view_module": "@jupyter-widgets/base",
            "overflow": null,
            "_model_module_version": "1.2.0",
            "_view_count": null,
            "flex_flow": null,
            "width": null,
            "min_width": null,
            "border": null,
            "align_items": null,
            "bottom": null,
            "_model_module": "@jupyter-widgets/base",
            "top": null,
            "grid_column": null,
            "overflow_y": null,
            "overflow_x": null,
            "grid_auto_flow": null,
            "grid_area": null,
            "grid_template_columns": null,
            "flex": null,
            "_model_name": "LayoutModel",
            "justify_items": null,
            "grid_row": null,
            "max_height": null,
            "align_content": null,
            "visibility": null,
            "align_self": null,
            "height": null,
            "min_height": null,
            "padding": null,
            "grid_auto_rows": null,
            "grid_gap": null,
            "max_width": null,
            "order": null,
            "_view_module_version": "1.2.0",
            "grid_template_areas": null,
            "object_position": null,
            "object_fit": null,
            "grid_auto_columns": null,
            "margin": null,
            "display": null,
            "left": null
          }
        },
        "8f124de8b25449a19b76c812c0654edd": {
          "model_module": "@jupyter-widgets/controls",
          "model_name": "DescriptionStyleModel",
          "model_module_version": "1.5.0",
          "state": {
            "_view_name": "StyleView",
            "_model_name": "DescriptionStyleModel",
            "description_width": "",
            "_view_module": "@jupyter-widgets/base",
            "_model_module_version": "1.5.0",
            "_view_count": null,
            "_view_module_version": "1.2.0",
            "_model_module": "@jupyter-widgets/controls"
          }
        },
        "863cbce5873740008af78e3b10f9a49a": {
          "model_module": "@jupyter-widgets/base",
          "model_name": "LayoutModel",
          "model_module_version": "1.2.0",
          "state": {
            "_view_name": "LayoutView",
            "grid_template_rows": null,
            "right": null,
            "justify_content": null,
            "_view_module": "@jupyter-widgets/base",
            "overflow": null,
            "_model_module_version": "1.2.0",
            "_view_count": null,
            "flex_flow": null,
            "width": null,
            "min_width": null,
            "border": null,
            "align_items": null,
            "bottom": null,
            "_model_module": "@jupyter-widgets/base",
            "top": null,
            "grid_column": null,
            "overflow_y": null,
            "overflow_x": null,
            "grid_auto_flow": null,
            "grid_area": null,
            "grid_template_columns": null,
            "flex": null,
            "_model_name": "LayoutModel",
            "justify_items": null,
            "grid_row": null,
            "max_height": null,
            "align_content": null,
            "visibility": null,
            "align_self": null,
            "height": null,
            "min_height": null,
            "padding": null,
            "grid_auto_rows": null,
            "grid_gap": null,
            "max_width": null,
            "order": null,
            "_view_module_version": "1.2.0",
            "grid_template_areas": null,
            "object_position": null,
            "object_fit": null,
            "grid_auto_columns": null,
            "margin": null,
            "display": null,
            "left": null
          }
        },
        "0c80c2c153044f24a065fcae2d71270f": {
          "model_module": "@jupyter-widgets/controls",
          "model_name": "HBoxModel",
          "model_module_version": "1.5.0",
          "state": {
            "_view_name": "HBoxView",
            "_dom_classes": [],
            "_model_name": "HBoxModel",
            "_view_module": "@jupyter-widgets/controls",
            "_model_module_version": "1.5.0",
            "_view_count": null,
            "_view_module_version": "1.5.0",
            "box_style": "",
            "layout": "IPY_MODEL_8477771ea5d74daa87c5bc290fad5971",
            "_model_module": "@jupyter-widgets/controls",
            "children": [
              "IPY_MODEL_c1ffa57a975142eb95350ca84fad0013",
              "IPY_MODEL_b10062c6b9284085a78123ed55be4471",
              "IPY_MODEL_ca6e5a35d9fb44afa67ad2e162fa394d"
            ]
          }
        },
        "8477771ea5d74daa87c5bc290fad5971": {
          "model_module": "@jupyter-widgets/base",
          "model_name": "LayoutModel",
          "model_module_version": "1.2.0",
          "state": {
            "_view_name": "LayoutView",
            "grid_template_rows": null,
            "right": null,
            "justify_content": null,
            "_view_module": "@jupyter-widgets/base",
            "overflow": null,
            "_model_module_version": "1.2.0",
            "_view_count": null,
            "flex_flow": null,
            "width": null,
            "min_width": null,
            "border": null,
            "align_items": null,
            "bottom": null,
            "_model_module": "@jupyter-widgets/base",
            "top": null,
            "grid_column": null,
            "overflow_y": null,
            "overflow_x": null,
            "grid_auto_flow": null,
            "grid_area": null,
            "grid_template_columns": null,
            "flex": null,
            "_model_name": "LayoutModel",
            "justify_items": null,
            "grid_row": null,
            "max_height": null,
            "align_content": null,
            "visibility": null,
            "align_self": null,
            "height": null,
            "min_height": null,
            "padding": null,
            "grid_auto_rows": null,
            "grid_gap": null,
            "max_width": null,
            "order": null,
            "_view_module_version": "1.2.0",
            "grid_template_areas": null,
            "object_position": null,
            "object_fit": null,
            "grid_auto_columns": null,
            "margin": null,
            "display": null,
            "left": null
          }
        },
        "c1ffa57a975142eb95350ca84fad0013": {
          "model_module": "@jupyter-widgets/controls",
          "model_name": "HTMLModel",
          "model_module_version": "1.5.0",
          "state": {
            "_view_name": "HTMLView",
            "style": "IPY_MODEL_3c2a00a6668746ea959995f33aeb7bf0",
            "_dom_classes": [],
            "description": "",
            "_model_name": "HTMLModel",
            "placeholder": "​",
            "_view_module": "@jupyter-widgets/controls",
            "_model_module_version": "1.5.0",
            "value": "",
            "_view_count": null,
            "_view_module_version": "1.5.0",
            "description_tooltip": null,
            "_model_module": "@jupyter-widgets/controls",
            "layout": "IPY_MODEL_4adc4458df634d1d99fe50840b7b4b45"
          }
        },
        "b10062c6b9284085a78123ed55be4471": {
          "model_module": "@jupyter-widgets/controls",
          "model_name": "FloatProgressModel",
          "model_module_version": "1.5.0",
          "state": {
            "_view_name": "ProgressView",
            "style": "IPY_MODEL_91882c30177f4d70ab78de88e5b32c59",
            "_dom_classes": [],
            "description": "",
            "_model_name": "FloatProgressModel",
            "bar_style": "success",
            "max": 9912422,
            "_view_module": "@jupyter-widgets/controls",
            "_model_module_version": "1.5.0",
            "value": 9912422,
            "_view_count": null,
            "_view_module_version": "1.5.0",
            "orientation": "horizontal",
            "min": 0,
            "description_tooltip": null,
            "_model_module": "@jupyter-widgets/controls",
            "layout": "IPY_MODEL_c5db7ab40ea04f99a15e2623fa2aaaee"
          }
        },
        "ca6e5a35d9fb44afa67ad2e162fa394d": {
          "model_module": "@jupyter-widgets/controls",
          "model_name": "HTMLModel",
          "model_module_version": "1.5.0",
          "state": {
            "_view_name": "HTMLView",
            "style": "IPY_MODEL_421e61932ab845dfaf886f715b6d3919",
            "_dom_classes": [],
            "description": "",
            "_model_name": "HTMLModel",
            "placeholder": "​",
            "_view_module": "@jupyter-widgets/controls",
            "_model_module_version": "1.5.0",
            "value": " 9913344/? [00:00&lt;00:00, 44742110.04it/s]",
            "_view_count": null,
            "_view_module_version": "1.5.0",
            "description_tooltip": null,
            "_model_module": "@jupyter-widgets/controls",
            "layout": "IPY_MODEL_71e37ed41609435daf3efcfcbc5958b3"
          }
        },
        "3c2a00a6668746ea959995f33aeb7bf0": {
          "model_module": "@jupyter-widgets/controls",
          "model_name": "DescriptionStyleModel",
          "model_module_version": "1.5.0",
          "state": {
            "_view_name": "StyleView",
            "_model_name": "DescriptionStyleModel",
            "description_width": "",
            "_view_module": "@jupyter-widgets/base",
            "_model_module_version": "1.5.0",
            "_view_count": null,
            "_view_module_version": "1.2.0",
            "_model_module": "@jupyter-widgets/controls"
          }
        },
        "4adc4458df634d1d99fe50840b7b4b45": {
          "model_module": "@jupyter-widgets/base",
          "model_name": "LayoutModel",
          "model_module_version": "1.2.0",
          "state": {
            "_view_name": "LayoutView",
            "grid_template_rows": null,
            "right": null,
            "justify_content": null,
            "_view_module": "@jupyter-widgets/base",
            "overflow": null,
            "_model_module_version": "1.2.0",
            "_view_count": null,
            "flex_flow": null,
            "width": null,
            "min_width": null,
            "border": null,
            "align_items": null,
            "bottom": null,
            "_model_module": "@jupyter-widgets/base",
            "top": null,
            "grid_column": null,
            "overflow_y": null,
            "overflow_x": null,
            "grid_auto_flow": null,
            "grid_area": null,
            "grid_template_columns": null,
            "flex": null,
            "_model_name": "LayoutModel",
            "justify_items": null,
            "grid_row": null,
            "max_height": null,
            "align_content": null,
            "visibility": null,
            "align_self": null,
            "height": null,
            "min_height": null,
            "padding": null,
            "grid_auto_rows": null,
            "grid_gap": null,
            "max_width": null,
            "order": null,
            "_view_module_version": "1.2.0",
            "grid_template_areas": null,
            "object_position": null,
            "object_fit": null,
            "grid_auto_columns": null,
            "margin": null,
            "display": null,
            "left": null
          }
        },
        "91882c30177f4d70ab78de88e5b32c59": {
          "model_module": "@jupyter-widgets/controls",
          "model_name": "ProgressStyleModel",
          "model_module_version": "1.5.0",
          "state": {
            "_view_name": "StyleView",
            "_model_name": "ProgressStyleModel",
            "description_width": "",
            "_view_module": "@jupyter-widgets/base",
            "_model_module_version": "1.5.0",
            "_view_count": null,
            "_view_module_version": "1.2.0",
            "bar_color": null,
            "_model_module": "@jupyter-widgets/controls"
          }
        },
        "c5db7ab40ea04f99a15e2623fa2aaaee": {
          "model_module": "@jupyter-widgets/base",
          "model_name": "LayoutModel",
          "model_module_version": "1.2.0",
          "state": {
            "_view_name": "LayoutView",
            "grid_template_rows": null,
            "right": null,
            "justify_content": null,
            "_view_module": "@jupyter-widgets/base",
            "overflow": null,
            "_model_module_version": "1.2.0",
            "_view_count": null,
            "flex_flow": null,
            "width": null,
            "min_width": null,
            "border": null,
            "align_items": null,
            "bottom": null,
            "_model_module": "@jupyter-widgets/base",
            "top": null,
            "grid_column": null,
            "overflow_y": null,
            "overflow_x": null,
            "grid_auto_flow": null,
            "grid_area": null,
            "grid_template_columns": null,
            "flex": null,
            "_model_name": "LayoutModel",
            "justify_items": null,
            "grid_row": null,
            "max_height": null,
            "align_content": null,
            "visibility": null,
            "align_self": null,
            "height": null,
            "min_height": null,
            "padding": null,
            "grid_auto_rows": null,
            "grid_gap": null,
            "max_width": null,
            "order": null,
            "_view_module_version": "1.2.0",
            "grid_template_areas": null,
            "object_position": null,
            "object_fit": null,
            "grid_auto_columns": null,
            "margin": null,
            "display": null,
            "left": null
          }
        },
        "421e61932ab845dfaf886f715b6d3919": {
          "model_module": "@jupyter-widgets/controls",
          "model_name": "DescriptionStyleModel",
          "model_module_version": "1.5.0",
          "state": {
            "_view_name": "StyleView",
            "_model_name": "DescriptionStyleModel",
            "description_width": "",
            "_view_module": "@jupyter-widgets/base",
            "_model_module_version": "1.5.0",
            "_view_count": null,
            "_view_module_version": "1.2.0",
            "_model_module": "@jupyter-widgets/controls"
          }
        },
        "71e37ed41609435daf3efcfcbc5958b3": {
          "model_module": "@jupyter-widgets/base",
          "model_name": "LayoutModel",
          "model_module_version": "1.2.0",
          "state": {
            "_view_name": "LayoutView",
            "grid_template_rows": null,
            "right": null,
            "justify_content": null,
            "_view_module": "@jupyter-widgets/base",
            "overflow": null,
            "_model_module_version": "1.2.0",
            "_view_count": null,
            "flex_flow": null,
            "width": null,
            "min_width": null,
            "border": null,
            "align_items": null,
            "bottom": null,
            "_model_module": "@jupyter-widgets/base",
            "top": null,
            "grid_column": null,
            "overflow_y": null,
            "overflow_x": null,
            "grid_auto_flow": null,
            "grid_area": null,
            "grid_template_columns": null,
            "flex": null,
            "_model_name": "LayoutModel",
            "justify_items": null,
            "grid_row": null,
            "max_height": null,
            "align_content": null,
            "visibility": null,
            "align_self": null,
            "height": null,
            "min_height": null,
            "padding": null,
            "grid_auto_rows": null,
            "grid_gap": null,
            "max_width": null,
            "order": null,
            "_view_module_version": "1.2.0",
            "grid_template_areas": null,
            "object_position": null,
            "object_fit": null,
            "grid_auto_columns": null,
            "margin": null,
            "display": null,
            "left": null
          }
        },
        "8f135212f14242b2bfbf3570b7fde5cf": {
          "model_module": "@jupyter-widgets/controls",
          "model_name": "HBoxModel",
          "model_module_version": "1.5.0",
          "state": {
            "_view_name": "HBoxView",
            "_dom_classes": [],
            "_model_name": "HBoxModel",
            "_view_module": "@jupyter-widgets/controls",
            "_model_module_version": "1.5.0",
            "_view_count": null,
            "_view_module_version": "1.5.0",
            "box_style": "",
            "layout": "IPY_MODEL_072de5e85e6440bc859fca604a5f5666",
            "_model_module": "@jupyter-widgets/controls",
            "children": [
              "IPY_MODEL_2b23e2ac94cb4742b3a0705eb2aad592",
              "IPY_MODEL_9bca6b0072c64919b363ea82d58fcbb1",
              "IPY_MODEL_0fab4f502287407680abad2b57e16739"
            ]
          }
        },
        "072de5e85e6440bc859fca604a5f5666": {
          "model_module": "@jupyter-widgets/base",
          "model_name": "LayoutModel",
          "model_module_version": "1.2.0",
          "state": {
            "_view_name": "LayoutView",
            "grid_template_rows": null,
            "right": null,
            "justify_content": null,
            "_view_module": "@jupyter-widgets/base",
            "overflow": null,
            "_model_module_version": "1.2.0",
            "_view_count": null,
            "flex_flow": null,
            "width": null,
            "min_width": null,
            "border": null,
            "align_items": null,
            "bottom": null,
            "_model_module": "@jupyter-widgets/base",
            "top": null,
            "grid_column": null,
            "overflow_y": null,
            "overflow_x": null,
            "grid_auto_flow": null,
            "grid_area": null,
            "grid_template_columns": null,
            "flex": null,
            "_model_name": "LayoutModel",
            "justify_items": null,
            "grid_row": null,
            "max_height": null,
            "align_content": null,
            "visibility": null,
            "align_self": null,
            "height": null,
            "min_height": null,
            "padding": null,
            "grid_auto_rows": null,
            "grid_gap": null,
            "max_width": null,
            "order": null,
            "_view_module_version": "1.2.0",
            "grid_template_areas": null,
            "object_position": null,
            "object_fit": null,
            "grid_auto_columns": null,
            "margin": null,
            "display": null,
            "left": null
          }
        },
        "2b23e2ac94cb4742b3a0705eb2aad592": {
          "model_module": "@jupyter-widgets/controls",
          "model_name": "HTMLModel",
          "model_module_version": "1.5.0",
          "state": {
            "_view_name": "HTMLView",
            "style": "IPY_MODEL_0d12ecfbb37f4866b8c31f6398bc4514",
            "_dom_classes": [],
            "description": "",
            "_model_name": "HTMLModel",
            "placeholder": "​",
            "_view_module": "@jupyter-widgets/controls",
            "_model_module_version": "1.5.0",
            "value": "",
            "_view_count": null,
            "_view_module_version": "1.5.0",
            "description_tooltip": null,
            "_model_module": "@jupyter-widgets/controls",
            "layout": "IPY_MODEL_9d2f19c513ca46278354d973a66f1a35"
          }
        },
        "9bca6b0072c64919b363ea82d58fcbb1": {
          "model_module": "@jupyter-widgets/controls",
          "model_name": "FloatProgressModel",
          "model_module_version": "1.5.0",
          "state": {
            "_view_name": "ProgressView",
            "style": "IPY_MODEL_adce52b4735f4cf19b7b39744132ead5",
            "_dom_classes": [],
            "description": "",
            "_model_name": "FloatProgressModel",
            "bar_style": "success",
            "max": 28881,
            "_view_module": "@jupyter-widgets/controls",
            "_model_module_version": "1.5.0",
            "value": 28881,
            "_view_count": null,
            "_view_module_version": "1.5.0",
            "orientation": "horizontal",
            "min": 0,
            "description_tooltip": null,
            "_model_module": "@jupyter-widgets/controls",
            "layout": "IPY_MODEL_789215d59a714d3da80294e270f1a569"
          }
        },
        "0fab4f502287407680abad2b57e16739": {
          "model_module": "@jupyter-widgets/controls",
          "model_name": "HTMLModel",
          "model_module_version": "1.5.0",
          "state": {
            "_view_name": "HTMLView",
            "style": "IPY_MODEL_0a3533933c34442696552ccf2343a441",
            "_dom_classes": [],
            "description": "",
            "_model_name": "HTMLModel",
            "placeholder": "​",
            "_view_module": "@jupyter-widgets/controls",
            "_model_module_version": "1.5.0",
            "value": " 29696/? [00:00&lt;00:00, 609925.23it/s]",
            "_view_count": null,
            "_view_module_version": "1.5.0",
            "description_tooltip": null,
            "_model_module": "@jupyter-widgets/controls",
            "layout": "IPY_MODEL_047a52bc365b412cb2d57231a99da957"
          }
        },
        "0d12ecfbb37f4866b8c31f6398bc4514": {
          "model_module": "@jupyter-widgets/controls",
          "model_name": "DescriptionStyleModel",
          "model_module_version": "1.5.0",
          "state": {
            "_view_name": "StyleView",
            "_model_name": "DescriptionStyleModel",
            "description_width": "",
            "_view_module": "@jupyter-widgets/base",
            "_model_module_version": "1.5.0",
            "_view_count": null,
            "_view_module_version": "1.2.0",
            "_model_module": "@jupyter-widgets/controls"
          }
        },
        "9d2f19c513ca46278354d973a66f1a35": {
          "model_module": "@jupyter-widgets/base",
          "model_name": "LayoutModel",
          "model_module_version": "1.2.0",
          "state": {
            "_view_name": "LayoutView",
            "grid_template_rows": null,
            "right": null,
            "justify_content": null,
            "_view_module": "@jupyter-widgets/base",
            "overflow": null,
            "_model_module_version": "1.2.0",
            "_view_count": null,
            "flex_flow": null,
            "width": null,
            "min_width": null,
            "border": null,
            "align_items": null,
            "bottom": null,
            "_model_module": "@jupyter-widgets/base",
            "top": null,
            "grid_column": null,
            "overflow_y": null,
            "overflow_x": null,
            "grid_auto_flow": null,
            "grid_area": null,
            "grid_template_columns": null,
            "flex": null,
            "_model_name": "LayoutModel",
            "justify_items": null,
            "grid_row": null,
            "max_height": null,
            "align_content": null,
            "visibility": null,
            "align_self": null,
            "height": null,
            "min_height": null,
            "padding": null,
            "grid_auto_rows": null,
            "grid_gap": null,
            "max_width": null,
            "order": null,
            "_view_module_version": "1.2.0",
            "grid_template_areas": null,
            "object_position": null,
            "object_fit": null,
            "grid_auto_columns": null,
            "margin": null,
            "display": null,
            "left": null
          }
        },
        "adce52b4735f4cf19b7b39744132ead5": {
          "model_module": "@jupyter-widgets/controls",
          "model_name": "ProgressStyleModel",
          "model_module_version": "1.5.0",
          "state": {
            "_view_name": "StyleView",
            "_model_name": "ProgressStyleModel",
            "description_width": "",
            "_view_module": "@jupyter-widgets/base",
            "_model_module_version": "1.5.0",
            "_view_count": null,
            "_view_module_version": "1.2.0",
            "bar_color": null,
            "_model_module": "@jupyter-widgets/controls"
          }
        },
        "789215d59a714d3da80294e270f1a569": {
          "model_module": "@jupyter-widgets/base",
          "model_name": "LayoutModel",
          "model_module_version": "1.2.0",
          "state": {
            "_view_name": "LayoutView",
            "grid_template_rows": null,
            "right": null,
            "justify_content": null,
            "_view_module": "@jupyter-widgets/base",
            "overflow": null,
            "_model_module_version": "1.2.0",
            "_view_count": null,
            "flex_flow": null,
            "width": null,
            "min_width": null,
            "border": null,
            "align_items": null,
            "bottom": null,
            "_model_module": "@jupyter-widgets/base",
            "top": null,
            "grid_column": null,
            "overflow_y": null,
            "overflow_x": null,
            "grid_auto_flow": null,
            "grid_area": null,
            "grid_template_columns": null,
            "flex": null,
            "_model_name": "LayoutModel",
            "justify_items": null,
            "grid_row": null,
            "max_height": null,
            "align_content": null,
            "visibility": null,
            "align_self": null,
            "height": null,
            "min_height": null,
            "padding": null,
            "grid_auto_rows": null,
            "grid_gap": null,
            "max_width": null,
            "order": null,
            "_view_module_version": "1.2.0",
            "grid_template_areas": null,
            "object_position": null,
            "object_fit": null,
            "grid_auto_columns": null,
            "margin": null,
            "display": null,
            "left": null
          }
        },
        "0a3533933c34442696552ccf2343a441": {
          "model_module": "@jupyter-widgets/controls",
          "model_name": "DescriptionStyleModel",
          "model_module_version": "1.5.0",
          "state": {
            "_view_name": "StyleView",
            "_model_name": "DescriptionStyleModel",
            "description_width": "",
            "_view_module": "@jupyter-widgets/base",
            "_model_module_version": "1.5.0",
            "_view_count": null,
            "_view_module_version": "1.2.0",
            "_model_module": "@jupyter-widgets/controls"
          }
        },
        "047a52bc365b412cb2d57231a99da957": {
          "model_module": "@jupyter-widgets/base",
          "model_name": "LayoutModel",
          "model_module_version": "1.2.0",
          "state": {
            "_view_name": "LayoutView",
            "grid_template_rows": null,
            "right": null,
            "justify_content": null,
            "_view_module": "@jupyter-widgets/base",
            "overflow": null,
            "_model_module_version": "1.2.0",
            "_view_count": null,
            "flex_flow": null,
            "width": null,
            "min_width": null,
            "border": null,
            "align_items": null,
            "bottom": null,
            "_model_module": "@jupyter-widgets/base",
            "top": null,
            "grid_column": null,
            "overflow_y": null,
            "overflow_x": null,
            "grid_auto_flow": null,
            "grid_area": null,
            "grid_template_columns": null,
            "flex": null,
            "_model_name": "LayoutModel",
            "justify_items": null,
            "grid_row": null,
            "max_height": null,
            "align_content": null,
            "visibility": null,
            "align_self": null,
            "height": null,
            "min_height": null,
            "padding": null,
            "grid_auto_rows": null,
            "grid_gap": null,
            "max_width": null,
            "order": null,
            "_view_module_version": "1.2.0",
            "grid_template_areas": null,
            "object_position": null,
            "object_fit": null,
            "grid_auto_columns": null,
            "margin": null,
            "display": null,
            "left": null
          }
        },
        "2c9b1417fbed480e93b958cf55a762e7": {
          "model_module": "@jupyter-widgets/controls",
          "model_name": "HBoxModel",
          "model_module_version": "1.5.0",
          "state": {
            "_view_name": "HBoxView",
            "_dom_classes": [],
            "_model_name": "HBoxModel",
            "_view_module": "@jupyter-widgets/controls",
            "_model_module_version": "1.5.0",
            "_view_count": null,
            "_view_module_version": "1.5.0",
            "box_style": "",
            "layout": "IPY_MODEL_c7aa012590ce46f08d4a3f18aa618b6c",
            "_model_module": "@jupyter-widgets/controls",
            "children": [
              "IPY_MODEL_227b30a32cbd435da04a8a53403d5922",
              "IPY_MODEL_8a24a40794584bd3b618d9a76de41c02",
              "IPY_MODEL_7bf71047233d4bb2baa562267a4557c4"
            ]
          }
        },
        "c7aa012590ce46f08d4a3f18aa618b6c": {
          "model_module": "@jupyter-widgets/base",
          "model_name": "LayoutModel",
          "model_module_version": "1.2.0",
          "state": {
            "_view_name": "LayoutView",
            "grid_template_rows": null,
            "right": null,
            "justify_content": null,
            "_view_module": "@jupyter-widgets/base",
            "overflow": null,
            "_model_module_version": "1.2.0",
            "_view_count": null,
            "flex_flow": null,
            "width": null,
            "min_width": null,
            "border": null,
            "align_items": null,
            "bottom": null,
            "_model_module": "@jupyter-widgets/base",
            "top": null,
            "grid_column": null,
            "overflow_y": null,
            "overflow_x": null,
            "grid_auto_flow": null,
            "grid_area": null,
            "grid_template_columns": null,
            "flex": null,
            "_model_name": "LayoutModel",
            "justify_items": null,
            "grid_row": null,
            "max_height": null,
            "align_content": null,
            "visibility": null,
            "align_self": null,
            "height": null,
            "min_height": null,
            "padding": null,
            "grid_auto_rows": null,
            "grid_gap": null,
            "max_width": null,
            "order": null,
            "_view_module_version": "1.2.0",
            "grid_template_areas": null,
            "object_position": null,
            "object_fit": null,
            "grid_auto_columns": null,
            "margin": null,
            "display": null,
            "left": null
          }
        },
        "227b30a32cbd435da04a8a53403d5922": {
          "model_module": "@jupyter-widgets/controls",
          "model_name": "HTMLModel",
          "model_module_version": "1.5.0",
          "state": {
            "_view_name": "HTMLView",
            "style": "IPY_MODEL_14d080d96d75490685ec429e1d64a02a",
            "_dom_classes": [],
            "description": "",
            "_model_name": "HTMLModel",
            "placeholder": "​",
            "_view_module": "@jupyter-widgets/controls",
            "_model_module_version": "1.5.0",
            "value": "",
            "_view_count": null,
            "_view_module_version": "1.5.0",
            "description_tooltip": null,
            "_model_module": "@jupyter-widgets/controls",
            "layout": "IPY_MODEL_10ad39e648074b589930df16d002f3d4"
          }
        },
        "8a24a40794584bd3b618d9a76de41c02": {
          "model_module": "@jupyter-widgets/controls",
          "model_name": "FloatProgressModel",
          "model_module_version": "1.5.0",
          "state": {
            "_view_name": "ProgressView",
            "style": "IPY_MODEL_74558aedecd74f6d8f269c3a862af45f",
            "_dom_classes": [],
            "description": "",
            "_model_name": "FloatProgressModel",
            "bar_style": "success",
            "max": 1648877,
            "_view_module": "@jupyter-widgets/controls",
            "_model_module_version": "1.5.0",
            "value": 1648877,
            "_view_count": null,
            "_view_module_version": "1.5.0",
            "orientation": "horizontal",
            "min": 0,
            "description_tooltip": null,
            "_model_module": "@jupyter-widgets/controls",
            "layout": "IPY_MODEL_f9ea124a5f4d412bb7be3918d237a1f0"
          }
        },
        "7bf71047233d4bb2baa562267a4557c4": {
          "model_module": "@jupyter-widgets/controls",
          "model_name": "HTMLModel",
          "model_module_version": "1.5.0",
          "state": {
            "_view_name": "HTMLView",
            "style": "IPY_MODEL_2a6d8f1cd16a4434ba44e5fe3f87d3ea",
            "_dom_classes": [],
            "description": "",
            "_model_name": "HTMLModel",
            "placeholder": "​",
            "_view_module": "@jupyter-widgets/controls",
            "_model_module_version": "1.5.0",
            "value": " 1649664/? [00:00&lt;00:00, 12481827.93it/s]",
            "_view_count": null,
            "_view_module_version": "1.5.0",
            "description_tooltip": null,
            "_model_module": "@jupyter-widgets/controls",
            "layout": "IPY_MODEL_14fe15b600b5421fa54a1f2c2422f558"
          }
        },
        "14d080d96d75490685ec429e1d64a02a": {
          "model_module": "@jupyter-widgets/controls",
          "model_name": "DescriptionStyleModel",
          "model_module_version": "1.5.0",
          "state": {
            "_view_name": "StyleView",
            "_model_name": "DescriptionStyleModel",
            "description_width": "",
            "_view_module": "@jupyter-widgets/base",
            "_model_module_version": "1.5.0",
            "_view_count": null,
            "_view_module_version": "1.2.0",
            "_model_module": "@jupyter-widgets/controls"
          }
        },
        "10ad39e648074b589930df16d002f3d4": {
          "model_module": "@jupyter-widgets/base",
          "model_name": "LayoutModel",
          "model_module_version": "1.2.0",
          "state": {
            "_view_name": "LayoutView",
            "grid_template_rows": null,
            "right": null,
            "justify_content": null,
            "_view_module": "@jupyter-widgets/base",
            "overflow": null,
            "_model_module_version": "1.2.0",
            "_view_count": null,
            "flex_flow": null,
            "width": null,
            "min_width": null,
            "border": null,
            "align_items": null,
            "bottom": null,
            "_model_module": "@jupyter-widgets/base",
            "top": null,
            "grid_column": null,
            "overflow_y": null,
            "overflow_x": null,
            "grid_auto_flow": null,
            "grid_area": null,
            "grid_template_columns": null,
            "flex": null,
            "_model_name": "LayoutModel",
            "justify_items": null,
            "grid_row": null,
            "max_height": null,
            "align_content": null,
            "visibility": null,
            "align_self": null,
            "height": null,
            "min_height": null,
            "padding": null,
            "grid_auto_rows": null,
            "grid_gap": null,
            "max_width": null,
            "order": null,
            "_view_module_version": "1.2.0",
            "grid_template_areas": null,
            "object_position": null,
            "object_fit": null,
            "grid_auto_columns": null,
            "margin": null,
            "display": null,
            "left": null
          }
        },
        "74558aedecd74f6d8f269c3a862af45f": {
          "model_module": "@jupyter-widgets/controls",
          "model_name": "ProgressStyleModel",
          "model_module_version": "1.5.0",
          "state": {
            "_view_name": "StyleView",
            "_model_name": "ProgressStyleModel",
            "description_width": "",
            "_view_module": "@jupyter-widgets/base",
            "_model_module_version": "1.5.0",
            "_view_count": null,
            "_view_module_version": "1.2.0",
            "bar_color": null,
            "_model_module": "@jupyter-widgets/controls"
          }
        },
        "f9ea124a5f4d412bb7be3918d237a1f0": {
          "model_module": "@jupyter-widgets/base",
          "model_name": "LayoutModel",
          "model_module_version": "1.2.0",
          "state": {
            "_view_name": "LayoutView",
            "grid_template_rows": null,
            "right": null,
            "justify_content": null,
            "_view_module": "@jupyter-widgets/base",
            "overflow": null,
            "_model_module_version": "1.2.0",
            "_view_count": null,
            "flex_flow": null,
            "width": null,
            "min_width": null,
            "border": null,
            "align_items": null,
            "bottom": null,
            "_model_module": "@jupyter-widgets/base",
            "top": null,
            "grid_column": null,
            "overflow_y": null,
            "overflow_x": null,
            "grid_auto_flow": null,
            "grid_area": null,
            "grid_template_columns": null,
            "flex": null,
            "_model_name": "LayoutModel",
            "justify_items": null,
            "grid_row": null,
            "max_height": null,
            "align_content": null,
            "visibility": null,
            "align_self": null,
            "height": null,
            "min_height": null,
            "padding": null,
            "grid_auto_rows": null,
            "grid_gap": null,
            "max_width": null,
            "order": null,
            "_view_module_version": "1.2.0",
            "grid_template_areas": null,
            "object_position": null,
            "object_fit": null,
            "grid_auto_columns": null,
            "margin": null,
            "display": null,
            "left": null
          }
        },
        "2a6d8f1cd16a4434ba44e5fe3f87d3ea": {
          "model_module": "@jupyter-widgets/controls",
          "model_name": "DescriptionStyleModel",
          "model_module_version": "1.5.0",
          "state": {
            "_view_name": "StyleView",
            "_model_name": "DescriptionStyleModel",
            "description_width": "",
            "_view_module": "@jupyter-widgets/base",
            "_model_module_version": "1.5.0",
            "_view_count": null,
            "_view_module_version": "1.2.0",
            "_model_module": "@jupyter-widgets/controls"
          }
        },
        "14fe15b600b5421fa54a1f2c2422f558": {
          "model_module": "@jupyter-widgets/base",
          "model_name": "LayoutModel",
          "model_module_version": "1.2.0",
          "state": {
            "_view_name": "LayoutView",
            "grid_template_rows": null,
            "right": null,
            "justify_content": null,
            "_view_module": "@jupyter-widgets/base",
            "overflow": null,
            "_model_module_version": "1.2.0",
            "_view_count": null,
            "flex_flow": null,
            "width": null,
            "min_width": null,
            "border": null,
            "align_items": null,
            "bottom": null,
            "_model_module": "@jupyter-widgets/base",
            "top": null,
            "grid_column": null,
            "overflow_y": null,
            "overflow_x": null,
            "grid_auto_flow": null,
            "grid_area": null,
            "grid_template_columns": null,
            "flex": null,
            "_model_name": "LayoutModel",
            "justify_items": null,
            "grid_row": null,
            "max_height": null,
            "align_content": null,
            "visibility": null,
            "align_self": null,
            "height": null,
            "min_height": null,
            "padding": null,
            "grid_auto_rows": null,
            "grid_gap": null,
            "max_width": null,
            "order": null,
            "_view_module_version": "1.2.0",
            "grid_template_areas": null,
            "object_position": null,
            "object_fit": null,
            "grid_auto_columns": null,
            "margin": null,
            "display": null,
            "left": null
          }
        },
        "505a18f93e7941abad9d50ebe98bf515": {
          "model_module": "@jupyter-widgets/controls",
          "model_name": "HBoxModel",
          "model_module_version": "1.5.0",
          "state": {
            "_view_name": "HBoxView",
            "_dom_classes": [],
            "_model_name": "HBoxModel",
            "_view_module": "@jupyter-widgets/controls",
            "_model_module_version": "1.5.0",
            "_view_count": null,
            "_view_module_version": "1.5.0",
            "box_style": "",
            "layout": "IPY_MODEL_b1aa1fe4bf2e416a9fb3ef5d191d294f",
            "_model_module": "@jupyter-widgets/controls",
            "children": [
              "IPY_MODEL_b783656aa1754cdcad753462694298ec",
              "IPY_MODEL_ca9ed7b083d948bba83d685e31ac1c4e",
              "IPY_MODEL_05a60abce1b84fc2b02d4918d0d13860"
            ]
          }
        },
        "b1aa1fe4bf2e416a9fb3ef5d191d294f": {
          "model_module": "@jupyter-widgets/base",
          "model_name": "LayoutModel",
          "model_module_version": "1.2.0",
          "state": {
            "_view_name": "LayoutView",
            "grid_template_rows": null,
            "right": null,
            "justify_content": null,
            "_view_module": "@jupyter-widgets/base",
            "overflow": null,
            "_model_module_version": "1.2.0",
            "_view_count": null,
            "flex_flow": null,
            "width": null,
            "min_width": null,
            "border": null,
            "align_items": null,
            "bottom": null,
            "_model_module": "@jupyter-widgets/base",
            "top": null,
            "grid_column": null,
            "overflow_y": null,
            "overflow_x": null,
            "grid_auto_flow": null,
            "grid_area": null,
            "grid_template_columns": null,
            "flex": null,
            "_model_name": "LayoutModel",
            "justify_items": null,
            "grid_row": null,
            "max_height": null,
            "align_content": null,
            "visibility": null,
            "align_self": null,
            "height": null,
            "min_height": null,
            "padding": null,
            "grid_auto_rows": null,
            "grid_gap": null,
            "max_width": null,
            "order": null,
            "_view_module_version": "1.2.0",
            "grid_template_areas": null,
            "object_position": null,
            "object_fit": null,
            "grid_auto_columns": null,
            "margin": null,
            "display": null,
            "left": null
          }
        },
        "b783656aa1754cdcad753462694298ec": {
          "model_module": "@jupyter-widgets/controls",
          "model_name": "HTMLModel",
          "model_module_version": "1.5.0",
          "state": {
            "_view_name": "HTMLView",
            "style": "IPY_MODEL_f8385497ac68482c8632d46a0f422ca8",
            "_dom_classes": [],
            "description": "",
            "_model_name": "HTMLModel",
            "placeholder": "​",
            "_view_module": "@jupyter-widgets/controls",
            "_model_module_version": "1.5.0",
            "value": "",
            "_view_count": null,
            "_view_module_version": "1.5.0",
            "description_tooltip": null,
            "_model_module": "@jupyter-widgets/controls",
            "layout": "IPY_MODEL_f59488db34cc4672b76d2b78ae8fb61e"
          }
        },
        "ca9ed7b083d948bba83d685e31ac1c4e": {
          "model_module": "@jupyter-widgets/controls",
          "model_name": "FloatProgressModel",
          "model_module_version": "1.5.0",
          "state": {
            "_view_name": "ProgressView",
            "style": "IPY_MODEL_7a63f1ae5d77453ca99403a9f28bf00b",
            "_dom_classes": [],
            "description": "",
            "_model_name": "FloatProgressModel",
            "bar_style": "success",
            "max": 4542,
            "_view_module": "@jupyter-widgets/controls",
            "_model_module_version": "1.5.0",
            "value": 4542,
            "_view_count": null,
            "_view_module_version": "1.5.0",
            "orientation": "horizontal",
            "min": 0,
            "description_tooltip": null,
            "_model_module": "@jupyter-widgets/controls",
            "layout": "IPY_MODEL_722e522cbc4b4fd4a83ade66bd0cb8f4"
          }
        },
        "05a60abce1b84fc2b02d4918d0d13860": {
          "model_module": "@jupyter-widgets/controls",
          "model_name": "HTMLModel",
          "model_module_version": "1.5.0",
          "state": {
            "_view_name": "HTMLView",
            "style": "IPY_MODEL_d811821c82a94a58aeb922b921061873",
            "_dom_classes": [],
            "description": "",
            "_model_name": "HTMLModel",
            "placeholder": "​",
            "_view_module": "@jupyter-widgets/controls",
            "_model_module_version": "1.5.0",
            "value": " 5120/? [00:00&lt;00:00, 124020.89it/s]",
            "_view_count": null,
            "_view_module_version": "1.5.0",
            "description_tooltip": null,
            "_model_module": "@jupyter-widgets/controls",
            "layout": "IPY_MODEL_e200e8f16c79426abd8309626a5927dd"
          }
        },
        "f8385497ac68482c8632d46a0f422ca8": {
          "model_module": "@jupyter-widgets/controls",
          "model_name": "DescriptionStyleModel",
          "model_module_version": "1.5.0",
          "state": {
            "_view_name": "StyleView",
            "_model_name": "DescriptionStyleModel",
            "description_width": "",
            "_view_module": "@jupyter-widgets/base",
            "_model_module_version": "1.5.0",
            "_view_count": null,
            "_view_module_version": "1.2.0",
            "_model_module": "@jupyter-widgets/controls"
          }
        },
        "f59488db34cc4672b76d2b78ae8fb61e": {
          "model_module": "@jupyter-widgets/base",
          "model_name": "LayoutModel",
          "model_module_version": "1.2.0",
          "state": {
            "_view_name": "LayoutView",
            "grid_template_rows": null,
            "right": null,
            "justify_content": null,
            "_view_module": "@jupyter-widgets/base",
            "overflow": null,
            "_model_module_version": "1.2.0",
            "_view_count": null,
            "flex_flow": null,
            "width": null,
            "min_width": null,
            "border": null,
            "align_items": null,
            "bottom": null,
            "_model_module": "@jupyter-widgets/base",
            "top": null,
            "grid_column": null,
            "overflow_y": null,
            "overflow_x": null,
            "grid_auto_flow": null,
            "grid_area": null,
            "grid_template_columns": null,
            "flex": null,
            "_model_name": "LayoutModel",
            "justify_items": null,
            "grid_row": null,
            "max_height": null,
            "align_content": null,
            "visibility": null,
            "align_self": null,
            "height": null,
            "min_height": null,
            "padding": null,
            "grid_auto_rows": null,
            "grid_gap": null,
            "max_width": null,
            "order": null,
            "_view_module_version": "1.2.0",
            "grid_template_areas": null,
            "object_position": null,
            "object_fit": null,
            "grid_auto_columns": null,
            "margin": null,
            "display": null,
            "left": null
          }
        },
        "7a63f1ae5d77453ca99403a9f28bf00b": {
          "model_module": "@jupyter-widgets/controls",
          "model_name": "ProgressStyleModel",
          "model_module_version": "1.5.0",
          "state": {
            "_view_name": "StyleView",
            "_model_name": "ProgressStyleModel",
            "description_width": "",
            "_view_module": "@jupyter-widgets/base",
            "_model_module_version": "1.5.0",
            "_view_count": null,
            "_view_module_version": "1.2.0",
            "bar_color": null,
            "_model_module": "@jupyter-widgets/controls"
          }
        },
        "722e522cbc4b4fd4a83ade66bd0cb8f4": {
          "model_module": "@jupyter-widgets/base",
          "model_name": "LayoutModel",
          "model_module_version": "1.2.0",
          "state": {
            "_view_name": "LayoutView",
            "grid_template_rows": null,
            "right": null,
            "justify_content": null,
            "_view_module": "@jupyter-widgets/base",
            "overflow": null,
            "_model_module_version": "1.2.0",
            "_view_count": null,
            "flex_flow": null,
            "width": null,
            "min_width": null,
            "border": null,
            "align_items": null,
            "bottom": null,
            "_model_module": "@jupyter-widgets/base",
            "top": null,
            "grid_column": null,
            "overflow_y": null,
            "overflow_x": null,
            "grid_auto_flow": null,
            "grid_area": null,
            "grid_template_columns": null,
            "flex": null,
            "_model_name": "LayoutModel",
            "justify_items": null,
            "grid_row": null,
            "max_height": null,
            "align_content": null,
            "visibility": null,
            "align_self": null,
            "height": null,
            "min_height": null,
            "padding": null,
            "grid_auto_rows": null,
            "grid_gap": null,
            "max_width": null,
            "order": null,
            "_view_module_version": "1.2.0",
            "grid_template_areas": null,
            "object_position": null,
            "object_fit": null,
            "grid_auto_columns": null,
            "margin": null,
            "display": null,
            "left": null
          }
        },
        "d811821c82a94a58aeb922b921061873": {
          "model_module": "@jupyter-widgets/controls",
          "model_name": "DescriptionStyleModel",
          "model_module_version": "1.5.0",
          "state": {
            "_view_name": "StyleView",
            "_model_name": "DescriptionStyleModel",
            "description_width": "",
            "_view_module": "@jupyter-widgets/base",
            "_model_module_version": "1.5.0",
            "_view_count": null,
            "_view_module_version": "1.2.0",
            "_model_module": "@jupyter-widgets/controls"
          }
        },
        "e200e8f16c79426abd8309626a5927dd": {
          "model_module": "@jupyter-widgets/base",
          "model_name": "LayoutModel",
          "model_module_version": "1.2.0",
          "state": {
            "_view_name": "LayoutView",
            "grid_template_rows": null,
            "right": null,
            "justify_content": null,
            "_view_module": "@jupyter-widgets/base",
            "overflow": null,
            "_model_module_version": "1.2.0",
            "_view_count": null,
            "flex_flow": null,
            "width": null,
            "min_width": null,
            "border": null,
            "align_items": null,
            "bottom": null,
            "_model_module": "@jupyter-widgets/base",
            "top": null,
            "grid_column": null,
            "overflow_y": null,
            "overflow_x": null,
            "grid_auto_flow": null,
            "grid_area": null,
            "grid_template_columns": null,
            "flex": null,
            "_model_name": "LayoutModel",
            "justify_items": null,
            "grid_row": null,
            "max_height": null,
            "align_content": null,
            "visibility": null,
            "align_self": null,
            "height": null,
            "min_height": null,
            "padding": null,
            "grid_auto_rows": null,
            "grid_gap": null,
            "max_width": null,
            "order": null,
            "_view_module_version": "1.2.0",
            "grid_template_areas": null,
            "object_position": null,
            "object_fit": null,
            "grid_auto_columns": null,
            "margin": null,
            "display": null,
            "left": null
          }
        },
        "76ba9fa5a8a64d69854fd814c23b4e93": {
          "model_module": "@jupyter-widgets/controls",
          "model_name": "HBoxModel",
          "model_module_version": "1.5.0",
          "state": {
            "_view_name": "HBoxView",
            "_dom_classes": [],
            "_model_name": "HBoxModel",
            "_view_module": "@jupyter-widgets/controls",
            "_model_module_version": "1.5.0",
            "_view_count": null,
            "_view_module_version": "1.5.0",
            "box_style": "",
            "layout": "IPY_MODEL_d54c541915724c05b970e921dd5afe11",
            "_model_module": "@jupyter-widgets/controls",
            "children": [
              "IPY_MODEL_3b324681190b47c6a17e081847161455",
              "IPY_MODEL_e61eba9cd0cc462fa055315663be94af",
              "IPY_MODEL_e57ab66270b841aebe3efd6514f4a86d"
            ]
          }
        },
        "d54c541915724c05b970e921dd5afe11": {
          "model_module": "@jupyter-widgets/base",
          "model_name": "LayoutModel",
          "model_module_version": "1.2.0",
          "state": {
            "_view_name": "LayoutView",
            "grid_template_rows": null,
            "right": null,
            "justify_content": null,
            "_view_module": "@jupyter-widgets/base",
            "overflow": null,
            "_model_module_version": "1.2.0",
            "_view_count": null,
            "flex_flow": null,
            "width": null,
            "min_width": null,
            "border": null,
            "align_items": null,
            "bottom": null,
            "_model_module": "@jupyter-widgets/base",
            "top": null,
            "grid_column": null,
            "overflow_y": null,
            "overflow_x": null,
            "grid_auto_flow": null,
            "grid_area": null,
            "grid_template_columns": null,
            "flex": null,
            "_model_name": "LayoutModel",
            "justify_items": null,
            "grid_row": null,
            "max_height": null,
            "align_content": null,
            "visibility": null,
            "align_self": null,
            "height": null,
            "min_height": null,
            "padding": null,
            "grid_auto_rows": null,
            "grid_gap": null,
            "max_width": null,
            "order": null,
            "_view_module_version": "1.2.0",
            "grid_template_areas": null,
            "object_position": null,
            "object_fit": null,
            "grid_auto_columns": null,
            "margin": null,
            "display": null,
            "left": null
          }
        },
        "3b324681190b47c6a17e081847161455": {
          "model_module": "@jupyter-widgets/controls",
          "model_name": "HTMLModel",
          "model_module_version": "1.5.0",
          "state": {
            "_view_name": "HTMLView",
            "style": "IPY_MODEL_8ed4a72e59c34ea2ad0ba521c539e514",
            "_dom_classes": [],
            "description": "",
            "_model_name": "HTMLModel",
            "placeholder": "​",
            "_view_module": "@jupyter-widgets/controls",
            "_model_module_version": "1.5.0",
            "value": "",
            "_view_count": null,
            "_view_module_version": "1.5.0",
            "description_tooltip": null,
            "_model_module": "@jupyter-widgets/controls",
            "layout": "IPY_MODEL_bc5841eaf91849259fead78eb3771902"
          }
        },
        "e61eba9cd0cc462fa055315663be94af": {
          "model_module": "@jupyter-widgets/controls",
          "model_name": "FloatProgressModel",
          "model_module_version": "1.5.0",
          "state": {
            "_view_name": "ProgressView",
            "style": "IPY_MODEL_793ebc7358cb424fb7e003cdba5226a3",
            "_dom_classes": [],
            "description": "",
            "_model_name": "FloatProgressModel",
            "bar_style": "success",
            "max": 9912422,
            "_view_module": "@jupyter-widgets/controls",
            "_model_module_version": "1.5.0",
            "value": 9912422,
            "_view_count": null,
            "_view_module_version": "1.5.0",
            "orientation": "horizontal",
            "min": 0,
            "description_tooltip": null,
            "_model_module": "@jupyter-widgets/controls",
            "layout": "IPY_MODEL_2407df87415e41d8aa6be01592975c48"
          }
        },
        "e57ab66270b841aebe3efd6514f4a86d": {
          "model_module": "@jupyter-widgets/controls",
          "model_name": "HTMLModel",
          "model_module_version": "1.5.0",
          "state": {
            "_view_name": "HTMLView",
            "style": "IPY_MODEL_4f6b9d40261546dba4696dc53a39b738",
            "_dom_classes": [],
            "description": "",
            "_model_name": "HTMLModel",
            "placeholder": "​",
            "_view_module": "@jupyter-widgets/controls",
            "_model_module_version": "1.5.0",
            "value": " 9913344/? [00:00&lt;00:00, 42225883.28it/s]",
            "_view_count": null,
            "_view_module_version": "1.5.0",
            "description_tooltip": null,
            "_model_module": "@jupyter-widgets/controls",
            "layout": "IPY_MODEL_86bd4115455947a9b1f09a963790238c"
          }
        },
        "8ed4a72e59c34ea2ad0ba521c539e514": {
          "model_module": "@jupyter-widgets/controls",
          "model_name": "DescriptionStyleModel",
          "model_module_version": "1.5.0",
          "state": {
            "_view_name": "StyleView",
            "_model_name": "DescriptionStyleModel",
            "description_width": "",
            "_view_module": "@jupyter-widgets/base",
            "_model_module_version": "1.5.0",
            "_view_count": null,
            "_view_module_version": "1.2.0",
            "_model_module": "@jupyter-widgets/controls"
          }
        },
        "bc5841eaf91849259fead78eb3771902": {
          "model_module": "@jupyter-widgets/base",
          "model_name": "LayoutModel",
          "model_module_version": "1.2.0",
          "state": {
            "_view_name": "LayoutView",
            "grid_template_rows": null,
            "right": null,
            "justify_content": null,
            "_view_module": "@jupyter-widgets/base",
            "overflow": null,
            "_model_module_version": "1.2.0",
            "_view_count": null,
            "flex_flow": null,
            "width": null,
            "min_width": null,
            "border": null,
            "align_items": null,
            "bottom": null,
            "_model_module": "@jupyter-widgets/base",
            "top": null,
            "grid_column": null,
            "overflow_y": null,
            "overflow_x": null,
            "grid_auto_flow": null,
            "grid_area": null,
            "grid_template_columns": null,
            "flex": null,
            "_model_name": "LayoutModel",
            "justify_items": null,
            "grid_row": null,
            "max_height": null,
            "align_content": null,
            "visibility": null,
            "align_self": null,
            "height": null,
            "min_height": null,
            "padding": null,
            "grid_auto_rows": null,
            "grid_gap": null,
            "max_width": null,
            "order": null,
            "_view_module_version": "1.2.0",
            "grid_template_areas": null,
            "object_position": null,
            "object_fit": null,
            "grid_auto_columns": null,
            "margin": null,
            "display": null,
            "left": null
          }
        },
        "793ebc7358cb424fb7e003cdba5226a3": {
          "model_module": "@jupyter-widgets/controls",
          "model_name": "ProgressStyleModel",
          "model_module_version": "1.5.0",
          "state": {
            "_view_name": "StyleView",
            "_model_name": "ProgressStyleModel",
            "description_width": "",
            "_view_module": "@jupyter-widgets/base",
            "_model_module_version": "1.5.0",
            "_view_count": null,
            "_view_module_version": "1.2.0",
            "bar_color": null,
            "_model_module": "@jupyter-widgets/controls"
          }
        },
        "2407df87415e41d8aa6be01592975c48": {
          "model_module": "@jupyter-widgets/base",
          "model_name": "LayoutModel",
          "model_module_version": "1.2.0",
          "state": {
            "_view_name": "LayoutView",
            "grid_template_rows": null,
            "right": null,
            "justify_content": null,
            "_view_module": "@jupyter-widgets/base",
            "overflow": null,
            "_model_module_version": "1.2.0",
            "_view_count": null,
            "flex_flow": null,
            "width": null,
            "min_width": null,
            "border": null,
            "align_items": null,
            "bottom": null,
            "_model_module": "@jupyter-widgets/base",
            "top": null,
            "grid_column": null,
            "overflow_y": null,
            "overflow_x": null,
            "grid_auto_flow": null,
            "grid_area": null,
            "grid_template_columns": null,
            "flex": null,
            "_model_name": "LayoutModel",
            "justify_items": null,
            "grid_row": null,
            "max_height": null,
            "align_content": null,
            "visibility": null,
            "align_self": null,
            "height": null,
            "min_height": null,
            "padding": null,
            "grid_auto_rows": null,
            "grid_gap": null,
            "max_width": null,
            "order": null,
            "_view_module_version": "1.2.0",
            "grid_template_areas": null,
            "object_position": null,
            "object_fit": null,
            "grid_auto_columns": null,
            "margin": null,
            "display": null,
            "left": null
          }
        },
        "4f6b9d40261546dba4696dc53a39b738": {
          "model_module": "@jupyter-widgets/controls",
          "model_name": "DescriptionStyleModel",
          "model_module_version": "1.5.0",
          "state": {
            "_view_name": "StyleView",
            "_model_name": "DescriptionStyleModel",
            "description_width": "",
            "_view_module": "@jupyter-widgets/base",
            "_model_module_version": "1.5.0",
            "_view_count": null,
            "_view_module_version": "1.2.0",
            "_model_module": "@jupyter-widgets/controls"
          }
        },
        "86bd4115455947a9b1f09a963790238c": {
          "model_module": "@jupyter-widgets/base",
          "model_name": "LayoutModel",
          "model_module_version": "1.2.0",
          "state": {
            "_view_name": "LayoutView",
            "grid_template_rows": null,
            "right": null,
            "justify_content": null,
            "_view_module": "@jupyter-widgets/base",
            "overflow": null,
            "_model_module_version": "1.2.0",
            "_view_count": null,
            "flex_flow": null,
            "width": null,
            "min_width": null,
            "border": null,
            "align_items": null,
            "bottom": null,
            "_model_module": "@jupyter-widgets/base",
            "top": null,
            "grid_column": null,
            "overflow_y": null,
            "overflow_x": null,
            "grid_auto_flow": null,
            "grid_area": null,
            "grid_template_columns": null,
            "flex": null,
            "_model_name": "LayoutModel",
            "justify_items": null,
            "grid_row": null,
            "max_height": null,
            "align_content": null,
            "visibility": null,
            "align_self": null,
            "height": null,
            "min_height": null,
            "padding": null,
            "grid_auto_rows": null,
            "grid_gap": null,
            "max_width": null,
            "order": null,
            "_view_module_version": "1.2.0",
            "grid_template_areas": null,
            "object_position": null,
            "object_fit": null,
            "grid_auto_columns": null,
            "margin": null,
            "display": null,
            "left": null
          }
        },
        "f3c16c76c58e4b619e70c86d834ad80c": {
          "model_module": "@jupyter-widgets/controls",
          "model_name": "HBoxModel",
          "model_module_version": "1.5.0",
          "state": {
            "_view_name": "HBoxView",
            "_dom_classes": [],
            "_model_name": "HBoxModel",
            "_view_module": "@jupyter-widgets/controls",
            "_model_module_version": "1.5.0",
            "_view_count": null,
            "_view_module_version": "1.5.0",
            "box_style": "",
            "layout": "IPY_MODEL_072bcbb3253943b1b0fa7d5857bb1410",
            "_model_module": "@jupyter-widgets/controls",
            "children": [
              "IPY_MODEL_eb43941f0390474c8ef3a676366f984f",
              "IPY_MODEL_d865f9fe5afd4f2abf406ad443eb800b",
              "IPY_MODEL_dd2261df610440eea87bc2dbf78a4d61"
            ]
          }
        },
        "072bcbb3253943b1b0fa7d5857bb1410": {
          "model_module": "@jupyter-widgets/base",
          "model_name": "LayoutModel",
          "model_module_version": "1.2.0",
          "state": {
            "_view_name": "LayoutView",
            "grid_template_rows": null,
            "right": null,
            "justify_content": null,
            "_view_module": "@jupyter-widgets/base",
            "overflow": null,
            "_model_module_version": "1.2.0",
            "_view_count": null,
            "flex_flow": null,
            "width": null,
            "min_width": null,
            "border": null,
            "align_items": null,
            "bottom": null,
            "_model_module": "@jupyter-widgets/base",
            "top": null,
            "grid_column": null,
            "overflow_y": null,
            "overflow_x": null,
            "grid_auto_flow": null,
            "grid_area": null,
            "grid_template_columns": null,
            "flex": null,
            "_model_name": "LayoutModel",
            "justify_items": null,
            "grid_row": null,
            "max_height": null,
            "align_content": null,
            "visibility": null,
            "align_self": null,
            "height": null,
            "min_height": null,
            "padding": null,
            "grid_auto_rows": null,
            "grid_gap": null,
            "max_width": null,
            "order": null,
            "_view_module_version": "1.2.0",
            "grid_template_areas": null,
            "object_position": null,
            "object_fit": null,
            "grid_auto_columns": null,
            "margin": null,
            "display": null,
            "left": null
          }
        },
        "eb43941f0390474c8ef3a676366f984f": {
          "model_module": "@jupyter-widgets/controls",
          "model_name": "HTMLModel",
          "model_module_version": "1.5.0",
          "state": {
            "_view_name": "HTMLView",
            "style": "IPY_MODEL_5b2e41539cb144ee9ba4796c22f4ed4a",
            "_dom_classes": [],
            "description": "",
            "_model_name": "HTMLModel",
            "placeholder": "​",
            "_view_module": "@jupyter-widgets/controls",
            "_model_module_version": "1.5.0",
            "value": "",
            "_view_count": null,
            "_view_module_version": "1.5.0",
            "description_tooltip": null,
            "_model_module": "@jupyter-widgets/controls",
            "layout": "IPY_MODEL_c665ce4fc710410a82e96dd367e525b3"
          }
        },
        "d865f9fe5afd4f2abf406ad443eb800b": {
          "model_module": "@jupyter-widgets/controls",
          "model_name": "FloatProgressModel",
          "model_module_version": "1.5.0",
          "state": {
            "_view_name": "ProgressView",
            "style": "IPY_MODEL_b8933b4c6f2d4c34abc1faee1a2e4d04",
            "_dom_classes": [],
            "description": "",
            "_model_name": "FloatProgressModel",
            "bar_style": "success",
            "max": 28881,
            "_view_module": "@jupyter-widgets/controls",
            "_model_module_version": "1.5.0",
            "value": 28881,
            "_view_count": null,
            "_view_module_version": "1.5.0",
            "orientation": "horizontal",
            "min": 0,
            "description_tooltip": null,
            "_model_module": "@jupyter-widgets/controls",
            "layout": "IPY_MODEL_7320d0d49b0441da99d4a0b2be4353f7"
          }
        },
        "dd2261df610440eea87bc2dbf78a4d61": {
          "model_module": "@jupyter-widgets/controls",
          "model_name": "HTMLModel",
          "model_module_version": "1.5.0",
          "state": {
            "_view_name": "HTMLView",
            "style": "IPY_MODEL_32656a0bde044eaca0b4978f89497b78",
            "_dom_classes": [],
            "description": "",
            "_model_name": "HTMLModel",
            "placeholder": "​",
            "_view_module": "@jupyter-widgets/controls",
            "_model_module_version": "1.5.0",
            "value": " 29696/? [00:00&lt;00:00, 813334.54it/s]",
            "_view_count": null,
            "_view_module_version": "1.5.0",
            "description_tooltip": null,
            "_model_module": "@jupyter-widgets/controls",
            "layout": "IPY_MODEL_d54ccd44801845c8bc620c5ce0397625"
          }
        },
        "5b2e41539cb144ee9ba4796c22f4ed4a": {
          "model_module": "@jupyter-widgets/controls",
          "model_name": "DescriptionStyleModel",
          "model_module_version": "1.5.0",
          "state": {
            "_view_name": "StyleView",
            "_model_name": "DescriptionStyleModel",
            "description_width": "",
            "_view_module": "@jupyter-widgets/base",
            "_model_module_version": "1.5.0",
            "_view_count": null,
            "_view_module_version": "1.2.0",
            "_model_module": "@jupyter-widgets/controls"
          }
        },
        "c665ce4fc710410a82e96dd367e525b3": {
          "model_module": "@jupyter-widgets/base",
          "model_name": "LayoutModel",
          "model_module_version": "1.2.0",
          "state": {
            "_view_name": "LayoutView",
            "grid_template_rows": null,
            "right": null,
            "justify_content": null,
            "_view_module": "@jupyter-widgets/base",
            "overflow": null,
            "_model_module_version": "1.2.0",
            "_view_count": null,
            "flex_flow": null,
            "width": null,
            "min_width": null,
            "border": null,
            "align_items": null,
            "bottom": null,
            "_model_module": "@jupyter-widgets/base",
            "top": null,
            "grid_column": null,
            "overflow_y": null,
            "overflow_x": null,
            "grid_auto_flow": null,
            "grid_area": null,
            "grid_template_columns": null,
            "flex": null,
            "_model_name": "LayoutModel",
            "justify_items": null,
            "grid_row": null,
            "max_height": null,
            "align_content": null,
            "visibility": null,
            "align_self": null,
            "height": null,
            "min_height": null,
            "padding": null,
            "grid_auto_rows": null,
            "grid_gap": null,
            "max_width": null,
            "order": null,
            "_view_module_version": "1.2.0",
            "grid_template_areas": null,
            "object_position": null,
            "object_fit": null,
            "grid_auto_columns": null,
            "margin": null,
            "display": null,
            "left": null
          }
        },
        "b8933b4c6f2d4c34abc1faee1a2e4d04": {
          "model_module": "@jupyter-widgets/controls",
          "model_name": "ProgressStyleModel",
          "model_module_version": "1.5.0",
          "state": {
            "_view_name": "StyleView",
            "_model_name": "ProgressStyleModel",
            "description_width": "",
            "_view_module": "@jupyter-widgets/base",
            "_model_module_version": "1.5.0",
            "_view_count": null,
            "_view_module_version": "1.2.0",
            "bar_color": null,
            "_model_module": "@jupyter-widgets/controls"
          }
        },
        "7320d0d49b0441da99d4a0b2be4353f7": {
          "model_module": "@jupyter-widgets/base",
          "model_name": "LayoutModel",
          "model_module_version": "1.2.0",
          "state": {
            "_view_name": "LayoutView",
            "grid_template_rows": null,
            "right": null,
            "justify_content": null,
            "_view_module": "@jupyter-widgets/base",
            "overflow": null,
            "_model_module_version": "1.2.0",
            "_view_count": null,
            "flex_flow": null,
            "width": null,
            "min_width": null,
            "border": null,
            "align_items": null,
            "bottom": null,
            "_model_module": "@jupyter-widgets/base",
            "top": null,
            "grid_column": null,
            "overflow_y": null,
            "overflow_x": null,
            "grid_auto_flow": null,
            "grid_area": null,
            "grid_template_columns": null,
            "flex": null,
            "_model_name": "LayoutModel",
            "justify_items": null,
            "grid_row": null,
            "max_height": null,
            "align_content": null,
            "visibility": null,
            "align_self": null,
            "height": null,
            "min_height": null,
            "padding": null,
            "grid_auto_rows": null,
            "grid_gap": null,
            "max_width": null,
            "order": null,
            "_view_module_version": "1.2.0",
            "grid_template_areas": null,
            "object_position": null,
            "object_fit": null,
            "grid_auto_columns": null,
            "margin": null,
            "display": null,
            "left": null
          }
        },
        "32656a0bde044eaca0b4978f89497b78": {
          "model_module": "@jupyter-widgets/controls",
          "model_name": "DescriptionStyleModel",
          "model_module_version": "1.5.0",
          "state": {
            "_view_name": "StyleView",
            "_model_name": "DescriptionStyleModel",
            "description_width": "",
            "_view_module": "@jupyter-widgets/base",
            "_model_module_version": "1.5.0",
            "_view_count": null,
            "_view_module_version": "1.2.0",
            "_model_module": "@jupyter-widgets/controls"
          }
        },
        "d54ccd44801845c8bc620c5ce0397625": {
          "model_module": "@jupyter-widgets/base",
          "model_name": "LayoutModel",
          "model_module_version": "1.2.0",
          "state": {
            "_view_name": "LayoutView",
            "grid_template_rows": null,
            "right": null,
            "justify_content": null,
            "_view_module": "@jupyter-widgets/base",
            "overflow": null,
            "_model_module_version": "1.2.0",
            "_view_count": null,
            "flex_flow": null,
            "width": null,
            "min_width": null,
            "border": null,
            "align_items": null,
            "bottom": null,
            "_model_module": "@jupyter-widgets/base",
            "top": null,
            "grid_column": null,
            "overflow_y": null,
            "overflow_x": null,
            "grid_auto_flow": null,
            "grid_area": null,
            "grid_template_columns": null,
            "flex": null,
            "_model_name": "LayoutModel",
            "justify_items": null,
            "grid_row": null,
            "max_height": null,
            "align_content": null,
            "visibility": null,
            "align_self": null,
            "height": null,
            "min_height": null,
            "padding": null,
            "grid_auto_rows": null,
            "grid_gap": null,
            "max_width": null,
            "order": null,
            "_view_module_version": "1.2.0",
            "grid_template_areas": null,
            "object_position": null,
            "object_fit": null,
            "grid_auto_columns": null,
            "margin": null,
            "display": null,
            "left": null
          }
        },
        "c3cbec271cf348a6a831d95c1159e3b0": {
          "model_module": "@jupyter-widgets/controls",
          "model_name": "HBoxModel",
          "model_module_version": "1.5.0",
          "state": {
            "_view_name": "HBoxView",
            "_dom_classes": [],
            "_model_name": "HBoxModel",
            "_view_module": "@jupyter-widgets/controls",
            "_model_module_version": "1.5.0",
            "_view_count": null,
            "_view_module_version": "1.5.0",
            "box_style": "",
            "layout": "IPY_MODEL_6fb7aecc19094490a9d5991e81ffaf48",
            "_model_module": "@jupyter-widgets/controls",
            "children": [
              "IPY_MODEL_eab31e9a08684426a3c2454071096bfb",
              "IPY_MODEL_d8d4da19e72d40b6bfcd15cfa3e64ab6",
              "IPY_MODEL_f25909fe478f4562b1a2e8604570acda"
            ]
          }
        },
        "6fb7aecc19094490a9d5991e81ffaf48": {
          "model_module": "@jupyter-widgets/base",
          "model_name": "LayoutModel",
          "model_module_version": "1.2.0",
          "state": {
            "_view_name": "LayoutView",
            "grid_template_rows": null,
            "right": null,
            "justify_content": null,
            "_view_module": "@jupyter-widgets/base",
            "overflow": null,
            "_model_module_version": "1.2.0",
            "_view_count": null,
            "flex_flow": null,
            "width": null,
            "min_width": null,
            "border": null,
            "align_items": null,
            "bottom": null,
            "_model_module": "@jupyter-widgets/base",
            "top": null,
            "grid_column": null,
            "overflow_y": null,
            "overflow_x": null,
            "grid_auto_flow": null,
            "grid_area": null,
            "grid_template_columns": null,
            "flex": null,
            "_model_name": "LayoutModel",
            "justify_items": null,
            "grid_row": null,
            "max_height": null,
            "align_content": null,
            "visibility": null,
            "align_self": null,
            "height": null,
            "min_height": null,
            "padding": null,
            "grid_auto_rows": null,
            "grid_gap": null,
            "max_width": null,
            "order": null,
            "_view_module_version": "1.2.0",
            "grid_template_areas": null,
            "object_position": null,
            "object_fit": null,
            "grid_auto_columns": null,
            "margin": null,
            "display": null,
            "left": null
          }
        },
        "eab31e9a08684426a3c2454071096bfb": {
          "model_module": "@jupyter-widgets/controls",
          "model_name": "HTMLModel",
          "model_module_version": "1.5.0",
          "state": {
            "_view_name": "HTMLView",
            "style": "IPY_MODEL_22409d92782e4a9dabfabddc9f5fcde5",
            "_dom_classes": [],
            "description": "",
            "_model_name": "HTMLModel",
            "placeholder": "​",
            "_view_module": "@jupyter-widgets/controls",
            "_model_module_version": "1.5.0",
            "value": "",
            "_view_count": null,
            "_view_module_version": "1.5.0",
            "description_tooltip": null,
            "_model_module": "@jupyter-widgets/controls",
            "layout": "IPY_MODEL_1702104aa2a047adb7c78db8bd08c02e"
          }
        },
        "d8d4da19e72d40b6bfcd15cfa3e64ab6": {
          "model_module": "@jupyter-widgets/controls",
          "model_name": "FloatProgressModel",
          "model_module_version": "1.5.0",
          "state": {
            "_view_name": "ProgressView",
            "style": "IPY_MODEL_dc1da0d700934ae9be27b40147bac48c",
            "_dom_classes": [],
            "description": "",
            "_model_name": "FloatProgressModel",
            "bar_style": "success",
            "max": 1648877,
            "_view_module": "@jupyter-widgets/controls",
            "_model_module_version": "1.5.0",
            "value": 1648877,
            "_view_count": null,
            "_view_module_version": "1.5.0",
            "orientation": "horizontal",
            "min": 0,
            "description_tooltip": null,
            "_model_module": "@jupyter-widgets/controls",
            "layout": "IPY_MODEL_24ccc4610ad24a38b5122906d0a8f44b"
          }
        },
        "f25909fe478f4562b1a2e8604570acda": {
          "model_module": "@jupyter-widgets/controls",
          "model_name": "HTMLModel",
          "model_module_version": "1.5.0",
          "state": {
            "_view_name": "HTMLView",
            "style": "IPY_MODEL_94d0af8e152d44ac943203426424e868",
            "_dom_classes": [],
            "description": "",
            "_model_name": "HTMLModel",
            "placeholder": "​",
            "_view_module": "@jupyter-widgets/controls",
            "_model_module_version": "1.5.0",
            "value": " 1649664/? [00:00&lt;00:00, 7267977.10it/s]",
            "_view_count": null,
            "_view_module_version": "1.5.0",
            "description_tooltip": null,
            "_model_module": "@jupyter-widgets/controls",
            "layout": "IPY_MODEL_71ca7a4c4efe405589d13affb229185c"
          }
        },
        "22409d92782e4a9dabfabddc9f5fcde5": {
          "model_module": "@jupyter-widgets/controls",
          "model_name": "DescriptionStyleModel",
          "model_module_version": "1.5.0",
          "state": {
            "_view_name": "StyleView",
            "_model_name": "DescriptionStyleModel",
            "description_width": "",
            "_view_module": "@jupyter-widgets/base",
            "_model_module_version": "1.5.0",
            "_view_count": null,
            "_view_module_version": "1.2.0",
            "_model_module": "@jupyter-widgets/controls"
          }
        },
        "1702104aa2a047adb7c78db8bd08c02e": {
          "model_module": "@jupyter-widgets/base",
          "model_name": "LayoutModel",
          "model_module_version": "1.2.0",
          "state": {
            "_view_name": "LayoutView",
            "grid_template_rows": null,
            "right": null,
            "justify_content": null,
            "_view_module": "@jupyter-widgets/base",
            "overflow": null,
            "_model_module_version": "1.2.0",
            "_view_count": null,
            "flex_flow": null,
            "width": null,
            "min_width": null,
            "border": null,
            "align_items": null,
            "bottom": null,
            "_model_module": "@jupyter-widgets/base",
            "top": null,
            "grid_column": null,
            "overflow_y": null,
            "overflow_x": null,
            "grid_auto_flow": null,
            "grid_area": null,
            "grid_template_columns": null,
            "flex": null,
            "_model_name": "LayoutModel",
            "justify_items": null,
            "grid_row": null,
            "max_height": null,
            "align_content": null,
            "visibility": null,
            "align_self": null,
            "height": null,
            "min_height": null,
            "padding": null,
            "grid_auto_rows": null,
            "grid_gap": null,
            "max_width": null,
            "order": null,
            "_view_module_version": "1.2.0",
            "grid_template_areas": null,
            "object_position": null,
            "object_fit": null,
            "grid_auto_columns": null,
            "margin": null,
            "display": null,
            "left": null
          }
        },
        "dc1da0d700934ae9be27b40147bac48c": {
          "model_module": "@jupyter-widgets/controls",
          "model_name": "ProgressStyleModel",
          "model_module_version": "1.5.0",
          "state": {
            "_view_name": "StyleView",
            "_model_name": "ProgressStyleModel",
            "description_width": "",
            "_view_module": "@jupyter-widgets/base",
            "_model_module_version": "1.5.0",
            "_view_count": null,
            "_view_module_version": "1.2.0",
            "bar_color": null,
            "_model_module": "@jupyter-widgets/controls"
          }
        },
        "24ccc4610ad24a38b5122906d0a8f44b": {
          "model_module": "@jupyter-widgets/base",
          "model_name": "LayoutModel",
          "model_module_version": "1.2.0",
          "state": {
            "_view_name": "LayoutView",
            "grid_template_rows": null,
            "right": null,
            "justify_content": null,
            "_view_module": "@jupyter-widgets/base",
            "overflow": null,
            "_model_module_version": "1.2.0",
            "_view_count": null,
            "flex_flow": null,
            "width": null,
            "min_width": null,
            "border": null,
            "align_items": null,
            "bottom": null,
            "_model_module": "@jupyter-widgets/base",
            "top": null,
            "grid_column": null,
            "overflow_y": null,
            "overflow_x": null,
            "grid_auto_flow": null,
            "grid_area": null,
            "grid_template_columns": null,
            "flex": null,
            "_model_name": "LayoutModel",
            "justify_items": null,
            "grid_row": null,
            "max_height": null,
            "align_content": null,
            "visibility": null,
            "align_self": null,
            "height": null,
            "min_height": null,
            "padding": null,
            "grid_auto_rows": null,
            "grid_gap": null,
            "max_width": null,
            "order": null,
            "_view_module_version": "1.2.0",
            "grid_template_areas": null,
            "object_position": null,
            "object_fit": null,
            "grid_auto_columns": null,
            "margin": null,
            "display": null,
            "left": null
          }
        },
        "94d0af8e152d44ac943203426424e868": {
          "model_module": "@jupyter-widgets/controls",
          "model_name": "DescriptionStyleModel",
          "model_module_version": "1.5.0",
          "state": {
            "_view_name": "StyleView",
            "_model_name": "DescriptionStyleModel",
            "description_width": "",
            "_view_module": "@jupyter-widgets/base",
            "_model_module_version": "1.5.0",
            "_view_count": null,
            "_view_module_version": "1.2.0",
            "_model_module": "@jupyter-widgets/controls"
          }
        },
        "71ca7a4c4efe405589d13affb229185c": {
          "model_module": "@jupyter-widgets/base",
          "model_name": "LayoutModel",
          "model_module_version": "1.2.0",
          "state": {
            "_view_name": "LayoutView",
            "grid_template_rows": null,
            "right": null,
            "justify_content": null,
            "_view_module": "@jupyter-widgets/base",
            "overflow": null,
            "_model_module_version": "1.2.0",
            "_view_count": null,
            "flex_flow": null,
            "width": null,
            "min_width": null,
            "border": null,
            "align_items": null,
            "bottom": null,
            "_model_module": "@jupyter-widgets/base",
            "top": null,
            "grid_column": null,
            "overflow_y": null,
            "overflow_x": null,
            "grid_auto_flow": null,
            "grid_area": null,
            "grid_template_columns": null,
            "flex": null,
            "_model_name": "LayoutModel",
            "justify_items": null,
            "grid_row": null,
            "max_height": null,
            "align_content": null,
            "visibility": null,
            "align_self": null,
            "height": null,
            "min_height": null,
            "padding": null,
            "grid_auto_rows": null,
            "grid_gap": null,
            "max_width": null,
            "order": null,
            "_view_module_version": "1.2.0",
            "grid_template_areas": null,
            "object_position": null,
            "object_fit": null,
            "grid_auto_columns": null,
            "margin": null,
            "display": null,
            "left": null
          }
        },
        "105a1e0389814c809c2f98378f74dbfc": {
          "model_module": "@jupyter-widgets/controls",
          "model_name": "HBoxModel",
          "model_module_version": "1.5.0",
          "state": {
            "_view_name": "HBoxView",
            "_dom_classes": [],
            "_model_name": "HBoxModel",
            "_view_module": "@jupyter-widgets/controls",
            "_model_module_version": "1.5.0",
            "_view_count": null,
            "_view_module_version": "1.5.0",
            "box_style": "",
            "layout": "IPY_MODEL_85fc19c47f1a44fba635f2f2d5c8b54a",
            "_model_module": "@jupyter-widgets/controls",
            "children": [
              "IPY_MODEL_a9f830cf70714028adbb7885e1ad4652",
              "IPY_MODEL_edd05df086d14f9da0924cdd0c4a4bb9",
              "IPY_MODEL_3195fac0fd8f42408df7f2f53e4a5846"
            ]
          }
        },
        "85fc19c47f1a44fba635f2f2d5c8b54a": {
          "model_module": "@jupyter-widgets/base",
          "model_name": "LayoutModel",
          "model_module_version": "1.2.0",
          "state": {
            "_view_name": "LayoutView",
            "grid_template_rows": null,
            "right": null,
            "justify_content": null,
            "_view_module": "@jupyter-widgets/base",
            "overflow": null,
            "_model_module_version": "1.2.0",
            "_view_count": null,
            "flex_flow": null,
            "width": null,
            "min_width": null,
            "border": null,
            "align_items": null,
            "bottom": null,
            "_model_module": "@jupyter-widgets/base",
            "top": null,
            "grid_column": null,
            "overflow_y": null,
            "overflow_x": null,
            "grid_auto_flow": null,
            "grid_area": null,
            "grid_template_columns": null,
            "flex": null,
            "_model_name": "LayoutModel",
            "justify_items": null,
            "grid_row": null,
            "max_height": null,
            "align_content": null,
            "visibility": null,
            "align_self": null,
            "height": null,
            "min_height": null,
            "padding": null,
            "grid_auto_rows": null,
            "grid_gap": null,
            "max_width": null,
            "order": null,
            "_view_module_version": "1.2.0",
            "grid_template_areas": null,
            "object_position": null,
            "object_fit": null,
            "grid_auto_columns": null,
            "margin": null,
            "display": null,
            "left": null
          }
        },
        "a9f830cf70714028adbb7885e1ad4652": {
          "model_module": "@jupyter-widgets/controls",
          "model_name": "HTMLModel",
          "model_module_version": "1.5.0",
          "state": {
            "_view_name": "HTMLView",
            "style": "IPY_MODEL_b2c45256f4de4443b5d0b474b9d562ff",
            "_dom_classes": [],
            "description": "",
            "_model_name": "HTMLModel",
            "placeholder": "​",
            "_view_module": "@jupyter-widgets/controls",
            "_model_module_version": "1.5.0",
            "value": "",
            "_view_count": null,
            "_view_module_version": "1.5.0",
            "description_tooltip": null,
            "_model_module": "@jupyter-widgets/controls",
            "layout": "IPY_MODEL_33a65d48339944d9851cb825ccb5e6ea"
          }
        },
        "edd05df086d14f9da0924cdd0c4a4bb9": {
          "model_module": "@jupyter-widgets/controls",
          "model_name": "FloatProgressModel",
          "model_module_version": "1.5.0",
          "state": {
            "_view_name": "ProgressView",
            "style": "IPY_MODEL_1de22d59929a42298667fcb67ac4b77c",
            "_dom_classes": [],
            "description": "",
            "_model_name": "FloatProgressModel",
            "bar_style": "success",
            "max": 4542,
            "_view_module": "@jupyter-widgets/controls",
            "_model_module_version": "1.5.0",
            "value": 4542,
            "_view_count": null,
            "_view_module_version": "1.5.0",
            "orientation": "horizontal",
            "min": 0,
            "description_tooltip": null,
            "_model_module": "@jupyter-widgets/controls",
            "layout": "IPY_MODEL_4404fd338d2f4f58b4c9c80bb72d4d5d"
          }
        },
        "3195fac0fd8f42408df7f2f53e4a5846": {
          "model_module": "@jupyter-widgets/controls",
          "model_name": "HTMLModel",
          "model_module_version": "1.5.0",
          "state": {
            "_view_name": "HTMLView",
            "style": "IPY_MODEL_601fa7ca03344b28b132030fe0b96478",
            "_dom_classes": [],
            "description": "",
            "_model_name": "HTMLModel",
            "placeholder": "​",
            "_view_module": "@jupyter-widgets/controls",
            "_model_module_version": "1.5.0",
            "value": " 5120/? [00:00&lt;00:00, 153113.90it/s]",
            "_view_count": null,
            "_view_module_version": "1.5.0",
            "description_tooltip": null,
            "_model_module": "@jupyter-widgets/controls",
            "layout": "IPY_MODEL_97a18799e8634292bc6b3ca6d3b9938a"
          }
        },
        "b2c45256f4de4443b5d0b474b9d562ff": {
          "model_module": "@jupyter-widgets/controls",
          "model_name": "DescriptionStyleModel",
          "model_module_version": "1.5.0",
          "state": {
            "_view_name": "StyleView",
            "_model_name": "DescriptionStyleModel",
            "description_width": "",
            "_view_module": "@jupyter-widgets/base",
            "_model_module_version": "1.5.0",
            "_view_count": null,
            "_view_module_version": "1.2.0",
            "_model_module": "@jupyter-widgets/controls"
          }
        },
        "33a65d48339944d9851cb825ccb5e6ea": {
          "model_module": "@jupyter-widgets/base",
          "model_name": "LayoutModel",
          "model_module_version": "1.2.0",
          "state": {
            "_view_name": "LayoutView",
            "grid_template_rows": null,
            "right": null,
            "justify_content": null,
            "_view_module": "@jupyter-widgets/base",
            "overflow": null,
            "_model_module_version": "1.2.0",
            "_view_count": null,
            "flex_flow": null,
            "width": null,
            "min_width": null,
            "border": null,
            "align_items": null,
            "bottom": null,
            "_model_module": "@jupyter-widgets/base",
            "top": null,
            "grid_column": null,
            "overflow_y": null,
            "overflow_x": null,
            "grid_auto_flow": null,
            "grid_area": null,
            "grid_template_columns": null,
            "flex": null,
            "_model_name": "LayoutModel",
            "justify_items": null,
            "grid_row": null,
            "max_height": null,
            "align_content": null,
            "visibility": null,
            "align_self": null,
            "height": null,
            "min_height": null,
            "padding": null,
            "grid_auto_rows": null,
            "grid_gap": null,
            "max_width": null,
            "order": null,
            "_view_module_version": "1.2.0",
            "grid_template_areas": null,
            "object_position": null,
            "object_fit": null,
            "grid_auto_columns": null,
            "margin": null,
            "display": null,
            "left": null
          }
        },
        "1de22d59929a42298667fcb67ac4b77c": {
          "model_module": "@jupyter-widgets/controls",
          "model_name": "ProgressStyleModel",
          "model_module_version": "1.5.0",
          "state": {
            "_view_name": "StyleView",
            "_model_name": "ProgressStyleModel",
            "description_width": "",
            "_view_module": "@jupyter-widgets/base",
            "_model_module_version": "1.5.0",
            "_view_count": null,
            "_view_module_version": "1.2.0",
            "bar_color": null,
            "_model_module": "@jupyter-widgets/controls"
          }
        },
        "4404fd338d2f4f58b4c9c80bb72d4d5d": {
          "model_module": "@jupyter-widgets/base",
          "model_name": "LayoutModel",
          "model_module_version": "1.2.0",
          "state": {
            "_view_name": "LayoutView",
            "grid_template_rows": null,
            "right": null,
            "justify_content": null,
            "_view_module": "@jupyter-widgets/base",
            "overflow": null,
            "_model_module_version": "1.2.0",
            "_view_count": null,
            "flex_flow": null,
            "width": null,
            "min_width": null,
            "border": null,
            "align_items": null,
            "bottom": null,
            "_model_module": "@jupyter-widgets/base",
            "top": null,
            "grid_column": null,
            "overflow_y": null,
            "overflow_x": null,
            "grid_auto_flow": null,
            "grid_area": null,
            "grid_template_columns": null,
            "flex": null,
            "_model_name": "LayoutModel",
            "justify_items": null,
            "grid_row": null,
            "max_height": null,
            "align_content": null,
            "visibility": null,
            "align_self": null,
            "height": null,
            "min_height": null,
            "padding": null,
            "grid_auto_rows": null,
            "grid_gap": null,
            "max_width": null,
            "order": null,
            "_view_module_version": "1.2.0",
            "grid_template_areas": null,
            "object_position": null,
            "object_fit": null,
            "grid_auto_columns": null,
            "margin": null,
            "display": null,
            "left": null
          }
        },
        "601fa7ca03344b28b132030fe0b96478": {
          "model_module": "@jupyter-widgets/controls",
          "model_name": "DescriptionStyleModel",
          "model_module_version": "1.5.0",
          "state": {
            "_view_name": "StyleView",
            "_model_name": "DescriptionStyleModel",
            "description_width": "",
            "_view_module": "@jupyter-widgets/base",
            "_model_module_version": "1.5.0",
            "_view_count": null,
            "_view_module_version": "1.2.0",
            "_model_module": "@jupyter-widgets/controls"
          }
        },
        "97a18799e8634292bc6b3ca6d3b9938a": {
          "model_module": "@jupyter-widgets/base",
          "model_name": "LayoutModel",
          "model_module_version": "1.2.0",
          "state": {
            "_view_name": "LayoutView",
            "grid_template_rows": null,
            "right": null,
            "justify_content": null,
            "_view_module": "@jupyter-widgets/base",
            "overflow": null,
            "_model_module_version": "1.2.0",
            "_view_count": null,
            "flex_flow": null,
            "width": null,
            "min_width": null,
            "border": null,
            "align_items": null,
            "bottom": null,
            "_model_module": "@jupyter-widgets/base",
            "top": null,
            "grid_column": null,
            "overflow_y": null,
            "overflow_x": null,
            "grid_auto_flow": null,
            "grid_area": null,
            "grid_template_columns": null,
            "flex": null,
            "_model_name": "LayoutModel",
            "justify_items": null,
            "grid_row": null,
            "max_height": null,
            "align_content": null,
            "visibility": null,
            "align_self": null,
            "height": null,
            "min_height": null,
            "padding": null,
            "grid_auto_rows": null,
            "grid_gap": null,
            "max_width": null,
            "order": null,
            "_view_module_version": "1.2.0",
            "grid_template_areas": null,
            "object_position": null,
            "object_fit": null,
            "grid_auto_columns": null,
            "margin": null,
            "display": null,
            "left": null
          }
        },
        "45815ac916f5498187e084480a4dac04": {
          "model_module": "@jupyter-widgets/controls",
          "model_name": "HBoxModel",
          "model_module_version": "1.5.0",
          "state": {
            "_view_name": "HBoxView",
            "_dom_classes": [],
            "_model_name": "HBoxModel",
            "_view_module": "@jupyter-widgets/controls",
            "_model_module_version": "1.5.0",
            "_view_count": null,
            "_view_module_version": "1.5.0",
            "box_style": "",
            "layout": "IPY_MODEL_6a83700d8da54f97a5697c19a9b4803b",
            "_model_module": "@jupyter-widgets/controls",
            "children": [
              "IPY_MODEL_c3c8993966c147b09db8d9b743f42427",
              "IPY_MODEL_1110f64304b2484aa5fa869b9789463b",
              "IPY_MODEL_19af18e3ac204bafb69d7fd488234b89"
            ]
          }
        },
        "6a83700d8da54f97a5697c19a9b4803b": {
          "model_module": "@jupyter-widgets/base",
          "model_name": "LayoutModel",
          "model_module_version": "1.2.0",
          "state": {
            "_view_name": "LayoutView",
            "grid_template_rows": null,
            "right": null,
            "justify_content": null,
            "_view_module": "@jupyter-widgets/base",
            "overflow": null,
            "_model_module_version": "1.2.0",
            "_view_count": null,
            "flex_flow": null,
            "width": null,
            "min_width": null,
            "border": null,
            "align_items": null,
            "bottom": null,
            "_model_module": "@jupyter-widgets/base",
            "top": null,
            "grid_column": null,
            "overflow_y": null,
            "overflow_x": null,
            "grid_auto_flow": null,
            "grid_area": null,
            "grid_template_columns": null,
            "flex": null,
            "_model_name": "LayoutModel",
            "justify_items": null,
            "grid_row": null,
            "max_height": null,
            "align_content": null,
            "visibility": null,
            "align_self": null,
            "height": null,
            "min_height": null,
            "padding": null,
            "grid_auto_rows": null,
            "grid_gap": null,
            "max_width": null,
            "order": null,
            "_view_module_version": "1.2.0",
            "grid_template_areas": null,
            "object_position": null,
            "object_fit": null,
            "grid_auto_columns": null,
            "margin": null,
            "display": null,
            "left": null
          }
        },
        "c3c8993966c147b09db8d9b743f42427": {
          "model_module": "@jupyter-widgets/controls",
          "model_name": "HTMLModel",
          "model_module_version": "1.5.0",
          "state": {
            "_view_name": "HTMLView",
            "style": "IPY_MODEL_a9842df33a2e436aace9bc8550f0882b",
            "_dom_classes": [],
            "description": "",
            "_model_name": "HTMLModel",
            "placeholder": "​",
            "_view_module": "@jupyter-widgets/controls",
            "_model_module_version": "1.5.0",
            "value": "",
            "_view_count": null,
            "_view_module_version": "1.5.0",
            "description_tooltip": null,
            "_model_module": "@jupyter-widgets/controls",
            "layout": "IPY_MODEL_7a4e97fd406646a69b1be1e091bd22ae"
          }
        },
        "1110f64304b2484aa5fa869b9789463b": {
          "model_module": "@jupyter-widgets/controls",
          "model_name": "FloatProgressModel",
          "model_module_version": "1.5.0",
          "state": {
            "_view_name": "ProgressView",
            "style": "IPY_MODEL_a2f524d172744d6390aef4432b85833f",
            "_dom_classes": [],
            "description": "",
            "_model_name": "FloatProgressModel",
            "bar_style": "success",
            "max": 1,
            "_view_module": "@jupyter-widgets/controls",
            "_model_module_version": "1.5.0",
            "value": 1,
            "_view_count": null,
            "_view_module_version": "1.5.0",
            "orientation": "horizontal",
            "min": 0,
            "description_tooltip": null,
            "_model_module": "@jupyter-widgets/controls",
            "layout": "IPY_MODEL_cdb19ee9d7314b1fb593ddc62c48593f"
          }
        },
        "19af18e3ac204bafb69d7fd488234b89": {
          "model_module": "@jupyter-widgets/controls",
          "model_name": "HTMLModel",
          "model_module_version": "1.5.0",
          "state": {
            "_view_name": "HTMLView",
            "style": "IPY_MODEL_1d435e89ba24443db936a7802237a53f",
            "_dom_classes": [],
            "description": "",
            "_model_name": "HTMLModel",
            "placeholder": "​",
            "_view_module": "@jupyter-widgets/controls",
            "_model_module_version": "1.5.0",
            "value": " 26427392/? [00:02&lt;00:00, 22450169.92it/s]",
            "_view_count": null,
            "_view_module_version": "1.5.0",
            "description_tooltip": null,
            "_model_module": "@jupyter-widgets/controls",
            "layout": "IPY_MODEL_5c9f183848e2429d815deee82c91f84e"
          }
        },
        "a9842df33a2e436aace9bc8550f0882b": {
          "model_module": "@jupyter-widgets/controls",
          "model_name": "DescriptionStyleModel",
          "model_module_version": "1.5.0",
          "state": {
            "_view_name": "StyleView",
            "_model_name": "DescriptionStyleModel",
            "description_width": "",
            "_view_module": "@jupyter-widgets/base",
            "_model_module_version": "1.5.0",
            "_view_count": null,
            "_view_module_version": "1.2.0",
            "_model_module": "@jupyter-widgets/controls"
          }
        },
        "7a4e97fd406646a69b1be1e091bd22ae": {
          "model_module": "@jupyter-widgets/base",
          "model_name": "LayoutModel",
          "model_module_version": "1.2.0",
          "state": {
            "_view_name": "LayoutView",
            "grid_template_rows": null,
            "right": null,
            "justify_content": null,
            "_view_module": "@jupyter-widgets/base",
            "overflow": null,
            "_model_module_version": "1.2.0",
            "_view_count": null,
            "flex_flow": null,
            "width": null,
            "min_width": null,
            "border": null,
            "align_items": null,
            "bottom": null,
            "_model_module": "@jupyter-widgets/base",
            "top": null,
            "grid_column": null,
            "overflow_y": null,
            "overflow_x": null,
            "grid_auto_flow": null,
            "grid_area": null,
            "grid_template_columns": null,
            "flex": null,
            "_model_name": "LayoutModel",
            "justify_items": null,
            "grid_row": null,
            "max_height": null,
            "align_content": null,
            "visibility": null,
            "align_self": null,
            "height": null,
            "min_height": null,
            "padding": null,
            "grid_auto_rows": null,
            "grid_gap": null,
            "max_width": null,
            "order": null,
            "_view_module_version": "1.2.0",
            "grid_template_areas": null,
            "object_position": null,
            "object_fit": null,
            "grid_auto_columns": null,
            "margin": null,
            "display": null,
            "left": null
          }
        },
        "a2f524d172744d6390aef4432b85833f": {
          "model_module": "@jupyter-widgets/controls",
          "model_name": "ProgressStyleModel",
          "model_module_version": "1.5.0",
          "state": {
            "_view_name": "StyleView",
            "_model_name": "ProgressStyleModel",
            "description_width": "",
            "_view_module": "@jupyter-widgets/base",
            "_model_module_version": "1.5.0",
            "_view_count": null,
            "_view_module_version": "1.2.0",
            "bar_color": null,
            "_model_module": "@jupyter-widgets/controls"
          }
        },
        "cdb19ee9d7314b1fb593ddc62c48593f": {
          "model_module": "@jupyter-widgets/base",
          "model_name": "LayoutModel",
          "model_module_version": "1.2.0",
          "state": {
            "_view_name": "LayoutView",
            "grid_template_rows": null,
            "right": null,
            "justify_content": null,
            "_view_module": "@jupyter-widgets/base",
            "overflow": null,
            "_model_module_version": "1.2.0",
            "_view_count": null,
            "flex_flow": null,
            "width": "20px",
            "min_width": null,
            "border": null,
            "align_items": null,
            "bottom": null,
            "_model_module": "@jupyter-widgets/base",
            "top": null,
            "grid_column": null,
            "overflow_y": null,
            "overflow_x": null,
            "grid_auto_flow": null,
            "grid_area": null,
            "grid_template_columns": null,
            "flex": null,
            "_model_name": "LayoutModel",
            "justify_items": null,
            "grid_row": null,
            "max_height": null,
            "align_content": null,
            "visibility": null,
            "align_self": null,
            "height": null,
            "min_height": null,
            "padding": null,
            "grid_auto_rows": null,
            "grid_gap": null,
            "max_width": null,
            "order": null,
            "_view_module_version": "1.2.0",
            "grid_template_areas": null,
            "object_position": null,
            "object_fit": null,
            "grid_auto_columns": null,
            "margin": null,
            "display": null,
            "left": null
          }
        },
        "1d435e89ba24443db936a7802237a53f": {
          "model_module": "@jupyter-widgets/controls",
          "model_name": "DescriptionStyleModel",
          "model_module_version": "1.5.0",
          "state": {
            "_view_name": "StyleView",
            "_model_name": "DescriptionStyleModel",
            "description_width": "",
            "_view_module": "@jupyter-widgets/base",
            "_model_module_version": "1.5.0",
            "_view_count": null,
            "_view_module_version": "1.2.0",
            "_model_module": "@jupyter-widgets/controls"
          }
        },
        "5c9f183848e2429d815deee82c91f84e": {
          "model_module": "@jupyter-widgets/base",
          "model_name": "LayoutModel",
          "model_module_version": "1.2.0",
          "state": {
            "_view_name": "LayoutView",
            "grid_template_rows": null,
            "right": null,
            "justify_content": null,
            "_view_module": "@jupyter-widgets/base",
            "overflow": null,
            "_model_module_version": "1.2.0",
            "_view_count": null,
            "flex_flow": null,
            "width": null,
            "min_width": null,
            "border": null,
            "align_items": null,
            "bottom": null,
            "_model_module": "@jupyter-widgets/base",
            "top": null,
            "grid_column": null,
            "overflow_y": null,
            "overflow_x": null,
            "grid_auto_flow": null,
            "grid_area": null,
            "grid_template_columns": null,
            "flex": null,
            "_model_name": "LayoutModel",
            "justify_items": null,
            "grid_row": null,
            "max_height": null,
            "align_content": null,
            "visibility": null,
            "align_self": null,
            "height": null,
            "min_height": null,
            "padding": null,
            "grid_auto_rows": null,
            "grid_gap": null,
            "max_width": null,
            "order": null,
            "_view_module_version": "1.2.0",
            "grid_template_areas": null,
            "object_position": null,
            "object_fit": null,
            "grid_auto_columns": null,
            "margin": null,
            "display": null,
            "left": null
          }
        },
        "eb0c5a2ad73d4f64981fda5b0093a9ca": {
          "model_module": "@jupyter-widgets/controls",
          "model_name": "HBoxModel",
          "model_module_version": "1.5.0",
          "state": {
            "_view_name": "HBoxView",
            "_dom_classes": [],
            "_model_name": "HBoxModel",
            "_view_module": "@jupyter-widgets/controls",
            "_model_module_version": "1.5.0",
            "_view_count": null,
            "_view_module_version": "1.5.0",
            "box_style": "",
            "layout": "IPY_MODEL_54e363d9d2a24e67a8551d55af7d8db4",
            "_model_module": "@jupyter-widgets/controls",
            "children": [
              "IPY_MODEL_26d91c4caac149aab2dbb78b32d91ab6",
              "IPY_MODEL_4ec112ee60b340afb4ddd8dea6a44c6f",
              "IPY_MODEL_fd8b2e21db1e418baf2099b9aa6ff5c5"
            ]
          }
        },
        "54e363d9d2a24e67a8551d55af7d8db4": {
          "model_module": "@jupyter-widgets/base",
          "model_name": "LayoutModel",
          "model_module_version": "1.2.0",
          "state": {
            "_view_name": "LayoutView",
            "grid_template_rows": null,
            "right": null,
            "justify_content": null,
            "_view_module": "@jupyter-widgets/base",
            "overflow": null,
            "_model_module_version": "1.2.0",
            "_view_count": null,
            "flex_flow": null,
            "width": null,
            "min_width": null,
            "border": null,
            "align_items": null,
            "bottom": null,
            "_model_module": "@jupyter-widgets/base",
            "top": null,
            "grid_column": null,
            "overflow_y": null,
            "overflow_x": null,
            "grid_auto_flow": null,
            "grid_area": null,
            "grid_template_columns": null,
            "flex": null,
            "_model_name": "LayoutModel",
            "justify_items": null,
            "grid_row": null,
            "max_height": null,
            "align_content": null,
            "visibility": null,
            "align_self": null,
            "height": null,
            "min_height": null,
            "padding": null,
            "grid_auto_rows": null,
            "grid_gap": null,
            "max_width": null,
            "order": null,
            "_view_module_version": "1.2.0",
            "grid_template_areas": null,
            "object_position": null,
            "object_fit": null,
            "grid_auto_columns": null,
            "margin": null,
            "display": null,
            "left": null
          }
        },
        "26d91c4caac149aab2dbb78b32d91ab6": {
          "model_module": "@jupyter-widgets/controls",
          "model_name": "HTMLModel",
          "model_module_version": "1.5.0",
          "state": {
            "_view_name": "HTMLView",
            "style": "IPY_MODEL_bd79a5cf296e40aab79bbaaa8f38d5a3",
            "_dom_classes": [],
            "description": "",
            "_model_name": "HTMLModel",
            "placeholder": "​",
            "_view_module": "@jupyter-widgets/controls",
            "_model_module_version": "1.5.0",
            "value": "",
            "_view_count": null,
            "_view_module_version": "1.5.0",
            "description_tooltip": null,
            "_model_module": "@jupyter-widgets/controls",
            "layout": "IPY_MODEL_2a8f01718a4c4cd8bfe630ba43ca59c4"
          }
        },
        "4ec112ee60b340afb4ddd8dea6a44c6f": {
          "model_module": "@jupyter-widgets/controls",
          "model_name": "FloatProgressModel",
          "model_module_version": "1.5.0",
          "state": {
            "_view_name": "ProgressView",
            "style": "IPY_MODEL_c1aeec4a3f4540ae95f9cf051244a229",
            "_dom_classes": [],
            "description": "",
            "_model_name": "FloatProgressModel",
            "bar_style": "success",
            "max": 1,
            "_view_module": "@jupyter-widgets/controls",
            "_model_module_version": "1.5.0",
            "value": 1,
            "_view_count": null,
            "_view_module_version": "1.5.0",
            "orientation": "horizontal",
            "min": 0,
            "description_tooltip": null,
            "_model_module": "@jupyter-widgets/controls",
            "layout": "IPY_MODEL_8ee6f2bc29bf4f6186993960a790e0cc"
          }
        },
        "fd8b2e21db1e418baf2099b9aa6ff5c5": {
          "model_module": "@jupyter-widgets/controls",
          "model_name": "HTMLModel",
          "model_module_version": "1.5.0",
          "state": {
            "_view_name": "HTMLView",
            "style": "IPY_MODEL_6a283db220164a7eab9c091a687cb94e",
            "_dom_classes": [],
            "description": "",
            "_model_name": "HTMLModel",
            "placeholder": "​",
            "_view_module": "@jupyter-widgets/controls",
            "_model_module_version": "1.5.0",
            "value": " 32768/? [22:12&lt;00:00, 147577.85it/s]",
            "_view_count": null,
            "_view_module_version": "1.5.0",
            "description_tooltip": null,
            "_model_module": "@jupyter-widgets/controls",
            "layout": "IPY_MODEL_e687ed58e83447f2ba494352d5ab48c1"
          }
        },
        "bd79a5cf296e40aab79bbaaa8f38d5a3": {
          "model_module": "@jupyter-widgets/controls",
          "model_name": "DescriptionStyleModel",
          "model_module_version": "1.5.0",
          "state": {
            "_view_name": "StyleView",
            "_model_name": "DescriptionStyleModel",
            "description_width": "",
            "_view_module": "@jupyter-widgets/base",
            "_model_module_version": "1.5.0",
            "_view_count": null,
            "_view_module_version": "1.2.0",
            "_model_module": "@jupyter-widgets/controls"
          }
        },
        "2a8f01718a4c4cd8bfe630ba43ca59c4": {
          "model_module": "@jupyter-widgets/base",
          "model_name": "LayoutModel",
          "model_module_version": "1.2.0",
          "state": {
            "_view_name": "LayoutView",
            "grid_template_rows": null,
            "right": null,
            "justify_content": null,
            "_view_module": "@jupyter-widgets/base",
            "overflow": null,
            "_model_module_version": "1.2.0",
            "_view_count": null,
            "flex_flow": null,
            "width": null,
            "min_width": null,
            "border": null,
            "align_items": null,
            "bottom": null,
            "_model_module": "@jupyter-widgets/base",
            "top": null,
            "grid_column": null,
            "overflow_y": null,
            "overflow_x": null,
            "grid_auto_flow": null,
            "grid_area": null,
            "grid_template_columns": null,
            "flex": null,
            "_model_name": "LayoutModel",
            "justify_items": null,
            "grid_row": null,
            "max_height": null,
            "align_content": null,
            "visibility": null,
            "align_self": null,
            "height": null,
            "min_height": null,
            "padding": null,
            "grid_auto_rows": null,
            "grid_gap": null,
            "max_width": null,
            "order": null,
            "_view_module_version": "1.2.0",
            "grid_template_areas": null,
            "object_position": null,
            "object_fit": null,
            "grid_auto_columns": null,
            "margin": null,
            "display": null,
            "left": null
          }
        },
        "c1aeec4a3f4540ae95f9cf051244a229": {
          "model_module": "@jupyter-widgets/controls",
          "model_name": "ProgressStyleModel",
          "model_module_version": "1.5.0",
          "state": {
            "_view_name": "StyleView",
            "_model_name": "ProgressStyleModel",
            "description_width": "",
            "_view_module": "@jupyter-widgets/base",
            "_model_module_version": "1.5.0",
            "_view_count": null,
            "_view_module_version": "1.2.0",
            "bar_color": null,
            "_model_module": "@jupyter-widgets/controls"
          }
        },
        "8ee6f2bc29bf4f6186993960a790e0cc": {
          "model_module": "@jupyter-widgets/base",
          "model_name": "LayoutModel",
          "model_module_version": "1.2.0",
          "state": {
            "_view_name": "LayoutView",
            "grid_template_rows": null,
            "right": null,
            "justify_content": null,
            "_view_module": "@jupyter-widgets/base",
            "overflow": null,
            "_model_module_version": "1.2.0",
            "_view_count": null,
            "flex_flow": null,
            "width": "20px",
            "min_width": null,
            "border": null,
            "align_items": null,
            "bottom": null,
            "_model_module": "@jupyter-widgets/base",
            "top": null,
            "grid_column": null,
            "overflow_y": null,
            "overflow_x": null,
            "grid_auto_flow": null,
            "grid_area": null,
            "grid_template_columns": null,
            "flex": null,
            "_model_name": "LayoutModel",
            "justify_items": null,
            "grid_row": null,
            "max_height": null,
            "align_content": null,
            "visibility": null,
            "align_self": null,
            "height": null,
            "min_height": null,
            "padding": null,
            "grid_auto_rows": null,
            "grid_gap": null,
            "max_width": null,
            "order": null,
            "_view_module_version": "1.2.0",
            "grid_template_areas": null,
            "object_position": null,
            "object_fit": null,
            "grid_auto_columns": null,
            "margin": null,
            "display": null,
            "left": null
          }
        },
        "6a283db220164a7eab9c091a687cb94e": {
          "model_module": "@jupyter-widgets/controls",
          "model_name": "DescriptionStyleModel",
          "model_module_version": "1.5.0",
          "state": {
            "_view_name": "StyleView",
            "_model_name": "DescriptionStyleModel",
            "description_width": "",
            "_view_module": "@jupyter-widgets/base",
            "_model_module_version": "1.5.0",
            "_view_count": null,
            "_view_module_version": "1.2.0",
            "_model_module": "@jupyter-widgets/controls"
          }
        },
        "e687ed58e83447f2ba494352d5ab48c1": {
          "model_module": "@jupyter-widgets/base",
          "model_name": "LayoutModel",
          "model_module_version": "1.2.0",
          "state": {
            "_view_name": "LayoutView",
            "grid_template_rows": null,
            "right": null,
            "justify_content": null,
            "_view_module": "@jupyter-widgets/base",
            "overflow": null,
            "_model_module_version": "1.2.0",
            "_view_count": null,
            "flex_flow": null,
            "width": null,
            "min_width": null,
            "border": null,
            "align_items": null,
            "bottom": null,
            "_model_module": "@jupyter-widgets/base",
            "top": null,
            "grid_column": null,
            "overflow_y": null,
            "overflow_x": null,
            "grid_auto_flow": null,
            "grid_area": null,
            "grid_template_columns": null,
            "flex": null,
            "_model_name": "LayoutModel",
            "justify_items": null,
            "grid_row": null,
            "max_height": null,
            "align_content": null,
            "visibility": null,
            "align_self": null,
            "height": null,
            "min_height": null,
            "padding": null,
            "grid_auto_rows": null,
            "grid_gap": null,
            "max_width": null,
            "order": null,
            "_view_module_version": "1.2.0",
            "grid_template_areas": null,
            "object_position": null,
            "object_fit": null,
            "grid_auto_columns": null,
            "margin": null,
            "display": null,
            "left": null
          }
        },
        "907609d7f3be45e09affc224e267ecde": {
          "model_module": "@jupyter-widgets/controls",
          "model_name": "HBoxModel",
          "model_module_version": "1.5.0",
          "state": {
            "_view_name": "HBoxView",
            "_dom_classes": [],
            "_model_name": "HBoxModel",
            "_view_module": "@jupyter-widgets/controls",
            "_model_module_version": "1.5.0",
            "_view_count": null,
            "_view_module_version": "1.5.0",
            "box_style": "",
            "layout": "IPY_MODEL_608f843456924c6c89cb1d975f42f1a4",
            "_model_module": "@jupyter-widgets/controls",
            "children": [
              "IPY_MODEL_11df12acae8e4cb2b7d6e023c35dbd45",
              "IPY_MODEL_7fd751854fb44ed7adb43cc4b82ea620",
              "IPY_MODEL_33c24e9b20b744e3b77f9878e78a4ae4"
            ]
          }
        },
        "608f843456924c6c89cb1d975f42f1a4": {
          "model_module": "@jupyter-widgets/base",
          "model_name": "LayoutModel",
          "model_module_version": "1.2.0",
          "state": {
            "_view_name": "LayoutView",
            "grid_template_rows": null,
            "right": null,
            "justify_content": null,
            "_view_module": "@jupyter-widgets/base",
            "overflow": null,
            "_model_module_version": "1.2.0",
            "_view_count": null,
            "flex_flow": null,
            "width": null,
            "min_width": null,
            "border": null,
            "align_items": null,
            "bottom": null,
            "_model_module": "@jupyter-widgets/base",
            "top": null,
            "grid_column": null,
            "overflow_y": null,
            "overflow_x": null,
            "grid_auto_flow": null,
            "grid_area": null,
            "grid_template_columns": null,
            "flex": null,
            "_model_name": "LayoutModel",
            "justify_items": null,
            "grid_row": null,
            "max_height": null,
            "align_content": null,
            "visibility": null,
            "align_self": null,
            "height": null,
            "min_height": null,
            "padding": null,
            "grid_auto_rows": null,
            "grid_gap": null,
            "max_width": null,
            "order": null,
            "_view_module_version": "1.2.0",
            "grid_template_areas": null,
            "object_position": null,
            "object_fit": null,
            "grid_auto_columns": null,
            "margin": null,
            "display": null,
            "left": null
          }
        },
        "11df12acae8e4cb2b7d6e023c35dbd45": {
          "model_module": "@jupyter-widgets/controls",
          "model_name": "HTMLModel",
          "model_module_version": "1.5.0",
          "state": {
            "_view_name": "HTMLView",
            "style": "IPY_MODEL_37c1f61f84024ebfbdafc03e45f5bd3d",
            "_dom_classes": [],
            "description": "",
            "_model_name": "HTMLModel",
            "placeholder": "​",
            "_view_module": "@jupyter-widgets/controls",
            "_model_module_version": "1.5.0",
            "value": "",
            "_view_count": null,
            "_view_module_version": "1.5.0",
            "description_tooltip": null,
            "_model_module": "@jupyter-widgets/controls",
            "layout": "IPY_MODEL_e61044a6f7d04033ad1522ca8af49445"
          }
        },
        "7fd751854fb44ed7adb43cc4b82ea620": {
          "model_module": "@jupyter-widgets/controls",
          "model_name": "FloatProgressModel",
          "model_module_version": "1.5.0",
          "state": {
            "_view_name": "ProgressView",
            "style": "IPY_MODEL_982e6de13822447a9b8a024933e6ef99",
            "_dom_classes": [],
            "description": "",
            "_model_name": "FloatProgressModel",
            "bar_style": "success",
            "max": 1,
            "_view_module": "@jupyter-widgets/controls",
            "_model_module_version": "1.5.0",
            "value": 1,
            "_view_count": null,
            "_view_module_version": "1.5.0",
            "orientation": "horizontal",
            "min": 0,
            "description_tooltip": null,
            "_model_module": "@jupyter-widgets/controls",
            "layout": "IPY_MODEL_7a266caba10f4fcfbfc9c39a2ac85f7b"
          }
        },
        "33c24e9b20b744e3b77f9878e78a4ae4": {
          "model_module": "@jupyter-widgets/controls",
          "model_name": "HTMLModel",
          "model_module_version": "1.5.0",
          "state": {
            "_view_name": "HTMLView",
            "style": "IPY_MODEL_d1c31bb79aa1486f9810bb095270d460",
            "_dom_classes": [],
            "description": "",
            "_model_name": "HTMLModel",
            "placeholder": "​",
            "_view_module": "@jupyter-widgets/controls",
            "_model_module_version": "1.5.0",
            "value": " 4423680/? [00:01&lt;00:00, 8413906.66it/s]",
            "_view_count": null,
            "_view_module_version": "1.5.0",
            "description_tooltip": null,
            "_model_module": "@jupyter-widgets/controls",
            "layout": "IPY_MODEL_b2853649981d4631b8705614e163e856"
          }
        },
        "37c1f61f84024ebfbdafc03e45f5bd3d": {
          "model_module": "@jupyter-widgets/controls",
          "model_name": "DescriptionStyleModel",
          "model_module_version": "1.5.0",
          "state": {
            "_view_name": "StyleView",
            "_model_name": "DescriptionStyleModel",
            "description_width": "",
            "_view_module": "@jupyter-widgets/base",
            "_model_module_version": "1.5.0",
            "_view_count": null,
            "_view_module_version": "1.2.0",
            "_model_module": "@jupyter-widgets/controls"
          }
        },
        "e61044a6f7d04033ad1522ca8af49445": {
          "model_module": "@jupyter-widgets/base",
          "model_name": "LayoutModel",
          "model_module_version": "1.2.0",
          "state": {
            "_view_name": "LayoutView",
            "grid_template_rows": null,
            "right": null,
            "justify_content": null,
            "_view_module": "@jupyter-widgets/base",
            "overflow": null,
            "_model_module_version": "1.2.0",
            "_view_count": null,
            "flex_flow": null,
            "width": null,
            "min_width": null,
            "border": null,
            "align_items": null,
            "bottom": null,
            "_model_module": "@jupyter-widgets/base",
            "top": null,
            "grid_column": null,
            "overflow_y": null,
            "overflow_x": null,
            "grid_auto_flow": null,
            "grid_area": null,
            "grid_template_columns": null,
            "flex": null,
            "_model_name": "LayoutModel",
            "justify_items": null,
            "grid_row": null,
            "max_height": null,
            "align_content": null,
            "visibility": null,
            "align_self": null,
            "height": null,
            "min_height": null,
            "padding": null,
            "grid_auto_rows": null,
            "grid_gap": null,
            "max_width": null,
            "order": null,
            "_view_module_version": "1.2.0",
            "grid_template_areas": null,
            "object_position": null,
            "object_fit": null,
            "grid_auto_columns": null,
            "margin": null,
            "display": null,
            "left": null
          }
        },
        "982e6de13822447a9b8a024933e6ef99": {
          "model_module": "@jupyter-widgets/controls",
          "model_name": "ProgressStyleModel",
          "model_module_version": "1.5.0",
          "state": {
            "_view_name": "StyleView",
            "_model_name": "ProgressStyleModel",
            "description_width": "",
            "_view_module": "@jupyter-widgets/base",
            "_model_module_version": "1.5.0",
            "_view_count": null,
            "_view_module_version": "1.2.0",
            "bar_color": null,
            "_model_module": "@jupyter-widgets/controls"
          }
        },
        "7a266caba10f4fcfbfc9c39a2ac85f7b": {
          "model_module": "@jupyter-widgets/base",
          "model_name": "LayoutModel",
          "model_module_version": "1.2.0",
          "state": {
            "_view_name": "LayoutView",
            "grid_template_rows": null,
            "right": null,
            "justify_content": null,
            "_view_module": "@jupyter-widgets/base",
            "overflow": null,
            "_model_module_version": "1.2.0",
            "_view_count": null,
            "flex_flow": null,
            "width": "20px",
            "min_width": null,
            "border": null,
            "align_items": null,
            "bottom": null,
            "_model_module": "@jupyter-widgets/base",
            "top": null,
            "grid_column": null,
            "overflow_y": null,
            "overflow_x": null,
            "grid_auto_flow": null,
            "grid_area": null,
            "grid_template_columns": null,
            "flex": null,
            "_model_name": "LayoutModel",
            "justify_items": null,
            "grid_row": null,
            "max_height": null,
            "align_content": null,
            "visibility": null,
            "align_self": null,
            "height": null,
            "min_height": null,
            "padding": null,
            "grid_auto_rows": null,
            "grid_gap": null,
            "max_width": null,
            "order": null,
            "_view_module_version": "1.2.0",
            "grid_template_areas": null,
            "object_position": null,
            "object_fit": null,
            "grid_auto_columns": null,
            "margin": null,
            "display": null,
            "left": null
          }
        },
        "d1c31bb79aa1486f9810bb095270d460": {
          "model_module": "@jupyter-widgets/controls",
          "model_name": "DescriptionStyleModel",
          "model_module_version": "1.5.0",
          "state": {
            "_view_name": "StyleView",
            "_model_name": "DescriptionStyleModel",
            "description_width": "",
            "_view_module": "@jupyter-widgets/base",
            "_model_module_version": "1.5.0",
            "_view_count": null,
            "_view_module_version": "1.2.0",
            "_model_module": "@jupyter-widgets/controls"
          }
        },
        "b2853649981d4631b8705614e163e856": {
          "model_module": "@jupyter-widgets/base",
          "model_name": "LayoutModel",
          "model_module_version": "1.2.0",
          "state": {
            "_view_name": "LayoutView",
            "grid_template_rows": null,
            "right": null,
            "justify_content": null,
            "_view_module": "@jupyter-widgets/base",
            "overflow": null,
            "_model_module_version": "1.2.0",
            "_view_count": null,
            "flex_flow": null,
            "width": null,
            "min_width": null,
            "border": null,
            "align_items": null,
            "bottom": null,
            "_model_module": "@jupyter-widgets/base",
            "top": null,
            "grid_column": null,
            "overflow_y": null,
            "overflow_x": null,
            "grid_auto_flow": null,
            "grid_area": null,
            "grid_template_columns": null,
            "flex": null,
            "_model_name": "LayoutModel",
            "justify_items": null,
            "grid_row": null,
            "max_height": null,
            "align_content": null,
            "visibility": null,
            "align_self": null,
            "height": null,
            "min_height": null,
            "padding": null,
            "grid_auto_rows": null,
            "grid_gap": null,
            "max_width": null,
            "order": null,
            "_view_module_version": "1.2.0",
            "grid_template_areas": null,
            "object_position": null,
            "object_fit": null,
            "grid_auto_columns": null,
            "margin": null,
            "display": null,
            "left": null
          }
        },
        "eee7c4a873d24c2e9d4c6a1002069378": {
          "model_module": "@jupyter-widgets/controls",
          "model_name": "HBoxModel",
          "model_module_version": "1.5.0",
          "state": {
            "_view_name": "HBoxView",
            "_dom_classes": [],
            "_model_name": "HBoxModel",
            "_view_module": "@jupyter-widgets/controls",
            "_model_module_version": "1.5.0",
            "_view_count": null,
            "_view_module_version": "1.5.0",
            "box_style": "",
            "layout": "IPY_MODEL_eccf68e4bc21435f94416ebea3ee03a4",
            "_model_module": "@jupyter-widgets/controls",
            "children": [
              "IPY_MODEL_703a44cef2264ffb9d927b5d48790d28",
              "IPY_MODEL_bbec13e5ff974b65ac597ef5b3b8e5ab",
              "IPY_MODEL_42e9555f49ad4339b3bff27892b9eacd"
            ]
          }
        },
        "eccf68e4bc21435f94416ebea3ee03a4": {
          "model_module": "@jupyter-widgets/base",
          "model_name": "LayoutModel",
          "model_module_version": "1.2.0",
          "state": {
            "_view_name": "LayoutView",
            "grid_template_rows": null,
            "right": null,
            "justify_content": null,
            "_view_module": "@jupyter-widgets/base",
            "overflow": null,
            "_model_module_version": "1.2.0",
            "_view_count": null,
            "flex_flow": null,
            "width": null,
            "min_width": null,
            "border": null,
            "align_items": null,
            "bottom": null,
            "_model_module": "@jupyter-widgets/base",
            "top": null,
            "grid_column": null,
            "overflow_y": null,
            "overflow_x": null,
            "grid_auto_flow": null,
            "grid_area": null,
            "grid_template_columns": null,
            "flex": null,
            "_model_name": "LayoutModel",
            "justify_items": null,
            "grid_row": null,
            "max_height": null,
            "align_content": null,
            "visibility": null,
            "align_self": null,
            "height": null,
            "min_height": null,
            "padding": null,
            "grid_auto_rows": null,
            "grid_gap": null,
            "max_width": null,
            "order": null,
            "_view_module_version": "1.2.0",
            "grid_template_areas": null,
            "object_position": null,
            "object_fit": null,
            "grid_auto_columns": null,
            "margin": null,
            "display": null,
            "left": null
          }
        },
        "703a44cef2264ffb9d927b5d48790d28": {
          "model_module": "@jupyter-widgets/controls",
          "model_name": "HTMLModel",
          "model_module_version": "1.5.0",
          "state": {
            "_view_name": "HTMLView",
            "style": "IPY_MODEL_d37ac08003a34b90a766934b4a7ad2a5",
            "_dom_classes": [],
            "description": "",
            "_model_name": "HTMLModel",
            "placeholder": "​",
            "_view_module": "@jupyter-widgets/controls",
            "_model_module_version": "1.5.0",
            "value": "",
            "_view_count": null,
            "_view_module_version": "1.5.0",
            "description_tooltip": null,
            "_model_module": "@jupyter-widgets/controls",
            "layout": "IPY_MODEL_7d6686dae82b4f2f88be9fcfd37b246a"
          }
        },
        "bbec13e5ff974b65ac597ef5b3b8e5ab": {
          "model_module": "@jupyter-widgets/controls",
          "model_name": "FloatProgressModel",
          "model_module_version": "1.5.0",
          "state": {
            "_view_name": "ProgressView",
            "style": "IPY_MODEL_3c4d8e1bc4bc41adba37c2654f9eab73",
            "_dom_classes": [],
            "description": "",
            "_model_name": "FloatProgressModel",
            "bar_style": "success",
            "max": 1,
            "_view_module": "@jupyter-widgets/controls",
            "_model_module_version": "1.5.0",
            "value": 1,
            "_view_count": null,
            "_view_module_version": "1.5.0",
            "orientation": "horizontal",
            "min": 0,
            "description_tooltip": null,
            "_model_module": "@jupyter-widgets/controls",
            "layout": "IPY_MODEL_d9df4551adf24fffb561da9d2544ad68"
          }
        },
        "42e9555f49ad4339b3bff27892b9eacd": {
          "model_module": "@jupyter-widgets/controls",
          "model_name": "HTMLModel",
          "model_module_version": "1.5.0",
          "state": {
            "_view_name": "HTMLView",
            "style": "IPY_MODEL_f11aadf3c72a4e5692bf745ff7b45047",
            "_dom_classes": [],
            "description": "",
            "_model_name": "HTMLModel",
            "placeholder": "​",
            "_view_module": "@jupyter-widgets/controls",
            "_model_module_version": "1.5.0",
            "value": " 8192/? [22:10&lt;00:00,  6.16it/s]",
            "_view_count": null,
            "_view_module_version": "1.5.0",
            "description_tooltip": null,
            "_model_module": "@jupyter-widgets/controls",
            "layout": "IPY_MODEL_3e93169edb074145a65877400effb860"
          }
        },
        "d37ac08003a34b90a766934b4a7ad2a5": {
          "model_module": "@jupyter-widgets/controls",
          "model_name": "DescriptionStyleModel",
          "model_module_version": "1.5.0",
          "state": {
            "_view_name": "StyleView",
            "_model_name": "DescriptionStyleModel",
            "description_width": "",
            "_view_module": "@jupyter-widgets/base",
            "_model_module_version": "1.5.0",
            "_view_count": null,
            "_view_module_version": "1.2.0",
            "_model_module": "@jupyter-widgets/controls"
          }
        },
        "7d6686dae82b4f2f88be9fcfd37b246a": {
          "model_module": "@jupyter-widgets/base",
          "model_name": "LayoutModel",
          "model_module_version": "1.2.0",
          "state": {
            "_view_name": "LayoutView",
            "grid_template_rows": null,
            "right": null,
            "justify_content": null,
            "_view_module": "@jupyter-widgets/base",
            "overflow": null,
            "_model_module_version": "1.2.0",
            "_view_count": null,
            "flex_flow": null,
            "width": null,
            "min_width": null,
            "border": null,
            "align_items": null,
            "bottom": null,
            "_model_module": "@jupyter-widgets/base",
            "top": null,
            "grid_column": null,
            "overflow_y": null,
            "overflow_x": null,
            "grid_auto_flow": null,
            "grid_area": null,
            "grid_template_columns": null,
            "flex": null,
            "_model_name": "LayoutModel",
            "justify_items": null,
            "grid_row": null,
            "max_height": null,
            "align_content": null,
            "visibility": null,
            "align_self": null,
            "height": null,
            "min_height": null,
            "padding": null,
            "grid_auto_rows": null,
            "grid_gap": null,
            "max_width": null,
            "order": null,
            "_view_module_version": "1.2.0",
            "grid_template_areas": null,
            "object_position": null,
            "object_fit": null,
            "grid_auto_columns": null,
            "margin": null,
            "display": null,
            "left": null
          }
        },
        "3c4d8e1bc4bc41adba37c2654f9eab73": {
          "model_module": "@jupyter-widgets/controls",
          "model_name": "ProgressStyleModel",
          "model_module_version": "1.5.0",
          "state": {
            "_view_name": "StyleView",
            "_model_name": "ProgressStyleModel",
            "description_width": "",
            "_view_module": "@jupyter-widgets/base",
            "_model_module_version": "1.5.0",
            "_view_count": null,
            "_view_module_version": "1.2.0",
            "bar_color": null,
            "_model_module": "@jupyter-widgets/controls"
          }
        },
        "d9df4551adf24fffb561da9d2544ad68": {
          "model_module": "@jupyter-widgets/base",
          "model_name": "LayoutModel",
          "model_module_version": "1.2.0",
          "state": {
            "_view_name": "LayoutView",
            "grid_template_rows": null,
            "right": null,
            "justify_content": null,
            "_view_module": "@jupyter-widgets/base",
            "overflow": null,
            "_model_module_version": "1.2.0",
            "_view_count": null,
            "flex_flow": null,
            "width": "20px",
            "min_width": null,
            "border": null,
            "align_items": null,
            "bottom": null,
            "_model_module": "@jupyter-widgets/base",
            "top": null,
            "grid_column": null,
            "overflow_y": null,
            "overflow_x": null,
            "grid_auto_flow": null,
            "grid_area": null,
            "grid_template_columns": null,
            "flex": null,
            "_model_name": "LayoutModel",
            "justify_items": null,
            "grid_row": null,
            "max_height": null,
            "align_content": null,
            "visibility": null,
            "align_self": null,
            "height": null,
            "min_height": null,
            "padding": null,
            "grid_auto_rows": null,
            "grid_gap": null,
            "max_width": null,
            "order": null,
            "_view_module_version": "1.2.0",
            "grid_template_areas": null,
            "object_position": null,
            "object_fit": null,
            "grid_auto_columns": null,
            "margin": null,
            "display": null,
            "left": null
          }
        },
        "f11aadf3c72a4e5692bf745ff7b45047": {
          "model_module": "@jupyter-widgets/controls",
          "model_name": "DescriptionStyleModel",
          "model_module_version": "1.5.0",
          "state": {
            "_view_name": "StyleView",
            "_model_name": "DescriptionStyleModel",
            "description_width": "",
            "_view_module": "@jupyter-widgets/base",
            "_model_module_version": "1.5.0",
            "_view_count": null,
            "_view_module_version": "1.2.0",
            "_model_module": "@jupyter-widgets/controls"
          }
        },
        "3e93169edb074145a65877400effb860": {
          "model_module": "@jupyter-widgets/base",
          "model_name": "LayoutModel",
          "model_module_version": "1.2.0",
          "state": {
            "_view_name": "LayoutView",
            "grid_template_rows": null,
            "right": null,
            "justify_content": null,
            "_view_module": "@jupyter-widgets/base",
            "overflow": null,
            "_model_module_version": "1.2.0",
            "_view_count": null,
            "flex_flow": null,
            "width": null,
            "min_width": null,
            "border": null,
            "align_items": null,
            "bottom": null,
            "_model_module": "@jupyter-widgets/base",
            "top": null,
            "grid_column": null,
            "overflow_y": null,
            "overflow_x": null,
            "grid_auto_flow": null,
            "grid_area": null,
            "grid_template_columns": null,
            "flex": null,
            "_model_name": "LayoutModel",
            "justify_items": null,
            "grid_row": null,
            "max_height": null,
            "align_content": null,
            "visibility": null,
            "align_self": null,
            "height": null,
            "min_height": null,
            "padding": null,
            "grid_auto_rows": null,
            "grid_gap": null,
            "max_width": null,
            "order": null,
            "_view_module_version": "1.2.0",
            "grid_template_areas": null,
            "object_position": null,
            "object_fit": null,
            "grid_auto_columns": null,
            "margin": null,
            "display": null,
            "left": null
          }
        }
      }
    }
  },
  "cells": [
    {
      "cell_type": "markdown",
      "metadata": {
        "id": "WdwB4ADQQuG1"
      },
      "source": [
        "\n",
        "\n",
        "# PyTorch Step by Step"
      ]
    },
    {
      "cell_type": "markdown",
      "metadata": {
        "collapsed": true,
        "id": "VNe_r7ohQuG5"
      },
      "source": [
        "## Matrices\n",
        "\n",
        "\n",
        "### Matrices Brief Introduction\n",
        "- Basic definition: rectangular array of numbers.\n",
        "- Tensors (PyTorch)\n",
        "- Ndarrays (NumPy)"
      ]
    },
    {
      "cell_type": "markdown",
      "metadata": {
        "id": "V9Gf2BIDQuG6"
      },
      "source": [
        "**<center> 2 x 2 Matrix (R x C)</center>**"
      ]
    },
    {
      "cell_type": "markdown",
      "metadata": {
        "id": "z_1z6lFMQuG6"
      },
      "source": [
        "1 | 1 \n",
        "--- | ---\n",
        "1 | 1 "
      ]
    },
    {
      "cell_type": "markdown",
      "metadata": {
        "id": "c6LOTTZbQuG7"
      },
      "source": [
        "**<center> 2 x 3 Matrix </center>**"
      ]
    },
    {
      "cell_type": "markdown",
      "metadata": {
        "id": "V1Jwt9aNQuG7"
      },
      "source": [
        "1 | 1 | 1\n",
        "--- | ---| ---\n",
        "1 | 1 | 1 "
      ]
    },
    {
      "cell_type": "markdown",
      "metadata": {
        "id": "iHTsfdhUQuG8"
      },
      "source": [
        "### Creating Matrices"
      ]
    },
    {
      "cell_type": "code",
      "metadata": {
        "collapsed": true,
        "id": "jfZW9o-7QuG9"
      },
      "source": [
        "import numpy as np"
      ],
      "execution_count": null,
      "outputs": []
    },
    {
      "cell_type": "code",
      "metadata": {
        "colab": {
          "base_uri": "https://localhost:8080/"
        },
        "id": "wS0P8-T8QuG-",
        "outputId": "fc8e5f2c-bf9f-4e7a-c429-3b7a811d6fce"
      },
      "source": [
        "# Creating a 2x2 array\n",
        "arr = [[1, 2], [3, 4]]\n",
        "print(arr)"
      ],
      "execution_count": null,
      "outputs": [
        {
          "output_type": "stream",
          "name": "stdout",
          "text": [
            "[[1, 2], [3, 4]]\n"
          ]
        }
      ]
    },
    {
      "cell_type": "code",
      "metadata": {
        "colab": {
          "base_uri": "https://localhost:8080/"
        },
        "id": "bKphRXUgQuHA",
        "outputId": "07e14a3b-f4aa-432b-db4f-15457664fe3b"
      },
      "source": [
        "# Convert to NumPy\n",
        "np.array(arr)"
      ],
      "execution_count": null,
      "outputs": [
        {
          "output_type": "execute_result",
          "data": {
            "text/plain": [
              "array([[1, 2],\n",
              "       [3, 4]])"
            ]
          },
          "metadata": {},
          "execution_count": 3
        }
      ]
    },
    {
      "cell_type": "code",
      "metadata": {
        "collapsed": true,
        "id": "FVRoD5SvQuHA"
      },
      "source": [
        "import torch"
      ],
      "execution_count": null,
      "outputs": []
    },
    {
      "cell_type": "code",
      "metadata": {
        "colab": {
          "base_uri": "https://localhost:8080/"
        },
        "id": "mgMJFjMCQuHA",
        "outputId": "05692205-a9b9-4665-b123-87f9f94faacf"
      },
      "source": [
        "# Convert to PyTorch Tensor\n",
        "torch.Tensor(arr)"
      ],
      "execution_count": null,
      "outputs": [
        {
          "output_type": "execute_result",
          "data": {
            "text/plain": [
              "tensor([[1., 2.],\n",
              "        [3., 4.]])"
            ]
          },
          "metadata": {},
          "execution_count": 5
        }
      ]
    },
    {
      "cell_type": "markdown",
      "metadata": {
        "id": "fa-W4KUoQuHB"
      },
      "source": [
        "### Create Matrices with Default Values"
      ]
    },
    {
      "cell_type": "code",
      "metadata": {
        "colab": {
          "base_uri": "https://localhost:8080/"
        },
        "id": "DfeWiB2yQuHB",
        "outputId": "7ced1d36-ee2b-470b-c5e0-f07ce88c5436"
      },
      "source": [
        "np.ones((2, 2))"
      ],
      "execution_count": null,
      "outputs": [
        {
          "output_type": "execute_result",
          "data": {
            "text/plain": [
              "array([[1., 1.],\n",
              "       [1., 1.]])"
            ]
          },
          "metadata": {},
          "execution_count": 6
        }
      ]
    },
    {
      "cell_type": "code",
      "metadata": {
        "colab": {
          "base_uri": "https://localhost:8080/"
        },
        "id": "CMPV_HEtQuHB",
        "outputId": "71654910-af13-40ae-abf0-b1493704bf7d"
      },
      "source": [
        "torch.ones((2, 2))"
      ],
      "execution_count": null,
      "outputs": [
        {
          "output_type": "execute_result",
          "data": {
            "text/plain": [
              "tensor([[1., 1.],\n",
              "        [1., 1.]])"
            ]
          },
          "metadata": {},
          "execution_count": 7
        }
      ]
    },
    {
      "cell_type": "code",
      "metadata": {
        "colab": {
          "base_uri": "https://localhost:8080/"
        },
        "id": "6Qko2MgfQuHC",
        "outputId": "4b1cb68f-533f-4f22-b008-0558b5d7254c"
      },
      "source": [
        "np.random.rand(2, 2)"
      ],
      "execution_count": null,
      "outputs": [
        {
          "output_type": "execute_result",
          "data": {
            "text/plain": [
              "array([[0.8208151 , 0.72350768],\n",
              "       [0.19526787, 0.03026713]])"
            ]
          },
          "metadata": {},
          "execution_count": 8
        }
      ]
    },
    {
      "cell_type": "code",
      "metadata": {
        "colab": {
          "base_uri": "https://localhost:8080/"
        },
        "id": "PXlHVlVmQuHD",
        "outputId": "cdd9ee3f-f562-42f8-eeb5-805d1bf10cc4"
      },
      "source": [
        "torch.rand(2, 2)"
      ],
      "execution_count": null,
      "outputs": [
        {
          "output_type": "execute_result",
          "data": {
            "text/plain": [
              "tensor([[0.6959, 0.3430],\n",
              "        [0.8624, 0.7131]])"
            ]
          },
          "metadata": {},
          "execution_count": 9
        }
      ]
    },
    {
      "cell_type": "markdown",
      "metadata": {
        "id": "BYrqwb5ZQuHD"
      },
      "source": [
        "### Seeds for Reproducibility"
      ]
    },
    {
      "cell_type": "code",
      "metadata": {
        "colab": {
          "base_uri": "https://localhost:8080/"
        },
        "id": "X3bpBp8fQuHD",
        "outputId": "161287f9-be5d-4c84-a01c-70a6ecf6bfd9"
      },
      "source": [
        "# Seed\n",
        "np.random.seed(0)\n",
        "np.random.rand(2, 2)"
      ],
      "execution_count": null,
      "outputs": [
        {
          "output_type": "execute_result",
          "data": {
            "text/plain": [
              "array([[0.5488135 , 0.71518937],\n",
              "       [0.60276338, 0.54488318]])"
            ]
          },
          "metadata": {},
          "execution_count": 10
        }
      ]
    },
    {
      "cell_type": "code",
      "metadata": {
        "colab": {
          "base_uri": "https://localhost:8080/"
        },
        "id": "chEFG55wQuHE",
        "outputId": "43a7c87d-03db-41e8-c9be-b9c35c42815d"
      },
      "source": [
        "# Seed\n",
        "np.random.seed(0)\n",
        "np.random.rand(2, 2)"
      ],
      "execution_count": null,
      "outputs": [
        {
          "output_type": "execute_result",
          "data": {
            "text/plain": [
              "array([[0.5488135 , 0.71518937],\n",
              "       [0.60276338, 0.54488318]])"
            ]
          },
          "metadata": {},
          "execution_count": 11
        }
      ]
    },
    {
      "cell_type": "code",
      "metadata": {
        "colab": {
          "base_uri": "https://localhost:8080/"
        },
        "id": "OV6GISlPQuHE",
        "outputId": "4b797350-2bd8-4f61-cd1e-9502f0881fd8"
      },
      "source": [
        "# No seed\n",
        "np.random.rand(2, 2)"
      ],
      "execution_count": null,
      "outputs": [
        {
          "output_type": "execute_result",
          "data": {
            "text/plain": [
              "array([[0.4236548 , 0.64589411],\n",
              "       [0.43758721, 0.891773  ]])"
            ]
          },
          "metadata": {},
          "execution_count": 12
        }
      ]
    },
    {
      "cell_type": "code",
      "metadata": {
        "colab": {
          "base_uri": "https://localhost:8080/"
        },
        "id": "Y23AW6koQuHF",
        "outputId": "013cfdca-f016-4ea3-81fc-8e8dc82c6aaa"
      },
      "source": [
        "# No seed\n",
        "np.random.rand(2, 2)"
      ],
      "execution_count": null,
      "outputs": [
        {
          "output_type": "execute_result",
          "data": {
            "text/plain": [
              "array([[0.96366276, 0.38344152],\n",
              "       [0.79172504, 0.52889492]])"
            ]
          },
          "metadata": {},
          "execution_count": 13
        }
      ]
    },
    {
      "cell_type": "code",
      "metadata": {
        "colab": {
          "base_uri": "https://localhost:8080/"
        },
        "id": "nG1pAF4GQuHF",
        "outputId": "3865b35b-c9a6-4375-ee15-2579a0517f3c"
      },
      "source": [
        "# Torch Seed\n",
        "torch.manual_seed(0)\n",
        "torch.rand(2, 2)"
      ],
      "execution_count": null,
      "outputs": [
        {
          "output_type": "execute_result",
          "data": {
            "text/plain": [
              "tensor([[0.4963, 0.7682],\n",
              "        [0.0885, 0.1320]])"
            ]
          },
          "metadata": {},
          "execution_count": 14
        }
      ]
    },
    {
      "cell_type": "code",
      "metadata": {
        "colab": {
          "base_uri": "https://localhost:8080/"
        },
        "id": "-mL6z6BIQuHF",
        "outputId": "65e3bb86-3527-4d00-e973-f06cbcfbbc3f"
      },
      "source": [
        "# Torch Seed\n",
        "torch.manual_seed(0)\n",
        "torch.rand(2, 2)"
      ],
      "execution_count": null,
      "outputs": [
        {
          "output_type": "execute_result",
          "data": {
            "text/plain": [
              "tensor([[0.4963, 0.7682],\n",
              "        [0.0885, 0.1320]])"
            ]
          },
          "metadata": {},
          "execution_count": 15
        }
      ]
    },
    {
      "cell_type": "code",
      "metadata": {
        "colab": {
          "base_uri": "https://localhost:8080/"
        },
        "id": "xLdMWp2dQuHF",
        "outputId": "3e6758cc-f118-4aad-b84b-9aae1b855cd6"
      },
      "source": [
        "# Torch No Seed\n",
        "torch.rand(2, 2)"
      ],
      "execution_count": null,
      "outputs": [
        {
          "output_type": "execute_result",
          "data": {
            "text/plain": [
              "tensor([[0.3074, 0.6341],\n",
              "        [0.4901, 0.8964]])"
            ]
          },
          "metadata": {},
          "execution_count": 16
        }
      ]
    },
    {
      "cell_type": "code",
      "metadata": {
        "colab": {
          "base_uri": "https://localhost:8080/"
        },
        "id": "ZDUl979CQuHG",
        "outputId": "922a4cc6-6d8b-401e-87a6-5cd387379da7"
      },
      "source": [
        "# Torch No Seed\n",
        "torch.rand(2, 2)"
      ],
      "execution_count": null,
      "outputs": [
        {
          "output_type": "execute_result",
          "data": {
            "text/plain": [
              "tensor([[0.4556, 0.6323],\n",
              "        [0.3489, 0.4017]])"
            ]
          },
          "metadata": {},
          "execution_count": 17
        }
      ]
    },
    {
      "cell_type": "markdown",
      "metadata": {
        "id": "T3r0S0NgQuHG"
      },
      "source": [
        "**Seed for GPU is different for now...**"
      ]
    },
    {
      "cell_type": "code",
      "metadata": {
        "id": "yAGabJTrQuHG"
      },
      "source": [
        "if torch.cuda.is_available():\n",
        "    torch.cuda.manual_seed_all(0)"
      ],
      "execution_count": null,
      "outputs": []
    },
    {
      "cell_type": "markdown",
      "metadata": {
        "id": "TacvAXjlQuHH"
      },
      "source": [
        "### NumPy and Torch Bridge"
      ]
    },
    {
      "cell_type": "markdown",
      "metadata": {
        "id": "3WxjGVKMQuHH"
      },
      "source": [
        "### NumPy to Torch "
      ]
    },
    {
      "cell_type": "code",
      "metadata": {
        "id": "kjZXrRjrQuHH"
      },
      "source": [
        "# Numpy array\n",
        "np_array = np.ones((2, 2))"
      ],
      "execution_count": null,
      "outputs": []
    },
    {
      "cell_type": "code",
      "metadata": {
        "colab": {
          "base_uri": "https://localhost:8080/"
        },
        "id": "QaEFE_ZIQuHH",
        "outputId": "2ccaaced-2c44-43d3-a8f5-13f0787e1f50"
      },
      "source": [
        "print(np_array)"
      ],
      "execution_count": null,
      "outputs": [
        {
          "output_type": "stream",
          "name": "stdout",
          "text": [
            "[[1. 1.]\n",
            " [1. 1.]]\n"
          ]
        }
      ]
    },
    {
      "cell_type": "code",
      "metadata": {
        "colab": {
          "base_uri": "https://localhost:8080/"
        },
        "id": "HneKHGMIQuHH",
        "outputId": "9eb581ec-ffaa-4ad0-ff9c-74749e30afe5"
      },
      "source": [
        "print(type(np_array))"
      ],
      "execution_count": null,
      "outputs": [
        {
          "output_type": "stream",
          "name": "stdout",
          "text": [
            "<class 'numpy.ndarray'>\n"
          ]
        }
      ]
    },
    {
      "cell_type": "code",
      "metadata": {
        "collapsed": true,
        "id": "2wPCPvEqQuHH"
      },
      "source": [
        "# Convert to Torch Tensor\n",
        "torch_tensor = torch.from_numpy(np_array)"
      ],
      "execution_count": null,
      "outputs": []
    },
    {
      "cell_type": "code",
      "metadata": {
        "colab": {
          "base_uri": "https://localhost:8080/"
        },
        "id": "Wa8fNX-oQuHH",
        "outputId": "99c0c8bf-5d64-413a-d295-eff53cfc3faf"
      },
      "source": [
        "print(torch_tensor)"
      ],
      "execution_count": null,
      "outputs": [
        {
          "output_type": "stream",
          "name": "stdout",
          "text": [
            "tensor([[1., 1.],\n",
            "        [1., 1.]], dtype=torch.float64)\n"
          ]
        }
      ]
    },
    {
      "cell_type": "code",
      "metadata": {
        "colab": {
          "base_uri": "https://localhost:8080/"
        },
        "id": "wGpN2LTaQuHI",
        "outputId": "ac0aa183-ce44-48dd-c35b-a078d864273b"
      },
      "source": [
        "print(type(torch_tensor))"
      ],
      "execution_count": null,
      "outputs": [
        {
          "output_type": "stream",
          "name": "stdout",
          "text": [
            "<class 'torch.Tensor'>\n"
          ]
        }
      ]
    },
    {
      "cell_type": "code",
      "metadata": {
        "colab": {
          "base_uri": "https://localhost:8080/"
        },
        "id": "idKfbUg4QuHI",
        "outputId": "cf393130-1edf-4aa3-f697-28f9499c12c5"
      },
      "source": [
        "# Data types matter: intentional error\n",
        "np_array_new = np.ones((2, 2), dtype=np.int8)\n",
        "torch.from_numpy(np_array_new)"
      ],
      "execution_count": null,
      "outputs": [
        {
          "output_type": "execute_result",
          "data": {
            "text/plain": [
              "tensor([[1, 1],\n",
              "        [1, 1]], dtype=torch.int8)"
            ]
          },
          "metadata": {},
          "execution_count": 25
        }
      ]
    },
    {
      "cell_type": "markdown",
      "metadata": {
        "id": "Q7eqrLyzQuHI"
      },
      "source": [
        "**The conversion supports:**\n",
        "1. `double`\n",
        "2. `float` \n",
        "3. `int64`, `int32`, `uint8` "
      ]
    },
    {
      "cell_type": "code",
      "metadata": {
        "colab": {
          "base_uri": "https://localhost:8080/"
        },
        "id": "PArecW9qQuHI",
        "outputId": "82856114-f500-4505-93eb-402f1cdd3643"
      },
      "source": [
        "# Data types matter\n",
        "np_array_new = np.ones((2, 2), dtype=np.int64)\n",
        "torch.from_numpy(np_array_new)"
      ],
      "execution_count": null,
      "outputs": [
        {
          "output_type": "execute_result",
          "data": {
            "text/plain": [
              "tensor([[1, 1],\n",
              "        [1, 1]])"
            ]
          },
          "metadata": {},
          "execution_count": 26
        }
      ]
    },
    {
      "cell_type": "code",
      "metadata": {
        "colab": {
          "base_uri": "https://localhost:8080/"
        },
        "id": "s6KWU6tLQuHI",
        "outputId": "622a74fc-c23d-410d-a91d-4186f2ef27b1"
      },
      "source": [
        "# Data types matter\n",
        "np_array_new = np.ones((2, 2), dtype=np.int32)\n",
        "torch.from_numpy(np_array_new)"
      ],
      "execution_count": null,
      "outputs": [
        {
          "output_type": "execute_result",
          "data": {
            "text/plain": [
              "tensor([[1, 1],\n",
              "        [1, 1]], dtype=torch.int32)"
            ]
          },
          "metadata": {},
          "execution_count": 27
        }
      ]
    },
    {
      "cell_type": "code",
      "metadata": {
        "colab": {
          "base_uri": "https://localhost:8080/"
        },
        "id": "JbirqSaDQuHI",
        "outputId": "651c55bb-db93-46d7-ef7a-fc26d1f58013"
      },
      "source": [
        "# Data types matter\n",
        "np_array_new = np.ones((2, 2), dtype=np.uint8)\n",
        "torch.from_numpy(np_array_new)"
      ],
      "execution_count": null,
      "outputs": [
        {
          "output_type": "execute_result",
          "data": {
            "text/plain": [
              "tensor([[1, 1],\n",
              "        [1, 1]], dtype=torch.uint8)"
            ]
          },
          "metadata": {},
          "execution_count": 28
        }
      ]
    },
    {
      "cell_type": "code",
      "metadata": {
        "colab": {
          "base_uri": "https://localhost:8080/"
        },
        "id": "3EP-bg23QuHJ",
        "outputId": "86ba5515-3b17-4cf5-a1d6-d5f6ba5b06ab"
      },
      "source": [
        "# Data types matter\n",
        "np_array_new = np.ones((2, 2), dtype=np.float64)\n",
        "torch.from_numpy(np_array_new)"
      ],
      "execution_count": null,
      "outputs": [
        {
          "output_type": "execute_result",
          "data": {
            "text/plain": [
              "tensor([[1., 1.],\n",
              "        [1., 1.]], dtype=torch.float64)"
            ]
          },
          "metadata": {},
          "execution_count": 29
        }
      ]
    },
    {
      "cell_type": "code",
      "metadata": {
        "colab": {
          "base_uri": "https://localhost:8080/"
        },
        "id": "xDe-oPjbQuHJ",
        "outputId": "139d8ff8-3b60-43b4-9bde-14b759c99952"
      },
      "source": [
        "# Data types matter\n",
        "np_array_new = np.ones((2, 2), dtype=np.float32)\n",
        "torch.from_numpy(np_array_new)"
      ],
      "execution_count": null,
      "outputs": [
        {
          "output_type": "execute_result",
          "data": {
            "text/plain": [
              "tensor([[1., 1.],\n",
              "        [1., 1.]])"
            ]
          },
          "metadata": {},
          "execution_count": 30
        }
      ]
    },
    {
      "cell_type": "code",
      "metadata": {
        "colab": {
          "base_uri": "https://localhost:8080/"
        },
        "id": "Wix1AictQuHJ",
        "outputId": "197e5706-beec-444c-f5e4-158db1d0bf5d"
      },
      "source": [
        "# Data types matter\n",
        "np_array_new = np.ones((2, 2), dtype=np.double)\n",
        "torch.from_numpy(np_array_new)"
      ],
      "execution_count": null,
      "outputs": [
        {
          "output_type": "execute_result",
          "data": {
            "text/plain": [
              "tensor([[1., 1.],\n",
              "        [1., 1.]], dtype=torch.float64)"
            ]
          },
          "metadata": {},
          "execution_count": 31
        }
      ]
    },
    {
      "cell_type": "markdown",
      "metadata": {
        "id": "0dWJ5Q5CQuHK"
      },
      "source": [
        "### Torch to NumPy"
      ]
    },
    {
      "cell_type": "code",
      "metadata": {
        "collapsed": true,
        "id": "XtsgzmRnQuHK"
      },
      "source": [
        "torch_tensor = torch.ones(2, 2)"
      ],
      "execution_count": null,
      "outputs": []
    },
    {
      "cell_type": "code",
      "metadata": {
        "colab": {
          "base_uri": "https://localhost:8080/"
        },
        "id": "u13QBLpGQuHK",
        "outputId": "1e7306a7-771b-4c9c-93f2-98869ab527f2"
      },
      "source": [
        "type(torch_tensor)"
      ],
      "execution_count": null,
      "outputs": [
        {
          "output_type": "execute_result",
          "data": {
            "text/plain": [
              "torch.Tensor"
            ]
          },
          "metadata": {},
          "execution_count": 33
        }
      ]
    },
    {
      "cell_type": "code",
      "metadata": {
        "collapsed": true,
        "id": "FcxnxBWjQuHK"
      },
      "source": [
        "torch_to_numpy = torch_tensor.numpy()"
      ],
      "execution_count": null,
      "outputs": []
    },
    {
      "cell_type": "code",
      "metadata": {
        "colab": {
          "base_uri": "https://localhost:8080/"
        },
        "id": "2RQ0Kp21QuHK",
        "outputId": "ef9add9f-de95-44a2-e519-7f38aa1cb3a1"
      },
      "source": [
        "type(torch_to_numpy)"
      ],
      "execution_count": null,
      "outputs": [
        {
          "output_type": "execute_result",
          "data": {
            "text/plain": [
              "numpy.ndarray"
            ]
          },
          "metadata": {},
          "execution_count": 35
        }
      ]
    },
    {
      "cell_type": "markdown",
      "metadata": {
        "id": "bEpae1YtQuHL"
      },
      "source": [
        "### Tensors on CPU vs GPU"
      ]
    },
    {
      "cell_type": "code",
      "metadata": {
        "collapsed": true,
        "id": "nVyCB330QuHL"
      },
      "source": [
        "# CPU\n",
        "tensor_cpu = torch.ones(2, 2)"
      ],
      "execution_count": null,
      "outputs": []
    },
    {
      "cell_type": "code",
      "metadata": {
        "collapsed": true,
        "id": "epVgfEutQuHL"
      },
      "source": [
        "# CPU to GPU\n",
        "if torch.cuda.is_available():\n",
        "    tensor_cpu.cuda()"
      ],
      "execution_count": null,
      "outputs": []
    },
    {
      "cell_type": "code",
      "metadata": {
        "colab": {
          "base_uri": "https://localhost:8080/"
        },
        "id": "byqHU8s_QuHL",
        "outputId": "8a92dfe5-44b9-47e3-d64f-e66e98c34f78"
      },
      "source": [
        "# GPU to CPU\n",
        "tensor_cpu.cpu()"
      ],
      "execution_count": null,
      "outputs": [
        {
          "output_type": "execute_result",
          "data": {
            "text/plain": [
              "tensor([[1., 1.],\n",
              "        [1., 1.]])"
            ]
          },
          "metadata": {},
          "execution_count": 38
        }
      ]
    },
    {
      "cell_type": "markdown",
      "metadata": {
        "id": "QZokNZlDQuHL"
      },
      "source": [
        "### Tensor Operations"
      ]
    },
    {
      "cell_type": "markdown",
      "metadata": {
        "id": "p457ioFeQuHL"
      },
      "source": [
        "### Resizing Tensor"
      ]
    },
    {
      "cell_type": "code",
      "metadata": {
        "colab": {
          "base_uri": "https://localhost:8080/"
        },
        "id": "SJJ7I1hAQuHM",
        "outputId": "16f773f6-9e19-4536-a889-ac00ac1cbc65"
      },
      "source": [
        "a = torch.ones(2, 2)\n",
        "print(a)"
      ],
      "execution_count": null,
      "outputs": [
        {
          "output_type": "stream",
          "name": "stdout",
          "text": [
            "tensor([[1., 1.],\n",
            "        [1., 1.]])\n"
          ]
        }
      ]
    },
    {
      "cell_type": "code",
      "metadata": {
        "colab": {
          "base_uri": "https://localhost:8080/"
        },
        "id": "SLAWFqwLQuHM",
        "outputId": "fd7d9ded-758f-4880-dd1b-8001a16d25b7"
      },
      "source": [
        "print(a.size())"
      ],
      "execution_count": null,
      "outputs": [
        {
          "output_type": "stream",
          "name": "stdout",
          "text": [
            "torch.Size([2, 2])\n"
          ]
        }
      ]
    },
    {
      "cell_type": "code",
      "metadata": {
        "colab": {
          "base_uri": "https://localhost:8080/"
        },
        "id": "ht2RpKjiQuHM",
        "outputId": "7bd7fd23-ad6c-4a42-8ec4-5df3fa923099"
      },
      "source": [
        "a.view(4)"
      ],
      "execution_count": null,
      "outputs": [
        {
          "output_type": "execute_result",
          "data": {
            "text/plain": [
              "tensor([1., 1., 1., 1.])"
            ]
          },
          "metadata": {},
          "execution_count": 41
        }
      ]
    },
    {
      "cell_type": "code",
      "metadata": {
        "colab": {
          "base_uri": "https://localhost:8080/"
        },
        "id": "faAt-KSlQuHM",
        "outputId": "57a022c0-6173-45b3-bc7c-d9eff4cf0929"
      },
      "source": [
        "a.view(4).size()"
      ],
      "execution_count": null,
      "outputs": [
        {
          "output_type": "execute_result",
          "data": {
            "text/plain": [
              "torch.Size([4])"
            ]
          },
          "metadata": {},
          "execution_count": 42
        }
      ]
    },
    {
      "cell_type": "markdown",
      "metadata": {
        "id": "K_mqr1g8QuHM"
      },
      "source": [
        "### Element-wise Addition"
      ]
    },
    {
      "cell_type": "code",
      "metadata": {
        "colab": {
          "base_uri": "https://localhost:8080/"
        },
        "id": "YojP7wAfQuHM",
        "outputId": "0ebf5bf0-7bce-4014-a75d-a245278eab30"
      },
      "source": [
        "a = torch.ones(2, 2)\n",
        "print(a)"
      ],
      "execution_count": null,
      "outputs": [
        {
          "output_type": "stream",
          "name": "stdout",
          "text": [
            "tensor([[1., 1.],\n",
            "        [1., 1.]])\n"
          ]
        }
      ]
    },
    {
      "cell_type": "code",
      "metadata": {
        "colab": {
          "base_uri": "https://localhost:8080/"
        },
        "id": "WCaG9LFxQuHN",
        "outputId": "7f9006c1-4a49-4aa6-ef5b-c9f3d88b5815"
      },
      "source": [
        "b = torch.ones(2, 2)\n",
        "print(b)"
      ],
      "execution_count": null,
      "outputs": [
        {
          "output_type": "stream",
          "name": "stdout",
          "text": [
            "tensor([[1., 1.],\n",
            "        [1., 1.]])\n"
          ]
        }
      ]
    },
    {
      "cell_type": "code",
      "metadata": {
        "colab": {
          "base_uri": "https://localhost:8080/"
        },
        "id": "bMv_ggD_QuHN",
        "outputId": "e3a840de-585e-46b4-d6f2-b961a9ad63af"
      },
      "source": [
        "# Element-wise addition\n",
        "c = a + b\n",
        "print(c)"
      ],
      "execution_count": null,
      "outputs": [
        {
          "output_type": "stream",
          "name": "stdout",
          "text": [
            "tensor([[2., 2.],\n",
            "        [2., 2.]])\n"
          ]
        }
      ]
    },
    {
      "cell_type": "code",
      "metadata": {
        "colab": {
          "base_uri": "https://localhost:8080/"
        },
        "id": "0T8qOsPkQuHN",
        "outputId": "30889f5e-bd93-4f26-c888-6ea5acfb81f7"
      },
      "source": [
        "# Element-wise addition\n",
        "c = torch.add(a, b)\n",
        "print(c)"
      ],
      "execution_count": null,
      "outputs": [
        {
          "output_type": "stream",
          "name": "stdout",
          "text": [
            "tensor([[2., 2.],\n",
            "        [2., 2.]])\n"
          ]
        }
      ]
    },
    {
      "cell_type": "code",
      "metadata": {
        "colab": {
          "base_uri": "https://localhost:8080/"
        },
        "id": "KfHlUuVrQuHN",
        "outputId": "553722fa-4012-4a9b-be22-3f39b635656b"
      },
      "source": [
        "# In-place addition\n",
        "print('Old c tensor')\n",
        "print(c)\n",
        "\n",
        "c.add_(a)\n",
        "\n",
        "print('-'*60)\n",
        "print('New c tensor')\n",
        "print(c)"
      ],
      "execution_count": null,
      "outputs": [
        {
          "output_type": "stream",
          "name": "stdout",
          "text": [
            "Old c tensor\n",
            "tensor([[2., 2.],\n",
            "        [2., 2.]])\n",
            "------------------------------------------------------------\n",
            "New c tensor\n",
            "tensor([[3., 3.],\n",
            "        [3., 3.]])\n"
          ]
        }
      ]
    },
    {
      "cell_type": "markdown",
      "metadata": {
        "id": "OCo_yLMeQuHN"
      },
      "source": [
        "### Element-wise Subtraction"
      ]
    },
    {
      "cell_type": "code",
      "metadata": {
        "colab": {
          "base_uri": "https://localhost:8080/"
        },
        "id": "sQYRtezrQuHN",
        "outputId": "185a4848-2455-4df3-818a-26567fa94c9c"
      },
      "source": [
        "print(a)\n",
        "print(b)"
      ],
      "execution_count": null,
      "outputs": [
        {
          "output_type": "stream",
          "name": "stdout",
          "text": [
            "tensor([[1., 1.],\n",
            "        [1., 1.]])\n",
            "tensor([[1., 1.],\n",
            "        [1., 1.]])\n"
          ]
        }
      ]
    },
    {
      "cell_type": "code",
      "metadata": {
        "colab": {
          "base_uri": "https://localhost:8080/"
        },
        "id": "Owdrz60zQuHN",
        "outputId": "a47104d1-4235-4048-f21a-4bb7aca2c420"
      },
      "source": [
        "a - b"
      ],
      "execution_count": null,
      "outputs": [
        {
          "output_type": "execute_result",
          "data": {
            "text/plain": [
              "tensor([[0., 0.],\n",
              "        [0., 0.]])"
            ]
          },
          "metadata": {},
          "execution_count": 49
        }
      ]
    },
    {
      "cell_type": "code",
      "metadata": {
        "colab": {
          "base_uri": "https://localhost:8080/"
        },
        "id": "vF49Od6ZQuHO",
        "outputId": "c945631b-7ec6-4e33-a7de-c03bdb3a41be"
      },
      "source": [
        "# Not in-place\n",
        "print(a.sub(b))\n",
        "print(a)"
      ],
      "execution_count": null,
      "outputs": [
        {
          "output_type": "stream",
          "name": "stdout",
          "text": [
            "tensor([[0., 0.],\n",
            "        [0., 0.]])\n",
            "tensor([[1., 1.],\n",
            "        [1., 1.]])\n"
          ]
        }
      ]
    },
    {
      "cell_type": "code",
      "metadata": {
        "colab": {
          "base_uri": "https://localhost:8080/"
        },
        "id": "RAl6pyOgQuHO",
        "outputId": "446f177d-eae5-46a5-b3db-2ff45b5f6e43"
      },
      "source": [
        "# Inplace\n",
        "print(a.sub_(b))\n",
        "print(a)"
      ],
      "execution_count": null,
      "outputs": [
        {
          "output_type": "stream",
          "name": "stdout",
          "text": [
            "tensor([[0., 0.],\n",
            "        [0., 0.]])\n",
            "tensor([[0., 0.],\n",
            "        [0., 0.]])\n"
          ]
        }
      ]
    },
    {
      "cell_type": "markdown",
      "metadata": {
        "id": "ItnoiejzQuHO"
      },
      "source": [
        "### Element-Wise Multiplication"
      ]
    },
    {
      "cell_type": "code",
      "metadata": {
        "colab": {
          "base_uri": "https://localhost:8080/"
        },
        "id": "upeAvORzQuHO",
        "outputId": "b6ac8a91-d543-48e0-9931-fdbcb6093833"
      },
      "source": [
        "a = torch.ones(2, 2)\n",
        "print(a)\n",
        "b = torch.zeros(2, 2)\n",
        "print(b)"
      ],
      "execution_count": null,
      "outputs": [
        {
          "output_type": "stream",
          "name": "stdout",
          "text": [
            "tensor([[1., 1.],\n",
            "        [1., 1.]])\n",
            "tensor([[0., 0.],\n",
            "        [0., 0.]])\n"
          ]
        }
      ]
    },
    {
      "cell_type": "code",
      "metadata": {
        "colab": {
          "base_uri": "https://localhost:8080/"
        },
        "id": "hI6RO0tSQuHO",
        "outputId": "baaf73cf-5dc6-4e25-9b2c-658688395d2e"
      },
      "source": [
        "a * b"
      ],
      "execution_count": null,
      "outputs": [
        {
          "output_type": "execute_result",
          "data": {
            "text/plain": [
              "tensor([[0., 0.],\n",
              "        [0., 0.]])"
            ]
          },
          "metadata": {},
          "execution_count": 53
        }
      ]
    },
    {
      "cell_type": "code",
      "metadata": {
        "colab": {
          "base_uri": "https://localhost:8080/"
        },
        "id": "J7f9zFiIQuHO",
        "outputId": "51d402ed-5368-4767-d799-80850c84acd1"
      },
      "source": [
        "# Not in-place\n",
        "print(torch.mul(a, b))\n",
        "print(a)"
      ],
      "execution_count": null,
      "outputs": [
        {
          "output_type": "stream",
          "name": "stdout",
          "text": [
            "tensor([[0., 0.],\n",
            "        [0., 0.]])\n",
            "tensor([[1., 1.],\n",
            "        [1., 1.]])\n"
          ]
        }
      ]
    },
    {
      "cell_type": "code",
      "metadata": {
        "colab": {
          "base_uri": "https://localhost:8080/"
        },
        "id": "CsSp0w4QQuHP",
        "outputId": "3d81c4fc-6d68-4dd2-8318-234dcdad2293"
      },
      "source": [
        "# In-place\n",
        "print(a.mul_(b))\n",
        "print(a)"
      ],
      "execution_count": null,
      "outputs": [
        {
          "output_type": "stream",
          "name": "stdout",
          "text": [
            "tensor([[0., 0.],\n",
            "        [0., 0.]])\n",
            "tensor([[0., 0.],\n",
            "        [0., 0.]])\n"
          ]
        }
      ]
    },
    {
      "cell_type": "markdown",
      "metadata": {
        "id": "n2FBQdahQuHP"
      },
      "source": [
        "### Element-Wise Division"
      ]
    },
    {
      "cell_type": "code",
      "metadata": {
        "id": "rf0rrk7LQuHP"
      },
      "source": [
        "a = torch.ones(2, 2)\n",
        "b = torch.zeros(2, 2)"
      ],
      "execution_count": null,
      "outputs": []
    },
    {
      "cell_type": "code",
      "metadata": {
        "colab": {
          "base_uri": "https://localhost:8080/"
        },
        "id": "nOsqUcicQuHP",
        "outputId": "5bb957b1-0f29-4a3c-dd7a-d4f04af1c677"
      },
      "source": [
        "b / a"
      ],
      "execution_count": null,
      "outputs": [
        {
          "output_type": "execute_result",
          "data": {
            "text/plain": [
              "tensor([[0., 0.],\n",
              "        [0., 0.]])"
            ]
          },
          "metadata": {},
          "execution_count": 57
        }
      ]
    },
    {
      "cell_type": "code",
      "metadata": {
        "colab": {
          "base_uri": "https://localhost:8080/"
        },
        "id": "uaSupxepQuHP",
        "outputId": "2f83c213-d88e-48d9-bbbb-950986eb767a"
      },
      "source": [
        "torch.div(b, a)"
      ],
      "execution_count": null,
      "outputs": [
        {
          "output_type": "execute_result",
          "data": {
            "text/plain": [
              "tensor([[0., 0.],\n",
              "        [0., 0.]])"
            ]
          },
          "metadata": {},
          "execution_count": 58
        }
      ]
    },
    {
      "cell_type": "code",
      "metadata": {
        "colab": {
          "base_uri": "https://localhost:8080/"
        },
        "id": "vkFNucEsQuHP",
        "outputId": "d21abdf4-5a32-48bb-abfc-01cf0f274b25"
      },
      "source": [
        "# Inplace\n",
        "b.div_(a)"
      ],
      "execution_count": null,
      "outputs": [
        {
          "output_type": "execute_result",
          "data": {
            "text/plain": [
              "tensor([[0., 0.],\n",
              "        [0., 0.]])"
            ]
          },
          "metadata": {},
          "execution_count": 59
        }
      ]
    },
    {
      "cell_type": "markdown",
      "metadata": {
        "id": "LaRbqKzlQuHQ"
      },
      "source": [
        "### Tensor Mean"
      ]
    },
    {
      "cell_type": "markdown",
      "metadata": {
        "id": "9Goc4b0KQuHQ"
      },
      "source": [
        "- $1 + 2 + 3 + 4 + 5 + 6 + 7 + 8 + 9 + 10 = 55$\n",
        "- $mean = 55 /10 = 5.5$\n"
      ]
    },
    {
      "cell_type": "code",
      "metadata": {
        "colab": {
          "base_uri": "https://localhost:8080/"
        },
        "id": "95LQHPCkQuHQ",
        "outputId": "bb93bd41-5e39-4797-f96d-0217f61feca4"
      },
      "source": [
        "a = torch.Tensor([1, 2, 3, 4, 5, 6, 7, 8, 9, 10])\n",
        "a.size()"
      ],
      "execution_count": null,
      "outputs": [
        {
          "output_type": "execute_result",
          "data": {
            "text/plain": [
              "torch.Size([10])"
            ]
          },
          "metadata": {},
          "execution_count": 60
        }
      ]
    },
    {
      "cell_type": "code",
      "metadata": {
        "colab": {
          "base_uri": "https://localhost:8080/"
        },
        "id": "q1eq8_buQuHQ",
        "outputId": "ecec7975-9c23-4513-b748-27c5da426b59"
      },
      "source": [
        "a.mean(dim=0)"
      ],
      "execution_count": null,
      "outputs": [
        {
          "output_type": "execute_result",
          "data": {
            "text/plain": [
              "tensor(5.5000)"
            ]
          },
          "metadata": {},
          "execution_count": 61
        }
      ]
    },
    {
      "cell_type": "code",
      "metadata": {
        "collapsed": true,
        "id": "EuheFx9HQuHQ"
      },
      "source": [
        "a = torch.Tensor([[1, 2, 3, 4, 5, 6, 7, 8, 9, 10], [1, 2, 3, 4, 5, 6, 7, 8, 9, 10]])"
      ],
      "execution_count": null,
      "outputs": []
    },
    {
      "cell_type": "code",
      "metadata": {
        "colab": {
          "base_uri": "https://localhost:8080/"
        },
        "id": "mxO3I1dPQuHR",
        "outputId": "40dc6859-307f-4af6-e1b5-f658b439e474"
      },
      "source": [
        "a.size()"
      ],
      "execution_count": null,
      "outputs": [
        {
          "output_type": "execute_result",
          "data": {
            "text/plain": [
              "torch.Size([2, 10])"
            ]
          },
          "metadata": {},
          "execution_count": 63
        }
      ]
    },
    {
      "cell_type": "code",
      "metadata": {
        "colab": {
          "base_uri": "https://localhost:8080/"
        },
        "id": "Rsn9aBljQuHR",
        "outputId": "9abcdd42-3bf1-44ed-b7f3-367fbb0eb9d3"
      },
      "source": [
        "a.mean(dim=1)"
      ],
      "execution_count": null,
      "outputs": [
        {
          "output_type": "execute_result",
          "data": {
            "text/plain": [
              "tensor([5.5000, 5.5000])"
            ]
          },
          "metadata": {},
          "execution_count": 64
        }
      ]
    },
    {
      "cell_type": "markdown",
      "metadata": {
        "id": "mT5XVqzUQuHR"
      },
      "source": [
        "## Tensor Standard Deviation"
      ]
    },
    {
      "cell_type": "code",
      "metadata": {
        "colab": {
          "base_uri": "https://localhost:8080/"
        },
        "id": "lBpZJPxBQuHR",
        "outputId": "4240b098-1880-44d2-b522-63b03c2dd6a5"
      },
      "source": [
        "a = torch.Tensor([1, 2, 3, 4, 5, 6, 7, 8, 9, 10])\n",
        "a.std(dim=0)"
      ],
      "execution_count": null,
      "outputs": [
        {
          "output_type": "execute_result",
          "data": {
            "text/plain": [
              "tensor(3.0277)"
            ]
          },
          "metadata": {},
          "execution_count": 65
        }
      ]
    },
    {
      "cell_type": "markdown",
      "metadata": {
        "id": "TEnFtYNbk5XR"
      },
      "source": [
        "## Tensors with Gradients"
      ]
    },
    {
      "cell_type": "markdown",
      "metadata": {
        "id": "UFnW6eXtk_Ue"
      },
      "source": [
        "### Creating Tensor with Gradients\n",
        "- A Variable wraps a Tensor\n",
        "- Allows accumulation of gradients"
      ]
    },
    {
      "cell_type": "code",
      "metadata": {
        "colab": {
          "base_uri": "https://localhost:8080/"
        },
        "id": "q3cs66aNkLDF",
        "outputId": "b5d62fa5-c916-4c45-d09f-b96878baaa4b"
      },
      "source": [
        "a = torch.ones((2, 2), requires_grad=True)\n",
        "a"
      ],
      "execution_count": null,
      "outputs": [
        {
          "output_type": "execute_result",
          "data": {
            "text/plain": [
              "tensor([[1., 1.],\n",
              "        [1., 1.]], requires_grad=True)"
            ]
          },
          "metadata": {},
          "execution_count": 66
        }
      ]
    },
    {
      "cell_type": "code",
      "metadata": {
        "colab": {
          "base_uri": "https://localhost:8080/"
        },
        "id": "w52uUPyDlRHH",
        "outputId": "5de4b739-e2e2-4e7e-fe20-eadb1de3b239"
      },
      "source": [
        "a.requires_grad"
      ],
      "execution_count": null,
      "outputs": [
        {
          "output_type": "execute_result",
          "data": {
            "text/plain": [
              "True"
            ]
          },
          "metadata": {},
          "execution_count": 67
        }
      ]
    },
    {
      "cell_type": "code",
      "metadata": {
        "colab": {
          "base_uri": "https://localhost:8080/"
        },
        "id": "doKAleSqlVIk",
        "outputId": "7bcf7368-11df-4163-bf68-3bc8ac8e5864"
      },
      "source": [
        "# Behaves similarly to tensors\n",
        "b = torch.ones((2, 2), requires_grad=True)\n",
        "print(a + b)\n",
        "print(torch.add(a, b))"
      ],
      "execution_count": null,
      "outputs": [
        {
          "output_type": "stream",
          "name": "stdout",
          "text": [
            "tensor([[2., 2.],\n",
            "        [2., 2.]], grad_fn=<AddBackward0>)\n",
            "tensor([[2., 2.],\n",
            "        [2., 2.]], grad_fn=<AddBackward0>)\n"
          ]
        }
      ]
    },
    {
      "cell_type": "code",
      "metadata": {
        "colab": {
          "base_uri": "https://localhost:8080/"
        },
        "id": "7TKF2OZrmBp5",
        "outputId": "a202bc29-c2a7-412e-c420-46e2ba1808d4"
      },
      "source": [
        "print(a * b)\n",
        "print(torch.mul(a, b))"
      ],
      "execution_count": null,
      "outputs": [
        {
          "output_type": "stream",
          "name": "stdout",
          "text": [
            "tensor([[1., 1.],\n",
            "        [1., 1.]], grad_fn=<MulBackward0>)\n",
            "tensor([[1., 1.],\n",
            "        [1., 1.]], grad_fn=<MulBackward0>)\n"
          ]
        }
      ]
    },
    {
      "cell_type": "markdown",
      "metadata": {
        "id": "4LdLdlBXmaE7"
      },
      "source": [
        "**What exactly is `requires_grad`?**\n",
        "- Allows calculation of gradients w.r.t. the variable"
      ]
    },
    {
      "cell_type": "markdown",
      "metadata": {
        "id": "mYYFt0xCmbTn"
      },
      "source": [
        "$$y_i = 5(x_i+1)^2$$"
      ]
    },
    {
      "cell_type": "code",
      "metadata": {
        "colab": {
          "base_uri": "https://localhost:8080/"
        },
        "id": "CBdDQyDhmGw1",
        "outputId": "93d8d496-d2ec-49df-b9f0-39fa1a564363"
      },
      "source": [
        "x = torch.ones(2, requires_grad=True)\n",
        "x"
      ],
      "execution_count": null,
      "outputs": [
        {
          "output_type": "execute_result",
          "data": {
            "text/plain": [
              "tensor([1., 1.], requires_grad=True)"
            ]
          },
          "metadata": {},
          "execution_count": 70
        }
      ]
    },
    {
      "cell_type": "markdown",
      "metadata": {
        "id": "dy638zESnDZK"
      },
      "source": [
        "$$y_i\\bigr\\rvert_{x_i=1} = 5(1 + 1)^2 = 5(2)^2 = 5(4) = 20$$"
      ]
    },
    {
      "cell_type": "code",
      "metadata": {
        "colab": {
          "base_uri": "https://localhost:8080/"
        },
        "id": "XDC-sSk0mXHT",
        "outputId": "11e3fbf5-4fcb-4a7f-b37c-6bea605c1d27"
      },
      "source": [
        "y = 5 * (x + 1) ** 2\n",
        "y"
      ],
      "execution_count": null,
      "outputs": [
        {
          "output_type": "execute_result",
          "data": {
            "text/plain": [
              "tensor([20., 20.], grad_fn=<MulBackward0>)"
            ]
          },
          "metadata": {},
          "execution_count": 71
        }
      ]
    },
    {
      "cell_type": "markdown",
      "metadata": {
        "id": "om_zyldPnOEc"
      },
      "source": [
        "** Since backward should be called only on a scalar (i.e. 1-element tensor) or with gradient w.r.t. the variable**\n",
        "- Let's reduce y to a scalar then..."
      ]
    },
    {
      "cell_type": "markdown",
      "metadata": {
        "id": "2JT7_4fTnWX-"
      },
      "source": [
        "$$o = \\frac{1}{2}\\sum_i y_i$$"
      ]
    },
    {
      "cell_type": "code",
      "metadata": {
        "colab": {
          "base_uri": "https://localhost:8080/"
        },
        "id": "Bqdfcr04nIE5",
        "outputId": "0becefae-3de4-4aac-8cec-f7d1e6d97491"
      },
      "source": [
        "o = (1/2) * torch.sum(y)\n",
        "o"
      ],
      "execution_count": null,
      "outputs": [
        {
          "output_type": "execute_result",
          "data": {
            "text/plain": [
              "tensor(20., grad_fn=<MulBackward0>)"
            ]
          },
          "metadata": {},
          "execution_count": 72
        }
      ]
    },
    {
      "cell_type": "markdown",
      "metadata": {
        "id": "eGL_A60Bnirc"
      },
      "source": [
        "<center> **Substitute `y` into `o` equation**: $o = \\frac{1}{2} \\sum_i 5(x_i+1)^2$ </center>"
      ]
    },
    {
      "cell_type": "markdown",
      "metadata": {
        "id": "cH5tmckwnmIS"
      },
      "source": [
        "$$\\frac{\\partial o}{\\partial x_i} = \\frac{1}{2}[10(x_i+1)]$$"
      ]
    },
    {
      "cell_type": "markdown",
      "metadata": {
        "id": "84NiK-WPnr_U"
      },
      "source": [
        "$$\\frac{\\partial o}{\\partial x_i}\\bigr\\rvert_{x_i=1} = \\frac{1}{2}[10(1 + 1)] = \\frac{10}{2}(2) = 10$$"
      ]
    },
    {
      "cell_type": "code",
      "metadata": {
        "id": "_iU3z9qOnaCu"
      },
      "source": [
        "o.backward()"
      ],
      "execution_count": null,
      "outputs": []
    },
    {
      "cell_type": "code",
      "metadata": {
        "colab": {
          "base_uri": "https://localhost:8080/"
        },
        "id": "UNhEW-EonvYx",
        "outputId": "7700dce8-bd20-4abe-97a6-b2e02ab69176"
      },
      "source": [
        "x.grad"
      ],
      "execution_count": null,
      "outputs": [
        {
          "output_type": "execute_result",
          "data": {
            "text/plain": [
              "tensor([10., 10.])"
            ]
          },
          "metadata": {},
          "execution_count": 74
        }
      ]
    },
    {
      "cell_type": "markdown",
      "metadata": {
        "id": "vw46KDSsqUKN"
      },
      "source": [
        "## About Linear Regression"
      ]
    },
    {
      "cell_type": "markdown",
      "metadata": {
        "id": "-GPLtHS3p-qL"
      },
      "source": [
        "### Example of simple linear regression in Numpy"
      ]
    },
    {
      "cell_type": "code",
      "metadata": {
        "colab": {
          "base_uri": "https://localhost:8080/",
          "height": 265
        },
        "id": "q2hFU4NonyM3",
        "outputId": "c76bee49-9767-4d70-fb83-5277c952aa5e"
      },
      "source": [
        "import numpy as np\n",
        "import matplotlib.pyplot as plt\n",
        "%matplotlib inline\n",
        "\n",
        "np.random.seed(3)\n",
        "n = 50\n",
        "x = np.random.randn(n)\n",
        "y = x * np.random.randn(n)\n",
        "\n",
        "colors = np.random.rand(n)\n",
        "plt.plot(np.unique(x), np.poly1d(np.polyfit(x, y, 1))(np.unique(x)))\n",
        "\n",
        "plt.scatter(x, y, c=colors, alpha=0.5)\n",
        "plt.show()"
      ],
      "execution_count": null,
      "outputs": [
        {
          "output_type": "display_data",
          "data": {
            "image/png": "[encoded data removed]",
            "text/plain": [
              "<Figure size 432x288 with 1 Axes>"
            ]
          },
          "metadata": {
            "needs_background": "light"
          }
        }
      ]
    },
    {
      "cell_type": "markdown",
      "metadata": {
        "id": "f7cWWbBgqMaK"
      },
      "source": [
        "### Aim of Linear Regression\n",
        "- Minimize the distance between the points and the line ($y = \\alpha x + \\beta$)\n",
        "- Adjusting\n",
        "    - Coefficient: $\\alpha$\n",
        "    - Bias/intercept: $\\beta$\n",
        "\n",
        "## Building a Linear Regression Model with PyTorch\n",
        "\n",
        "### Example\n",
        "- Coefficient: $\\alpha = 2$\n",
        "- Bias/intercept: $\\beta = 1$\n",
        "- Equation: $y = 2x + 1$\n"
      ]
    },
    {
      "cell_type": "markdown",
      "metadata": {
        "id": "1tB-i0gHqnue"
      },
      "source": [
        "### Building a Toy Dataset"
      ]
    },
    {
      "cell_type": "code",
      "metadata": {
        "colab": {
          "base_uri": "https://localhost:8080/"
        },
        "id": "MID3fg_jqHHq",
        "outputId": "57d62ca5-fb92-47b0-f792-61c628f988ed"
      },
      "source": [
        "x_values = [i for i in range(11)]\n",
        "x_values"
      ],
      "execution_count": null,
      "outputs": [
        {
          "output_type": "execute_result",
          "data": {
            "text/plain": [
              "[0, 1, 2, 3, 4, 5, 6, 7, 8, 9, 10]"
            ]
          },
          "metadata": {},
          "execution_count": 76
        }
      ]
    },
    {
      "cell_type": "code",
      "metadata": {
        "colab": {
          "base_uri": "https://localhost:8080/"
        },
        "id": "WQeN4Tm6qtLP",
        "outputId": "6847ba3a-1913-40c7-dfc6-6e4b82b3737a"
      },
      "source": [
        "# Convert to numpy\n",
        "x_train = np.array(x_values, dtype=np.float32)\n",
        "x_train.shape"
      ],
      "execution_count": null,
      "outputs": [
        {
          "output_type": "execute_result",
          "data": {
            "text/plain": [
              "(11,)"
            ]
          },
          "metadata": {},
          "execution_count": 77
        }
      ]
    },
    {
      "cell_type": "code",
      "metadata": {
        "colab": {
          "base_uri": "https://localhost:8080/"
        },
        "id": "xpwKjuQQqvgo",
        "outputId": "781651ec-6fcb-41b9-a978-980361e082f7"
      },
      "source": [
        "# IMPORTANT: 2D required\n",
        "x_train = x_train.reshape(-1, 1)\n",
        "x_train.shape"
      ],
      "execution_count": null,
      "outputs": [
        {
          "output_type": "execute_result",
          "data": {
            "text/plain": [
              "(11, 1)"
            ]
          },
          "metadata": {},
          "execution_count": 78
        }
      ]
    },
    {
      "cell_type": "code",
      "metadata": {
        "colab": {
          "base_uri": "https://localhost:8080/"
        },
        "id": "175AeQKhqyJA",
        "outputId": "d04f4fa5-b0ff-4763-ed98-7f2cf9443756"
      },
      "source": [
        "y_values = [2*i + 1 for i in x_values]\n",
        "y_values"
      ],
      "execution_count": null,
      "outputs": [
        {
          "output_type": "execute_result",
          "data": {
            "text/plain": [
              "[1, 3, 5, 7, 9, 11, 13, 15, 17, 19, 21]"
            ]
          },
          "metadata": {},
          "execution_count": 79
        }
      ]
    },
    {
      "cell_type": "code",
      "metadata": {
        "colab": {
          "base_uri": "https://localhost:8080/"
        },
        "id": "aiICNLm4q7Lt",
        "outputId": "bb91d2e3-5746-457d-d7fe-29fd8b29f864"
      },
      "source": [
        "y_train = np.array(y_values, dtype=np.float32).reshape(-1, 1)\n",
        "y_train.shape"
      ],
      "execution_count": null,
      "outputs": [
        {
          "output_type": "execute_result",
          "data": {
            "text/plain": [
              "(11, 1)"
            ]
          },
          "metadata": {},
          "execution_count": 80
        }
      ]
    },
    {
      "cell_type": "markdown",
      "metadata": {
        "id": "qXA2-F9BrSiv"
      },
      "source": [
        "### Building Model"
      ]
    },
    {
      "cell_type": "code",
      "metadata": {
        "id": "Yo6vaYd2rLW3"
      },
      "source": [
        "import torch\n",
        "import torch.nn as nn"
      ],
      "execution_count": null,
      "outputs": []
    },
    {
      "cell_type": "markdown",
      "metadata": {
        "id": "zMgtseWIr81O"
      },
      "source": [
        "**Create Model**\n",
        "1. Linear model\n",
        "    - True Equation: \n",
        "$y = 2x + 1$\n",
        "2. Forward\n",
        "    - Example\n",
        "        - Input: \n",
        "$x = 1$\n",
        "        - Output: $\\hat y = ?$\n",
        "    \n"
      ]
    },
    {
      "cell_type": "code",
      "metadata": {
        "id": "yUO53iPVr8S4"
      },
      "source": [
        "# Create class\n",
        "class LinearRegressionModel(nn.Module):\n",
        "    def __init__(self, input_dim, output_dim):\n",
        "        super(LinearRegressionModel, self).__init__()\n",
        "        self.linear = nn.Linear(input_dim, output_dim)  \n",
        "    \n",
        "    def forward(self, x):\n",
        "        out = self.linear(x)\n",
        "        return out"
      ],
      "execution_count": null,
      "outputs": []
    },
    {
      "cell_type": "markdown",
      "metadata": {
        "id": "rAplASofsJ4Q"
      },
      "source": [
        "**Instantiate Model Class**\n",
        "- input: [0, 1, 2, 3, 4, 5, 6, 7, 8, 9, 10]\n",
        "- desired output: [1, 3, 5, 7, 9, 11, 13, 15, 17, 19, 21]"
      ]
    },
    {
      "cell_type": "code",
      "metadata": {
        "id": "gebC2NuerXAk"
      },
      "source": [
        "input_dim = 1\n",
        "output_dim = 1\n",
        "\n",
        "model = LinearRegressionModel(input_dim, output_dim)"
      ],
      "execution_count": null,
      "outputs": []
    },
    {
      "cell_type": "markdown",
      "metadata": {
        "id": "DtDK-C9gsOMX"
      },
      "source": [
        "**Instantiate Loss Class**\n",
        "- MSE Loss: Mean Squared Error\n",
        "- $MSE = \\frac{1}{n} \\sum_{i=1}^n(\\hat y_i - y_i)$\n",
        "    - $\\hat y$: prediction\n",
        "    - $y$: true value"
      ]
    },
    {
      "cell_type": "code",
      "metadata": {
        "id": "jx_scCPksTah"
      },
      "source": [
        "criterion = nn.MSELoss()"
      ],
      "execution_count": null,
      "outputs": []
    },
    {
      "cell_type": "markdown",
      "metadata": {
        "id": "sDOBr-E2sR3U"
      },
      "source": [
        "**Instantiate Optimizer Class**\n",
        "- Simplified equation\n",
        " - $\\theta = \\theta - \\eta \\cdot \\nabla_\\theta $\n",
        "    - $\\theta$: parameters (our variables)\n",
        "    - $\\eta$: learning rate (how fast we want to learn)\n",
        "    - $\\nabla_\\theta$: parameters' gradients\n",
        "- Even simplier equation\n",
        "    - `parameters = parameters - learning_rate * parameters_gradients`\n",
        "        - parameters: $\\alpha$ and $\\beta$ in $ y = \\alpha x + \\beta$\n",
        "        - desired parameters: $\\alpha = 2$ and $\\beta = 1$ in $ y = 2x + 1$"
      ]
    },
    {
      "cell_type": "code",
      "metadata": {
        "id": "Y43_RAgTsL81"
      },
      "source": [
        "learning_rate = 0.01\n",
        "\n",
        "optimizer = torch.optim.SGD(model.parameters(), lr=learning_rate)"
      ],
      "execution_count": null,
      "outputs": []
    },
    {
      "cell_type": "markdown",
      "metadata": {
        "id": "KFdxl4WOsevv"
      },
      "source": [
        "**Train Model**\n",
        "- 1 epoch: going through the whole x_train data once\n",
        "    - 100 epochs: \n",
        "        - 100x mapping `x_train = [0, 1, 2, 3, 4, 5, 6, 7, 8, 9, 10]`\n",
        "        \n",
        "- Process \n",
        "    1. Convert inputs/labels to tensors with gradients\n",
        "    2. Clear gradient buffets\n",
        "    3. Get output given inputs \n",
        "    4. Get loss\n",
        "    5. Get gradients w.r.t. parameters\n",
        "    6. Update parameters using gradients\n",
        "        - `parameters = parameters - learning_rate * parameters_gradients`\n",
        "    7. REPEAT"
      ]
    },
    {
      "cell_type": "code",
      "metadata": {
        "id": "SlXH92Xssdn6"
      },
      "source": [
        "epochs = 100"
      ],
      "execution_count": null,
      "outputs": []
    },
    {
      "cell_type": "code",
      "metadata": {
        "colab": {
          "base_uri": "https://localhost:8080/"
        },
        "id": "dsyGSNxzsiEf",
        "outputId": "03d401fd-7a6b-4bd9-aa35-1f86f396c186"
      },
      "source": [
        "for epoch in range(epochs):\n",
        "    epoch += 1\n",
        "    # Convert numpy array to torch Variable\n",
        "    inputs = torch.from_numpy(x_train).requires_grad_()\n",
        "    labels = torch.from_numpy(y_train)\n",
        "\n",
        "    # Clear gradients w.r.t. parameters\n",
        "    optimizer.zero_grad() \n",
        "    \n",
        "    # Forward to get output\n",
        "    outputs = model(inputs)\n",
        "    \n",
        "    # Calculate Loss\n",
        "    loss = criterion(outputs, labels)\n",
        "    \n",
        "    # Getting gradients w.r.t. parameters\n",
        "    loss.backward()\n",
        "    \n",
        "    # Updating parameters\n",
        "    optimizer.step()\n",
        "    \n",
        "    print('epoch {}, loss {}'.format(epoch, loss.item()))"
      ],
      "execution_count": null,
      "outputs": [
        {
          "output_type": "stream",
          "name": "stdout",
          "text": [
            "epoch 1, loss 357.5823669433594\n",
            "epoch 2, loss 29.547426223754883\n",
            "epoch 3, loss 2.7864038944244385\n",
            "epoch 4, loss 0.5993886590003967\n",
            "epoch 5, loss 0.41684600710868835\n",
            "epoch 6, loss 0.3978476822376251\n",
            "epoch 7, loss 0.39223507046699524\n",
            "epoch 8, loss 0.3877596855163574\n",
            "epoch 9, loss 0.383421927690506\n",
            "epoch 10, loss 0.3791397213935852\n",
            "epoch 11, loss 0.3749057948589325\n",
            "epoch 12, loss 0.3707192540168762\n",
            "epoch 13, loss 0.36657941341400146\n",
            "epoch 14, loss 0.3624858558177948\n",
            "epoch 15, loss 0.35843804478645325\n",
            "epoch 16, loss 0.354435533285141\n",
            "epoch 17, loss 0.35047754645347595\n",
            "epoch 18, loss 0.34656375646591187\n",
            "epoch 19, loss 0.3426936864852905\n",
            "epoch 20, loss 0.3388670086860657\n",
            "epoch 21, loss 0.33508288860321045\n",
            "epoch 22, loss 0.33134105801582336\n",
            "epoch 23, loss 0.3276410698890686\n",
            "epoch 24, loss 0.3239820599555969\n",
            "epoch 25, loss 0.32036441564559937\n",
            "epoch 26, loss 0.3167869448661804\n",
            "epoch 27, loss 0.31324946880340576\n",
            "epoch 28, loss 0.30975136160850525\n",
            "epoch 29, loss 0.30629250407218933\n",
            "epoch 30, loss 0.3028722107410431\n",
            "epoch 31, loss 0.2994900643825531\n",
            "epoch 32, loss 0.29614564776420593\n",
            "epoch 33, loss 0.29283884167671204\n",
            "epoch 34, loss 0.28956839442253113\n",
            "epoch 35, loss 0.2863348126411438\n",
            "epoch 36, loss 0.28313761949539185\n",
            "epoch 37, loss 0.2799757421016693\n",
            "epoch 38, loss 0.2768493890762329\n",
            "epoch 39, loss 0.2737579047679901\n",
            "epoch 40, loss 0.27070075273513794\n",
            "epoch 41, loss 0.2676776647567749\n",
            "epoch 42, loss 0.2646889090538025\n",
            "epoch 43, loss 0.2617330253124237\n",
            "epoch 44, loss 0.2588104009628296\n",
            "epoch 45, loss 0.2559202313423157\n",
            "epoch 46, loss 0.2530624568462372\n",
            "epoch 47, loss 0.2502364218235016\n",
            "epoch 48, loss 0.24744205176830292\n",
            "epoch 49, loss 0.24467897415161133\n",
            "epoch 50, loss 0.24194659292697906\n",
            "epoch 51, loss 0.23924511671066284\n",
            "epoch 52, loss 0.23657351732254028\n",
            "epoch 53, loss 0.2339317947626114\n",
            "epoch 54, loss 0.23131944239139557\n",
            "epoch 55, loss 0.2287362664937973\n",
            "epoch 56, loss 0.2261819839477539\n",
            "epoch 57, loss 0.22365635633468628\n",
            "epoch 58, loss 0.2211587280035019\n",
            "epoch 59, loss 0.2186889499425888\n",
            "epoch 60, loss 0.2162468284368515\n",
            "epoch 61, loss 0.21383200585842133\n",
            "epoch 62, loss 0.2114441841840744\n",
            "epoch 63, loss 0.20908299088478088\n",
            "epoch 64, loss 0.20674820244312286\n",
            "epoch 65, loss 0.20443958044052124\n",
            "epoch 66, loss 0.2021564543247223\n",
            "epoch 67, loss 0.1998991072177887\n",
            "epoch 68, loss 0.19766712188720703\n",
            "epoch 69, loss 0.19545964896678925\n",
            "epoch 70, loss 0.19327698647975922\n",
            "epoch 71, loss 0.19111865758895874\n",
            "epoch 72, loss 0.1889844536781311\n",
            "epoch 73, loss 0.1868741363286972\n",
            "epoch 74, loss 0.18478737771511078\n",
            "epoch 75, loss 0.18272404372692108\n",
            "epoch 76, loss 0.180683434009552\n",
            "epoch 77, loss 0.17866568267345428\n",
            "epoch 78, loss 0.17667049169540405\n",
            "epoch 79, loss 0.1746978908777237\n",
            "epoch 80, loss 0.17274698615074158\n",
            "epoch 81, loss 0.17081791162490845\n",
            "epoch 82, loss 0.1689104437828064\n",
            "epoch 83, loss 0.16702432930469513\n",
            "epoch 84, loss 0.16515903174877167\n",
            "epoch 85, loss 0.16331475973129272\n",
            "epoch 86, loss 0.1614910513162613\n",
            "epoch 87, loss 0.1596878319978714\n",
            "epoch 88, loss 0.1579045057296753\n",
            "epoch 89, loss 0.15614105761051178\n",
            "epoch 90, loss 0.1543974131345749\n",
            "epoch 91, loss 0.15267343819141388\n",
            "epoch 92, loss 0.150968536734581\n",
            "epoch 93, loss 0.1492825150489807\n",
            "epoch 94, loss 0.14761564135551453\n",
            "epoch 95, loss 0.14596736431121826\n",
            "epoch 96, loss 0.14433728158473969\n",
            "epoch 97, loss 0.14272525906562805\n",
            "epoch 98, loss 0.1411316990852356\n",
            "epoch 99, loss 0.13955570757389069\n",
            "epoch 100, loss 0.13799721002578735\n"
          ]
        }
      ]
    },
    {
      "cell_type": "markdown",
      "metadata": {
        "id": "EAK-0faOsrcn"
      },
      "source": [
        "**Compare Data**"
      ]
    },
    {
      "cell_type": "code",
      "metadata": {
        "colab": {
          "base_uri": "https://localhost:8080/"
        },
        "id": "yL6KNzGVskXJ",
        "outputId": "7a5ac828-ed3c-4217-f391-7907758afe9c"
      },
      "source": [
        "# Purely inference\n",
        "predicted = model(torch.from_numpy(x_train).requires_grad_()).data.numpy()\n",
        "predicted"
      ],
      "execution_count": null,
      "outputs": [
        {
          "output_type": "execute_result",
          "data": {
            "text/plain": [
              "array([[ 0.3089722],\n",
              "       [ 2.4084864],\n",
              "       [ 4.508001 ],\n",
              "       [ 6.6075153],\n",
              "       [ 8.707029 ],\n",
              "       [10.806543 ],\n",
              "       [12.906058 ],\n",
              "       [15.005572 ],\n",
              "       [17.105085 ],\n",
              "       [19.2046   ],\n",
              "       [21.304113 ]], dtype=float32)"
            ]
          },
          "metadata": {},
          "execution_count": 88
        }
      ]
    },
    {
      "cell_type": "code",
      "metadata": {
        "colab": {
          "base_uri": "https://localhost:8080/"
        },
        "id": "Z23TBZIlsuF_",
        "outputId": "64c33904-70e7-4e1b-cf0e-eaf7727c36e7"
      },
      "source": [
        "# y = 2x + 1 \n",
        "y_train"
      ],
      "execution_count": null,
      "outputs": [
        {
          "output_type": "execute_result",
          "data": {
            "text/plain": [
              "array([[ 1.],\n",
              "       [ 3.],\n",
              "       [ 5.],\n",
              "       [ 7.],\n",
              "       [ 9.],\n",
              "       [11.],\n",
              "       [13.],\n",
              "       [15.],\n",
              "       [17.],\n",
              "       [19.],\n",
              "       [21.]], dtype=float32)"
            ]
          },
          "metadata": {},
          "execution_count": 89
        }
      ]
    },
    {
      "cell_type": "markdown",
      "metadata": {
        "id": "QHe1VyP2s1Yf"
      },
      "source": [
        "**Plot Graph**"
      ]
    },
    {
      "cell_type": "code",
      "metadata": {
        "colab": {
          "base_uri": "https://localhost:8080/",
          "height": 265
        },
        "id": "weJh1eqqswVj",
        "outputId": "eb1d40d6-d006-4f62-c6ca-e6cd00220b8a"
      },
      "source": [
        "# Clear figure\n",
        "plt.clf()\n",
        "\n",
        "# Get predictions\n",
        "predicted = model(torch.from_numpy(x_train).requires_grad_()).data.numpy()\n",
        "\n",
        "# Plot true data\n",
        "plt.plot(x_train, y_train, 'go', label='True data', alpha=0.5)\n",
        "\n",
        "# Plot predictions\n",
        "plt.plot(x_train, predicted, '--', label='Predictions', alpha=0.5)\n",
        "\n",
        "# Legend and plot\n",
        "plt.legend(loc='best')\n",
        "plt.show()"
      ],
      "execution_count": null,
      "outputs": [
        {
          "output_type": "display_data",
          "data": {
            "image/png": "[encoded data removed]",
            "text/plain": [
              "<Figure size 432x288 with 1 Axes>"
            ]
          },
          "metadata": {
            "needs_background": "light"
          }
        }
      ]
    },
    {
      "cell_type": "markdown",
      "metadata": {
        "id": "7947JI6os8gO"
      },
      "source": [
        "**Save Model**"
      ]
    },
    {
      "cell_type": "code",
      "metadata": {
        "id": "PrxLhXgls3bF"
      },
      "source": [
        "save_model = False\n",
        "if save_model is True:\n",
        "    # Saves only parameters\n",
        "    # alpha & beta\n",
        "    torch.save(model.state_dict(), 'linear_regression_model.pkl')"
      ],
      "execution_count": null,
      "outputs": []
    },
    {
      "cell_type": "markdown",
      "metadata": {
        "id": "xMHGB7CvtEem"
      },
      "source": [
        "**Load Model**"
      ]
    },
    {
      "cell_type": "code",
      "metadata": {
        "id": "qJC5377YtB3D"
      },
      "source": [
        "load_model = False\n",
        "if load_model is True:\n",
        "    model.load_state_dict(torch.load('awesome_model.pkl'))"
      ],
      "execution_count": null,
      "outputs": []
    },
    {
      "cell_type": "markdown",
      "metadata": {
        "id": "9itUoz0NtnPe"
      },
      "source": [
        "### Use GPU"
      ]
    },
    {
      "cell_type": "markdown",
      "metadata": {
        "id": "KfX6fxAutcrK"
      },
      "source": [
        "GPU: 2 things must be on GPU\n",
        "- `model`\n",
        "- `tensors with gradients`"
      ]
    },
    {
      "cell_type": "code",
      "metadata": {
        "colab": {
          "base_uri": "https://localhost:8080/"
        },
        "id": "kJRTP7uHtG3X",
        "outputId": "b50ef9b4-224f-444b-d338-98d93bb2d5f9"
      },
      "source": [
        "import torch\n",
        "import torch.nn as nn\n",
        "import numpy as np\n",
        "\n",
        "'''\n",
        "STEP 1: CREATE MODEL CLASS\n",
        "'''\n",
        "class LinearRegressionModel(nn.Module):\n",
        "    def __init__(self, input_dim, output_dim):\n",
        "        super(LinearRegressionModel, self).__init__()\n",
        "        self.linear = nn.Linear(input_dim, output_dim)  \n",
        "    \n",
        "    def forward(self, x):\n",
        "        out = self.linear(x)\n",
        "        return out\n",
        "\n",
        "'''\n",
        "STEP 2: INSTANTIATE MODEL CLASS\n",
        "'''\n",
        "input_dim = 1\n",
        "output_dim = 1\n",
        "\n",
        "model = LinearRegressionModel(input_dim, output_dim)\n",
        "\n",
        "\n",
        "#######################\n",
        "#  USE GPU FOR MODEL  #\n",
        "#######################\n",
        "\n",
        "device = torch.device(\"cuda:0\" if torch.cuda.is_available() else \"cpu\")\n",
        "model.to(device)\n",
        "\n",
        "'''\n",
        "STEP 3: INSTANTIATE LOSS CLASS\n",
        "'''\n",
        "\n",
        "criterion = nn.MSELoss()\n",
        "\n",
        "'''\n",
        "STEP 4: INSTANTIATE OPTIMIZER CLASS\n",
        "'''\n",
        "\n",
        "learning_rate = 0.01\n",
        "\n",
        "optimizer = torch.optim.SGD(model.parameters(), lr=learning_rate)\n",
        "\n",
        "'''\n",
        "STEP 5: TRAIN THE MODEL\n",
        "'''\n",
        "epochs = 100\n",
        "for epoch in range(epochs):\n",
        "    epoch += 1\n",
        "    # Convert numpy array to torch Variable\n",
        "    \n",
        "    #######################\n",
        "    #  USE GPU FOR MODEL  #\n",
        "    #######################\n",
        "    inputs = torch.from_numpy(x_train).to(device)\n",
        "    labels = torch.from_numpy(y_train).to(device)\n",
        "    \n",
        "    # Clear gradients w.r.t. parameters\n",
        "    optimizer.zero_grad() \n",
        "    \n",
        "    # Forward to get output\n",
        "    outputs = model(inputs)\n",
        "    \n",
        "    # Calculate Loss\n",
        "    loss = criterion(outputs, labels)\n",
        "    \n",
        "    # Getting gradients w.r.t. parameters\n",
        "    loss.backward()\n",
        "    \n",
        "    # Updating parameters\n",
        "    optimizer.step()\n",
        "    \n",
        "    # Logging\n",
        "    print('epoch {}, loss {}'.format(epoch, loss.item()))"
      ],
      "execution_count": null,
      "outputs": [
        {
          "output_type": "stream",
          "name": "stdout",
          "text": [
            "epoch 1, loss 227.81468200683594\n",
            "epoch 2, loss 18.67641258239746\n",
            "epoch 3, loss 1.6166146993637085\n",
            "epoch 4, loss 0.22405855357646942\n",
            "epoch 5, loss 0.1094430610537529\n",
            "epoch 6, loss 0.099076047539711\n",
            "epoch 7, loss 0.09722375869750977\n",
            "epoch 8, loss 0.0960773229598999\n",
            "epoch 9, loss 0.09499941021203995\n",
            "epoch 10, loss 0.09393814951181412\n",
            "epoch 11, loss 0.09288913756608963\n",
            "epoch 12, loss 0.09185187518596649\n",
            "epoch 13, loss 0.09082617610692978\n",
            "epoch 14, loss 0.08981195837259293\n",
            "epoch 15, loss 0.08880902081727982\n",
            "epoch 16, loss 0.08781728893518448\n",
            "epoch 17, loss 0.08683671057224274\n",
            "epoch 18, loss 0.08586697280406952\n",
            "epoch 19, loss 0.08490803092718124\n",
            "epoch 20, loss 0.08395995199680328\n",
            "epoch 21, loss 0.08302241563796997\n",
            "epoch 22, loss 0.08209533989429474\n",
            "epoch 23, loss 0.08117864280939102\n",
            "epoch 24, loss 0.08027201145887375\n",
            "epoch 25, loss 0.07937565445899963\n",
            "epoch 26, loss 0.07848930358886719\n",
            "epoch 27, loss 0.07761278748512268\n",
            "epoch 28, loss 0.07674606144428253\n",
            "epoch 29, loss 0.07588916271924973\n",
            "epoch 30, loss 0.0750417485833168\n",
            "epoch 31, loss 0.07420367747545242\n",
            "epoch 32, loss 0.07337511330842972\n",
            "epoch 33, loss 0.07255569845438004\n",
            "epoch 34, loss 0.07174548506736755\n",
            "epoch 35, loss 0.07094423472881317\n",
            "epoch 36, loss 0.07015210390090942\n",
            "epoch 37, loss 0.06936869770288467\n",
            "epoch 38, loss 0.06859401613473892\n",
            "epoch 39, loss 0.06782808154821396\n",
            "epoch 40, loss 0.06707066297531128\n",
            "epoch 41, loss 0.0663217082619667\n",
            "epoch 42, loss 0.06558113545179367\n",
            "epoch 43, loss 0.06484875082969666\n",
            "epoch 44, loss 0.06412450224161148\n",
            "epoch 45, loss 0.06340847909450531\n",
            "epoch 46, loss 0.06270039081573486\n",
            "epoch 47, loss 0.06200025603175163\n",
            "epoch 48, loss 0.06130794808268547\n",
            "epoch 49, loss 0.06062334030866623\n",
            "epoch 50, loss 0.05994630977511406\n",
            "epoch 51, loss 0.059276994317770004\n",
            "epoch 52, loss 0.05861508101224899\n",
            "epoch 53, loss 0.05796049162745476\n",
            "epoch 54, loss 0.05731314420700073\n",
            "epoch 55, loss 0.05667325109243393\n",
            "epoch 56, loss 0.05604034662246704\n",
            "epoch 57, loss 0.055414553731679916\n",
            "epoch 58, loss 0.0547957718372345\n",
            "epoch 59, loss 0.05418383702635765\n",
            "epoch 60, loss 0.05357872694730759\n",
            "epoch 61, loss 0.052980586886405945\n",
            "epoch 62, loss 0.05238882824778557\n",
            "epoch 63, loss 0.05180381238460541\n",
            "epoch 64, loss 0.05122535675764084\n",
            "epoch 65, loss 0.05065334588289261\n",
            "epoch 66, loss 0.05008774623274803\n",
            "epoch 67, loss 0.049528419971466064\n",
            "epoch 68, loss 0.048975322395563126\n",
            "epoch 69, loss 0.0484284982085228\n",
            "epoch 70, loss 0.0478876531124115\n",
            "epoch 71, loss 0.047352880239486694\n",
            "epoch 72, loss 0.04682406038045883\n",
            "epoch 73, loss 0.0463012270629406\n",
            "epoch 74, loss 0.04578423500061035\n",
            "epoch 75, loss 0.04527292400598526\n",
            "epoch 76, loss 0.04476737231016159\n",
            "epoch 77, loss 0.044267427176237106\n",
            "epoch 78, loss 0.04377312585711479\n",
            "epoch 79, loss 0.04328428953886032\n",
            "epoch 80, loss 0.042801011353731155\n",
            "epoch 81, loss 0.04232301563024521\n",
            "epoch 82, loss 0.04185048118233681\n",
            "epoch 83, loss 0.04138302803039551\n",
            "epoch 84, loss 0.040920935571193695\n",
            "epoch 85, loss 0.04046397656202316\n",
            "epoch 86, loss 0.04001210257411003\n",
            "epoch 87, loss 0.03956529498100281\n",
            "epoch 88, loss 0.03912346810102463\n",
            "epoch 89, loss 0.038686592131853104\n",
            "epoch 90, loss 0.03825460746884346\n",
            "epoch 91, loss 0.037827394902706146\n",
            "epoch 92, loss 0.037405021488666534\n",
            "epoch 93, loss 0.03698732703924179\n",
            "epoch 94, loss 0.03657427430152893\n",
            "epoch 95, loss 0.03616582229733467\n",
            "epoch 96, loss 0.035762008279561996\n",
            "epoch 97, loss 0.03536263853311539\n",
            "epoch 98, loss 0.0349678210914135\n",
            "epoch 99, loss 0.03457729145884514\n",
            "epoch 100, loss 0.03419122472405434\n"
          ]
        }
      ]
    },
    {
      "cell_type": "markdown",
      "metadata": {
        "collapsed": true,
        "id": "tZgS7SvR9Gg0"
      },
      "source": [
        "### Logistic Regression Basics\n",
        "\n",
        "#### Classification algorithm\n",
        "- Example: Spam vs No Spam\n",
        "    - Input: Bunch of words\n",
        "    - Output: Probability spam or not\n",
        "\n",
        "#### Basic Comparison\n",
        "- **Linear regression**\n",
        "    - Output: numeric value given inputs\n",
        "- **Logistic regression**:\n",
        "    - Output: probability [0, 1] given input belonging to a class\n",
        "    \n",
        "    \n",
        "#### Input/Output Comparison\n",
        "- **Linear regression: Multiplication**\n",
        "    - Input: [1]\n",
        "        - Output: 2\n",
        "    - Input: [2]\n",
        "        - Output: 4\n",
        "    - Trying to model the relationship `y = 2x`\n",
        "- **Logistic regression: Spam**\n",
        "    - Input: \"Sign up to get 1 million dollars by tonight\"\n",
        "        - Output: p = 0.8\n",
        "    - Input: \"This is a receipt for your recent purchase with Amazon\"\n",
        "        - Output: p = 0.3\n",
        "    - **p: probability it is spam**\n",
        "        \n",
        "            "
      ]
    },
    {
      "cell_type": "markdown",
      "metadata": {
        "id": "udd2E3OA9Gg6"
      },
      "source": [
        "### Logistic Regression In-Depth\n",
        "\n",
        "#### Predicting Probability\n",
        "- Linear regression doesn't work\n",
        "- Instead of predicting direct values: **predict probability**\n",
        "\n",
        "#### Logistic Function $g()$ \n",
        "- Two-class logistic regression\n",
        "- $ y = A x + b$\n",
        "- $ g(y) = A x + b $\n",
        "- $g(y) = \\frac {1} {1 + e^{-y}} = \\frac {1} {1 + e^{-(A x + b)}}$\n",
        "- $g(y)$ = Estimated probability that $y = 1$ given $x$\n",
        "\n",
        "\n",
        "#### Softmax Function $g()$ \n",
        "- Multi-class logistic regression\n",
        "- Generalization of logistic function\n"
      ]
    },
    {
      "cell_type": "markdown",
      "metadata": {
        "id": "cgHiyi2O9Gg7"
      },
      "source": [
        "#### Cross Entropy Function $D()$\n",
        "- $D(S, L) = L log S - (1-L)log(1-S)$\n",
        "    - If L = 0 (label)\n",
        "        - $D(S, 0) = - log(1-S)$\n",
        "            - $- log(1-S)$: less positive if $S \\longrightarrow 0 $\n",
        "            - $- log(1-S)$: more positive if $S \\longrightarrow 1 $ (BIGGER LOSS)\n",
        "    - If L = 1 (label)\n",
        "        - $D(S, 1) = log S$\n",
        "            - $logS$: less negative if $S \\longrightarrow 1 $\n",
        "            - $logS$: more negative if $S \\longrightarrow 0 $ (BIGGER LOSS)"
      ]
    },
    {
      "cell_type": "code",
      "metadata": {
        "id": "05sCpaG_9Gg7",
        "colab": {
          "base_uri": "https://localhost:8080/"
        },
        "outputId": "bc069276-dd7c-4f17-e500-24859bf0d6e6"
      },
      "source": [
        "import math\n",
        "print(-math.log(1 - 0.00001))\n",
        "print(-math.log(1 - 0.99999))\n",
        "\n",
        "print(math.log(0.99999))\n",
        "print(math.log(0.00001))"
      ],
      "execution_count": null,
      "outputs": [
        {
          "output_type": "stream",
          "name": "stdout",
          "text": [
            "1.0000050000287824e-05\n",
            "11.51292546497478\n",
            "-1.0000050000287824e-05\n",
            "-11.512925464970229\n"
          ]
        }
      ]
    },
    {
      "cell_type": "markdown",
      "metadata": {
        "id": "nUSHYdht9Gg8"
      },
      "source": [
        "#### Cross Entropy Loss $L$\n",
        "- Goal: Minimizing Cross Entropy Loss\n",
        "- $ L = \\frac {1}{N} \\sum_i D(g(Ax_i + b), L_i)$"
      ]
    },
    {
      "cell_type": "markdown",
      "metadata": {
        "id": "uq8EWtxK9Gg8"
      },
      "source": [
        "## Building a Logistic Regression Model with PyTorch\n",
        "\n",
        "### Steps\n",
        "- Step 1: Load Dataset\n",
        "- Step 2: Make Dataset Iterable\n",
        "- Step 3: Create Model Class\n",
        "- Step 4: Instantiate Model Class\n",
        "- Step 5: Instantiate Loss Class\n",
        "- Step 6: Instantiate Optimizer Class\n",
        "- Step 7: Train Model"
      ]
    },
    {
      "cell_type": "markdown",
      "metadata": {
        "id": "ycl6MMbn9Gg9"
      },
      "source": [
        "### Step 1a: Loading MNIST Train Dataset\n",
        "**Images from 1 to 9**"
      ]
    },
    {
      "cell_type": "code",
      "metadata": {
        "id": "KrUIzGs49Gg9"
      },
      "source": [
        "import torch\n",
        "import torch.nn as nn\n",
        "import torchvision.transforms as transforms\n",
        "import torchvision.datasets as dsets"
      ],
      "execution_count": null,
      "outputs": []
    },
    {
      "cell_type": "code",
      "metadata": {
        "id": "PBVU9Mww9Gg9",
        "colab": {
          "base_uri": "https://localhost:8080/",
          "height": 471,
          "referenced_widgets": [
            "bdcd76eb401b4ed9943f07406d53bc09",
            "97728fba7e1946dc9dc018a06736573a",
            "440cd7f0de5b42749ccc7bf9cb3f3b87",
            "728c49b935704f849ee862246bfb6dbb",
            "79371f7bb5da44c29808b6986fd1606a",
            "828d381d7def43c5a425c005bf2602f6",
            "bf6f819f6670457b804c2677026f6d82",
            "3fd44b6dcb0044e99aa76e67c7c91c60",
            "162fb6e576154e6aaf2f2da6eb418e1d",
            "fc6590e4b150425fb61d048a15659cfd",
            "48844f95a0fc478a99a46597e41d5252",
            "f0b7f17135664050a74189e2871eb199",
            "91ad8e9d9ce946f1ae808124556888df",
            "bb7ed5a4519c4f4ab7e9d71d0f6472c7",
            "4266fcde68b0412a96915db32a7127f1",
            "143d2409d1fc44d69c2e67153fc79cb1",
            "de5f03420a7e4be08780d94f048ce880",
            "4c5e8762953b42ab92d7a1a680ef1901",
            "fdc685ad2d8049c498b98ac83be7eb73",
            "03d259c5bf2e44648d74125ff08ad095",
            "8c5d262eee30440c8f2902be4c81ece0",
            "c5392224ce9a4aa69e691114aa678af8",
            "c18afcd7d902447ea0717871c816dc1e",
            "001b7e5585c34d8a847f327c4724dfee",
            "509366192ef54d7fae9c0d8e36cdb7cb",
            "04aff80e09f84f9dacb1e08bf6b0efb2",
            "80bd2146606f42d18eb8a4cc77cfdcff",
            "43c7ec2c3d48498fb56477e5a2151ffa",
            "5a1cd884ad374a518078edb28fba32e7",
            "41bf4f39584c4a07916fe13e93527141",
            "1cd9005b020545dbbdf7783166692a5f",
            "708cf5db3a944a97abb4dd78c05868e3",
            "e2f550114c844c9a841992008bfcce76",
            "1825accbaa114f02ae474b0bf0bc6f14",
            "96fb1fb23e4b48ee83aec195b434a94f",
            "c00f31687c9b4203b794cb48f005ee65",
            "b1e51841e36f46dfabfa32c045032772",
            "6afd606b5d5f4c51a7295d4a3c8ea6bd",
            "3cdbd5b92c084db6944c8c521c3a4314",
            "74e99ef0b9754bfc90756fee28d32440",
            "487f33d544524045b31664b86756cb71",
            "2afa37f2dcbc448b9fae9fec5ecda9f2",
            "8f124de8b25449a19b76c812c0654edd",
            "863cbce5873740008af78e3b10f9a49a"
          ]
        },
        "outputId": "d3fcda46-1bf7-47c2-ecaf-41d8fa3784c9"
      },
      "source": [
        "train_dataset = dsets.MNIST(root='./data', \n",
        "                            train=True, \n",
        "                            transform=transforms.ToTensor(),\n",
        "                            download=True)"
      ],
      "execution_count": null,
      "outputs": [
        {
          "output_type": "stream",
          "name": "stdout",
          "text": [
            "Downloading http://yann.lecun.com/exdb/mnist/train-images-idx3-ubyte.gz\n",
            "Downloading http://yann.lecun.com/exdb/mnist/train-images-idx3-ubyte.gz to ./data/MNIST/raw/train-images-idx3-ubyte.gz\n"
          ]
        },
        {
          "output_type": "display_data",
          "data": {
            "application/vnd.jupyter.widget-view+json": {
              "model_id": "bdcd76eb401b4ed9943f07406d53bc09",
              "version_minor": 0,
              "version_major": 2
            },
            "text/plain": [
              "  0%|          | 0/9912422 [00:00<?, ?it/s]"
            ]
          },
          "metadata": {}
        },
        {
          "output_type": "stream",
          "name": "stdout",
          "text": [
            "Extracting ./data/MNIST/raw/train-images-idx3-ubyte.gz to ./data/MNIST/raw\n",
            "\n",
            "Downloading http://yann.lecun.com/exdb/mnist/train-labels-idx1-ubyte.gz\n",
            "Downloading http://yann.lecun.com/exdb/mnist/train-labels-idx1-ubyte.gz to ./data/MNIST/raw/train-labels-idx1-ubyte.gz\n"
          ]
        },
        {
          "output_type": "display_data",
          "data": {
            "application/vnd.jupyter.widget-view+json": {
              "model_id": "f0b7f17135664050a74189e2871eb199",
              "version_minor": 0,
              "version_major": 2
            },
            "text/plain": [
              "  0%|          | 0/28881 [00:00<?, ?it/s]"
            ]
          },
          "metadata": {}
        },
        {
          "output_type": "stream",
          "name": "stdout",
          "text": [
            "Extracting ./data/MNIST/raw/train-labels-idx1-ubyte.gz to ./data/MNIST/raw\n",
            "\n",
            "Downloading http://yann.lecun.com/exdb/mnist/t10k-images-idx3-ubyte.gz\n",
            "Downloading http://yann.lecun.com/exdb/mnist/t10k-images-idx3-ubyte.gz to ./data/MNIST/raw/t10k-images-idx3-ubyte.gz\n"
          ]
        },
        {
          "output_type": "display_data",
          "data": {
            "application/vnd.jupyter.widget-view+json": {
              "model_id": "c18afcd7d902447ea0717871c816dc1e",
              "version_minor": 0,
              "version_major": 2
            },
            "text/plain": [
              "  0%|          | 0/1648877 [00:00<?, ?it/s]"
            ]
          },
          "metadata": {}
        },
        {
          "output_type": "stream",
          "name": "stdout",
          "text": [
            "Extracting ./data/MNIST/raw/t10k-images-idx3-ubyte.gz to ./data/MNIST/raw\n",
            "\n",
            "Downloading http://yann.lecun.com/exdb/mnist/t10k-labels-idx1-ubyte.gz\n",
            "Downloading http://yann.lecun.com/exdb/mnist/t10k-labels-idx1-ubyte.gz to ./data/MNIST/raw/t10k-labels-idx1-ubyte.gz\n"
          ]
        },
        {
          "output_type": "display_data",
          "data": {
            "application/vnd.jupyter.widget-view+json": {
              "model_id": "1825accbaa114f02ae474b0bf0bc6f14",
              "version_minor": 0,
              "version_major": 2
            },
            "text/plain": [
              "  0%|          | 0/4542 [00:00<?, ?it/s]"
            ]
          },
          "metadata": {}
        },
        {
          "output_type": "stream",
          "name": "stdout",
          "text": [
            "Extracting ./data/MNIST/raw/t10k-labels-idx1-ubyte.gz to ./data/MNIST/raw\n",
            "\n"
          ]
        },
        {
          "output_type": "stream",
          "name": "stderr",
          "text": [
            "/usr/local/lib/python3.7/dist-packages/torchvision/datasets/mnist.py:498: UserWarning: The given NumPy array is not writeable, and PyTorch does not support non-writeable tensors. This means you can write to the underlying (supposedly non-writeable) NumPy array using the tensor. You may want to copy the array to protect its data or make it writeable before converting it to a tensor. This type of warning will be suppressed for the rest of this program. (Triggered internally at  /pytorch/torch/csrc/utils/tensor_numpy.cpp:180.)\n",
            "  return torch.from_numpy(parsed.astype(m[2], copy=False)).view(*s)\n"
          ]
        }
      ]
    },
    {
      "cell_type": "code",
      "metadata": {
        "id": "oIJSfi4N9Gg9",
        "colab": {
          "base_uri": "https://localhost:8080/"
        },
        "outputId": "93ef54f3-b6b6-4efa-f4ca-6ca008533e90"
      },
      "source": [
        "len(train_dataset)"
      ],
      "execution_count": null,
      "outputs": [
        {
          "output_type": "execute_result",
          "data": {
            "text/plain": [
              "60000"
            ]
          },
          "metadata": {},
          "execution_count": 4
        }
      ]
    },
    {
      "cell_type": "code",
      "metadata": {
        "id": "qvuFFCzo9Gg-",
        "colab": {
          "base_uri": "https://localhost:8080/"
        },
        "outputId": "f4033eb2-57a6-4152-8507-f1d7d9f328c5"
      },
      "source": [
        "train_dataset[0]"
      ],
      "execution_count": null,
      "outputs": [
        {
          "output_type": "execute_result",
          "data": {
            "text/plain": [
              "(tensor([[[0.0000, 0.0000, 0.0000, 0.0000, 0.0000, 0.0000, 0.0000, 0.0000,\n",
              "           0.0000, 0.0000, 0.0000, 0.0000, 0.0000, 0.0000, 0.0000, 0.0000,\n",
              "           0.0000, 0.0000, 0.0000, 0.0000, 0.0000, 0.0000, 0.0000, 0.0000,\n",
              "           0.0000, 0.0000, 0.0000, 0.0000],\n",
              "          [0.0000, 0.0000, 0.0000, 0.0000, 0.0000, 0.0000, 0.0000, 0.0000,\n",
              "           0.0000, 0.0000, 0.0000, 0.0000, 0.0000, 0.0000, 0.0000, 0.0000,\n",
              "           0.0000, 0.0000, 0.0000, 0.0000, 0.0000, 0.0000, 0.0000, 0.0000,\n",
              "           0.0000, 0.0000, 0.0000, 0.0000],\n",
              "          [0.0000, 0.0000, 0.0000, 0.0000, 0.0000, 0.0000, 0.0000, 0.0000,\n",
              "           0.0000, 0.0000, 0.0000, 0.0000, 0.0000, 0.0000, 0.0000, 0.0000,\n",
              "           0.0000, 0.0000, 0.0000, 0.0000, 0.0000, 0.0000, 0.0000, 0.0000,\n",
              "           0.0000, 0.0000, 0.0000, 0.0000],\n",
              "          [0.0000, 0.0000, 0.0000, 0.0000, 0.0000, 0.0000, 0.0000, 0.0000,\n",
              "           0.0000, 0.0000, 0.0000, 0.0000, 0.0000, 0.0000, 0.0000, 0.0000,\n",
              "           0.0000, 0.0000, 0.0000, 0.0000, 0.0000, 0.0000, 0.0000, 0.0000,\n",
              "           0.0000, 0.0000, 0.0000, 0.0000],\n",
              "          [0.0000, 0.0000, 0.0000, 0.0000, 0.0000, 0.0000, 0.0000, 0.0000,\n",
              "           0.0000, 0.0000, 0.0000, 0.0000, 0.0000, 0.0000, 0.0000, 0.0000,\n",
              "           0.0000, 0.0000, 0.0000, 0.0000, 0.0000, 0.0000, 0.0000, 0.0000,\n",
              "           0.0000, 0.0000, 0.0000, 0.0000],\n",
              "          [0.0000, 0.0000, 0.0000, 0.0000, 0.0000, 0.0000, 0.0000, 0.0000,\n",
              "           0.0000, 0.0000, 0.0000, 0.0000, 0.0118, 0.0706, 0.0706, 0.0706,\n",
              "           0.4941, 0.5333, 0.6863, 0.1020, 0.6510, 1.0000, 0.9686, 0.4980,\n",
              "           0.0000, 0.0000, 0.0000, 0.0000],\n",
              "          [0.0000, 0.0000, 0.0000, 0.0000, 0.0000, 0.0000, 0.0000, 0.0000,\n",
              "           0.1176, 0.1412, 0.3686, 0.6039, 0.6667, 0.9922, 0.9922, 0.9922,\n",
              "           0.9922, 0.9922, 0.8824, 0.6745, 0.9922, 0.9490, 0.7647, 0.2510,\n",
              "           0.0000, 0.0000, 0.0000, 0.0000],\n",
              "          [0.0000, 0.0000, 0.0000, 0.0000, 0.0000, 0.0000, 0.0000, 0.1922,\n",
              "           0.9333, 0.9922, 0.9922, 0.9922, 0.9922, 0.9922, 0.9922, 0.9922,\n",
              "           0.9922, 0.9843, 0.3647, 0.3216, 0.3216, 0.2196, 0.1529, 0.0000,\n",
              "           0.0000, 0.0000, 0.0000, 0.0000],\n",
              "          [0.0000, 0.0000, 0.0000, 0.0000, 0.0000, 0.0000, 0.0000, 0.0706,\n",
              "           0.8588, 0.9922, 0.9922, 0.9922, 0.9922, 0.9922, 0.7765, 0.7137,\n",
              "           0.9686, 0.9451, 0.0000, 0.0000, 0.0000, 0.0000, 0.0000, 0.0000,\n",
              "           0.0000, 0.0000, 0.0000, 0.0000],\n",
              "          [0.0000, 0.0000, 0.0000, 0.0000, 0.0000, 0.0000, 0.0000, 0.0000,\n",
              "           0.3137, 0.6118, 0.4196, 0.9922, 0.9922, 0.8039, 0.0431, 0.0000,\n",
              "           0.1686, 0.6039, 0.0000, 0.0000, 0.0000, 0.0000, 0.0000, 0.0000,\n",
              "           0.0000, 0.0000, 0.0000, 0.0000],\n",
              "          [0.0000, 0.0000, 0.0000, 0.0000, 0.0000, 0.0000, 0.0000, 0.0000,\n",
              "           0.0000, 0.0549, 0.0039, 0.6039, 0.9922, 0.3529, 0.0000, 0.0000,\n",
              "           0.0000, 0.0000, 0.0000, 0.0000, 0.0000, 0.0000, 0.0000, 0.0000,\n",
              "           0.0000, 0.0000, 0.0000, 0.0000],\n",
              "          [0.0000, 0.0000, 0.0000, 0.0000, 0.0000, 0.0000, 0.0000, 0.0000,\n",
              "           0.0000, 0.0000, 0.0000, 0.5451, 0.9922, 0.7451, 0.0078, 0.0000,\n",
              "           0.0000, 0.0000, 0.0000, 0.0000, 0.0000, 0.0000, 0.0000, 0.0000,\n",
              "           0.0000, 0.0000, 0.0000, 0.0000],\n",
              "          [0.0000, 0.0000, 0.0000, 0.0000, 0.0000, 0.0000, 0.0000, 0.0000,\n",
              "           0.0000, 0.0000, 0.0000, 0.0431, 0.7451, 0.9922, 0.2745, 0.0000,\n",
              "           0.0000, 0.0000, 0.0000, 0.0000, 0.0000, 0.0000, 0.0000, 0.0000,\n",
              "           0.0000, 0.0000, 0.0000, 0.0000],\n",
              "          [0.0000, 0.0000, 0.0000, 0.0000, 0.0000, 0.0000, 0.0000, 0.0000,\n",
              "           0.0000, 0.0000, 0.0000, 0.0000, 0.1373, 0.9451, 0.8824, 0.6275,\n",
              "           0.4235, 0.0039, 0.0000, 0.0000, 0.0000, 0.0000, 0.0000, 0.0000,\n",
              "           0.0000, 0.0000, 0.0000, 0.0000],\n",
              "          [0.0000, 0.0000, 0.0000, 0.0000, 0.0000, 0.0000, 0.0000, 0.0000,\n",
              "           0.0000, 0.0000, 0.0000, 0.0000, 0.0000, 0.3176, 0.9412, 0.9922,\n",
              "           0.9922, 0.4667, 0.0980, 0.0000, 0.0000, 0.0000, 0.0000, 0.0000,\n",
              "           0.0000, 0.0000, 0.0000, 0.0000],\n",
              "          [0.0000, 0.0000, 0.0000, 0.0000, 0.0000, 0.0000, 0.0000, 0.0000,\n",
              "           0.0000, 0.0000, 0.0000, 0.0000, 0.0000, 0.0000, 0.1765, 0.7294,\n",
              "           0.9922, 0.9922, 0.5882, 0.1059, 0.0000, 0.0000, 0.0000, 0.0000,\n",
              "           0.0000, 0.0000, 0.0000, 0.0000],\n",
              "          [0.0000, 0.0000, 0.0000, 0.0000, 0.0000, 0.0000, 0.0000, 0.0000,\n",
              "           0.0000, 0.0000, 0.0000, 0.0000, 0.0000, 0.0000, 0.0000, 0.0627,\n",
              "           0.3647, 0.9882, 0.9922, 0.7333, 0.0000, 0.0000, 0.0000, 0.0000,\n",
              "           0.0000, 0.0000, 0.0000, 0.0000],\n",
              "          [0.0000, 0.0000, 0.0000, 0.0000, 0.0000, 0.0000, 0.0000, 0.0000,\n",
              "           0.0000, 0.0000, 0.0000, 0.0000, 0.0000, 0.0000, 0.0000, 0.0000,\n",
              "           0.0000, 0.9765, 0.9922, 0.9765, 0.2510, 0.0000, 0.0000, 0.0000,\n",
              "           0.0000, 0.0000, 0.0000, 0.0000],\n",
              "          [0.0000, 0.0000, 0.0000, 0.0000, 0.0000, 0.0000, 0.0000, 0.0000,\n",
              "           0.0000, 0.0000, 0.0000, 0.0000, 0.0000, 0.0000, 0.1804, 0.5098,\n",
              "           0.7176, 0.9922, 0.9922, 0.8118, 0.0078, 0.0000, 0.0000, 0.0000,\n",
              "           0.0000, 0.0000, 0.0000, 0.0000],\n",
              "          [0.0000, 0.0000, 0.0000, 0.0000, 0.0000, 0.0000, 0.0000, 0.0000,\n",
              "           0.0000, 0.0000, 0.0000, 0.0000, 0.1529, 0.5804, 0.8980, 0.9922,\n",
              "           0.9922, 0.9922, 0.9804, 0.7137, 0.0000, 0.0000, 0.0000, 0.0000,\n",
              "           0.0000, 0.0000, 0.0000, 0.0000],\n",
              "          [0.0000, 0.0000, 0.0000, 0.0000, 0.0000, 0.0000, 0.0000, 0.0000,\n",
              "           0.0000, 0.0000, 0.0941, 0.4471, 0.8667, 0.9922, 0.9922, 0.9922,\n",
              "           0.9922, 0.7882, 0.3059, 0.0000, 0.0000, 0.0000, 0.0000, 0.0000,\n",
              "           0.0000, 0.0000, 0.0000, 0.0000],\n",
              "          [0.0000, 0.0000, 0.0000, 0.0000, 0.0000, 0.0000, 0.0000, 0.0000,\n",
              "           0.0902, 0.2588, 0.8353, 0.9922, 0.9922, 0.9922, 0.9922, 0.7765,\n",
              "           0.3176, 0.0078, 0.0000, 0.0000, 0.0000, 0.0000, 0.0000, 0.0000,\n",
              "           0.0000, 0.0000, 0.0000, 0.0000],\n",
              "          [0.0000, 0.0000, 0.0000, 0.0000, 0.0000, 0.0000, 0.0706, 0.6706,\n",
              "           0.8588, 0.9922, 0.9922, 0.9922, 0.9922, 0.7647, 0.3137, 0.0353,\n",
              "           0.0000, 0.0000, 0.0000, 0.0000, 0.0000, 0.0000, 0.0000, 0.0000,\n",
              "           0.0000, 0.0000, 0.0000, 0.0000],\n",
              "          [0.0000, 0.0000, 0.0000, 0.0000, 0.2157, 0.6745, 0.8863, 0.9922,\n",
              "           0.9922, 0.9922, 0.9922, 0.9569, 0.5216, 0.0431, 0.0000, 0.0000,\n",
              "           0.0000, 0.0000, 0.0000, 0.0000, 0.0000, 0.0000, 0.0000, 0.0000,\n",
              "           0.0000, 0.0000, 0.0000, 0.0000],\n",
              "          [0.0000, 0.0000, 0.0000, 0.0000, 0.5333, 0.9922, 0.9922, 0.9922,\n",
              "           0.8314, 0.5294, 0.5176, 0.0627, 0.0000, 0.0000, 0.0000, 0.0000,\n",
              "           0.0000, 0.0000, 0.0000, 0.0000, 0.0000, 0.0000, 0.0000, 0.0000,\n",
              "           0.0000, 0.0000, 0.0000, 0.0000],\n",
              "          [0.0000, 0.0000, 0.0000, 0.0000, 0.0000, 0.0000, 0.0000, 0.0000,\n",
              "           0.0000, 0.0000, 0.0000, 0.0000, 0.0000, 0.0000, 0.0000, 0.0000,\n",
              "           0.0000, 0.0000, 0.0000, 0.0000, 0.0000, 0.0000, 0.0000, 0.0000,\n",
              "           0.0000, 0.0000, 0.0000, 0.0000],\n",
              "          [0.0000, 0.0000, 0.0000, 0.0000, 0.0000, 0.0000, 0.0000, 0.0000,\n",
              "           0.0000, 0.0000, 0.0000, 0.0000, 0.0000, 0.0000, 0.0000, 0.0000,\n",
              "           0.0000, 0.0000, 0.0000, 0.0000, 0.0000, 0.0000, 0.0000, 0.0000,\n",
              "           0.0000, 0.0000, 0.0000, 0.0000],\n",
              "          [0.0000, 0.0000, 0.0000, 0.0000, 0.0000, 0.0000, 0.0000, 0.0000,\n",
              "           0.0000, 0.0000, 0.0000, 0.0000, 0.0000, 0.0000, 0.0000, 0.0000,\n",
              "           0.0000, 0.0000, 0.0000, 0.0000, 0.0000, 0.0000, 0.0000, 0.0000,\n",
              "           0.0000, 0.0000, 0.0000, 0.0000]]]), 5)"
            ]
          },
          "metadata": {},
          "execution_count": 5
        }
      ]
    },
    {
      "cell_type": "code",
      "metadata": {
        "id": "yePsmL6R9Gg_",
        "colab": {
          "base_uri": "https://localhost:8080/"
        },
        "outputId": "4024f93f-9603-4ca5-fe1c-ad3d819ff8fa"
      },
      "source": [
        "# Input Matrix\n",
        "train_dataset[0][0].size()"
      ],
      "execution_count": null,
      "outputs": [
        {
          "output_type": "execute_result",
          "data": {
            "text/plain": [
              "torch.Size([1, 28, 28])"
            ]
          },
          "metadata": {},
          "execution_count": 6
        }
      ]
    },
    {
      "cell_type": "code",
      "metadata": {
        "id": "pzNzvgtS9Gg_",
        "colab": {
          "base_uri": "https://localhost:8080/"
        },
        "outputId": "9129090b-48b0-47c4-b86b-b13c6d6017f3"
      },
      "source": [
        "# Label\n",
        "train_dataset[0][1]"
      ],
      "execution_count": null,
      "outputs": [
        {
          "output_type": "execute_result",
          "data": {
            "text/plain": [
              "5"
            ]
          },
          "metadata": {},
          "execution_count": 7
        }
      ]
    },
    {
      "cell_type": "markdown",
      "metadata": {
        "id": "ff2AoUfw9GhC"
      },
      "source": [
        "### Step 1b: Loading MNIST Test Dataset\n",
        "- Show our algorithm works beyond the data we have trained on.\n",
        "- Out-of-sample"
      ]
    },
    {
      "cell_type": "code",
      "metadata": {
        "id": "hzBANRrT9GhC"
      },
      "source": [
        "test_dataset = dsets.MNIST(root='./data', \n",
        "                           train=False, \n",
        "                           transform=transforms.ToTensor())"
      ],
      "execution_count": null,
      "outputs": []
    },
    {
      "cell_type": "code",
      "metadata": {
        "id": "knVcUGN99GhC",
        "colab": {
          "base_uri": "https://localhost:8080/"
        },
        "outputId": "780cb48b-6464-42c3-9674-69ff1446c8ba"
      },
      "source": [
        "len(test_dataset)"
      ],
      "execution_count": null,
      "outputs": [
        {
          "output_type": "execute_result",
          "data": {
            "text/plain": [
              "10000"
            ]
          },
          "metadata": {},
          "execution_count": 9
        }
      ]
    },
    {
      "cell_type": "code",
      "metadata": {
        "id": "xCoOk0Wr9GhD",
        "colab": {
          "base_uri": "https://localhost:8080/"
        },
        "outputId": "f9c099fb-003a-473f-e953-b88b9e2205a6"
      },
      "source": [
        "type(test_dataset[0])"
      ],
      "execution_count": null,
      "outputs": [
        {
          "output_type": "execute_result",
          "data": {
            "text/plain": [
              "tuple"
            ]
          },
          "metadata": {},
          "execution_count": 10
        }
      ]
    },
    {
      "cell_type": "markdown",
      "metadata": {
        "id": "HZlHWCPV9GhD"
      },
      "source": [
        "### Step 2: Make Dataset Iterable\n",
        "- Aim: make the dataset iterable\n",
        "- **totaldata**: 60000\n",
        "- **minibatch**: 100\n",
        "    - Number of examples in 1 iteration\n",
        "- **iterations**: 3000\n",
        "    - 1 iteration: one mini-batch forward & backward pass\n",
        "- **epochs**\n",
        "    - 1 epoch: running through the whole dataset once\n",
        " - $epochs = iterations \\div \\frac{totaldata}{minibatch} = 3000 \\div \\frac{60000}{100} = 5 $\n",
        "    "
      ]
    },
    {
      "cell_type": "code",
      "metadata": {
        "id": "_OaL9SxB9GhD",
        "colab": {
          "base_uri": "https://localhost:8080/"
        },
        "outputId": "0bbde917-45c7-4a76-eb69-40b9b51615bc"
      },
      "source": [
        "len(train_dataset)"
      ],
      "execution_count": null,
      "outputs": [
        {
          "output_type": "execute_result",
          "data": {
            "text/plain": [
              "60000"
            ]
          },
          "metadata": {},
          "execution_count": 13
        }
      ]
    },
    {
      "cell_type": "code",
      "metadata": {
        "id": "M5b1s5wF9GhE"
      },
      "source": [
        "batch_size = 100"
      ],
      "execution_count": null,
      "outputs": []
    },
    {
      "cell_type": "code",
      "metadata": {
        "id": "0-zjcFId9GhE"
      },
      "source": [
        "n_iters = 3000"
      ],
      "execution_count": null,
      "outputs": []
    },
    {
      "cell_type": "code",
      "metadata": {
        "id": "ot3h04rj9GhE",
        "colab": {
          "base_uri": "https://localhost:8080/"
        },
        "outputId": "08292119-8948-470c-927c-0502444bf936"
      },
      "source": [
        "num_epochs = n_iters / (len(train_dataset) / batch_size)\n",
        "num_epochs = int(num_epochs)\n",
        "num_epochs"
      ],
      "execution_count": null,
      "outputs": [
        {
          "output_type": "execute_result",
          "data": {
            "text/plain": [
              "5"
            ]
          },
          "metadata": {},
          "execution_count": 16
        }
      ]
    },
    {
      "cell_type": "markdown",
      "metadata": {
        "id": "iAgfgnWr9GhE"
      },
      "source": [
        "#### Create Iterable Object: Training Dataset"
      ]
    },
    {
      "cell_type": "code",
      "metadata": {
        "id": "40gF3vSH9GhE"
      },
      "source": [
        "train_loader = torch.utils.data.DataLoader(dataset=train_dataset, \n",
        "                                           batch_size=batch_size, \n",
        "                                           shuffle=True)"
      ],
      "execution_count": null,
      "outputs": []
    },
    {
      "cell_type": "markdown",
      "metadata": {
        "id": "8ILTUZIl9GhE"
      },
      "source": [
        "#### Check Iterability"
      ]
    },
    {
      "cell_type": "code",
      "metadata": {
        "id": "T1emRu1p9GhE",
        "colab": {
          "base_uri": "https://localhost:8080/"
        },
        "outputId": "5b0fe6b5-0dc4-4f95-c8d9-33e547547c31"
      },
      "source": [
        "import collections\n",
        "isinstance(train_loader, collections.Iterable)"
      ],
      "execution_count": null,
      "outputs": [
        {
          "output_type": "stream",
          "name": "stderr",
          "text": [
            "/usr/local/lib/python3.7/dist-packages/ipykernel_launcher.py:2: DeprecationWarning: Using or importing the ABCs from 'collections' instead of from 'collections.abc' is deprecated since Python 3.3,and in 3.9 it will stop working\n",
            "  \n"
          ]
        },
        {
          "output_type": "execute_result",
          "data": {
            "text/plain": [
              "True"
            ]
          },
          "metadata": {},
          "execution_count": 18
        }
      ]
    },
    {
      "cell_type": "markdown",
      "metadata": {
        "id": "sFzUN_Nh9GhE"
      },
      "source": [
        "#### Create Iterable Object: Testing Dataset"
      ]
    },
    {
      "cell_type": "code",
      "metadata": {
        "id": "QDkaSet19GhF"
      },
      "source": [
        "# Iterable object\n",
        "test_loader = torch.utils.data.DataLoader(dataset=test_dataset, \n",
        "                                          batch_size=batch_size, \n",
        "                                          shuffle=False)"
      ],
      "execution_count": null,
      "outputs": []
    },
    {
      "cell_type": "markdown",
      "metadata": {
        "id": "hLpPUuTS9GhF"
      },
      "source": [
        "#### Check Iterability"
      ]
    },
    {
      "cell_type": "code",
      "metadata": {
        "id": "0WgFR5z19GhF",
        "colab": {
          "base_uri": "https://localhost:8080/"
        },
        "outputId": "9294947d-8034-4c32-d63c-ddd44a9126c1"
      },
      "source": [
        "isinstance(test_loader, collections.Iterable)"
      ],
      "execution_count": null,
      "outputs": [
        {
          "output_type": "execute_result",
          "data": {
            "text/plain": [
              "True"
            ]
          },
          "metadata": {},
          "execution_count": 20
        }
      ]
    },
    {
      "cell_type": "markdown",
      "metadata": {
        "id": "XQ9QH4IA9GhF"
      },
      "source": [
        "#### Main Aim: Iterate Through Dataset"
      ]
    },
    {
      "cell_type": "code",
      "metadata": {
        "id": "YYrN1gwc9GhF"
      },
      "source": [
        "import numpy as np\n",
        "\n",
        "img_1 = np.ones((28, 28))\n",
        "img_2 = np.ones((28, 28))\n",
        "lst = [img_1, img_2]"
      ],
      "execution_count": null,
      "outputs": []
    },
    {
      "cell_type": "code",
      "metadata": {
        "id": "APJsenHO9GhF",
        "colab": {
          "base_uri": "https://localhost:8080/"
        },
        "outputId": "b7b1505b-c320-4526-f82c-34f95831340f"
      },
      "source": [
        "# Need to iterate\n",
        "# Think of numbers as the images\n",
        "for i in lst:\n",
        "    print(i.shape)"
      ],
      "execution_count": null,
      "outputs": [
        {
          "output_type": "stream",
          "name": "stdout",
          "text": [
            "(28, 28)\n",
            "(28, 28)\n"
          ]
        }
      ]
    },
    {
      "cell_type": "markdown",
      "metadata": {
        "id": "rSbCojMd9GhF"
      },
      "source": [
        "### Step 3: Building Model"
      ]
    },
    {
      "cell_type": "code",
      "metadata": {
        "id": "HuHW4YgT9GhF"
      },
      "source": [
        "# Same as linear regression! \n",
        "class LogisticRegressionModel(nn.Module):\n",
        "    def __init__(self, input_dim, output_dim):\n",
        "        super(LogisticRegressionModel, self).__init__()\n",
        "        self.linear = nn.Linear(input_dim, output_dim)\n",
        "    \n",
        "    def forward(self, x):\n",
        "        out = self.linear(x)\n",
        "        return out"
      ],
      "execution_count": null,
      "outputs": []
    },
    {
      "cell_type": "markdown",
      "metadata": {
        "id": "3Fh9EmJH9GhF"
      },
      "source": [
        "### Step 4: Instantiate Model Class\n",
        "- Input dimension: \n",
        "    - Size of image\n",
        "   - $28 \\times 28 = 784$\n",
        "- Output dimension: 10\n",
        "    - 0, 1, 2, 3, 4, 5, 6, 7, 8, 9"
      ]
    },
    {
      "cell_type": "code",
      "metadata": {
        "id": "9mLfYhDZ9GhG",
        "colab": {
          "base_uri": "https://localhost:8080/"
        },
        "outputId": "2c1e8a3a-30a3-464b-fd4d-b8080ad38b87"
      },
      "source": [
        "# Size of images\n",
        "train_dataset[0][0].size()"
      ],
      "execution_count": null,
      "outputs": [
        {
          "output_type": "execute_result",
          "data": {
            "text/plain": [
              "torch.Size([1, 28, 28])"
            ]
          },
          "metadata": {},
          "execution_count": 25
        }
      ]
    },
    {
      "cell_type": "code",
      "metadata": {
        "id": "vp2vDizp9GhG"
      },
      "source": [
        "input_dim = 28*28\n",
        "output_dim = 10\n",
        "\n",
        "model = LogisticRegressionModel(input_dim, output_dim)"
      ],
      "execution_count": null,
      "outputs": []
    },
    {
      "cell_type": "markdown",
      "metadata": {
        "id": "jEPnDvEe9GhG"
      },
      "source": [
        "### Step 5: Instantiate Loss Class\n",
        "- **Logistic Regression**: Cross Entropy Loss\n",
        "    - _Linear Regression: MSE_\n",
        "   "
      ]
    },
    {
      "cell_type": "code",
      "metadata": {
        "id": "atzStWcf9GhG"
      },
      "source": [
        "criterion = nn.CrossEntropyLoss()  "
      ],
      "execution_count": null,
      "outputs": []
    },
    {
      "cell_type": "markdown",
      "metadata": {
        "id": "wQVGMzoR9GhG"
      },
      "source": [
        "#### What happens in `nn.CrossEntropyLoss()`?\n",
        "- Computes softmax (logistic/softmax function)\n",
        "- Computes cross entropy"
      ]
    },
    {
      "cell_type": "markdown",
      "metadata": {
        "id": "Gr4oDEia9GhG"
      },
      "source": [
        "### Step 6: Instantiate Optimizer Class\n",
        "- Simplified equation\n",
        "    - $\\theta = \\theta - \\eta \\cdot \\nabla_\\theta $\n",
        "        - $\\theta$: parameters (our variables)\n",
        "        - $\\eta$: learning rate (how fast we want to learn)\n",
        "        - $\\nabla_\\theta$: parameters' gradients\n",
        "- Even simplier equation\n",
        "    - `parameters = parameters - learning_rate * parameters_gradients`\n",
        "    - **At every iteration, we update our model's parameters**"
      ]
    },
    {
      "cell_type": "code",
      "metadata": {
        "id": "NYAzP8OB9GhG"
      },
      "source": [
        "learning_rate = 0.001\n",
        "\n",
        "optimizer = torch.optim.SGD(model.parameters(), lr=learning_rate)  "
      ],
      "execution_count": null,
      "outputs": []
    },
    {
      "cell_type": "markdown",
      "metadata": {
        "id": "fbFg7FRC9GhH"
      },
      "source": [
        "### Step 7: Train Model\n",
        "- Process \n",
        "    1. Convert inputs/labels to variables\n",
        "    2. Clear gradient buffer\n",
        "    3. Get output given inputs \n",
        "    4. Get loss\n",
        "    5. Get gradients w.r.t. parameters\n",
        "    6. Update parameters using gradients\n",
        "        - `parameters = parameters - learning_rate * parameters_gradients`\n",
        "    7. REPEAT"
      ]
    },
    {
      "cell_type": "code",
      "metadata": {
        "id": "M5AHfAGE9GhH",
        "colab": {
          "base_uri": "https://localhost:8080/"
        },
        "outputId": "47511041-8963-4045-9886-ff54e3c7a504"
      },
      "source": [
        "iter = 0\n",
        "for epoch in range(num_epochs):\n",
        "    for i, (images, labels) in enumerate(train_loader):\n",
        "        # Load images as Variable\n",
        "        images = images.view(-1, 28*28).requires_grad_()\n",
        "        labels = labels\n",
        "        \n",
        "        # Clear gradients w.r.t. parameters\n",
        "        optimizer.zero_grad()\n",
        "        \n",
        "        # Forward pass to get output/logits\n",
        "        outputs = model(images)\n",
        "        \n",
        "        # Calculate Loss: softmax --> cross entropy loss\n",
        "        loss = criterion(outputs, labels)\n",
        "        \n",
        "        # Getting gradients w.r.t. parameters\n",
        "        loss.backward()\n",
        "        \n",
        "        # Updating parameters\n",
        "        optimizer.step()\n",
        "        \n",
        "        iter += 1\n",
        "        \n",
        "        if iter % 500 == 0:\n",
        "            # Calculate Accuracy         \n",
        "            correct = 0\n",
        "            total = 0\n",
        "            # Iterate through test dataset\n",
        "            for images, labels in test_loader:\n",
        "                # Load images to a Torch Variable\n",
        "                images = images.view(-1, 28*28).requires_grad_()\n",
        "                \n",
        "                # Forward pass only to get logits/output\n",
        "                outputs = model(images)\n",
        "                \n",
        "                # Get predictions from the maximum value\n",
        "                _, predicted = torch.max(outputs.data, 1)\n",
        "                \n",
        "                # Total number of labels\n",
        "                total += labels.size(0)\n",
        "                \n",
        "                # Total correct predictions\n",
        "                correct += (predicted == labels).sum()\n",
        "            \n",
        "            accuracy = 100 * correct / total\n",
        "            \n",
        "            # Print Loss\n",
        "            print('Iteration: {}. Loss: {}. Accuracy: {}'.format(iter, loss.item(), accuracy))"
      ],
      "execution_count": null,
      "outputs": [
        {
          "output_type": "stream",
          "name": "stdout",
          "text": [
            "Iteration: 500. Loss: 1.852550983428955. Accuracy: 65.77999877929688\n",
            "Iteration: 1000. Loss: 1.6161679029464722. Accuracy: 77.0\n",
            "Iteration: 1500. Loss: 1.3809868097305298. Accuracy: 79.9800033569336\n",
            "Iteration: 2000. Loss: 1.2053505182266235. Accuracy: 81.37999725341797\n",
            "Iteration: 2500. Loss: 1.049260139465332. Accuracy: 82.19000244140625\n",
            "Iteration: 3000. Loss: 0.99098801612854. Accuracy: 82.73999786376953\n"
          ]
        }
      ]
    },
    {
      "cell_type": "markdown",
      "metadata": {
        "id": "ue1LaCOc9GhO"
      },
      "source": [
        "## 3. Building a Logistic Regression Model with PyTorch (GPU)\n",
        "\n"
      ]
    },
    {
      "cell_type": "code",
      "metadata": {
        "id": "Kn-8buKj9GhO",
        "colab": {
          "base_uri": "https://localhost:8080/"
        },
        "outputId": "b17131b4-eb3d-48fe-fa32-c39b72c1cd77"
      },
      "source": [
        "import torch\n",
        "import torch.nn as nn\n",
        "import torchvision.transforms as transforms\n",
        "import torchvision.datasets as dsets\n",
        "\n",
        "'''\n",
        "STEP 1: LOADING DATASET\n",
        "'''\n",
        "\n",
        "train_dataset = dsets.MNIST(root='./data', \n",
        "                            train=True, \n",
        "                            transform=transforms.ToTensor(),\n",
        "                            download=True)\n",
        "\n",
        "test_dataset = dsets.MNIST(root='./data', \n",
        "                           train=False, \n",
        "                           transform=transforms.ToTensor())\n",
        "\n",
        "'''\n",
        "STEP 2: MAKING DATASET ITERABLE\n",
        "'''\n",
        "\n",
        "batch_size = 100\n",
        "n_iters = 3000\n",
        "num_epochs = n_iters / (len(train_dataset) / batch_size)\n",
        "num_epochs = int(num_epochs)\n",
        "\n",
        "train_loader = torch.utils.data.DataLoader(dataset=train_dataset, \n",
        "                                           batch_size=batch_size, \n",
        "                                           shuffle=True)\n",
        "\n",
        "test_loader = torch.utils.data.DataLoader(dataset=test_dataset, \n",
        "                                          batch_size=batch_size, \n",
        "                                          shuffle=False)\n",
        "\n",
        "'''\n",
        "STEP 3: CREATE MODEL CLASS\n",
        "'''\n",
        "class LogisticRegressionModel(nn.Module):\n",
        "    def __init__(self, input_size, num_classes):\n",
        "        super(LogisticRegressionModel, self).__init__()\n",
        "        self.linear = nn.Linear(input_dim, output_dim)\n",
        "    \n",
        "    def forward(self, x):\n",
        "        out = self.linear(x)\n",
        "        return out\n",
        "\n",
        "'''\n",
        "STEP 4: INSTANTIATE MODEL CLASS\n",
        "'''\n",
        "input_dim = 28*28\n",
        "output_dim = 10\n",
        "\n",
        "model = LogisticRegressionModel(input_dim, output_dim)\n",
        "\n",
        "'''\n",
        "STEP 5: INSTANTIATE LOSS CLASS\n",
        "'''\n",
        "criterion = nn.CrossEntropyLoss()\n",
        "\n",
        "\n",
        "'''\n",
        "STEP 6: INSTANTIATE OPTIMIZER CLASS\n",
        "'''\n",
        "learning_rate = 0.001\n",
        "\n",
        "optimizer = torch.optim.SGD(model.parameters(), lr=learning_rate)\n",
        "\n",
        "'''\n",
        "STEP 7: TRAIN THE MODEL\n",
        "'''\n",
        "iter = 0\n",
        "for epoch in range(num_epochs):\n",
        "    for i, (images, labels) in enumerate(train_loader):\n",
        "        # Load images as Variable\n",
        "        images = images.view(-1, 28*28).requires_grad_()\n",
        "        labels = labels\n",
        "        \n",
        "        # Clear gradients w.r.t. parameters\n",
        "        optimizer.zero_grad()\n",
        "        \n",
        "        # Forward pass to get output/logits\n",
        "        # 100 x 10\n",
        "        outputs = model(images)\n",
        "        \n",
        "        # Calculate Loss: softmax --> cross entropy loss\n",
        "        loss = criterion(outputs, labels)\n",
        "        \n",
        "        # Getting gradients w.r.t. parameters\n",
        "        loss.backward()\n",
        "        \n",
        "        # Updating parameters\n",
        "        optimizer.step()\n",
        "        \n",
        "        iter += 1\n",
        "        \n",
        "        if iter % 500 == 0:\n",
        "            # Calculate Accuracy         \n",
        "            correct = 0\n",
        "            total = 0\n",
        "            # Iterate through test dataset\n",
        "            for images, labels in test_loader:\n",
        "                # Load images to a Torch Variable\n",
        "                images = images.view(-1, 28*28).requires_grad_()\n",
        "                \n",
        "                # Forward pass only to get logits/output\n",
        "                outputs = model(images)\n",
        "                \n",
        "                # Get predictions from the maximum value\n",
        "                # 100 x 1\n",
        "                _, predicted = torch.max(outputs.data, 1)\n",
        "                \n",
        "                # Total number of labels\n",
        "                total += labels.size(0)\n",
        "                \n",
        "                # Total correct predictions\n",
        "                correct += (predicted == labels).sum()\n",
        "            \n",
        "            accuracy = 100 * correct.item() / total\n",
        "            \n",
        "            # Print Loss\n",
        "            print('Iteration: {}. Loss: {}. Accuracy: {}'.format(iter, loss.item(), accuracy))"
      ],
      "execution_count": null,
      "outputs": [
        {
          "output_type": "stream",
          "name": "stdout",
          "text": [
            "Iteration: 500. Loss: 1.8574620485305786. Accuracy: 68.48\n",
            "Iteration: 1000. Loss: 1.5461664199829102. Accuracy: 76.04\n",
            "Iteration: 1500. Loss: 1.4276705980300903. Accuracy: 79.09\n",
            "Iteration: 2000. Loss: 1.1421300172805786. Accuracy: 81.1\n",
            "Iteration: 2500. Loss: 1.1033283472061157. Accuracy: 82.16\n",
            "Iteration: 3000. Loss: 0.9799472093582153. Accuracy: 83.04\n"
          ]
        }
      ]
    },
    {
      "cell_type": "markdown",
      "metadata": {
        "id": "U0NkGSZw9GhO"
      },
      "source": [
        "GPU: 2 things must be on GPU\n",
        "- `model`\n",
        "- `variables`"
      ]
    },
    {
      "cell_type": "code",
      "metadata": {
        "id": "qcy0NKWk9GhO",
        "colab": {
          "base_uri": "https://localhost:8080/"
        },
        "outputId": "d47d3568-e7bc-4c2f-80d7-e7d401dd51ec"
      },
      "source": [
        "import torch\n",
        "import torch.nn as nn\n",
        "import torchvision.transforms as transforms\n",
        "import torchvision.datasets as dsets\n",
        "\n",
        "'''\n",
        "STEP 1: LOADING DATASET\n",
        "'''\n",
        "\n",
        "train_dataset = dsets.MNIST(root='./data', \n",
        "                            train=True, \n",
        "                            transform=transforms.ToTensor(),\n",
        "                            download=True)\n",
        "\n",
        "test_dataset = dsets.MNIST(root='./data', \n",
        "                           train=False, \n",
        "                           transform=transforms.ToTensor())\n",
        "\n",
        "'''\n",
        "STEP 2: MAKING DATASET ITERABLE\n",
        "'''\n",
        "\n",
        "batch_size = 100\n",
        "n_iters = 3000\n",
        "num_epochs = n_iters / (len(train_dataset) / batch_size)\n",
        "num_epochs = int(num_epochs)\n",
        "\n",
        "train_loader = torch.utils.data.DataLoader(dataset=train_dataset, \n",
        "                                           batch_size=batch_size, \n",
        "                                           shuffle=True)\n",
        "\n",
        "test_loader = torch.utils.data.DataLoader(dataset=test_dataset, \n",
        "                                          batch_size=batch_size, \n",
        "                                          shuffle=False)\n",
        "\n",
        "'''\n",
        "STEP 3: CREATE MODEL CLASS\n",
        "'''\n",
        "class LogisticRegressionModel(nn.Module):\n",
        "    def __init__(self, input_size, num_classes):\n",
        "        super(LogisticRegressionModel, self).__init__()\n",
        "        self.linear = nn.Linear(input_dim, output_dim)\n",
        "    \n",
        "    def forward(self, x):\n",
        "        out = self.linear(x)\n",
        "        return out\n",
        "\n",
        "'''\n",
        "STEP 4: INSTANTIATE MODEL CLASS\n",
        "'''\n",
        "input_dim = 28*28\n",
        "output_dim = 10\n",
        "\n",
        "model = LogisticRegressionModel(input_dim, output_dim)\n",
        "\n",
        "#######################\n",
        "#  USE GPU FOR MODEL  #\n",
        "#######################\n",
        "\n",
        "device = torch.device(\"cuda:0\" if torch.cuda.is_available() else \"cpu\")\n",
        "model.to(device)\n",
        "\n",
        "'''\n",
        "STEP 5: INSTANTIATE LOSS CLASS\n",
        "'''\n",
        "criterion = nn.CrossEntropyLoss()\n",
        "\n",
        "\n",
        "'''\n",
        "STEP 6: INSTANTIATE OPTIMIZER CLASS\n",
        "'''\n",
        "learning_rate = 0.001\n",
        "\n",
        "optimizer = torch.optim.SGD(model.parameters(), lr=learning_rate)\n",
        "\n",
        "'''\n",
        "STEP 7: TRAIN THE MODEL\n",
        "'''\n",
        "iter = 0\n",
        "for epoch in range(num_epochs):\n",
        "    for i, (images, labels) in enumerate(train_loader):\n",
        "        \n",
        "        #######################\n",
        "        #  USE GPU FOR MODEL  #\n",
        "        #######################\n",
        "        images = images.view(-1, 28*28).requires_grad_().to(device)\n",
        "        labels = labels.to(device)\n",
        "        \n",
        "        # Clear gradients w.r.t. parameters\n",
        "        optimizer.zero_grad()\n",
        "        \n",
        "        # Forward pass to get output/logits\n",
        "        outputs = model(images)\n",
        "        \n",
        "        # Calculate Loss: softmax --> cross entropy loss\n",
        "        loss = criterion(outputs, labels)\n",
        "        \n",
        "        # Getting gradients w.r.t. parameters\n",
        "        loss.backward()\n",
        "        \n",
        "        # Updating parameters\n",
        "        optimizer.step()\n",
        "        \n",
        "        iter += 1\n",
        "        \n",
        "        if iter % 500 == 0:\n",
        "            # Calculate Accuracy         \n",
        "            correct = 0\n",
        "            total = 0\n",
        "            # Iterate through test dataset\n",
        "            for images, labels in test_loader:\n",
        "                #######################\n",
        "                #  USE GPU FOR MODEL  #\n",
        "                #######################\n",
        "                images = images.view(-1, 28*28).to(device)\n",
        "                \n",
        "                # Forward pass only to get logits/output\n",
        "                outputs = model(images)\n",
        "                \n",
        "                # Get predictions from the maximum value\n",
        "                _, predicted = torch.max(outputs.data, 1)\n",
        "                \n",
        "                # Total number of labels\n",
        "                total += labels.size(0)\n",
        "                \n",
        "                #######################\n",
        "                #  USE GPU FOR MODEL  #\n",
        "                #######################\n",
        "                # Total correct predictions\n",
        "                if torch.cuda.is_available():\n",
        "                    correct += (predicted.cpu() == labels.cpu()).sum()\n",
        "                else:\n",
        "                    correct += (predicted == labels).sum()\n",
        "            \n",
        "            accuracy = 100 * correct.item() / total\n",
        "            \n",
        "            # Print Loss\n",
        "            print('Iteration: {}. Loss: {}. Accuracy: {}'.format(iter, loss.item(), accuracy))"
      ],
      "execution_count": null,
      "outputs": [
        {
          "output_type": "stream",
          "name": "stdout",
          "text": [
            "Iteration: 500. Loss: 1.8459081649780273. Accuracy: 68.47\n",
            "Iteration: 1000. Loss: 1.5164052248001099. Accuracy: 76.84\n",
            "Iteration: 1500. Loss: 1.386899471282959. Accuracy: 79.4\n",
            "Iteration: 2000. Loss: 1.2916090488433838. Accuracy: 81.15\n",
            "Iteration: 2500. Loss: 1.0854641199111938. Accuracy: 81.97\n",
            "Iteration: 3000. Loss: 1.0404410362243652. Accuracy: 82.9\n"
          ]
        }
      ]
    },
    {
      "cell_type": "markdown",
      "metadata": {
        "id": "BaqNKnh89GhP"
      },
      "source": [
        "# Summary"
      ]
    },
    {
      "cell_type": "markdown",
      "metadata": {
        "id": "uiTidg3n9GhP"
      },
      "source": [
        "- **Logistic regression** basics\n",
        "- **In-depth** Logistic Regression\n",
        "    1. Get logits\n",
        "    2. Get softmax\n",
        "    3. Get cross-entropy loss\n",
        "- **Aim**: reduce cross-entropy loss\n",
        "- Built a **logistic regression model** in **CPU and GPU**\n",
        "    - Step 1: Load Dataset\n",
        "    - Step 2: Make Dataset Iterable\n",
        "    - Step 3: Create Model Class\n",
        "    - Step 4: Instantiate Model Class\n",
        "    - Step 5: Instantiate Loss Class\n",
        "    - Step 6: Instantiate Optimizer Class\n",
        "    - Step 7: Train Model\n",
        "- Important things to be on **GPU**\n",
        "    - `model`\n",
        "    - `tensors with gradients`"
      ]
    },
    {
      "cell_type": "markdown",
      "metadata": {
        "id": "RXJymqIU8AQm"
      },
      "source": [
        "## Feedforward Neural Network"
      ]
    },
    {
      "cell_type": "markdown",
      "metadata": {
        "id": "jJwjpg4A8NY1"
      },
      "source": [
        "#### Logistic Regression Problems\n",
        "- Can represent **linear** functions well\n",
        "    - $ y = 2x + 3$\n",
        "    - $ y = x_1 + x_2 $\n",
        "    - $ y = x_1 + 3x_2 + 4x_3 $\n",
        "- Cannot represent **non-linear** functions\n",
        "    - $ y = 4x_1 + 2x_2^2 +3x_3^3 $\n",
        "    - $ y = x_1x_2$\n",
        "\n",
        "### Need to introduce a Non-linear Function\n",
        "\n",
        "### Commonly used Non-linear Functions\n",
        "- Function: takes a number & perform mathematical operation\n",
        "- Common Types of Non-linearity\n",
        "    - ReLUs (Rectified Linear Units)      \n",
        "    - Sigmoid     \n",
        "    - Tanh\n",
        "\n",
        "#### Sigmoid (Logistic)\n",
        "- $\\sigma(x) = \\frac{1}{1 + e^{-x}}$\n",
        "- Input number $\\rightarrow$ [0, 1]\n",
        "    - Large negative number $\\rightarrow$ 0\n",
        "    - Large positive number $\\rightarrow$ 1\n",
        "- Cons: \n",
        "    1. Activation saturates at 0 or 1 with **gradients $\\approx$ 0**\n",
        "        - No signal to update weights $\\rightarrow$ **cannot learn**\n",
        "        - Solution: Have to carefully initialize weights to prevent this\n",
        "    2. Outputs not centered around 0 \n",
        "        - If output always positive $\\rightarrow$ gradients always positive or negative $\\rightarrow$ **bad for gradient updates** \n",
        "\n",
        "#### Tanh\n",
        "- $\\tanh(x) = 2 \\sigma(2x) -1$\n",
        "    - A scaled sigmoid function\n",
        "- Input number $\\rightarrow$ [-1, 1]\n",
        "- Cons: \n",
        "    1. Activation saturates at 0 or 1 with **gradients $\\approx$ 0**\n",
        "        - No signal to update weights $\\rightarrow$ **cannot learn**\n",
        "        - **Solution**: Have to carefully initialize weights to prevent this\n",
        "\n",
        " \n",
        "#### ReLUs\n",
        "- $f(x) = \\max(0, x)$\n",
        "- Pros:\n",
        "    1. Accelerates convergence $\\rightarrow$ **train faster**\n",
        "    2. **Less computationally expensive operation** compared to Sigmoid/Tanh exponentials\n",
        "- Cons:\n",
        "    1. Many ReLU units \"die\" $\\rightarrow$ **gradients = 0** forever\n",
        "        - **Solution**: careful learning rate choice"
      ]
    },
    {
      "cell_type": "markdown",
      "metadata": {
        "id": "ZmOHjTlf8vYF"
      },
      "source": [
        "### Building a Feedforward Neural Network with PyTorch"
      ]
    },
    {
      "cell_type": "markdown",
      "metadata": {
        "id": "y38zDqUb9Hil"
      },
      "source": [
        "### Model: 3 Hidden Layer Feedforward Neural Network (ReLU Activation)\n",
        "### Steps\n",
        "- Step 1: Load Dataset\n",
        "- Step 2: Make Dataset Iterable\n",
        "- Step 3: Create Model Class\n",
        "- Step 4: Instantiate Model Class\n",
        "- Step 5: Instantiate Loss Class\n",
        "- Step 6: Instantiate Optimizer Class\n",
        "- Step 7: Train Model\n",
        "\n",
        "#### Train Model\n",
        "- Process \n",
        "    1. Convert inputs to tensors with gradient accumulation capabilities\n",
        "    2. Clear gradient buffers\n",
        "    3. Get output given inputs \n",
        "    4. Get loss\n",
        "    5. Get gradients w.r.t. parameters\n",
        "    6. Update parameters using gradients\n",
        "        - `parameters = parameters - learning_rate * parameters_gradients`\n",
        "    7. REPEAT"
      ]
    },
    {
      "cell_type": "markdown",
      "metadata": {
        "id": "Zkbdspnt9vUj"
      },
      "source": [
        "### Load MNIST Dataset"
      ]
    },
    {
      "cell_type": "code",
      "metadata": {
        "colab": {
          "base_uri": "https://localhost:8080/",
          "height": 471,
          "referenced_widgets": [
            "0c80c2c153044f24a065fcae2d71270f",
            "8477771ea5d74daa87c5bc290fad5971",
            "c1ffa57a975142eb95350ca84fad0013",
            "b10062c6b9284085a78123ed55be4471",
            "ca6e5a35d9fb44afa67ad2e162fa394d",
            "3c2a00a6668746ea959995f33aeb7bf0",
            "4adc4458df634d1d99fe50840b7b4b45",
            "91882c30177f4d70ab78de88e5b32c59",
            "c5db7ab40ea04f99a15e2623fa2aaaee",
            "421e61932ab845dfaf886f715b6d3919",
            "71e37ed41609435daf3efcfcbc5958b3",
            "8f135212f14242b2bfbf3570b7fde5cf",
            "072de5e85e6440bc859fca604a5f5666",
            "2b23e2ac94cb4742b3a0705eb2aad592",
            "9bca6b0072c64919b363ea82d58fcbb1",
            "0fab4f502287407680abad2b57e16739",
            "0d12ecfbb37f4866b8c31f6398bc4514",
            "9d2f19c513ca46278354d973a66f1a35",
            "adce52b4735f4cf19b7b39744132ead5",
            "789215d59a714d3da80294e270f1a569",
            "0a3533933c34442696552ccf2343a441",
            "047a52bc365b412cb2d57231a99da957",
            "2c9b1417fbed480e93b958cf55a762e7",
            "c7aa012590ce46f08d4a3f18aa618b6c",
            "227b30a32cbd435da04a8a53403d5922",
            "8a24a40794584bd3b618d9a76de41c02",
            "7bf71047233d4bb2baa562267a4557c4",
            "14d080d96d75490685ec429e1d64a02a",
            "10ad39e648074b589930df16d002f3d4",
            "74558aedecd74f6d8f269c3a862af45f",
            "f9ea124a5f4d412bb7be3918d237a1f0",
            "2a6d8f1cd16a4434ba44e5fe3f87d3ea",
            "14fe15b600b5421fa54a1f2c2422f558",
            "505a18f93e7941abad9d50ebe98bf515",
            "b1aa1fe4bf2e416a9fb3ef5d191d294f",
            "b783656aa1754cdcad753462694298ec",
            "ca9ed7b083d948bba83d685e31ac1c4e",
            "05a60abce1b84fc2b02d4918d0d13860",
            "f8385497ac68482c8632d46a0f422ca8",
            "f59488db34cc4672b76d2b78ae8fb61e",
            "7a63f1ae5d77453ca99403a9f28bf00b",
            "722e522cbc4b4fd4a83ade66bd0cb8f4",
            "d811821c82a94a58aeb922b921061873",
            "e200e8f16c79426abd8309626a5927dd"
          ]
        },
        "id": "YmhqMrxQ7_aV",
        "outputId": "b9d1da93-7f38-4192-ddd3-90d1a5a1450e"
      },
      "source": [
        "import torch\n",
        "import torch.nn as nn\n",
        "import torchvision.transforms as transforms\n",
        "import torchvision.datasets as dsets\n",
        "\n",
        "train_dataset = dsets.MNIST(root='./data', \n",
        "                            train=True, \n",
        "                            transform=transforms.ToTensor(),\n",
        "                            download=True)\n",
        "\n",
        "test_dataset = dsets.MNIST(root='./data', \n",
        "                           train=False, \n",
        "                           transform=transforms.ToTensor())\n",
        "\n",
        "batch_size = 100\n",
        "n_iters = 3000\n",
        "num_epochs = n_iters / (len(train_dataset) / batch_size)\n",
        "num_epochs = int(num_epochs)\n",
        "\n",
        "train_loader = torch.utils.data.DataLoader(dataset=train_dataset, \n",
        "                                           batch_size=batch_size, \n",
        "                                           shuffle=True)\n",
        "\n",
        "test_loader = torch.utils.data.DataLoader(dataset=test_dataset, \n",
        "                                          batch_size=batch_size, \n",
        "                                          shuffle=False)"
      ],
      "execution_count": null,
      "outputs": [
        {
          "output_type": "stream",
          "name": "stdout",
          "text": [
            "Downloading http://yann.lecun.com/exdb/mnist/train-images-idx3-ubyte.gz\n",
            "Downloading http://yann.lecun.com/exdb/mnist/train-images-idx3-ubyte.gz to ./data/MNIST/raw/train-images-idx3-ubyte.gz\n"
          ]
        },
        {
          "output_type": "display_data",
          "data": {
            "application/vnd.jupyter.widget-view+json": {
              "model_id": "0c80c2c153044f24a065fcae2d71270f",
              "version_minor": 0,
              "version_major": 2
            },
            "text/plain": [
              "  0%|          | 0/9912422 [00:00<?, ?it/s]"
            ]
          },
          "metadata": {}
        },
        {
          "output_type": "stream",
          "name": "stdout",
          "text": [
            "Extracting ./data/MNIST/raw/train-images-idx3-ubyte.gz to ./data/MNIST/raw\n",
            "\n",
            "Downloading http://yann.lecun.com/exdb/mnist/train-labels-idx1-ubyte.gz\n",
            "Downloading http://yann.lecun.com/exdb/mnist/train-labels-idx1-ubyte.gz to ./data/MNIST/raw/train-labels-idx1-ubyte.gz\n"
          ]
        },
        {
          "output_type": "display_data",
          "data": {
            "application/vnd.jupyter.widget-view+json": {
              "model_id": "8f135212f14242b2bfbf3570b7fde5cf",
              "version_minor": 0,
              "version_major": 2
            },
            "text/plain": [
              "  0%|          | 0/28881 [00:00<?, ?it/s]"
            ]
          },
          "metadata": {}
        },
        {
          "output_type": "stream",
          "name": "stdout",
          "text": [
            "Extracting ./data/MNIST/raw/train-labels-idx1-ubyte.gz to ./data/MNIST/raw\n",
            "\n",
            "Downloading http://yann.lecun.com/exdb/mnist/t10k-images-idx3-ubyte.gz\n",
            "Downloading http://yann.lecun.com/exdb/mnist/t10k-images-idx3-ubyte.gz to ./data/MNIST/raw/t10k-images-idx3-ubyte.gz\n"
          ]
        },
        {
          "output_type": "display_data",
          "data": {
            "application/vnd.jupyter.widget-view+json": {
              "model_id": "2c9b1417fbed480e93b958cf55a762e7",
              "version_minor": 0,
              "version_major": 2
            },
            "text/plain": [
              "  0%|          | 0/1648877 [00:00<?, ?it/s]"
            ]
          },
          "metadata": {}
        },
        {
          "output_type": "stream",
          "name": "stdout",
          "text": [
            "Extracting ./data/MNIST/raw/t10k-images-idx3-ubyte.gz to ./data/MNIST/raw\n",
            "\n",
            "Downloading http://yann.lecun.com/exdb/mnist/t10k-labels-idx1-ubyte.gz\n",
            "Downloading http://yann.lecun.com/exdb/mnist/t10k-labels-idx1-ubyte.gz to ./data/MNIST/raw/t10k-labels-idx1-ubyte.gz\n"
          ]
        },
        {
          "output_type": "display_data",
          "data": {
            "application/vnd.jupyter.widget-view+json": {
              "model_id": "505a18f93e7941abad9d50ebe98bf515",
              "version_minor": 0,
              "version_major": 2
            },
            "text/plain": [
              "  0%|          | 0/4542 [00:00<?, ?it/s]"
            ]
          },
          "metadata": {}
        },
        {
          "output_type": "stream",
          "name": "stdout",
          "text": [
            "Extracting ./data/MNIST/raw/t10k-labels-idx1-ubyte.gz to ./data/MNIST/raw\n",
            "\n"
          ]
        },
        {
          "output_type": "stream",
          "name": "stderr",
          "text": [
            "/usr/local/lib/python3.7/dist-packages/torchvision/datasets/mnist.py:498: UserWarning: The given NumPy array is not writeable, and PyTorch does not support non-writeable tensors. This means you can write to the underlying (supposedly non-writeable) NumPy array using the tensor. You may want to copy the array to protect its data or make it writeable before converting it to a tensor. This type of warning will be suppressed for the rest of this program. (Triggered internally at  /pytorch/torch/csrc/utils/tensor_numpy.cpp:180.)\n",
            "  return torch.from_numpy(parsed.astype(m[2], copy=False)).view(*s)\n"
          ]
        }
      ]
    },
    {
      "cell_type": "code",
      "metadata": {
        "colab": {
          "base_uri": "https://localhost:8080/"
        },
        "id": "8HdT75nA9yfo",
        "outputId": "74cc0bf0-8a13-48a7-cad4-f6877d857f13"
      },
      "source": [
        "import torch\n",
        "import torch.nn as nn\n",
        "import torchvision.transforms as transforms\n",
        "import torchvision.datasets as dsets\n",
        "\n",
        "'''\n",
        "STEP 1: LOADING DATASET\n",
        "'''\n",
        "\n",
        "train_dataset = dsets.MNIST(root='./data', \n",
        "                            train=True, \n",
        "                            transform=transforms.ToTensor(),\n",
        "                            download=True)\n",
        "\n",
        "test_dataset = dsets.MNIST(root='./data', \n",
        "                           train=False, \n",
        "                           transform=transforms.ToTensor())\n",
        "\n",
        "'''\n",
        "STEP 2: MAKING DATASET ITERABLE\n",
        "'''\n",
        "\n",
        "batch_size = 100\n",
        "n_iters = 3000\n",
        "num_epochs = n_iters / (len(train_dataset) / batch_size)\n",
        "num_epochs = int(num_epochs)\n",
        "\n",
        "train_loader = torch.utils.data.DataLoader(dataset=train_dataset, \n",
        "                                           batch_size=batch_size, \n",
        "                                           shuffle=True)\n",
        "\n",
        "test_loader = torch.utils.data.DataLoader(dataset=test_dataset, \n",
        "                                          batch_size=batch_size, \n",
        "                                          shuffle=False)\n",
        "\n",
        "'''\n",
        "STEP 3: CREATE MODEL CLASS\n",
        "'''\n",
        "class FeedforwardNeuralNetModel(nn.Module):\n",
        "    def __init__(self, input_dim, hidden_dim, output_dim):\n",
        "        super(FeedforwardNeuralNetModel, self).__init__()\n",
        "        # Linear function 1: 784 --> 100\n",
        "        self.fc1 = nn.Linear(input_dim, hidden_dim) \n",
        "        # Non-linearity 1\n",
        "        self.relu1 = nn.ReLU()\n",
        "        \n",
        "        # Linear function 2: 100 --> 100\n",
        "        self.fc2 = nn.Linear(hidden_dim, hidden_dim)\n",
        "        # Non-linearity 2\n",
        "        self.relu2 = nn.ReLU()\n",
        "        \n",
        "        # Linear function 3: 100 --> 100\n",
        "        self.fc3 = nn.Linear(hidden_dim, hidden_dim)\n",
        "        # Non-linearity 3\n",
        "        self.relu3 = nn.ReLU()\n",
        "        \n",
        "        # Linear function 4 (readout): 100 --> 10\n",
        "        self.fc4 = nn.Linear(hidden_dim, output_dim)  \n",
        "    \n",
        "    def forward(self, x):\n",
        "        # Linear function 1\n",
        "        out = self.fc1(x)\n",
        "        # Non-linearity 1\n",
        "        out = self.relu1(out)\n",
        "        \n",
        "        # Linear function 2\n",
        "        out = self.fc2(out)\n",
        "        # Non-linearity 2\n",
        "        out = self.relu2(out)\n",
        "        \n",
        "        # Linear function 2\n",
        "        out = self.fc3(out)\n",
        "        # Non-linearity 2\n",
        "        out = self.relu3(out)\n",
        "        \n",
        "        # Linear function 4 (readout)\n",
        "        out = self.fc4(out)\n",
        "        return out\n",
        "'''\n",
        "STEP 4: INSTANTIATE MODEL CLASS\n",
        "'''\n",
        "input_dim = 28*28\n",
        "hidden_dim = 100\n",
        "output_dim = 10\n",
        "\n",
        "model = FeedforwardNeuralNetModel(input_dim, hidden_dim, output_dim)\n",
        "\n",
        "'''\n",
        "STEP 5: INSTANTIATE LOSS CLASS\n",
        "'''\n",
        "criterion = nn.CrossEntropyLoss()\n",
        "\n",
        "\n",
        "'''\n",
        "STEP 6: INSTANTIATE OPTIMIZER CLASS\n",
        "'''\n",
        "learning_rate = 0.1\n",
        "\n",
        "optimizer = torch.optim.SGD(model.parameters(), lr=learning_rate)\n",
        "\n",
        "'''\n",
        "STEP 7: TRAIN THE MODEL\n",
        "'''\n",
        "iter = 0\n",
        "for epoch in range(num_epochs):\n",
        "    for i, (images, labels) in enumerate(train_loader):\n",
        "        # Load images with gradient accumulation capabilities\n",
        "        images = images.view(-1, 28*28).requires_grad_()\n",
        "        \n",
        "        # Clear gradients w.r.t. parameters\n",
        "        optimizer.zero_grad()\n",
        "        \n",
        "        # Forward pass to get output/logits\n",
        "        outputs = model(images)\n",
        "        \n",
        "        # Calculate Loss: softmax --> cross entropy loss\n",
        "        loss = criterion(outputs, labels)\n",
        "        \n",
        "        # Getting gradients w.r.t. parameters\n",
        "        loss.backward()\n",
        "        \n",
        "        # Updating parameters\n",
        "        optimizer.step()\n",
        "        \n",
        "        iter += 1\n",
        "        \n",
        "        if iter % 500 == 0:\n",
        "            # Calculate Accuracy         \n",
        "            correct = 0\n",
        "            total = 0\n",
        "            # Iterate through test dataset\n",
        "            for images, labels in test_loader:\n",
        "                # Load images with gradient accumulation capabilities\n",
        "                images = images.view(-1, 28*28).requires_grad_()\n",
        "                \n",
        "                # Forward pass only to get logits/output\n",
        "                outputs = model(images)\n",
        "                \n",
        "                # Get predictions from the maximum value\n",
        "                _, predicted = torch.max(outputs.data, 1)\n",
        "                \n",
        "                # Total number of labels\n",
        "                total += labels.size(0)\n",
        "                \n",
        "                # Total correct predictions\n",
        "                correct += (predicted == labels).sum()\n",
        "            \n",
        "            accuracy = 100 * correct / total\n",
        "            \n",
        "            # Print Loss\n",
        "            print('Iteration: {}. Loss: {}. Accuracy: {}'.format(iter, loss.item(), accuracy))"
      ],
      "execution_count": null,
      "outputs": [
        {
          "output_type": "stream",
          "name": "stdout",
          "text": [
            "Iteration: 500. Loss: 0.3437914550304413. Accuracy: 90.54000091552734\n",
            "Iteration: 1000. Loss: 0.19311484694480896. Accuracy: 93.80000305175781\n",
            "Iteration: 1500. Loss: 0.06096424162387848. Accuracy: 95.62999725341797\n",
            "Iteration: 2000. Loss: 0.04801714047789574. Accuracy: 96.25\n",
            "Iteration: 2500. Loss: 0.039868444204330444. Accuracy: 96.66999816894531\n",
            "Iteration: 3000. Loss: 0.030300023034214973. Accuracy: 97.31999969482422\n"
          ]
        }
      ]
    },
    {
      "cell_type": "markdown",
      "metadata": {
        "id": "8HzHLW8N-ybd"
      },
      "source": [
        "## Convolutional Neural Network"
      ]
    },
    {
      "cell_type": "markdown",
      "metadata": {
        "id": "3ceR4o2MApqP"
      },
      "source": [
        "#### Basic Convolutional Neural Network\n",
        "- Additional **convolution** and **pooling** layers **before feedforward neural network**\n",
        "- Layer with a **linear function & non-linearity**: **Fully connected layer**"
      ]
    },
    {
      "cell_type": "markdown",
      "metadata": {
        "id": "9dm92sT5CrIv"
      },
      "source": [
        "### Convolutional Layer:\n",
        "<img src = 'https://anhreynolds.com/img/cnn.png'>\n",
        "\n",
        "- As the **kernel is sliding/convolving** across the image $\\rightarrow$ 2 operations done **per patch**\n",
        "    1. Element-wise multiplication\n",
        "    2. Summation\n",
        "- More **kernels** $=$ more **feature map channels**\n",
        "    - Can capture **more information** about the input\n",
        "\n",
        "### Pooling Layer:\n",
        "<img src = 'https://www.researchgate.net/profile/Imran-Ali-12/publication/340812216/figure/fig4/AS:928590380138496@1598404607456/Pooling-layer-operation-oproaches-1-Pooling-layers-For-the-function-of-decreasing-the.png'>\n",
        "\n",
        "- 2 Common Types\n",
        "    - Max Pooling\n",
        "    - Average Pooling\n",
        "\n",
        "### Padding\n",
        "- **Valid** Padding (Zero Padding)\n",
        "    - Output size < Input Size\n",
        "- **Same** Padding\n",
        "    - Output size = Input Size\n",
        "\n",
        "### Dimension Calculations\n",
        "- $ O = \\frac {W - K + 2P}{S} + 1$\n",
        "    - $O$: output height/length\n",
        "    - $W$: input height/length\n",
        "    - $K$: filter size (kernel size)\n",
        "    - $P$: padding\n",
        "        - $ P = \\frac{K - 1}{2} $\n",
        "    - $S$: stride\n"
      ]
    },
    {
      "cell_type": "markdown",
      "metadata": {
        "id": "wf6dm5ArNDS-"
      },
      "source": [
        "### Model: \n",
        "- 2 Convolutional Layers\n",
        "    - **Valid Padding** (smaller output size)\n",
        "- 2 **Max Pooling** Layers\n",
        "- 1 Fully Connected Layer\n",
        "\n",
        "### Steps\n",
        "- Step 1: Load Dataset\n",
        "- Step 2: Make Dataset Iterable\n",
        "- Step 3: Create Model Class\n",
        "- Step 4: Instantiate Model Class\n",
        "- Step 5: Instantiate Loss Class\n",
        "- Step 6: Instantiate Optimizer Class\n",
        "- Step 7: Train Model"
      ]
    },
    {
      "cell_type": "code",
      "metadata": {
        "colab": {
          "base_uri": "https://localhost:8080/",
          "height": 607,
          "referenced_widgets": [
            "76ba9fa5a8a64d69854fd814c23b4e93",
            "d54c541915724c05b970e921dd5afe11",
            "3b324681190b47c6a17e081847161455",
            "e61eba9cd0cc462fa055315663be94af",
            "e57ab66270b841aebe3efd6514f4a86d",
            "8ed4a72e59c34ea2ad0ba521c539e514",
            "bc5841eaf91849259fead78eb3771902",
            "793ebc7358cb424fb7e003cdba5226a3",
            "2407df87415e41d8aa6be01592975c48",
            "4f6b9d40261546dba4696dc53a39b738",
            "86bd4115455947a9b1f09a963790238c",
            "f3c16c76c58e4b619e70c86d834ad80c",
            "072bcbb3253943b1b0fa7d5857bb1410",
            "eb43941f0390474c8ef3a676366f984f",
            "d865f9fe5afd4f2abf406ad443eb800b",
            "dd2261df610440eea87bc2dbf78a4d61",
            "5b2e41539cb144ee9ba4796c22f4ed4a",
            "c665ce4fc710410a82e96dd367e525b3",
            "b8933b4c6f2d4c34abc1faee1a2e4d04",
            "7320d0d49b0441da99d4a0b2be4353f7",
            "32656a0bde044eaca0b4978f89497b78",
            "d54ccd44801845c8bc620c5ce0397625",
            "c3cbec271cf348a6a831d95c1159e3b0",
            "6fb7aecc19094490a9d5991e81ffaf48",
            "eab31e9a08684426a3c2454071096bfb",
            "d8d4da19e72d40b6bfcd15cfa3e64ab6",
            "f25909fe478f4562b1a2e8604570acda",
            "22409d92782e4a9dabfabddc9f5fcde5",
            "1702104aa2a047adb7c78db8bd08c02e",
            "dc1da0d700934ae9be27b40147bac48c",
            "24ccc4610ad24a38b5122906d0a8f44b",
            "94d0af8e152d44ac943203426424e868",
            "71ca7a4c4efe405589d13affb229185c",
            "105a1e0389814c809c2f98378f74dbfc",
            "85fc19c47f1a44fba635f2f2d5c8b54a",
            "a9f830cf70714028adbb7885e1ad4652",
            "edd05df086d14f9da0924cdd0c4a4bb9",
            "3195fac0fd8f42408df7f2f53e4a5846",
            "b2c45256f4de4443b5d0b474b9d562ff",
            "33a65d48339944d9851cb825ccb5e6ea",
            "1de22d59929a42298667fcb67ac4b77c",
            "4404fd338d2f4f58b4c9c80bb72d4d5d",
            "601fa7ca03344b28b132030fe0b96478",
            "97a18799e8634292bc6b3ca6d3b9938a"
          ]
        },
        "id": "LamT6-MvDqyc",
        "outputId": "39594909-7c9e-4ce9-f2be-fcf16989beb1"
      },
      "source": [
        "import torch\n",
        "import torch.nn as nn\n",
        "import torchvision.transforms as transforms\n",
        "import torchvision.datasets as dsets\n",
        "from torch.autograd import Variable\n",
        "\n",
        "'''\n",
        "STEP 1: LOADING DATASET\n",
        "'''\n",
        "\n",
        "train_dataset = dsets.MNIST(root='./data', \n",
        "                            train=True, \n",
        "                            transform=transforms.ToTensor(),\n",
        "                            download=True)\n",
        "\n",
        "test_dataset = dsets.MNIST(root='./data', \n",
        "                           train=False, \n",
        "                           transform=transforms.ToTensor())\n",
        "\n",
        "'''\n",
        "STEP 2: MAKING DATASET ITERABLE\n",
        "'''\n",
        "\n",
        "batch_size = 100\n",
        "n_iters = 3000\n",
        "num_epochs = n_iters / (len(train_dataset) / batch_size)\n",
        "num_epochs = int(num_epochs)\n",
        "\n",
        "train_loader = torch.utils.data.DataLoader(dataset=train_dataset, \n",
        "                                           batch_size=batch_size, \n",
        "                                           shuffle=True)\n",
        "\n",
        "test_loader = torch.utils.data.DataLoader(dataset=test_dataset, \n",
        "                                          batch_size=batch_size, \n",
        "                                          shuffle=False)\n",
        "\n",
        "'''\n",
        "STEP 3: CREATE MODEL CLASS\n",
        "'''\n",
        "class CNNModel(nn.Module):\n",
        "    def __init__(self):\n",
        "        super(CNNModel, self).__init__()\n",
        "        \n",
        "        # Convolution 1\n",
        "        self.cnn1 = nn.Conv2d(in_channels=1, out_channels=16, kernel_size=5, stride=1, padding=0)\n",
        "        self.relu1 = nn.ReLU()\n",
        "        \n",
        "        # Max pool 1\n",
        "        self.maxpool1 = nn.MaxPool2d(kernel_size=2)\n",
        "     \n",
        "        # Convolution 2\n",
        "        self.cnn2 = nn.Conv2d(in_channels=16, out_channels=32, kernel_size=5, stride=1, padding=0)\n",
        "        self.relu2 = nn.ReLU()\n",
        "        \n",
        "        # Max pool 2\n",
        "        self.maxpool2 = nn.MaxPool2d(kernel_size=2)\n",
        "        \n",
        "        # Fully connected 1 (readout)\n",
        "        self.fc1 = nn.Linear(32 * 4 * 4, 10) \n",
        "    \n",
        "    def forward(self, x):\n",
        "        # Convolution 1\n",
        "        out = self.cnn1(x)\n",
        "        out = self.relu1(out)\n",
        "        \n",
        "        # Max pool 1\n",
        "        out = self.maxpool1(out)\n",
        "        \n",
        "        # Convolution 2 \n",
        "        out = self.cnn2(out)\n",
        "        out = self.relu2(out)\n",
        "        \n",
        "        # Max pool 2 \n",
        "        out = self.maxpool2(out)\n",
        "        \n",
        "        # Resize\n",
        "        # Original size: (100, 32, 7, 7)\n",
        "        # out.size(0): 100\n",
        "        # New out size: (100, 32*7*7)\n",
        "        out = out.view(out.size(0), -1)\n",
        "\n",
        "        # Linear function (readout)\n",
        "        out = self.fc1(out)\n",
        "        \n",
        "        return out\n",
        "\n",
        "'''\n",
        "STEP 4: INSTANTIATE MODEL CLASS\n",
        "'''\n",
        "\n",
        "model = CNNModel()\n",
        "\n",
        "'''\n",
        "STEP 5: INSTANTIATE LOSS CLASS\n",
        "'''\n",
        "criterion = nn.CrossEntropyLoss()\n",
        "\n",
        "\n",
        "'''\n",
        "STEP 6: INSTANTIATE OPTIMIZER CLASS\n",
        "'''\n",
        "learning_rate = 0.01\n",
        "\n",
        "optimizer = torch.optim.SGD(model.parameters(), lr=learning_rate)\n",
        "\n",
        "'''\n",
        "STEP 7: TRAIN THE MODEL\n",
        "'''\n",
        "iter = 0\n",
        "for epoch in range(num_epochs):\n",
        "    for i, (images, labels) in enumerate(train_loader):\n",
        "        # Load images as Variable\n",
        "        images = images.requires_grad_()\n",
        "        \n",
        "        # Clear gradients w.r.t. parameters\n",
        "        optimizer.zero_grad()\n",
        "        \n",
        "        # Forward pass to get output/logits\n",
        "        outputs = model(images)\n",
        "        \n",
        "        # Calculate Loss: softmax --> cross entropy loss\n",
        "        loss = criterion(outputs, labels)\n",
        "        \n",
        "        # Getting gradients w.r.t. parameters\n",
        "        loss.backward()\n",
        "        \n",
        "        # Updating parameters\n",
        "        optimizer.step()\n",
        "        \n",
        "        iter += 1\n",
        "        \n",
        "        if iter % 500 == 0:\n",
        "            # Calculate Accuracy         \n",
        "            correct = 0\n",
        "            total = 0\n",
        "            # Iterate through test dataset\n",
        "            for images, labels in test_loader:\n",
        "                # Load images to a Torch Variable\n",
        "                images = images.requires_grad_()\n",
        "                \n",
        "                # Forward pass only to get logits/output\n",
        "                outputs = model(images)\n",
        "                \n",
        "                # Get predictions from the maximum value\n",
        "                _, predicted = torch.max(outputs.data, 1)\n",
        "                \n",
        "                # Total number of labels\n",
        "                total += labels.size(0)\n",
        "                \n",
        "                # Total correct predictions\n",
        "                correct += (predicted == labels).sum()\n",
        "            \n",
        "            accuracy = 100 * correct / total\n",
        "            \n",
        "            # Print Loss\n",
        "            print('Iteration: {}. Loss: {}. Accuracy: {}'.format(iter, loss.item(), accuracy))"
      ],
      "execution_count": null,
      "outputs": [
        {
          "output_type": "stream",
          "name": "stdout",
          "text": [
            "Downloading http://yann.lecun.com/exdb/mnist/train-images-idx3-ubyte.gz\n",
            "Downloading http://yann.lecun.com/exdb/mnist/train-images-idx3-ubyte.gz to ./data/MNIST/raw/train-images-idx3-ubyte.gz\n"
          ]
        },
        {
          "output_type": "display_data",
          "data": {
            "application/vnd.jupyter.widget-view+json": {
              "model_id": "76ba9fa5a8a64d69854fd814c23b4e93",
              "version_minor": 0,
              "version_major": 2
            },
            "text/plain": [
              "  0%|          | 0/9912422 [00:00<?, ?it/s]"
            ]
          },
          "metadata": {}
        },
        {
          "output_type": "stream",
          "name": "stdout",
          "text": [
            "Extracting ./data/MNIST/raw/train-images-idx3-ubyte.gz to ./data/MNIST/raw\n",
            "\n",
            "Downloading http://yann.lecun.com/exdb/mnist/train-labels-idx1-ubyte.gz\n",
            "Downloading http://yann.lecun.com/exdb/mnist/train-labels-idx1-ubyte.gz to ./data/MNIST/raw/train-labels-idx1-ubyte.gz\n"
          ]
        },
        {
          "output_type": "display_data",
          "data": {
            "application/vnd.jupyter.widget-view+json": {
              "model_id": "f3c16c76c58e4b619e70c86d834ad80c",
              "version_minor": 0,
              "version_major": 2
            },
            "text/plain": [
              "  0%|          | 0/28881 [00:00<?, ?it/s]"
            ]
          },
          "metadata": {}
        },
        {
          "output_type": "stream",
          "name": "stdout",
          "text": [
            "Extracting ./data/MNIST/raw/train-labels-idx1-ubyte.gz to ./data/MNIST/raw\n",
            "\n",
            "Downloading http://yann.lecun.com/exdb/mnist/t10k-images-idx3-ubyte.gz\n",
            "Downloading http://yann.lecun.com/exdb/mnist/t10k-images-idx3-ubyte.gz to ./data/MNIST/raw/t10k-images-idx3-ubyte.gz\n"
          ]
        },
        {
          "output_type": "display_data",
          "data": {
            "application/vnd.jupyter.widget-view+json": {
              "model_id": "c3cbec271cf348a6a831d95c1159e3b0",
              "version_minor": 0,
              "version_major": 2
            },
            "text/plain": [
              "  0%|          | 0/1648877 [00:00<?, ?it/s]"
            ]
          },
          "metadata": {}
        },
        {
          "output_type": "stream",
          "name": "stdout",
          "text": [
            "Extracting ./data/MNIST/raw/t10k-images-idx3-ubyte.gz to ./data/MNIST/raw\n",
            "\n",
            "Downloading http://yann.lecun.com/exdb/mnist/t10k-labels-idx1-ubyte.gz\n",
            "Downloading http://yann.lecun.com/exdb/mnist/t10k-labels-idx1-ubyte.gz to ./data/MNIST/raw/t10k-labels-idx1-ubyte.gz\n"
          ]
        },
        {
          "output_type": "display_data",
          "data": {
            "application/vnd.jupyter.widget-view+json": {
              "model_id": "105a1e0389814c809c2f98378f74dbfc",
              "version_minor": 0,
              "version_major": 2
            },
            "text/plain": [
              "  0%|          | 0/4542 [00:00<?, ?it/s]"
            ]
          },
          "metadata": {}
        },
        {
          "output_type": "stream",
          "name": "stdout",
          "text": [
            "Extracting ./data/MNIST/raw/t10k-labels-idx1-ubyte.gz to ./data/MNIST/raw\n",
            "\n"
          ]
        },
        {
          "output_type": "stream",
          "name": "stderr",
          "text": [
            "/usr/local/lib/python3.7/dist-packages/torchvision/datasets/mnist.py:498: UserWarning: The given NumPy array is not writeable, and PyTorch does not support non-writeable tensors. This means you can write to the underlying (supposedly non-writeable) NumPy array using the tensor. You may want to copy the array to protect its data or make it writeable before converting it to a tensor. This type of warning will be suppressed for the rest of this program. (Triggered internally at  /pytorch/torch/csrc/utils/tensor_numpy.cpp:180.)\n",
            "  return torch.from_numpy(parsed.astype(m[2], copy=False)).view(*s)\n",
            "/usr/local/lib/python3.7/dist-packages/torch/nn/functional.py:718: UserWarning: Named tensors and all their associated APIs are an experimental feature and subject to change. Please do not use them for anything important until they are released as stable. (Triggered internally at  /pytorch/c10/core/TensorImpl.h:1156.)\n",
            "  return torch.max_pool2d(input, kernel_size, stride, padding, dilation, ceil_mode)\n"
          ]
        },
        {
          "output_type": "stream",
          "name": "stdout",
          "text": [
            "Iteration: 500. Loss: 0.456058144569397. Accuracy: 88.23999786376953\n",
            "Iteration: 1000. Loss: 0.24283504486083984. Accuracy: 92.77999877929688\n",
            "Iteration: 1500. Loss: 0.19387783110141754. Accuracy: 94.43000030517578\n",
            "Iteration: 2000. Loss: 0.21755222976207733. Accuracy: 95.68000030517578\n",
            "Iteration: 2500. Loss: 0.13603472709655762. Accuracy: 96.2699966430664\n",
            "Iteration: 3000. Loss: 0.19809488952159882. Accuracy: 96.66999816894531\n"
          ]
        }
      ]
    },
    {
      "cell_type": "markdown",
      "metadata": {
        "id": "nmdaG6Q3Or9R"
      },
      "source": [
        "### Model Tuning\n",
        "- 3 ways to expand a convolutional neural network\n",
        "    - More convolutional layers \n",
        "    - Less aggressive downsampling\n",
        "        - Smaller kernel size for pooling (gradually downsampling)\n",
        "    - More fully connected layers \n",
        "- Cons\n",
        "    - Need a larger dataset\n",
        "        - Curse of dimensionality\n",
        "    - Does not necessarily mean higher accuracy"
      ]
    },
    {
      "cell_type": "markdown",
      "metadata": {
        "id": "F1V6NpZ3bdcD"
      },
      "source": [
        "## Implementing CNN With TPU on GCP"
      ]
    },
    {
      "cell_type": "markdown",
      "metadata": {
        "id": "4Yao-DCHbxCG"
      },
      "source": [
        "Firstly, to verify whether the TPU environment is working properly, let's run the below line of codes."
      ]
    },
    {
      "cell_type": "code",
      "metadata": {
        "id": "YNR4dN1vbe5f"
      },
      "source": [
        "import os\n",
        "assert os.environ['COLAB_TPU_ADDR']"
      ],
      "execution_count": null,
      "outputs": []
    },
    {
      "cell_type": "markdown",
      "metadata": {
        "id": "4tVTJ5HlcyF6"
      },
      "source": [
        "It will be executed successfully if the TPU is enabled otherwise it will return the ‘KeyError: ‘COLAB_TPU_ADDR’’. \n",
        "We can also check the TPU by printing its address."
      ]
    },
    {
      "cell_type": "code",
      "metadata": {
        "colab": {
          "base_uri": "https://localhost:8080/"
        },
        "id": "nP9-3RNJb6Mw",
        "outputId": "3a62d8f2-1eec-47cb-b203-4dc5b4b8d880"
      },
      "source": [
        "TPU_Path = 'grpc://'+os.environ['COLAB_TPU_ADDR']\n",
        "print('TPU Address:', TPU_Path)"
      ],
      "execution_count": null,
      "outputs": [
        {
          "output_type": "stream",
          "name": "stdout",
          "text": [
            "TPU Address: grpc://10.12.32.250:8470\n"
          ]
        }
      ]
    },
    {
      "cell_type": "markdown",
      "metadata": {
        "id": "W_BWkPPLdJ1g"
      },
      "source": [
        "After enabling the TPU, we will install the compatible wheels and dependencies to setup the XLA environment using the below code."
      ]
    },
    {
      "cell_type": "code",
      "metadata": {
        "colab": {
          "base_uri": "https://localhost:8080/"
        },
        "id": "vJSvCKsqc-vJ",
        "outputId": "87387a15-4af3-4abb-96a0-dea27be746a9"
      },
      "source": [
        "VERSION = \"20200516\" \n",
        "!curl https://raw.githubusercontent.com/pytorch/xla/master/contrib/scripts/env-setup.py -o pytorch-xla-env-setup.py\n",
        "!python pytorch-xla-env-setup.py --version $VERSION"
      ],
      "execution_count": null,
      "outputs": [
        {
          "output_type": "stream",
          "name": "stdout",
          "text": [
            "  % Total    % Received % Xferd  Average Speed   Time    Time     Time  Current\n",
            "                                 Dload  Upload   Total   Spent    Left  Speed\n",
            "\r  0     0    0     0    0     0      0      0 --:--:-- --:--:-- --:--:--     0\r100  5116  100  5116    0     0  81206      0 --:--:-- --:--:-- --:--:-- 81206\n",
            "Updating... This may take around 2 minutes.\n",
            "Updating TPU runtime to pytorch-dev20200516 ...\n",
            "Found existing installation: torch 1.10.0+cu111\n",
            "Collecting cloud-tpu-client\n",
            "  Downloading cloud_tpu_client-0.10-py3-none-any.whl (7.4 kB)\n",
            "Requirement already satisfied: oauth2client in /usr/local/lib/python3.7/dist-packages (from cloud-tpu-client) (4.1.3)\n",
            "Collecting google-api-python-client==1.8.0\n",
            "  Downloading google_api_python_client-1.8.0-py3-none-any.whl (57 kB)\n",
            "\u001b[K     |████████████████████████████████| 57 kB 2.5 MB/s \n",
            "\u001b[?25hRequirement already satisfied: google-auth-httplib2>=0.0.3 in /usr/local/lib/python3.7/dist-packages (from google-api-python-client==1.8.0->cloud-tpu-client) (0.0.4)\n",
            "Requirement already satisfied: httplib2<1dev,>=0.9.2 in /usr/local/lib/python3.7/dist-packages (from google-api-python-client==1.8.0->cloud-tpu-client) (0.17.4)\n",
            "Requirement already satisfied: google-api-core<2dev,>=1.13.0 in /usr/local/lib/python3.7/dist-packages (from google-api-python-client==1.8.0->cloud-tpu-client) (1.26.3)\n",
            "Requirement already satisfied: six<2dev,>=1.6.1 in /usr/local/lib/python3.7/dist-packages (from google-api-python-client==1.8.0->cloud-tpu-client) (1.15.0)\n",
            "Requirement already satisfied: google-auth>=1.4.1 in /usr/local/lib/python3.7/dist-packages (from google-api-python-client==1.8.0->cloud-tpu-client) (1.35.0)\n",
            "Requirement already satisfied: uritemplate<4dev,>=3.0.0 in /usr/local/lib/python3.7/dist-packages (from google-api-python-client==1.8.0->cloud-tpu-client) (3.0.1)\n",
            "Requirement already satisfied: protobuf>=3.12.0 in /usr/local/lib/python3.7/dist-packages (from google-api-core<2dev,>=1.13.0->google-api-python-client==1.8.0->cloud-tpu-client) (3.17.3)\n",
            "Requirement already satisfied: setuptools>=40.3.0 in /usr/local/lib/python3.7/dist-packages (from google-api-core<2dev,>=1.13.0->google-api-python-client==1.8.0->cloud-tpu-client) (57.4.0)\n",
            "Requirement already satisfied: googleapis-common-protos<2.0dev,>=1.6.0 in /usr/local/lib/python3.7/dist-packages (from google-api-core<2dev,>=1.13.0->google-api-python-client==1.8.0->cloud-tpu-client) (1.53.0)\n",
            "Requirement already satisfied: requests<3.0.0dev,>=2.18.0 in /usr/local/lib/python3.7/dist-packages (from google-api-core<2dev,>=1.13.0->google-api-python-client==1.8.0->cloud-tpu-client) (2.23.0)\n",
            "Requirement already satisfied: pytz in /usr/local/lib/python3.7/dist-packages (from google-api-core<2dev,>=1.13.0->google-api-python-client==1.8.0->cloud-tpu-client) (2018.9)\n",
            "Requirement already satisfied: packaging>=14.3 in /usr/local/lib/python3.7/dist-packages (from google-api-core<2dev,>=1.13.0->google-api-python-client==1.8.0->cloud-tpu-client) (21.2)\n",
            "Requirement already satisfied: rsa<5,>=3.1.4 in /usr/local/lib/python3.7/dist-packages (from google-auth>=1.4.1->google-api-python-client==1.8.0->cloud-tpu-client) (4.7.2)\n",
            "Requirement already satisfied: cachetools<5.0,>=2.0.0 in /usr/local/lib/python3.7/dist-packages (from google-auth>=1.4.1->google-api-python-client==1.8.0->cloud-tpu-client) (4.2.4)\n",
            "Requirement already satisfied: pyasn1-modules>=0.2.1 in /usr/local/lib/python3.7/dist-packages (from google-auth>=1.4.1->google-api-python-client==1.8.0->cloud-tpu-client) (0.2.8)\n",
            "Requirement already satisfied: pyparsing<3,>=2.0.2 in /usr/local/lib/python3.7/dist-packages (from packaging>=14.3->google-api-core<2dev,>=1.13.0->google-api-python-client==1.8.0->cloud-tpu-client) (2.4.7)\n",
            "Requirement already satisfied: pyasn1<0.5.0,>=0.4.6 in /usr/local/lib/python3.7/dist-packages (from pyasn1-modules>=0.2.1->google-auth>=1.4.1->google-api-python-client==1.8.0->cloud-tpu-client) (0.4.8)\n",
            "Requirement already satisfied: certifi>=2017.4.17 in /usr/local/lib/python3.7/dist-packages (from requests<3.0.0dev,>=2.18.0->google-api-core<2dev,>=1.13.0->google-api-python-client==1.8.0->cloud-tpu-client) (2021.10.8)\n",
            "Requirement already satisfied: chardet<4,>=3.0.2 in /usr/local/lib/python3.7/dist-packages (from requests<3.0.0dev,>=2.18.0->google-api-core<2dev,>=1.13.0->google-api-python-client==1.8.0->cloud-tpu-client) (3.0.4)\n",
            "Requirement already satisfied: idna<3,>=2.5 in /usr/local/lib/python3.7/dist-packages (from requests<3.0.0dev,>=2.18.0->google-api-core<2dev,>=1.13.0->google-api-python-client==1.8.0->cloud-tpu-client) (2.10)\n",
            "Requirement already satisfied: urllib3!=1.25.0,!=1.25.1,<1.26,>=1.21.1 in /usr/local/lib/python3.7/dist-packages (from requests<3.0.0dev,>=2.18.0->google-api-core<2dev,>=1.13.0->google-api-python-client==1.8.0->cloud-tpu-client) (1.24.3)\n",
            "Uninstalling torch-1.10.0+cu111:\n",
            "Installing collected packages: google-api-python-client, cloud-tpu-client\n",
            "  Attempting uninstall: google-api-python-client\n",
            "    Found existing installation: google-api-python-client 1.12.8\n",
            "    Uninstalling google-api-python-client-1.12.8:\n",
            "      Successfully uninstalled google-api-python-client-1.12.8\n",
            "\u001b[33mWARNING: Ignoring invalid distribution -orch (/usr/local/lib/python3.7/dist-packages)\u001b[0m\n",
            "\u001b[33mWARNING: Ignoring invalid distribution -orch (/usr/local/lib/python3.7/dist-packages)\u001b[0m\n",
            "\u001b[31mERROR: pip's dependency resolver does not currently take into account all the packages that are installed. This behaviour is the source of the following dependency conflicts.\n",
            "earthengine-api 0.1.288 requires google-api-python-client<2,>=1.12.1, but you have google-api-python-client 1.8.0 which is incompatible.\u001b[0m\n",
            "Successfully installed cloud-tpu-client-0.10 google-api-python-client-1.8.0\n",
            "Done updating TPU runtime\n",
            "  Successfully uninstalled torch-1.10.0+cu111\n",
            "Found existing installation: torchvision 0.11.1+cu111\n",
            "Uninstalling torchvision-0.11.1+cu111:\n",
            "  Successfully uninstalled torchvision-0.11.1+cu111\n",
            "Copying gs://tpu-pytorch/wheels/torch-nightly+20200516-cp37-cp37m-linux_x86_64.whl...\n",
            "- [1 files][ 91.1 MiB/ 91.1 MiB]                                                \n",
            "Operation completed over 1 objects/91.1 MiB.                                     \n",
            "Copying gs://tpu-pytorch/wheels/torch_xla-nightly+20200516-cp37-cp37m-linux_x86_64.whl...\n",
            "\\ [1 files][119.8 MiB/119.8 MiB]                                                \n",
            "Operation completed over 1 objects/119.8 MiB.                                    \n",
            "Copying gs://tpu-pytorch/wheels/torchvision-nightly+20200516-cp37-cp37m-linux_x86_64.whl...\n",
            "/ [1 files][  2.3 MiB/  2.3 MiB]                                                \n",
            "Operation completed over 1 objects/2.3 MiB.                                      \n",
            "Processing ./torch-nightly+20200516-cp37-cp37m-linux_x86_64.whl\n",
            "Requirement already satisfied: numpy in /usr/local/lib/python3.7/dist-packages (from torch==nightly+20200516) (1.19.5)\n",
            "Requirement already satisfied: future in /usr/local/lib/python3.7/dist-packages (from torch==nightly+20200516) (0.16.0)\n",
            "Installing collected packages: torch\n",
            "\u001b[31mERROR: pip's dependency resolver does not currently take into account all the packages that are installed. This behaviour is the source of the following dependency conflicts.\n",
            "fastai 1.0.61 requires torchvision, which is not installed.\n",
            "torchtext 0.11.0 requires torch==1.10.0, but you have torch 1.6.0a0+83df3be which is incompatible.\u001b[0m\n",
            "Successfully installed torch-1.6.0a0+83df3be\n",
            "Processing ./torch_xla-nightly+20200516-cp37-cp37m-linux_x86_64.whl\n",
            "Installing collected packages: torch-xla\n",
            "Successfully installed torch-xla-1.6+2191422\n",
            "Processing ./torchvision-nightly+20200516-cp37-cp37m-linux_x86_64.whl\n",
            "Requirement already satisfied: torch in /usr/local/lib/python3.7/dist-packages (from torchvision==nightly+20200516) (1.6.0a0+83df3be)\n",
            "Requirement already satisfied: numpy in /usr/local/lib/python3.7/dist-packages (from torchvision==nightly+20200516) (1.19.5)\n",
            "Requirement already satisfied: pillow>=4.1.1 in /usr/local/lib/python3.7/dist-packages (from torchvision==nightly+20200516) (7.1.2)\n",
            "Requirement already satisfied: future in /usr/local/lib/python3.7/dist-packages (from torch->torchvision==nightly+20200516) (0.16.0)\n",
            "Installing collected packages: torchvision\n",
            "Successfully installed torchvision-0.7.0a0+348dd5a\n",
            "Reading package lists... Done\n",
            "Building dependency tree       \n",
            "Reading state information... Done\n",
            "The following NEW packages will be installed:\n",
            "  libomp5\n",
            "0 upgraded, 1 newly installed, 0 to remove and 37 not upgraded.\n",
            "Need to get 234 kB of archives.\n",
            "After this operation, 774 kB of additional disk space will be used.\n",
            "Get:1 http://archive.ubuntu.com/ubuntu bionic/universe amd64 libomp5 amd64 5.0.1-1 [234 kB]\n",
            "Fetched 234 kB in 1s (328 kB/s)\n",
            "Selecting previously unselected package libomp5:amd64.\n",
            "(Reading database ... 155219 files and directories currently installed.)\n",
            "Preparing to unpack .../libomp5_5.0.1-1_amd64.deb ...\n",
            "Unpacking libomp5:amd64 (5.0.1-1) ...\n",
            "Setting up libomp5:amd64 (5.0.1-1) ...\n",
            "Processing triggers for libc-bin (2.27-3ubuntu1.3) ...\n",
            "/sbin/ldconfig.real: /usr/local/lib/python3.7/dist-packages/ideep4py/lib/libmkldnn.so.0 is not a symbolic link\n",
            "\n"
          ]
        }
      ]
    },
    {
      "cell_type": "markdown",
      "metadata": {
        "id": "y3MUXkbsdpZs"
      },
      "source": [
        "After it is installed successfully, we will proceed to define the methods for loading the data set, initializing the CNN model, training and testing. First of all, we will import the required libraries."
      ]
    },
    {
      "cell_type": "code",
      "metadata": {
        "id": "QSRLIQlQd5wE"
      },
      "source": [
        "import numpy as np\n",
        "import os\n",
        "import time\n",
        "import torch\n",
        "import torch.nn as nn\n",
        "import torch.nn.functional as F\n",
        "import torch.optim as optim\n",
        "import torch_xla\n",
        "import torch_xla.core.xla_model as xm\n",
        "import torch_xla.debug.metrics as met\n",
        "import torch_xla.distributed.parallel_loader as pl\n",
        "import torch_xla.distributed.xla_multiprocessing as xmp\n",
        "import torch_xla.utils.utils as xu\n",
        "from torchvision import datasets, transforms"
      ],
      "execution_count": null,
      "outputs": []
    },
    {
      "cell_type": "markdown",
      "metadata": {
        "id": "F43FDzcrd3BK"
      },
      "source": [
        "After that, we will define the hyperparameters to be required further."
      ]
    },
    {
      "cell_type": "code",
      "metadata": {
        "id": "d_NHRT-Idi0w"
      },
      "source": [
        "# Define Parameters\n",
        "FLAGS = {}\n",
        "FLAGS['datadir'] = \"/tmp/mnist\"\n",
        "FLAGS['batch_size'] = 128\n",
        "FLAGS['num_workers'] = 4\n",
        "FLAGS['learning_rate'] = 0.01\n",
        "FLAGS['momentum'] = 0.5\n",
        "FLAGS['num_epochs'] = 50\n",
        "FLAGS['num_cores'] = 8\n",
        "FLAGS['log_steps'] = 20\n",
        "FLAGS['metrics_debug'] = False"
      ],
      "execution_count": null,
      "outputs": []
    },
    {
      "cell_type": "markdown",
      "metadata": {
        "id": "o5F4iRNHeA4x"
      },
      "source": [
        "The below code snippet will define the CNN model as a PyTorch instance and the functions for loading the data, training the model and testing the model."
      ]
    },
    {
      "cell_type": "code",
      "metadata": {
        "id": "ePLTnhjpeJJV"
      },
      "source": [
        "SERIAL_EXEC = xmp.MpSerialExecutor()\n",
        "\n",
        "class FashionMNIST(nn.Module):\n",
        "\n",
        "  def __init__(self):\n",
        "    super(FashionMNIST, self).__init__()\n",
        "    self.conv1 = nn.Conv2d(1, 10, kernel_size=5)\n",
        "    self.bn1 = nn.BatchNorm2d(10)\n",
        "    self.conv2 = nn.Conv2d(10, 20, kernel_size=5)\n",
        "    self.bn2 = nn.BatchNorm2d(20)\n",
        "    self.fc1 = nn.Linear(320, 50)\n",
        "    self.fc2 = nn.Linear(50, 10)\n",
        "\n",
        "  def forward(self, x):\n",
        "    x = F.relu(F.max_pool2d(self.conv1(x), 2))\n",
        "    x = self.bn1(x)\n",
        "    x = F.relu(F.max_pool2d(self.conv2(x), 2))\n",
        "    x = self.bn2(x)\n",
        "    x = torch.flatten(x, 1)\n",
        "    x = F.relu(self.fc1(x))\n",
        "    x = self.fc2(x)\n",
        "    return F.log_softmax(x, dim=1)\n",
        "\n",
        "# Only instantiate model weights once in memory.\n",
        "WRAPPED_MODEL = xmp.MpModelWrapper(FashionMNIST())\n",
        "\n",
        "def train_mnist():\n",
        "  torch.manual_seed(1)\n",
        " \n",
        "  def get_dataset():\n",
        "    norm = transforms.Normalize((0.1307,), (0.3081,))\n",
        "    train_dataset = datasets.FashionMNIST(\n",
        "        FLAGS['datadir'],\n",
        "        train=True,\n",
        "        download=True,\n",
        "        transform=transforms.Compose(\n",
        "            [transforms.ToTensor(), norm]))\n",
        "    test_dataset = datasets.FashionMNIST(\n",
        "        FLAGS['datadir'],\n",
        "        train=False,\n",
        "        download=True,\n",
        "        transform=transforms.Compose(\n",
        "            [transforms.ToTensor(), norm]))\n",
        "\n",
        "  \n",
        "    return train_dataset, test_dataset\n",
        "\n",
        "\n",
        "  # Using the serial executor avoids multiple processes to\n",
        "  # download the same data.\n",
        "  train_dataset, test_dataset = SERIAL_EXEC.run(get_dataset)\n",
        "\n",
        "  train_sampler = torch.utils.data.distributed.DistributedSampler(\n",
        "    train_dataset,\n",
        "    num_replicas=xm.xrt_world_size(),\n",
        "    rank=xm.get_ordinal(),\n",
        "    shuffle=True)\n",
        "\n",
        "  train_loader = torch.utils.data.DataLoader(\n",
        "      train_dataset,\n",
        "      batch_size=FLAGS['batch_size'],\n",
        "      sampler=train_sampler,\n",
        "      num_workers=FLAGS['num_workers'],\n",
        "      drop_last=True)\n",
        "\n",
        "  test_loader = torch.utils.data.DataLoader(\n",
        "      test_dataset,\n",
        "      batch_size=FLAGS['batch_size'],\n",
        "      shuffle=False,\n",
        "      num_workers=FLAGS['num_workers'],\n",
        "      drop_last=True)\n",
        "\n",
        "  # Scale learning rate to world size\n",
        "  lr = FLAGS['learning_rate'] * xm.xrt_world_size()\n",
        "\n",
        "  # Get loss function, optimizer, and model\n",
        "  device = xm.xla_device()\n",
        "  model = WRAPPED_MODEL.to(device)\n",
        "  optimizer = optim.SGD(model.parameters(), lr=lr, momentum=FLAGS['momentum'])\n",
        "  loss_fn = nn.NLLLoss()\n",
        "\n",
        "  def train_fun(loader):\n",
        "    tracker = xm.RateTracker()\n",
        "    model.train()\n",
        "    for x, (data, target) in enumerate(loader):\n",
        "      optimizer.zero_grad()\n",
        "      output = model(data)\n",
        "      loss = loss_fn(output, target)\n",
        "      loss.backward()\n",
        "      xm.optimizer_step(optimizer)\n",
        "      tracker.add(FLAGS['batch_size'])\n",
        "      if x % FLAGS['log_steps'] == 0:\n",
        "        print('[xla:{}]({}) Loss={:.5f}'.format(\n",
        "            xm.get_ordinal(), x, loss.item(), time.asctime()), flush=True)\n",
        "\n",
        "  def test_fun(loader):\n",
        "    total_samples = 0\n",
        "    correct = 0\n",
        "    model.eval()\n",
        "    data, pred, target = None, None, None\n",
        "    for data, target in loader:\n",
        "      output = model(data)\n",
        "      pred = output.max(1, keepdim=True)[1]\n",
        "      correct += pred.eq(target.view_as(pred)).sum().item()\n",
        "      total_samples += data.size()[0]\n",
        "\n",
        "    accuracy = 100.0 * correct / total_samples\n",
        "    print('[xla:{}] Accuracy={:.2f}%'.format(\n",
        "        xm.get_ordinal(), accuracy), flush=True)\n",
        "    return accuracy, data, pred, target\n",
        "\n",
        "  # Train and eval loops\n",
        "  accuracy = 0.0\n",
        "  data, pred, target = None, None, None\n",
        "  for epoch in range(1, FLAGS['num_epochs'] + 1):\n",
        "    para_loader = pl.ParallelLoader(train_loader, [device])\n",
        "    train_fun(para_loader.per_device_loader(device))\n",
        "    xm.master_print(\"Finished training epoch {}\".format(epoch))\n",
        "\n",
        "    para_loader = pl.ParallelLoader(test_loader, [device])\n",
        "    accuracy, data, pred, target  = test_fun(para_loader.per_device_loader(device))\n",
        "    if FLAGS['metrics_debug']:\n",
        "      xm.master_print(met.metrics_report(), flush=True)\n",
        "\n",
        "  return accuracy, data, pred, target"
      ],
      "execution_count": null,
      "outputs": []
    },
    {
      "cell_type": "markdown",
      "metadata": {
        "id": "vKX0Dn8SeUzu"
      },
      "source": [
        "Also, to plot the results as the predicted label and actual labels for the test images, the below function module will be used."
      ]
    },
    {
      "cell_type": "code",
      "metadata": {
        "id": "BupCFR1lelry"
      },
      "source": [
        "# Result Visualization\n",
        "import math\n",
        "from matplotlib import pyplot as plt\n",
        "\n",
        "M, N = 5, 5\n",
        "RESULT_IMG_PATH = '/tmp/test_result.png'\n",
        "\n",
        "def plot_results(images, labels, preds):\n",
        "  images, labels, preds = images[:M*N], labels[:M*N], preds[:M*N]\n",
        "  inv_norm = transforms.Normalize((-0.1307/0.3081,), (1/0.3081,))\n",
        "\n",
        "  num_images = images.shape[0]\n",
        "  fig, axes = plt.subplots(M, N, figsize=(12, 12))\n",
        "  fig.suptitle('Predicted Lables')\n",
        "\n",
        "  for i, ax in enumerate(fig.axes):\n",
        "    ax.axis('off')\n",
        "    if i >= num_images:\n",
        "      continue\n",
        "    img, label, prediction = images[i], labels[i], preds[i]\n",
        "    img = inv_norm(img)\n",
        "    img = img.squeeze() # [1,Y,X] -> [Y,X]\n",
        "    label, prediction = label.item(), prediction.item()\n",
        "    if label == prediction:\n",
        "      ax.set_title(u'Actual {}/ Predicted {}'.format(label, prediction), color='blue')\n",
        "    else:\n",
        "      ax.set_title(\n",
        "          'Actual {}/ Predicted {}'.format(label, prediction), color='red')\n",
        "    ax.imshow(img)\n",
        "  plt.savefig(RESULT_IMG_PATH, transparent=True)"
      ],
      "execution_count": null,
      "outputs": []
    },
    {
      "cell_type": "markdown",
      "metadata": {
        "id": "DAEsMSeZez2-"
      },
      "source": [
        "Now, we are all set to train the model on the Fashion MNIST dataset. Before starting the training, we will record the start time and after finishing the training, we will record the end time and print the total training time for 50 epochs."
      ]
    },
    {
      "cell_type": "code",
      "metadata": {
        "colab": {
          "base_uri": "https://localhost:8080/",
          "height": 1000,
          "referenced_widgets": [
            "45815ac916f5498187e084480a4dac04",
            "6a83700d8da54f97a5697c19a9b4803b",
            "c3c8993966c147b09db8d9b743f42427",
            "1110f64304b2484aa5fa869b9789463b",
            "19af18e3ac204bafb69d7fd488234b89",
            "a9842df33a2e436aace9bc8550f0882b",
            "7a4e97fd406646a69b1be1e091bd22ae",
            "a2f524d172744d6390aef4432b85833f",
            "cdb19ee9d7314b1fb593ddc62c48593f",
            "1d435e89ba24443db936a7802237a53f",
            "5c9f183848e2429d815deee82c91f84e",
            "eb0c5a2ad73d4f64981fda5b0093a9ca",
            "54e363d9d2a24e67a8551d55af7d8db4",
            "26d91c4caac149aab2dbb78b32d91ab6",
            "4ec112ee60b340afb4ddd8dea6a44c6f",
            "fd8b2e21db1e418baf2099b9aa6ff5c5",
            "bd79a5cf296e40aab79bbaaa8f38d5a3",
            "2a8f01718a4c4cd8bfe630ba43ca59c4",
            "c1aeec4a3f4540ae95f9cf051244a229",
            "8ee6f2bc29bf4f6186993960a790e0cc",
            "6a283db220164a7eab9c091a687cb94e",
            "e687ed58e83447f2ba494352d5ab48c1",
            "907609d7f3be45e09affc224e267ecde",
            "608f843456924c6c89cb1d975f42f1a4",
            "11df12acae8e4cb2b7d6e023c35dbd45",
            "7fd751854fb44ed7adb43cc4b82ea620",
            "33c24e9b20b744e3b77f9878e78a4ae4",
            "37c1f61f84024ebfbdafc03e45f5bd3d",
            "e61044a6f7d04033ad1522ca8af49445",
            "982e6de13822447a9b8a024933e6ef99",
            "7a266caba10f4fcfbfc9c39a2ac85f7b",
            "d1c31bb79aa1486f9810bb095270d460",
            "b2853649981d4631b8705614e163e856",
            "eee7c4a873d24c2e9d4c6a1002069378",
            "eccf68e4bc21435f94416ebea3ee03a4",
            "703a44cef2264ffb9d927b5d48790d28",
            "bbec13e5ff974b65ac597ef5b3b8e5ab",
            "42e9555f49ad4339b3bff27892b9eacd",
            "d37ac08003a34b90a766934b4a7ad2a5",
            "7d6686dae82b4f2f88be9fcfd37b246a",
            "3c4d8e1bc4bc41adba37c2654f9eab73",
            "d9df4551adf24fffb561da9d2544ad68",
            "f11aadf3c72a4e5692bf745ff7b45047",
            "3e93169edb074145a65877400effb860"
          ]
        },
        "id": "DBJneOT6euO0",
        "outputId": "37fc1d57-01da-4850-eb79-4e82226aba30"
      },
      "source": [
        "# Start training processes\n",
        "def train_cnn(rank, flags):\n",
        "  global FLAGS\n",
        "  FLAGS = flags\n",
        "  torch.set_default_tensor_type('torch.FloatTensor')\n",
        "  accuracy, data, pred, target = train_mnist()\n",
        "  if rank == 0:\n",
        "    # Retrieve tensors that are on TPU core 0 and plot.\n",
        "    plot_results(data.cpu(), pred.cpu(), target.cpu())\n",
        "\n",
        "xmp.spawn(train_cnn, args=(FLAGS,), nprocs=FLAGS['num_cores'],\n",
        "          start_method='fork')"
      ],
      "execution_count": null,
      "outputs": [
        {
          "output_type": "stream",
          "name": "stdout",
          "text": [
            "Downloading http://fashion-mnist.s3-website.eu-central-1.amazonaws.com/train-images-idx3-ubyte.gz to /tmp/mnist/FashionMNIST/raw/train-images-idx3-ubyte.gz\n"
          ]
        },
        {
          "output_type": "display_data",
          "data": {
            "application/vnd.jupyter.widget-view+json": {
              "model_id": "45815ac916f5498187e084480a4dac04",
              "version_minor": 0,
              "version_major": 2
            },
            "text/plain": [
              "0it [00:00, ?it/s]"
            ]
          },
          "metadata": {}
        },
        {
          "output_type": "stream",
          "name": "stdout",
          "text": [
            "Extracting /tmp/mnist/FashionMNIST/raw/train-images-idx3-ubyte.gz to /tmp/mnist/FashionMNIST/raw\n",
            "Downloading http://fashion-mnist.s3-website.eu-central-1.amazonaws.com/train-labels-idx1-ubyte.gz to /tmp/mnist/FashionMNIST/raw/train-labels-idx1-ubyte.gz\n"
          ]
        },
        {
          "output_type": "display_data",
          "data": {
            "application/vnd.jupyter.widget-view+json": {
              "model_id": "eb0c5a2ad73d4f64981fda5b0093a9ca",
              "version_minor": 0,
              "version_major": 2
            },
            "text/plain": [
              "0it [00:00, ?it/s]"
            ]
          },
          "metadata": {}
        },
        {
          "output_type": "stream",
          "name": "stdout",
          "text": [
            "Extracting /tmp/mnist/FashionMNIST/raw/train-labels-idx1-ubyte.gz to /tmp/mnist/FashionMNIST/raw\n",
            "Downloading http://fashion-mnist.s3-website.eu-central-1.amazonaws.com/t10k-images-idx3-ubyte.gz to /tmp/mnist/FashionMNIST/raw/t10k-images-idx3-ubyte.gz\n"
          ]
        },
        {
          "output_type": "display_data",
          "data": {
            "application/vnd.jupyter.widget-view+json": {
              "model_id": "907609d7f3be45e09affc224e267ecde",
              "version_minor": 0,
              "version_major": 2
            },
            "text/plain": [
              "0it [00:00, ?it/s]"
            ]
          },
          "metadata": {}
        },
        {
          "output_type": "stream",
          "name": "stdout",
          "text": [
            "Extracting /tmp/mnist/FashionMNIST/raw/t10k-images-idx3-ubyte.gz to /tmp/mnist/FashionMNIST/raw\n",
            "Downloading http://fashion-mnist.s3-website.eu-central-1.amazonaws.com/t10k-labels-idx1-ubyte.gz to /tmp/mnist/FashionMNIST/raw/t10k-labels-idx1-ubyte.gz\n"
          ]
        },
        {
          "output_type": "display_data",
          "data": {
            "application/vnd.jupyter.widget-view+json": {
              "model_id": "eee7c4a873d24c2e9d4c6a1002069378",
              "version_minor": 0,
              "version_major": 2
            },
            "text/plain": [
              "0it [00:00, ?it/s]"
            ]
          },
          "metadata": {}
        },
        {
          "output_type": "stream",
          "name": "stdout",
          "text": [
            "Extracting /tmp/mnist/FashionMNIST/raw/t10k-labels-idx1-ubyte.gz to /tmp/mnist/FashionMNIST/raw\n",
            "Processing...\n"
          ]
        },
        {
          "output_type": "stream",
          "name": "stderr",
          "text": [
            "/usr/local/lib/python3.7/dist-packages/torchvision/datasets/mnist.py:469: UserWarning: The given NumPy array is not writeable, and PyTorch does not support non-writeable tensors. This means you can write to the underlying (supposedly non-writeable) NumPy array using the tensor. You may want to copy the array to protect its data or make it writeable before converting it to a tensor. This type of warning will be suppressed for the rest of this program. (Triggered internally at  /pytorch/torch/csrc/utils/tensor_numpy.cpp:141.)\n",
            "  return torch.from_numpy(parsed.astype(m[2], copy=False)).view(*s)\n"
          ]
        },
        {
          "output_type": "stream",
          "name": "stdout",
          "text": [
            "Done!\n",
            "[xla:0](0) Loss=2.33327\n",
            "[xla:1](0) Loss=2.34775\n",
            "[xla:5](0) Loss=2.34978\n",
            "[xla:7](0) Loss=2.32161\n",
            "[xla:6](0) Loss=2.33145\n",
            "[xla:4](0) Loss=2.35750\n",
            "[xla:2](0) Loss=2.34894\n",
            "[xla:3](0) Loss=2.33884\n",
            "[xla:3](20) Loss=0.75613\n",
            "[xla:0](20) Loss=0.62015\n",
            "[xla:6](20) Loss=0.61896\n",
            "[xla:5](20) Loss=0.72791\n",
            "[xla:7](20) Loss=0.71898\n",
            "[xla:4](20) Loss=0.72586\n",
            "[xla:2](20) Loss=0.57271\n",
            "[xla:1](20) Loss=0.63952\n",
            "[xla:6](40) Loss=0.68066\n",
            "[xla:2](40) Loss=0.51313\n",
            "[xla:4](40) Loss=0.56640\n",
            "[xla:3](40) Loss=0.59674\n",
            "[xla:1](40) Loss=0.44386\n",
            "[xla:7](40) Loss=0.45763\n",
            "[xla:5](40) Loss=0.54849\n",
            "[xla:0](40) Loss=0.60156\n",
            "Finished training epoch 1\n",
            "[xla:1] Accuracy=82.52%\n",
            "[xla:5] Accuracy=82.51%\n",
            "[xla:4] Accuracy=82.61%\n",
            "[xla:6] Accuracy=82.52%\n",
            "[xla:3] Accuracy=82.53%\n",
            "[xla:2] Accuracy=82.50%\n",
            "[xla:0] Accuracy=82.54%\n",
            "[xla:7] Accuracy=82.57%\n",
            "[xla:1](0) Loss=0.42653\n",
            "[xla:5](0) Loss=0.48051\n",
            "[xla:6](0) Loss=0.56886\n",
            "[xla:3](0) Loss=0.39619\n",
            "[xla:4](0) Loss=0.50204\n",
            "[xla:7](0) Loss=0.39381\n",
            "[xla:0](0) Loss=0.57408\n",
            "[xla:2](0) Loss=0.45839\n",
            "[xla:1](20) Loss=0.35657\n",
            "[xla:5](20) Loss=0.39649\n",
            "[xla:6](20) Loss=0.36736\n",
            "[xla:3](20) Loss=0.47191\n",
            "[xla:4](20) Loss=0.41732\n",
            "[xla:7](20) Loss=0.42186\n",
            "[xla:0](20) Loss=0.41405\n",
            "[xla:2](20) Loss=0.29552\n",
            "[xla:5](40) Loss=0.41072\n",
            "[xla:6](40) Loss=0.49493\n",
            "[xla:1](40) Loss=0.36161\n",
            "[xla:7](40) Loss=0.31473\n",
            "[xla:3](40) Loss=0.47327\n",
            "[xla:4](40) Loss=0.36834\n",
            "[xla:0](40) Loss=0.41131\n",
            "[xla:2](40) Loss=0.38398\n",
            "Finished training epoch 2\n",
            "[xla:6] Accuracy=85.30%\n",
            "[xla:3] Accuracy=85.38%\n",
            "[xla:4] Accuracy=85.37%\n",
            "[xla:1] Accuracy=85.24%\n",
            "[xla:0] Accuracy=85.31%\n",
            "[xla:5] Accuracy=85.36%\n",
            "[xla:2] Accuracy=85.36%\n",
            "[xla:7] Accuracy=85.37%\n",
            "[xla:6](0) Loss=0.47727\n",
            "[xla:3](0) Loss=0.31961\n",
            "[xla:1](0) Loss=0.37097\n",
            "[xla:4](0) Loss=0.37545\n",
            "[xla:2](0) Loss=0.35772\n",
            "[xla:0](0) Loss=0.48134\n",
            "[xla:5](0) Loss=0.37533\n",
            "[xla:7](0) Loss=0.31195\n",
            "[xla:3](20) Loss=0.39027\n",
            "[xla:6](20) Loss=0.31791\n",
            "[xla:1](20) Loss=0.28447\n",
            "[xla:2](20) Loss=0.24542\n",
            "[xla:5](20) Loss=0.31458\n",
            "[xla:4](20) Loss=0.32840\n",
            "[xla:7](20) Loss=0.33509\n",
            "[xla:0](20) Loss=0.36168\n",
            "[xla:3](40) Loss=0.42268\n",
            "[xla:6](40) Loss=0.42966\n",
            "[xla:1](40) Loss=0.32286\n",
            "[xla:2](40) Loss=0.35633\n",
            "[xla:4](40) Loss=0.28137\n",
            "[xla:0](40) Loss=0.34831\n",
            "[xla:5](40) Loss=0.34841\n",
            "[xla:7](40) Loss=0.26137\n",
            "Finished training epoch 3\n",
            "[xla:3] Accuracy=86.47%\n",
            "[xla:5] Accuracy=86.38%\n",
            "[xla:7] Accuracy=86.46%\n",
            "[xla:6] Accuracy=86.46%\n",
            "[xla:1] Accuracy=86.22%\n",
            "[xla:0] Accuracy=86.38%\n",
            "[xla:4] Accuracy=86.45%\n",
            "[xla:2] Accuracy=86.43%\n",
            "[xla:3](0) Loss=0.28448\n",
            "[xla:5](0) Loss=0.29552\n",
            "[xla:1](0) Loss=0.33804\n",
            "[xla:6](0) Loss=0.44037\n",
            "[xla:7](0) Loss=0.26480\n",
            "[xla:0](0) Loss=0.45754\n",
            "[xla:4](0) Loss=0.35014\n",
            "[xla:2](0) Loss=0.32347\n",
            "[xla:5](20) Loss=0.28468\n",
            "[xla:3](20) Loss=0.35146\n",
            "[xla:1](20) Loss=0.26005\n",
            "[xla:6](20) Loss=0.28003\n",
            "[xla:0](20) Loss=0.33835\n",
            "[xla:7](20) Loss=0.29184\n",
            "[xla:4](20) Loss=0.28419\n",
            "[xla:2](20) Loss=0.21709\n",
            "[xla:3](40) Loss=0.40595\n",
            "[xla:5](40) Loss=0.32885\n",
            "[xla:6](40) Loss=0.40754\n",
            "[xla:1](40) Loss=0.29768\n",
            "[xla:0](40) Loss=0.32277\n",
            "[xla:4](40) Loss=0.25989\n",
            "[xla:7](40) Loss=0.24329\n",
            "[xla:2](40) Loss=0.32638\n",
            "Finished training epoch 4\n",
            "[xla:6] Accuracy=87.25%\n",
            "[xla:7] Accuracy=87.34%\n",
            "[xla:4] Accuracy=87.31%\n",
            "[xla:1] Accuracy=87.18%\n",
            "[xla:3] Accuracy=87.28%\n",
            "[xla:2] Accuracy=87.26%\n",
            "[xla:5] Accuracy=87.26%\n",
            "[xla:0] Accuracy=87.28%\n",
            "[xla:6](0) Loss=0.43534\n",
            "[xla:3](0) Loss=0.27632\n",
            "[xla:4](0) Loss=0.31558\n",
            "[xla:7](0) Loss=0.24191\n",
            "[xla:1](0) Loss=0.32066\n",
            "[xla:2](0) Loss=0.29953\n",
            "[xla:5](0) Loss=0.26327\n",
            "[xla:0](0) Loss=0.43547\n",
            "[xla:4](20) Loss=0.26229\n",
            "[xla:3](20) Loss=0.31640\n",
            "[xla:6](20) Loss=0.25965\n",
            "[xla:7](20) Loss=0.25817\n",
            "[xla:2](20) Loss=0.19352\n",
            "[xla:1](20) Loss=0.23953\n",
            "[xla:5](20) Loss=0.26735\n",
            "[xla:0](20) Loss=0.32167\n",
            "[xla:3](40) Loss=0.38216\n",
            "[xla:4](40) Loss=0.24329\n",
            "[xla:7](40) Loss=0.22843\n",
            "[xla:6](40) Loss=0.38955\n",
            "[xla:1](40) Loss=0.27896\n",
            "[xla:2](40) Loss=0.31677\n",
            "[xla:5](40) Loss=0.30978\n",
            "[xla:0](40) Loss=0.30403\n",
            "Finished training epoch 5\n",
            "[xla:3] Accuracy=87.98%\n",
            "[xla:5] Accuracy=87.91%\n",
            "[xla:2] Accuracy=87.84%\n",
            "[xla:7] Accuracy=87.94%\n",
            "[xla:0] Accuracy=87.85%\n",
            "[xla:4] Accuracy=87.88%\n",
            "[xla:1] Accuracy=87.76%\n",
            "[xla:6] Accuracy=87.92%\n",
            "[xla:3](0) Loss=0.26291\n",
            "[xla:2](0) Loss=0.27701\n",
            "[xla:4](0) Loss=0.29353\n",
            "[xla:5](0) Loss=0.24189\n",
            "[xla:7](0) Loss=0.22148\n",
            "[xla:1](0) Loss=0.30105\n",
            "[xla:0](0) Loss=0.42188\n",
            "[xla:6](0) Loss=0.42135\n",
            "[xla:3](20) Loss=0.29255\n",
            "[xla:5](20) Loss=0.24861\n",
            "[xla:4](20) Loss=0.24064\n",
            "[xla:2](20) Loss=0.16865\n",
            "[xla:7](20) Loss=0.23729\n",
            "[xla:6](20) Loss=0.24300\n",
            "[xla:0](20) Loss=0.30861\n",
            "[xla:1](20) Loss=0.22135\n",
            "[xla:5](40) Loss=0.29423\n",
            "[xla:4](40) Loss=0.22867\n",
            "[xla:3](40) Loss=0.36201\n",
            "[xla:7](40) Loss=0.21986\n",
            "[xla:2](40) Loss=0.30246\n",
            "[xla:0](40) Loss=0.28542\n",
            "[xla:6](40) Loss=0.37896\n",
            "[xla:1](40) Loss=0.26838\n",
            "Finished training epoch 6\n",
            "[xla:5] Accuracy=88.23%\n",
            "[xla:7] Accuracy=88.27%\n",
            "[xla:1] Accuracy=88.23%\n",
            "[xla:0] Accuracy=88.25%\n",
            "[xla:3] Accuracy=88.22%\n",
            "[xla:6] Accuracy=88.28%\n",
            "[xla:4] Accuracy=88.23%\n",
            "[xla:2] Accuracy=88.28%\n",
            "[xla:5](0) Loss=0.23107\n",
            "[xla:7](0) Loss=0.20599\n",
            "[xla:1](0) Loss=0.28232\n",
            "[xla:0](0) Loss=0.41201\n",
            "[xla:3](0) Loss=0.25367\n",
            "[xla:6](0) Loss=0.39781\n",
            "[xla:4](0) Loss=0.28278\n",
            "[xla:2](0) Loss=0.26197\n",
            "[xla:5](20) Loss=0.23443\n",
            "[xla:1](20) Loss=0.21656\n",
            "[xla:7](20) Loss=0.22877\n",
            "[xla:0](20) Loss=0.29846\n",
            "[xla:6](20) Loss=0.22594\n",
            "[xla:3](20) Loss=0.27873\n",
            "[xla:4](20) Loss=0.23289\n",
            "[xla:2](20) Loss=0.15829\n",
            "[xla:5](40) Loss=0.28083\n",
            "[xla:0](40) Loss=0.27921\n",
            "[xla:1](40) Loss=0.25859\n",
            "[xla:7](40) Loss=0.21348\n",
            "[xla:6](40) Loss=0.37452\n",
            "[xla:3](40) Loss=0.35129\n",
            "[xla:2](40) Loss=0.28877\n",
            "[xla:4](40) Loss=0.22050\n",
            "Finished training epoch 7\n",
            "[xla:1] Accuracy=88.49%\n",
            "[xla:5] Accuracy=88.58%\n",
            "[xla:0] Accuracy=88.52%\n",
            "[xla:7] Accuracy=88.57%\n",
            "[xla:6] Accuracy=88.59%\n",
            "[xla:2] Accuracy=88.57%\n",
            "[xla:4] Accuracy=88.46%\n",
            "[xla:3] Accuracy=88.48%\n",
            "[xla:5](0) Loss=0.22818\n",
            "[xla:1](0) Loss=0.27321\n",
            "[xla:7](0) Loss=0.18974\n",
            "[xla:0](0) Loss=0.40194\n",
            "[xla:3](0) Loss=0.24507\n",
            "[xla:6](0) Loss=0.38374\n",
            "[xla:2](0) Loss=0.24943\n",
            "[xla:4](0) Loss=0.27537\n",
            "[xla:1](20) Loss=0.21531\n",
            "[xla:5](20) Loss=0.22417\n",
            "[xla:7](20) Loss=0.22301\n",
            "[xla:6](20) Loss=0.21156\n",
            "[xla:0](20) Loss=0.28828\n",
            "[xla:3](20) Loss=0.27153\n",
            "[xla:2](20) Loss=0.15278\n",
            "[xla:4](20) Loss=0.22344\n",
            "[xla:1](40) Loss=0.25722\n",
            "[xla:5](40) Loss=0.26776\n",
            "[xla:2](40) Loss=0.27974\n",
            "[xla:7](40) Loss=0.21021\n",
            "[xla:3](40) Loss=0.34792\n",
            "[xla:6](40) Loss=0.36562\n",
            "[xla:0](40) Loss=0.26631\n",
            "[xla:4](40) Loss=0.21446\n",
            "Finished training epoch 8\n",
            "[xla:6] Accuracy=88.76%\n",
            "[xla:3] Accuracy=88.77%\n",
            "[xla:1] Accuracy=88.64%\n",
            "[xla:4] Accuracy=88.68%\n",
            "[xla:7] Accuracy=88.76%\n",
            "[xla:5] Accuracy=88.74%\n",
            "[xla:2] Accuracy=88.72%\n",
            "[xla:0] Accuracy=88.72%\n",
            "[xla:1](0) Loss=0.27291\n",
            "[xla:3](0) Loss=0.23235\n",
            "[xla:6](0) Loss=0.37022\n",
            "[xla:7](0) Loss=0.18371\n",
            "[xla:4](0) Loss=0.27028\n",
            "[xla:0](0) Loss=0.38551\n",
            "[xla:5](0) Loss=0.22456\n",
            "[xla:2](0) Loss=0.23762\n",
            "[xla:1](20) Loss=0.20824\n",
            "[xla:6](20) Loss=0.20284\n",
            "[xla:4](20) Loss=0.21219\n",
            "[xla:3](20) Loss=0.25329\n",
            "[xla:7](20) Loss=0.21043\n",
            "[xla:0](20) Loss=0.27998\n",
            "[xla:5](20) Loss=0.22659\n",
            "[xla:2](20) Loss=0.13714\n",
            "[xla:1](40) Loss=0.25166\n",
            "[xla:6](40) Loss=0.36100\n",
            "[xla:0](40) Loss=0.25384\n",
            "[xla:7](40) Loss=0.20343\n",
            "[xla:4](40) Loss=0.19743\n",
            "[xla:5](40) Loss=0.25566\n",
            "[xla:3](40) Loss=0.33783\n",
            "[xla:2](40) Loss=0.27371\n",
            "Finished training epoch 9\n",
            "[xla:1] Accuracy=88.81%\n",
            "[xla:0] Accuracy=88.85%\n",
            "[xla:6] Accuracy=88.86%\n",
            "[xla:5] Accuracy=88.85%\n",
            "[xla:3] Accuracy=88.88%\n",
            "[xla:2] Accuracy=88.85%\n",
            "[xla:7] Accuracy=88.87%\n",
            "[xla:4] Accuracy=88.92%\n",
            "[xla:1](0) Loss=0.26819\n",
            "[xla:6](0) Loss=0.35444\n",
            "[xla:5](0) Loss=0.22210\n",
            "[xla:0](0) Loss=0.37646\n",
            "[xla:3](0) Loss=0.22583\n",
            "[xla:4](0) Loss=0.25822\n",
            "[xla:2](0) Loss=0.22761\n",
            "[xla:7](0) Loss=0.17877\n",
            "[xla:1](20) Loss=0.20395\n",
            "[xla:3](20) Loss=0.24595\n",
            "[xla:5](20) Loss=0.21625\n",
            "[xla:6](20) Loss=0.19445\n",
            "[xla:2](20) Loss=0.13499\n",
            "[xla:0](20) Loss=0.27983\n",
            "[xla:4](20) Loss=0.20892\n",
            "[xla:7](20) Loss=0.20570\n",
            "[xla:1](40) Loss=0.25156\n",
            "[xla:3](40) Loss=0.33224\n",
            "[xla:6](40) Loss=0.35700\n",
            "[xla:4](40) Loss=0.18571\n",
            "[xla:7](40) Loss=0.19678\n",
            "[xla:5](40) Loss=0.24347\n",
            "[xla:2](40) Loss=0.26607\n",
            "[xla:0](40) Loss=0.24582\n",
            "Finished training epoch 10\n",
            "[xla:7] Accuracy=89.04%\n",
            "[xla:6] Accuracy=89.04%\n",
            "[xla:4] Accuracy=88.98%\n",
            "[xla:1] Accuracy=89.02%\n",
            "[xla:0] Accuracy=88.95%\n",
            "[xla:3] Accuracy=88.98%\n",
            "[xla:2] Accuracy=89.05%\n",
            "[xla:5] Accuracy=88.99%\n",
            "[xla:7](0) Loss=0.17663\n",
            "[xla:6](0) Loss=0.34055\n",
            "[xla:1](0) Loss=0.26162\n",
            "[xla:4](0) Loss=0.25284\n",
            "[xla:3](0) Loss=0.22026\n",
            "[xla:5](0) Loss=0.21771\n",
            "[xla:0](0) Loss=0.37135\n",
            "[xla:2](0) Loss=0.22668\n",
            "[xla:7](20) Loss=0.19575\n",
            "[xla:6](20) Loss=0.18412\n",
            "[xla:1](20) Loss=0.19642\n",
            "[xla:3](20) Loss=0.23386\n",
            "[xla:4](20) Loss=0.19990\n",
            "[xla:5](20) Loss=0.21089\n",
            "[xla:0](20) Loss=0.27455\n",
            "[xla:2](20) Loss=0.12560\n",
            "[xla:1](40) Loss=0.24642\n",
            "[xla:7](40) Loss=0.18585\n",
            "[xla:6](40) Loss=0.35259\n",
            "[xla:3](40) Loss=0.32300\n",
            "[xla:4](40) Loss=0.17506\n",
            "[xla:5](40) Loss=0.22970\n",
            "[xla:0](40) Loss=0.24075\n",
            "[xla:2](40) Loss=0.26640\n",
            "Finished training epoch 11\n",
            "[xla:2] Accuracy=89.16%\n",
            "[xla:1] Accuracy=89.10%\n",
            "[xla:4] Accuracy=89.09%\n",
            "[xla:3] Accuracy=89.12%\n",
            "[xla:7] Accuracy=89.13%\n",
            "[xla:0] Accuracy=89.09%\n",
            "[xla:6] Accuracy=89.12%\n",
            "[xla:5] Accuracy=89.10%\n",
            "[xla:2](0) Loss=0.22058\n",
            "[xla:1](0) Loss=0.26559\n",
            "[xla:4](0) Loss=0.24985\n",
            "[xla:3](0) Loss=0.21272\n",
            "[xla:7](0) Loss=0.17116\n",
            "[xla:0](0) Loss=0.35941\n",
            "[xla:6](0) Loss=0.33132\n",
            "[xla:5](0) Loss=0.21441\n",
            "[xla:1](20) Loss=0.19056\n",
            "[xla:3](20) Loss=0.21835\n",
            "[xla:2](20) Loss=0.11859\n",
            "[xla:4](20) Loss=0.19224\n",
            "[xla:0](20) Loss=0.27230\n",
            "[xla:7](20) Loss=0.18937\n",
            "[xla:6](20) Loss=0.17854\n",
            "[xla:5](20) Loss=0.21129\n",
            "[xla:2](40) Loss=0.25493\n",
            "[xla:4](40) Loss=0.16933\n",
            "[xla:3](40) Loss=0.32773\n",
            "[xla:1](40) Loss=0.25034\n",
            "[xla:0](40) Loss=0.24173\n",
            "[xla:7](40) Loss=0.17875\n",
            "[xla:5](40) Loss=0.22944\n",
            "[xla:6](40) Loss=0.34411\n",
            "Finished training epoch 12\n",
            "[xla:1] Accuracy=89.01%\n",
            "[xla:2] Accuracy=89.17%\n",
            "[xla:5] Accuracy=89.15%\n",
            "[xla:3] Accuracy=89.16%\n",
            "[xla:6] Accuracy=89.15%\n",
            "[xla:4] Accuracy=89.12%\n",
            "[xla:7] Accuracy=89.15%\n",
            "[xla:0] Accuracy=89.09%\n",
            "[xla:1](0) Loss=0.26398\n",
            "[xla:2](0) Loss=0.21876\n",
            "[xla:5](0) Loss=0.20666\n",
            "[xla:6](0) Loss=0.32769\n",
            "[xla:7](0) Loss=0.16710\n",
            "[xla:4](0) Loss=0.24312\n",
            "[xla:3](0) Loss=0.20086\n",
            "[xla:0](0) Loss=0.35103\n",
            "[xla:1](20) Loss=0.18719\n",
            "[xla:2](20) Loss=0.11285\n",
            "[xla:5](20) Loss=0.21082\n",
            "[xla:6](20) Loss=0.17549\n",
            "[xla:7](20) Loss=0.18440\n",
            "[xla:4](20) Loss=0.18553\n",
            "[xla:3](20) Loss=0.20795\n",
            "[xla:0](20) Loss=0.27187\n",
            "[xla:2](40) Loss=0.24791\n",
            "[xla:5](40) Loss=0.22773\n",
            "[xla:1](40) Loss=0.25176\n",
            "[xla:6](40) Loss=0.34494\n",
            "[xla:7](40) Loss=0.16684\n",
            "[xla:4](40) Loss=0.16356\n",
            "[xla:3](40) Loss=0.32692\n",
            "[xla:0](40) Loss=0.23509\n",
            "Finished training epoch 13\n",
            "[xla:6] Accuracy=89.21%\n",
            "[xla:1] Accuracy=89.11%\n",
            "[xla:3] Accuracy=89.20%\n",
            "[xla:7] Accuracy=89.26%\n",
            "[xla:5] Accuracy=89.18%\n",
            "[xla:0] Accuracy=89.19%\n",
            "[xla:4] Accuracy=89.16%\n",
            "[xla:2] Accuracy=89.19%\n",
            "[xla:6](0) Loss=0.32016\n",
            "[xla:1](0) Loss=0.26287\n",
            "[xla:3](0) Loss=0.19496\n",
            "[xla:5](0) Loss=0.20015\n",
            "[xla:7](0) Loss=0.16400\n",
            "[xla:0](0) Loss=0.34206\n",
            "[xla:4](0) Loss=0.24696\n",
            "[xla:2](0) Loss=0.21968\n",
            "[xla:6](20) Loss=0.17373\n",
            "[xla:1](20) Loss=0.18905\n",
            "[xla:3](20) Loss=0.20711\n",
            "[xla:7](20) Loss=0.17621\n",
            "[xla:5](20) Loss=0.21215\n",
            "[xla:0](20) Loss=0.26244\n",
            "[xla:2](20) Loss=0.10818\n",
            "[xla:4](20) Loss=0.17790\n",
            "[xla:6](40) Loss=0.33901\n",
            "[xla:1](40) Loss=0.25186\n",
            "[xla:3](40) Loss=0.32707\n",
            "[xla:7](40) Loss=0.16285\n",
            "[xla:5](40) Loss=0.22098\n",
            "[xla:2](40) Loss=0.23478\n",
            "[xla:0](40) Loss=0.23132\n",
            "[xla:4](40) Loss=0.16186\n",
            "Finished training epoch 14\n",
            "[xla:0] Accuracy=89.05%\n",
            "[xla:3] Accuracy=89.06%\n",
            "[xla:1] Accuracy=88.98%\n",
            "[xla:2] Accuracy=89.10%\n",
            "[xla:7] Accuracy=89.14%\n",
            "[xla:4] Accuracy=89.08%\n",
            "[xla:5] Accuracy=89.12%\n",
            "[xla:6] Accuracy=89.08%\n",
            "[xla:0](0) Loss=0.33299\n",
            "[xla:1](0) Loss=0.26161\n",
            "[xla:2](0) Loss=0.22243\n",
            "[xla:3](0) Loss=0.18544\n",
            "[xla:7](0) Loss=0.16415\n",
            "[xla:4](0) Loss=0.24697\n",
            "[xla:5](0) Loss=0.19246\n",
            "[xla:6](0) Loss=0.32231\n",
            "[xla:0](20) Loss=0.26360\n",
            "[xla:7](20) Loss=0.17055\n",
            "[xla:3](20) Loss=0.20652\n",
            "[xla:1](20) Loss=0.19375\n",
            "[xla:5](20) Loss=0.21321\n",
            "[xla:2](20) Loss=0.10514\n",
            "[xla:4](20) Loss=0.17615\n",
            "[xla:6](20) Loss=0.17799\n",
            "[xla:0](40) Loss=0.23046\n",
            "[xla:7](40) Loss=0.15372\n",
            "[xla:3](40) Loss=0.33110\n",
            "[xla:1](40) Loss=0.25154\n",
            "[xla:4](40) Loss=0.15926\n",
            "[xla:2](40) Loss=0.22460\n",
            "[xla:5](40) Loss=0.21714\n",
            "[xla:6](40) Loss=0.33237\n",
            "Finished training epoch 15\n",
            "[xla:7] Accuracy=89.20%\n",
            "[xla:3] Accuracy=89.16%\n",
            "[xla:0] Accuracy=89.16%\n",
            "[xla:6] Accuracy=89.22%\n",
            "[xla:1] Accuracy=89.06%\n",
            "[xla:4] Accuracy=89.15%\n",
            "[xla:2] Accuracy=89.16%\n",
            "[xla:5] Accuracy=89.18%\n",
            "[xla:7](0) Loss=0.16245\n",
            "[xla:3](0) Loss=0.17764\n",
            "[xla:6](0) Loss=0.31892\n",
            "[xla:0](0) Loss=0.32191\n",
            "[xla:4](0) Loss=0.23967\n",
            "[xla:1](0) Loss=0.25612\n",
            "[xla:2](0) Loss=0.21781\n",
            "[xla:5](0) Loss=0.19190\n",
            "[xla:7](20) Loss=0.17383\n",
            "[xla:3](20) Loss=0.20112\n",
            "[xla:0](20) Loss=0.26518\n",
            "[xla:4](20) Loss=0.17234\n",
            "[xla:1](20) Loss=0.18695\n",
            "[xla:2](20) Loss=0.10739\n",
            "[xla:6](20) Loss=0.17151\n",
            "[xla:5](20) Loss=0.19653\n",
            "[xla:7](40) Loss=0.14914\n",
            "[xla:0](40) Loss=0.21827\n",
            "[xla:4](40) Loss=0.14762\n",
            "[xla:3](40) Loss=0.31831\n",
            "[xla:2](40) Loss=0.22969\n",
            "[xla:1](40) Loss=0.24295\n",
            "[xla:6](40) Loss=0.33102\n",
            "[xla:5](40) Loss=0.20358\n",
            "Finished training epoch 16\n",
            "[xla:2] Accuracy=89.15%\n",
            "[xla:5] Accuracy=89.25%\n",
            "[xla:7] Accuracy=89.28%\n",
            "[xla:0] Accuracy=89.16%\n",
            "[xla:6] Accuracy=89.23%\n",
            "[xla:4] Accuracy=89.16%\n",
            "[xla:1] Accuracy=89.11%\n",
            "[xla:3] Accuracy=89.21%\n",
            "[xla:2](0) Loss=0.21956\n",
            "[xla:5](0) Loss=0.18742\n",
            "[xla:7](0) Loss=0.15944\n",
            "[xla:6](0) Loss=0.31219\n",
            "[xla:4](0) Loss=0.23695\n",
            "[xla:3](0) Loss=0.17547\n",
            "[xla:1](0) Loss=0.25396\n",
            "[xla:0](0) Loss=0.31406\n",
            "[xla:2](20) Loss=0.10340\n",
            "[xla:5](20) Loss=0.19539\n",
            "[xla:7](20) Loss=0.16565\n",
            "[xla:4](20) Loss=0.16968\n",
            "[xla:6](20) Loss=0.17212\n",
            "[xla:1](20) Loss=0.18938\n",
            "[xla:3](20) Loss=0.19937\n",
            "[xla:0](20) Loss=0.25952\n",
            "[xla:2](40) Loss=0.22165\n",
            "[xla:5](40) Loss=0.20238\n",
            "[xla:7](40) Loss=0.14526\n",
            "[xla:6](40) Loss=0.32176\n",
            "[xla:4](40) Loss=0.14773\n",
            "[xla:1](40) Loss=0.23555\n",
            "[xla:0](40) Loss=0.21657\n",
            "[xla:3](40) Loss=0.31866\n",
            "Finished training epoch 17\n",
            "[xla:1] Accuracy=89.08%\n",
            "[xla:7] Accuracy=89.19%\n",
            "[xla:6] Accuracy=89.13%\n",
            "[xla:2] Accuracy=89.22%\n",
            "[xla:0] Accuracy=89.10%\n",
            "[xla:3] Accuracy=89.21%\n",
            "[xla:5] Accuracy=89.16%\n",
            "[xla:4] Accuracy=89.17%\n",
            "[xla:1](0) Loss=0.25059\n",
            "[xla:7](0) Loss=0.15737\n",
            "[xla:4](0) Loss=0.23921\n",
            "[xla:6](0) Loss=0.31562\n",
            "[xla:2](0) Loss=0.22328\n",
            "[xla:0](0) Loss=0.30528\n",
            "[xla:3](0) Loss=0.17171\n",
            "[xla:5](0) Loss=0.17924\n",
            "[xla:1](20) Loss=0.18491\n",
            "[xla:7](20) Loss=0.16043\n",
            "[xla:4](20) Loss=0.16800\n",
            "[xla:6](20) Loss=0.17712\n",
            "[xla:2](20) Loss=0.10210\n",
            "[xla:0](20) Loss=0.25705\n",
            "[xla:3](20) Loss=0.20613\n",
            "[xla:5](20) Loss=0.19161\n",
            "[xla:7](40) Loss=0.14298\n",
            "[xla:1](40) Loss=0.23419\n",
            "[xla:6](40) Loss=0.32607\n",
            "[xla:2](40) Loss=0.22525\n",
            "[xla:4](40) Loss=0.14095\n",
            "[xla:0](40) Loss=0.21281\n",
            "[xla:5](40) Loss=0.19069\n",
            "[xla:3](40) Loss=0.30692\n",
            "Finished training epoch 18\n",
            "[xla:0] Accuracy=89.08%\n",
            "[xla:4] Accuracy=89.12%\n",
            "[xla:7] Accuracy=89.16%\n",
            "[xla:6] Accuracy=89.08%\n",
            "[xla:3] Accuracy=89.10%\n",
            "[xla:5] Accuracy=89.13%\n",
            "[xla:1] Accuracy=89.08%\n",
            "[xla:2] Accuracy=89.09%\n",
            "[xla:7](0) Loss=0.15778\n",
            "[xla:4](0) Loss=0.23713\n",
            "[xla:3](0) Loss=0.16691\n",
            "[xla:0](0) Loss=0.30008\n",
            "[xla:6](0) Loss=0.31632\n",
            "[xla:5](0) Loss=0.18125\n",
            "[xla:2](0) Loss=0.22290\n",
            "[xla:1](0) Loss=0.24558\n",
            "[xla:4](20) Loss=0.16327\n",
            "[xla:7](20) Loss=0.15594\n",
            "[xla:3](20) Loss=0.19707\n",
            "[xla:0](20) Loss=0.24546\n",
            "[xla:6](20) Loss=0.16772\n",
            "[xla:5](20) Loss=0.18458\n",
            "[xla:1](20) Loss=0.18098\n",
            "[xla:2](20) Loss=0.10182\n",
            "[xla:7](40) Loss=0.13880\n",
            "[xla:3](40) Loss=0.31974\n",
            "[xla:5](40) Loss=0.19981\n",
            "[xla:6](40) Loss=0.32420\n",
            "[xla:1](40) Loss=0.23301\n",
            "[xla:2](40) Loss=0.21039\n",
            "[xla:4](40) Loss=0.15042\n",
            "[xla:0](40) Loss=0.21781\n",
            "Finished training epoch 19\n",
            "[xla:4] Accuracy=89.10%\n",
            "[xla:2] Accuracy=89.16%\n",
            "[xla:5] Accuracy=89.18%\n",
            "[xla:3] Accuracy=89.21%\n",
            "[xla:1] Accuracy=89.20%\n",
            "[xla:6] Accuracy=89.15%\n",
            "[xla:7] Accuracy=89.23%\n",
            "[xla:0] Accuracy=89.18%\n",
            "[xla:2](0) Loss=0.22090\n",
            "[xla:4](0) Loss=0.23171\n",
            "[xla:5](0) Loss=0.17924\n",
            "[xla:3](0) Loss=0.16214\n",
            "[xla:7](0) Loss=0.15433\n",
            "[xla:6](0) Loss=0.31176\n",
            "[xla:1](0) Loss=0.24279\n",
            "[xla:0](0) Loss=0.29158\n",
            "[xla:2](20) Loss=0.09871\n",
            "[xla:4](20) Loss=0.15320\n",
            "[xla:5](20) Loss=0.18477\n",
            "[xla:7](20) Loss=0.15284\n",
            "[xla:3](20) Loss=0.20198\n",
            "[xla:1](20) Loss=0.18022\n",
            "[xla:6](20) Loss=0.16712\n",
            "[xla:0](20) Loss=0.24859\n",
            "[xla:4](40) Loss=0.14132\n",
            "[xla:2](40) Loss=0.21350\n",
            "[xla:7](40) Loss=0.13188\n",
            "[xla:5](40) Loss=0.17965\n",
            "[xla:3](40) Loss=0.30148\n",
            "[xla:6](40) Loss=0.31258\n",
            "[xla:1](40) Loss=0.22512\n",
            "[xla:0](40) Loss=0.20849\n",
            "Finished training epoch 20\n",
            "[xla:4] Accuracy=89.21%\n",
            "[xla:7] Accuracy=89.22%\n",
            "[xla:5] Accuracy=89.17%\n",
            "[xla:3] Accuracy=89.22%\n",
            "[xla:2] Accuracy=89.21%\n",
            "[xla:0] Accuracy=89.18%\n",
            "[xla:6] Accuracy=89.21%\n",
            "[xla:1] Accuracy=89.17%\n",
            "[xla:4](0) Loss=0.22490\n",
            "[xla:3](0) Loss=0.15766\n",
            "[xla:5](0) Loss=0.17774\n",
            "[xla:7](0) Loss=0.15502\n",
            "[xla:2](0) Loss=0.21709\n",
            "[xla:0](0) Loss=0.29135\n",
            "[xla:6](0) Loss=0.30941\n",
            "[xla:1](0) Loss=0.24650\n",
            "[xla:4](20) Loss=0.15025\n",
            "[xla:3](20) Loss=0.20100\n",
            "[xla:5](20) Loss=0.18219\n",
            "[xla:7](20) Loss=0.15636\n",
            "[xla:2](20) Loss=0.10041\n",
            "[xla:0](20) Loss=0.25138\n",
            "[xla:1](20) Loss=0.17852\n",
            "[xla:6](20) Loss=0.16734\n",
            "[xla:4](40) Loss=0.14076\n",
            "[xla:5](40) Loss=0.17617\n",
            "[xla:3](40) Loss=0.29675\n",
            "[xla:7](40) Loss=0.12660\n",
            "[xla:2](40) Loss=0.20915\n",
            "[xla:1](40) Loss=0.22392\n",
            "[xla:0](40) Loss=0.20335\n",
            "[xla:6](40) Loss=0.31194\n",
            "Finished training epoch 21\n",
            "[xla:6] Accuracy=89.19%\n",
            "[xla:5] Accuracy=89.17%\n",
            "[xla:3] Accuracy=89.23%\n",
            "[xla:7] Accuracy=89.29%\n",
            "[xla:0] Accuracy=89.22%\n",
            "[xla:2] Accuracy=89.20%\n",
            "[xla:4] Accuracy=89.20%\n",
            "[xla:1] Accuracy=89.11%\n",
            "[xla:6](0) Loss=0.30735\n",
            "[xla:5](0) Loss=0.17604\n",
            "[xla:3](0) Loss=0.15515\n",
            "[xla:7](0) Loss=0.15295\n",
            "[xla:2](0) Loss=0.21476\n",
            "[xla:4](0) Loss=0.21918\n",
            "[xla:1](0) Loss=0.24962\n",
            "[xla:0](0) Loss=0.28808\n",
            "[xla:6](20) Loss=0.16185\n",
            "[xla:5](20) Loss=0.17540\n",
            "[xla:3](20) Loss=0.19792\n",
            "[xla:7](20) Loss=0.14784\n",
            "[xla:4](20) Loss=0.14798\n",
            "[xla:1](20) Loss=0.17438\n",
            "[xla:2](20) Loss=0.09793\n",
            "[xla:0](20) Loss=0.24127\n",
            "[xla:6](40) Loss=0.30877\n",
            "[xla:5](40) Loss=0.18079\n",
            "[xla:3](40) Loss=0.30170\n",
            "[xla:7](40) Loss=0.12268\n",
            "[xla:4](40) Loss=0.14804\n",
            "[xla:1](40) Loss=0.22567\n",
            "[xla:2](40) Loss=0.19964\n",
            "[xla:0](40) Loss=0.21012\n",
            "Finished training epoch 22\n",
            "[xla:1] Accuracy=89.12%\n",
            "[xla:4] Accuracy=89.12%\n",
            "[xla:0] Accuracy=89.14%\n",
            "[xla:3] Accuracy=89.16%\n",
            "[xla:2] Accuracy=89.16%\n",
            "[xla:6] Accuracy=89.09%\n",
            "[xla:7] Accuracy=89.16%\n",
            "[xla:5] Accuracy=89.09%\n",
            "[xla:1](0) Loss=0.24808\n",
            "[xla:4](0) Loss=0.21847\n",
            "[xla:6](0) Loss=0.30958\n",
            "[xla:3](0) Loss=0.15493\n",
            "[xla:7](0) Loss=0.15160\n",
            "[xla:0](0) Loss=0.28155\n",
            "[xla:5](0) Loss=0.17936\n",
            "[xla:2](0) Loss=0.21530\n",
            "[xla:1](20) Loss=0.17326\n",
            "[xla:4](20) Loss=0.14293\n",
            "[xla:6](20) Loss=0.16245\n",
            "[xla:3](20) Loss=0.19758\n",
            "[xla:7](20) Loss=0.14678\n",
            "[xla:2](20) Loss=0.09762\n",
            "[xla:0](20) Loss=0.24350\n",
            "[xla:5](20) Loss=0.17199\n",
            "[xla:1](40) Loss=0.22706\n",
            "[xla:4](40) Loss=0.16069\n",
            "[xla:6](40) Loss=0.31266\n",
            "[xla:7](40) Loss=0.12089\n",
            "[xla:3](40) Loss=0.31238\n",
            "[xla:2](40) Loss=0.18901\n",
            "[xla:0](40) Loss=0.21511\n",
            "[xla:5](40) Loss=0.19755\n",
            "Finished training epoch 23\n",
            "[xla:1] Accuracy=88.93%\n",
            "[xla:2] Accuracy=88.96%\n",
            "[xla:4] Accuracy=88.98%\n",
            "[xla:5] Accuracy=88.99%\n",
            "[xla:3] Accuracy=88.92%\n",
            "[xla:7] Accuracy=89.02%\n",
            "[xla:6] Accuracy=88.97%\n",
            "[xla:0] Accuracy=88.98%\n",
            "[xla:2](0) Loss=0.21584\n",
            "[xla:5](0) Loss=0.17915\n",
            "[xla:1](0) Loss=0.24491\n",
            "[xla:7](0) Loss=0.15159\n",
            "[xla:4](0) Loss=0.21948\n",
            "[xla:6](0) Loss=0.31258\n",
            "[xla:3](0) Loss=0.14895\n",
            "[xla:0](0) Loss=0.27683\n",
            "[xla:2](20) Loss=0.09060\n",
            "[xla:4](20) Loss=0.14143\n",
            "[xla:1](20) Loss=0.17244\n",
            "[xla:5](20) Loss=0.17864\n",
            "[xla:3](20) Loss=0.19162\n",
            "[xla:7](20) Loss=0.13771\n",
            "[xla:6](20) Loss=0.15810\n",
            "[xla:0](20) Loss=0.24183\n",
            "[xla:7](40) Loss=0.12476\n",
            "[xla:2](40) Loss=0.18590\n",
            "[xla:5](40) Loss=0.20669\n",
            "[xla:1](40) Loss=0.22841\n",
            "[xla:4](40) Loss=0.17183\n",
            "[xla:3](40) Loss=0.32331\n",
            "[xla:6](40) Loss=0.29885\n",
            "[xla:0](40) Loss=0.21953\n",
            "Finished training epoch 24\n",
            "[xla:3] Accuracy=89.04%\n",
            "[xla:6] Accuracy=89.04%\n",
            "[xla:5] Accuracy=89.08%\n",
            "[xla:2] Accuracy=89.03%\n",
            "[xla:4] Accuracy=89.01%\n",
            "[xla:1] Accuracy=88.91%\n",
            "[xla:7] Accuracy=89.13%\n",
            "[xla:0] Accuracy=88.99%\n",
            "[xla:3](0) Loss=0.14875\n",
            "[xla:1](0) Loss=0.24013\n",
            "[xla:4](0) Loss=0.21216\n",
            "[xla:5](0) Loss=0.18014\n",
            "[xla:7](0) Loss=0.14508\n",
            "[xla:2](0) Loss=0.20661\n",
            "[xla:6](0) Loss=0.31205\n",
            "[xla:0](0) Loss=0.27540\n",
            "[xla:3](20) Loss=0.19661\n",
            "[xla:1](20) Loss=0.16785\n",
            "[xla:4](20) Loss=0.14043\n",
            "[xla:2](20) Loss=0.08955\n",
            "[xla:5](20) Loss=0.17270\n",
            "[xla:6](20) Loss=0.16366\n",
            "[xla:7](20) Loss=0.13685\n",
            "[xla:0](20) Loss=0.24256\n",
            "[xla:1](40) Loss=0.21393\n",
            "[xla:3](40) Loss=0.28775\n",
            "[xla:4](40) Loss=0.15042\n",
            "[xla:5](40) Loss=0.17353\n",
            "[xla:6](40) Loss=0.29239\n",
            "[xla:2](40) Loss=0.18967\n",
            "[xla:7](40) Loss=0.11275\n",
            "[xla:0](40) Loss=0.20018\n",
            "Finished training epoch 25\n",
            "[xla:5] Accuracy=88.96%\n",
            "[xla:3] Accuracy=88.96%\n",
            "[xla:7] Accuracy=88.98%\n",
            "[xla:0] Accuracy=89.03%\n",
            "[xla:2] Accuracy=89.03%\n",
            "[xla:1] Accuracy=88.91%\n",
            "[xla:4] Accuracy=89.01%\n",
            "[xla:6] Accuracy=88.98%\n",
            "[xla:2](0) Loss=0.21094\n",
            "[xla:7](0) Loss=0.14057\n",
            "[xla:5](0) Loss=0.17517\n",
            "[xla:0](0) Loss=0.27793\n",
            "[xla:3](0) Loss=0.14869\n",
            "[xla:4](0) Loss=0.20504\n",
            "[xla:6](0) Loss=0.30926\n",
            "[xla:1](0) Loss=0.23955\n",
            "[xla:3](20) Loss=0.18707\n",
            "[xla:0](20) Loss=0.23407\n",
            "[xla:5](20) Loss=0.17584\n",
            "[xla:7](20) Loss=0.13297\n",
            "[xla:2](20) Loss=0.08745\n",
            "[xla:6](20) Loss=0.16452\n",
            "[xla:4](20) Loss=0.13469\n",
            "[xla:1](20) Loss=0.16842\n",
            "[xla:3](40) Loss=0.28215\n",
            "[xla:7](40) Loss=0.11395\n",
            "[xla:0](40) Loss=0.19761\n",
            "[xla:2](40) Loss=0.18694\n",
            "[xla:5](40) Loss=0.16542\n",
            "[xla:1](40) Loss=0.20688\n",
            "[xla:6](40) Loss=0.28435\n",
            "[xla:4](40) Loss=0.14960\n",
            "Finished training epoch 26\n",
            "[xla:4] Accuracy=89.10%\n",
            "[xla:6] Accuracy=89.19%\n",
            "[xla:2] Accuracy=89.14%\n",
            "[xla:3] Accuracy=89.14%\n",
            "[xla:0] Accuracy=89.15%\n",
            "[xla:1] Accuracy=89.21%\n",
            "[xla:5] Accuracy=89.16%\n",
            "[xla:7] Accuracy=89.22%\n",
            "[xla:4](0) Loss=0.21477\n",
            "[xla:6](0) Loss=0.30698\n",
            "[xla:0](0) Loss=0.27007\n",
            "[xla:2](0) Loss=0.20907\n",
            "[xla:3](0) Loss=0.13797\n",
            "[xla:1](0) Loss=0.23104\n",
            "[xla:5](0) Loss=0.17161\n",
            "[xla:7](0) Loss=0.13547\n",
            "[xla:4](20) Loss=0.13244\n",
            "[xla:6](20) Loss=0.15726\n",
            "[xla:2](20) Loss=0.08932\n",
            "[xla:3](20) Loss=0.18715\n",
            "[xla:1](20) Loss=0.16147\n",
            "[xla:0](20) Loss=0.23231\n",
            "[xla:5](20) Loss=0.15961\n",
            "[xla:7](20) Loss=0.13012\n",
            "[xla:4](40) Loss=0.14534\n",
            "[xla:3](40) Loss=0.27551\n",
            "[xla:2](40) Loss=0.18824\n",
            "[xla:6](40) Loss=0.27930\n",
            "[xla:0](40) Loss=0.18984\n",
            "[xla:1](40) Loss=0.19995\n",
            "[xla:5](40) Loss=0.15594\n",
            "[xla:7](40) Loss=0.10740\n",
            "Finished training epoch 27\n",
            "[xla:7] Accuracy=89.25%\n",
            "[xla:4] Accuracy=89.18%\n",
            "[xla:6] Accuracy=89.22%\n",
            "[xla:1] Accuracy=89.24%\n",
            "[xla:2] Accuracy=89.21%\n",
            "[xla:5] Accuracy=89.20%\n",
            "[xla:0] Accuracy=89.16%\n",
            "[xla:3] Accuracy=89.19%\n",
            "[xla:7](0) Loss=0.13271\n",
            "[xla:2](0) Loss=0.20707\n",
            "[xla:4](0) Loss=0.21167\n",
            "[xla:5](0) Loss=0.16533\n",
            "[xla:1](0) Loss=0.22879\n",
            "[xla:6](0) Loss=0.30860\n",
            "[xla:0](0) Loss=0.26349\n",
            "[xla:3](0) Loss=0.14273\n",
            "[xla:7](20) Loss=0.12967\n",
            "[xla:4](20) Loss=0.12977\n",
            "[xla:6](20) Loss=0.15182\n",
            "[xla:2](20) Loss=0.09028\n",
            "[xla:5](20) Loss=0.15617\n",
            "[xla:0](20) Loss=0.22919\n",
            "[xla:1](20) Loss=0.15954\n",
            "[xla:3](20) Loss=0.18530\n",
            "[xla:7](40) Loss=0.10614\n",
            "[xla:6](40) Loss=0.27367\n",
            "[xla:2](40) Loss=0.17791\n",
            "[xla:5](40) Loss=0.16102\n",
            "[xla:0](40) Loss=0.18952\n",
            "[xla:4](40) Loss=0.14731\n",
            "[xla:1](40) Loss=0.19676\n",
            "[xla:3](40) Loss=0.28221\n",
            "Finished training epoch 28\n",
            "[xla:2] Accuracy=89.15%\n",
            "[xla:4] Accuracy=89.04%\n",
            "[xla:6] Accuracy=89.11%\n",
            "[xla:7] Accuracy=89.12%\n",
            "[xla:3] Accuracy=89.12%\n",
            "[xla:0] Accuracy=88.97%\n",
            "[xla:5] Accuracy=89.11%\n",
            "[xla:1] Accuracy=89.06%\n",
            "[xla:2](0) Loss=0.20446\n",
            "[xla:6](0) Loss=0.30733\n",
            "[xla:7](0) Loss=0.13035\n",
            "[xla:3](0) Loss=0.13881\n",
            "[xla:4](0) Loss=0.20817\n",
            "[xla:0](0) Loss=0.26205\n",
            "[xla:1](0) Loss=0.22078\n",
            "[xla:5](0) Loss=0.16262\n",
            "[xla:2](20) Loss=0.08982\n",
            "[xla:6](20) Loss=0.14808\n",
            "[xla:7](20) Loss=0.13310\n",
            "[xla:3](20) Loss=0.18259\n",
            "[xla:0](20) Loss=0.22446\n",
            "[xla:4](20) Loss=0.12884\n",
            "[xla:1](20) Loss=0.15936\n",
            "[xla:5](20) Loss=0.16127\n",
            "[xla:2](40) Loss=0.17917\n",
            "[xla:7](40) Loss=0.10379\n",
            "[xla:6](40) Loss=0.26501\n",
            "[xla:3](40) Loss=0.27639\n",
            "[xla:0](40) Loss=0.18616\n",
            "[xla:4](40) Loss=0.14427\n",
            "[xla:1](40) Loss=0.19067\n",
            "[xla:5](40) Loss=0.15279\n",
            "Finished training epoch 29\n",
            "[xla:1] Accuracy=89.24%\n",
            "[xla:3] Accuracy=89.17%\n",
            "[xla:0] Accuracy=89.13%\n",
            "[xla:4] Accuracy=89.15%\n",
            "[xla:6] Accuracy=89.23%\n",
            "[xla:2] Accuracy=89.24%\n",
            "[xla:5] Accuracy=89.24%\n",
            "[xla:7] Accuracy=89.25%\n",
            "[xla:2](0) Loss=0.20278\n",
            "[xla:1](0) Loss=0.21911\n",
            "[xla:6](0) Loss=0.29990\n",
            "[xla:5](0) Loss=0.15505\n",
            "[xla:7](0) Loss=0.12683\n",
            "[xla:4](0) Loss=0.21225\n",
            "[xla:3](0) Loss=0.13562\n",
            "[xla:0](0) Loss=0.25532\n",
            "[xla:1](20) Loss=0.15363\n",
            "[xla:7](20) Loss=0.13628\n",
            "[xla:5](20) Loss=0.15347\n",
            "[xla:3](20) Loss=0.18266\n",
            "[xla:6](20) Loss=0.14603\n",
            "[xla:2](20) Loss=0.09036\n",
            "[xla:4](20) Loss=0.12440\n",
            "[xla:0](20) Loss=0.22665\n",
            "[xla:2](40) Loss=0.17981\n",
            "[xla:1](40) Loss=0.18608\n",
            "[xla:7](40) Loss=0.10156\n",
            "[xla:3](40) Loss=0.27269\n",
            "[xla:6](40) Loss=0.25863\n",
            "[xla:5](40) Loss=0.14685\n",
            "[xla:4](40) Loss=0.14758\n",
            "[xla:0](40) Loss=0.18225\n",
            "Finished training epoch 30\n",
            "[xla:3] Accuracy=88.98%\n",
            "[xla:7] Accuracy=89.07%\n",
            "[xla:1] Accuracy=89.02%\n",
            "[xla:4] Accuracy=88.93%\n",
            "[xla:5] Accuracy=89.05%\n",
            "[xla:0] Accuracy=88.97%\n",
            "[xla:6] Accuracy=89.05%\n",
            "[xla:2] Accuracy=89.09%\n",
            "[xla:3](0) Loss=0.13155\n",
            "[xla:7](0) Loss=0.12686\n",
            "[xla:1](0) Loss=0.21693\n",
            "[xla:4](0) Loss=0.20983\n",
            "[xla:6](0) Loss=0.30178\n",
            "[xla:5](0) Loss=0.15575\n",
            "[xla:0](0) Loss=0.25573\n",
            "[xla:2](0) Loss=0.20478\n",
            "[xla:4](20) Loss=0.12342\n",
            "[xla:7](20) Loss=0.13221\n",
            "[xla:6](20) Loss=0.14838\n",
            "[xla:1](20) Loss=0.15056\n",
            "[xla:0](20) Loss=0.22814\n",
            "[xla:3](20) Loss=0.18035\n",
            "[xla:5](20) Loss=0.15391\n",
            "[xla:2](20) Loss=0.08858\n",
            "[xla:7](40) Loss=0.10189\n",
            "[xla:6](40) Loss=0.25678\n",
            "[xla:5](40) Loss=0.13501\n",
            "[xla:4](40) Loss=0.14627\n",
            "[xla:3](40) Loss=0.25954\n",
            "[xla:1](40) Loss=0.18066\n",
            "[xla:0](40) Loss=0.17441\n",
            "[xla:2](40) Loss=0.18802\n",
            "Finished training epoch 31\n",
            "[xla:7] Accuracy=88.84%\n",
            "[xla:6] Accuracy=88.85%\n",
            "[xla:1] Accuracy=88.75%\n",
            "[xla:2] Accuracy=88.89%\n",
            "[xla:3] Accuracy=88.85%\n",
            "[xla:0] Accuracy=88.81%\n",
            "[xla:5] Accuracy=88.81%\n",
            "[xla:4] Accuracy=88.87%\n",
            "[xla:2](0) Loss=0.20023\n",
            "[xla:7](0) Loss=0.12523\n",
            "[xla:6](0) Loss=0.29821\n",
            "[xla:1](0) Loss=0.21476\n",
            "[xla:5](0) Loss=0.15773\n",
            "[xla:3](0) Loss=0.13120\n",
            "[xla:0](0) Loss=0.25665\n",
            "[xla:4](0) Loss=0.20801\n",
            "[xla:2](20) Loss=0.08410\n",
            "[xla:7](20) Loss=0.12764\n",
            "[xla:5](20) Loss=0.15294\n",
            "[xla:3](20) Loss=0.16679\n",
            "[xla:1](20) Loss=0.14912\n",
            "[xla:6](20) Loss=0.13724\n",
            "[xla:4](20) Loss=0.11945\n",
            "[xla:0](20) Loss=0.22570\n",
            "[xla:5](40) Loss=0.14208\n",
            "[xla:7](40) Loss=0.09786\n",
            "[xla:6](40) Loss=0.25687\n",
            "[xla:2](40) Loss=0.17261\n",
            "[xla:1](40) Loss=0.17459\n",
            "[xla:3](40) Loss=0.27006\n",
            "[xla:4](40) Loss=0.14972\n",
            "[xla:0](40) Loss=0.17404\n",
            "Finished training epoch 32\n",
            "[xla:2] Accuracy=88.83%\n",
            "[xla:3] Accuracy=88.76%\n",
            "[xla:6] Accuracy=88.82%\n",
            "[xla:7] Accuracy=88.77%\n",
            "[xla:5] Accuracy=88.75%\n",
            "[xla:1] Accuracy=88.73%\n",
            "[xla:0] Accuracy=88.71%\n",
            "[xla:4] Accuracy=88.75%\n",
            "[xla:5](0) Loss=0.15208\n",
            "[xla:7](0) Loss=0.12185\n",
            "[xla:1](0) Loss=0.20774\n",
            "[xla:3](0) Loss=0.13313\n",
            "[xla:2](0) Loss=0.20367\n",
            "[xla:6](0) Loss=0.30291\n",
            "[xla:4](0) Loss=0.20979\n",
            "[xla:0](0) Loss=0.25722\n",
            "[xla:5](20) Loss=0.14818\n",
            "[xla:7](20) Loss=0.12759\n",
            "[xla:3](20) Loss=0.15927\n",
            "[xla:2](20) Loss=0.08525\n",
            "[xla:6](20) Loss=0.13794\n",
            "[xla:1](20) Loss=0.15183\n",
            "[xla:4](20) Loss=0.11726\n",
            "[xla:0](20) Loss=0.22111\n",
            "[xla:5](40) Loss=0.13949\n",
            "[xla:2](40) Loss=0.16633\n",
            "[xla:7](40) Loss=0.09677\n",
            "[xla:3](40) Loss=0.26803\n",
            "[xla:1](40) Loss=0.17332\n",
            "[xla:6](40) Loss=0.24674\n",
            "[xla:0](40) Loss=0.17734\n",
            "[xla:4](40) Loss=0.15154\n",
            "Finished training epoch 33\n",
            "[xla:6] Accuracy=88.79%\n",
            "[xla:5] Accuracy=88.77%\n",
            "[xla:0] Accuracy=88.69%\n",
            "[xla:2] Accuracy=88.72%\n",
            "[xla:7] Accuracy=88.79%\n",
            "[xla:3] Accuracy=88.69%\n",
            "[xla:4] Accuracy=88.71%\n",
            "[xla:1] Accuracy=88.77%\n",
            "[xla:6](0) Loss=0.29928\n",
            "[xla:5](0) Loss=0.14792\n",
            "[xla:2](0) Loss=0.20672\n",
            "[xla:3](0) Loss=0.13085\n",
            "[xla:0](0) Loss=0.25129\n",
            "[xla:4](0) Loss=0.20288\n",
            "[xla:7](0) Loss=0.11550\n",
            "[xla:1](0) Loss=0.20616\n",
            "[xla:6](20) Loss=0.13620\n",
            "[xla:3](20) Loss=0.16035\n",
            "[xla:2](20) Loss=0.08506\n",
            "[xla:5](20) Loss=0.14751\n",
            "[xla:0](20) Loss=0.22276\n",
            "[xla:4](20) Loss=0.11943\n",
            "[xla:7](20) Loss=0.12189\n",
            "[xla:1](20) Loss=0.15227\n",
            "[xla:6](40) Loss=0.24611\n",
            "[xla:3](40) Loss=0.26059\n",
            "[xla:2](40) Loss=0.16633\n",
            "[xla:0](40) Loss=0.17680\n",
            "[xla:5](40) Loss=0.13226\n",
            "[xla:4](40) Loss=0.15197\n",
            "[xla:7](40) Loss=0.09697\n",
            "[xla:1](40) Loss=0.17089\n",
            "Finished training epoch 34\n",
            "[xla:6] Accuracy=88.87%\n",
            "[xla:7] Accuracy=88.87%\n",
            "[xla:2] Accuracy=88.80%\n",
            "[xla:1] Accuracy=88.74%\n",
            "[xla:3] Accuracy=88.83%\n",
            "[xla:4] Accuracy=88.75%\n",
            "[xla:5] Accuracy=88.81%\n",
            "[xla:0] Accuracy=88.77%\n",
            "[xla:6](0) Loss=0.29229\n",
            "[xla:2](0) Loss=0.19452\n",
            "[xla:1](0) Loss=0.20340\n",
            "[xla:3](0) Loss=0.13158\n",
            "[xla:4](0) Loss=0.19022\n",
            "[xla:7](0) Loss=0.12146\n",
            "[xla:5](0) Loss=0.15056\n",
            "[xla:0](0) Loss=0.24659\n",
            "[xla:6](20) Loss=0.12935\n",
            "[xla:2](20) Loss=0.08437\n",
            "[xla:1](20) Loss=0.15186\n",
            "[xla:7](20) Loss=0.12053\n",
            "[xla:5](20) Loss=0.13750\n",
            "[xla:3](20) Loss=0.15308\n",
            "[xla:4](20) Loss=0.11197\n",
            "[xla:0](20) Loss=0.20426\n",
            "[xla:6](40) Loss=0.23553\n",
            "[xla:2](40) Loss=0.16691\n",
            "[xla:1](40) Loss=0.16776\n",
            "[xla:7](40) Loss=0.09423\n",
            "[xla:5](40) Loss=0.12668\n",
            "[xla:4](40) Loss=0.14982\n",
            "[xla:3](40) Loss=0.25434\n",
            "[xla:0](40) Loss=0.16264\n",
            "Finished training epoch 35\n",
            "[xla:6] Accuracy=88.79%\n",
            "[xla:7] Accuracy=88.74%\n",
            "[xla:5] Accuracy=88.72%\n",
            "[xla:4] Accuracy=88.74%\n",
            "[xla:2] Accuracy=88.77%\n",
            "[xla:1] Accuracy=88.70%\n",
            "[xla:0] Accuracy=88.67%\n",
            "[xla:3] Accuracy=88.71%\n",
            "[xla:6](0) Loss=0.29384\n",
            "[xla:7](0) Loss=0.11565\n",
            "[xla:5](0) Loss=0.15416\n",
            "[xla:2](0) Loss=0.19060\n",
            "[xla:4](0) Loss=0.19311\n",
            "[xla:1](0) Loss=0.19656\n",
            "[xla:3](0) Loss=0.13341\n",
            "[xla:0](0) Loss=0.24189\n",
            "[xla:5](20) Loss=0.13331\n",
            "[xla:6](20) Loss=0.13056\n",
            "[xla:7](20) Loss=0.12097\n",
            "[xla:2](20) Loss=0.08148\n",
            "[xla:4](20) Loss=0.11325\n",
            "[xla:1](20) Loss=0.14875\n",
            "[xla:3](20) Loss=0.14842\n",
            "[xla:0](20) Loss=0.20367\n",
            "[xla:5](40) Loss=0.12661\n",
            "[xla:6](40) Loss=0.22810\n",
            "[xla:2](40) Loss=0.16675\n",
            "[xla:7](40) Loss=0.09212\n",
            "[xla:1](40) Loss=0.16649\n",
            "[xla:4](40) Loss=0.14964\n",
            "[xla:3](40) Loss=0.24557\n",
            "[xla:0](40) Loss=0.16062\n",
            "Finished training epoch 36\n",
            "[xla:1] Accuracy=88.97%\n",
            "[xla:2] Accuracy=88.99%\n",
            "[xla:5] Accuracy=88.98%\n",
            "[xla:6] Accuracy=89.00%\n",
            "[xla:7] Accuracy=88.94%\n",
            "[xla:3] Accuracy=88.94%\n",
            "[xla:0] Accuracy=88.94%\n",
            "[xla:4] Accuracy=88.96%\n",
            "[xla:1](0) Loss=0.18978\n",
            "[xla:2](0) Loss=0.18653\n",
            "[xla:5](0) Loss=0.15121\n",
            "[xla:7](0) Loss=0.11356\n",
            "[xla:3](0) Loss=0.13284\n",
            "[xla:6](0) Loss=0.28899\n",
            "[xla:0](0) Loss=0.23783\n",
            "[xla:4](0) Loss=0.18816\n",
            "[xla:1](20) Loss=0.15096\n",
            "[xla:5](20) Loss=0.12727\n",
            "[xla:2](20) Loss=0.08039\n",
            "[xla:3](20) Loss=0.14782\n",
            "[xla:7](20) Loss=0.12094\n",
            "[xla:6](20) Loss=0.13087\n",
            "[xla:0](20) Loss=0.19818\n",
            "[xla:4](20) Loss=0.11070\n",
            "[xla:2](40) Loss=0.17438\n",
            "[xla:1](40) Loss=0.16196\n",
            "[xla:5](40) Loss=0.12292\n",
            "[xla:7](40) Loss=0.09267\n",
            "[xla:3](40) Loss=0.23580\n",
            "[xla:6](40) Loss=0.22888\n",
            "[xla:0](40) Loss=0.15238\n",
            "[xla:4](40) Loss=0.14915\n",
            "Finished training epoch 37\n",
            "[xla:2] Accuracy=89.06%\n",
            "[xla:6] Accuracy=89.09%\n",
            "[xla:1] Accuracy=89.02%\n",
            "[xla:0] Accuracy=89.04%\n",
            "[xla:5] Accuracy=89.10%\n",
            "[xla:3] Accuracy=89.04%\n",
            "[xla:7] Accuracy=89.09%\n",
            "[xla:4] Accuracy=89.09%\n",
            "[xla:6](0) Loss=0.28083\n",
            "[xla:2](0) Loss=0.18807\n",
            "[xla:1](0) Loss=0.18475\n",
            "[xla:3](0) Loss=0.13720\n",
            "[xla:0](0) Loss=0.23199\n",
            "[xla:7](0) Loss=0.11259\n",
            "[xla:5](0) Loss=0.14890\n",
            "[xla:4](0) Loss=0.18809\n",
            "[xla:2](20) Loss=0.08446\n",
            "[xla:6](20) Loss=0.12787\n",
            "[xla:1](20) Loss=0.15038\n",
            "[xla:3](20) Loss=0.14419\n",
            "[xla:7](20) Loss=0.12013\n",
            "[xla:0](20) Loss=0.19673\n",
            "[xla:5](20) Loss=0.12651\n",
            "[xla:4](20) Loss=0.10899\n",
            "[xla:6](40) Loss=0.21859\n",
            "[xla:1](40) Loss=0.16047\n",
            "[xla:2](40) Loss=0.16629\n",
            "[xla:3](40) Loss=0.23315\n",
            "[xla:0](40) Loss=0.15379\n",
            "[xla:7](40) Loss=0.09133\n",
            "[xla:4](40) Loss=0.15033\n",
            "[xla:5](40) Loss=0.12492\n",
            "Finished training epoch 38\n",
            "[xla:2] Accuracy=89.32%\n",
            "[xla:6] Accuracy=89.27%\n",
            "[xla:0] Accuracy=89.25%\n",
            "[xla:1] Accuracy=89.26%\n",
            "[xla:7] Accuracy=89.35%\n",
            "[xla:5] Accuracy=89.29%\n",
            "[xla:3] Accuracy=89.26%\n",
            "[xla:4] Accuracy=89.27%\n",
            "[xla:6](0) Loss=0.27252\n",
            "[xla:0](0) Loss=0.22503\n",
            "[xla:5](0) Loss=0.14304\n",
            "[xla:1](0) Loss=0.17826\n",
            "[xla:2](0) Loss=0.18162\n",
            "[xla:3](0) Loss=0.13681\n",
            "[xla:4](0) Loss=0.18202\n",
            "[xla:7](0) Loss=0.11118\n",
            "[xla:6](20) Loss=0.12202\n",
            "[xla:0](20) Loss=0.19482\n",
            "[xla:5](20) Loss=0.12649\n",
            "[xla:2](20) Loss=0.07636\n",
            "[xla:1](20) Loss=0.14675\n",
            "[xla:3](20) Loss=0.13627\n",
            "[xla:7](20) Loss=0.11339\n",
            "[xla:4](20) Loss=0.10779\n",
            "[xla:6](40) Loss=0.21120\n",
            "[xla:1](40) Loss=0.15688\n",
            "[xla:0](40) Loss=0.14789\n",
            "[xla:2](40) Loss=0.17814\n",
            "[xla:5](40) Loss=0.12054\n",
            "[xla:3](40) Loss=0.22189\n",
            "[xla:7](40) Loss=0.09056\n",
            "[xla:4](40) Loss=0.14658\n",
            "Finished training epoch 39\n",
            "[xla:3] Accuracy=89.23%\n",
            "[xla:1] Accuracy=89.14%\n",
            "[xla:4] Accuracy=89.16%\n",
            "[xla:7] Accuracy=89.20%\n",
            "[xla:6] Accuracy=89.25%\n",
            "[xla:2] Accuracy=89.22%\n",
            "[xla:5] Accuracy=89.17%\n",
            "[xla:0] Accuracy=89.16%\n",
            "[xla:4](0) Loss=0.17937\n",
            "[xla:3](0) Loss=0.13749\n",
            "[xla:7](0) Loss=0.10766\n",
            "[xla:1](0) Loss=0.18391\n",
            "[xla:6](0) Loss=0.27084\n",
            "[xla:5](0) Loss=0.13376\n",
            "[xla:2](0) Loss=0.18469\n",
            "[xla:0](0) Loss=0.22568\n",
            "[xla:4](20) Loss=0.10655\n",
            "[xla:1](20) Loss=0.15001\n",
            "[xla:2](20) Loss=0.07613\n",
            "[xla:7](20) Loss=0.11391\n",
            "[xla:3](20) Loss=0.13160\n",
            "[xla:0](20) Loss=0.19133\n",
            "[xla:6](20) Loss=0.11909\n",
            "[xla:5](20) Loss=0.11598\n",
            "[xla:1](40) Loss=0.15629\n",
            "[xla:4](40) Loss=0.14735\n",
            "[xla:2](40) Loss=0.16195\n",
            "[xla:7](40) Loss=0.08965\n",
            "[xla:3](40) Loss=0.22084\n",
            "[xla:5](40) Loss=0.12006\n",
            "[xla:0](40) Loss=0.14778\n",
            "[xla:6](40) Loss=0.20991\n",
            "Finished training epoch 40\n",
            "[xla:5] Accuracy=89.32%\n",
            "[xla:2] Accuracy=89.32%\n",
            "[xla:7] Accuracy=89.34%\n",
            "[xla:6] Accuracy=89.36%\n",
            "[xla:0] Accuracy=89.25%\n",
            "[xla:4] Accuracy=89.26%\n",
            "[xla:1] Accuracy=89.32%\n",
            "[xla:3] Accuracy=89.26%\n",
            "[xla:2](0) Loss=0.18205\n",
            "[xla:6](0) Loss=0.25938\n",
            "[xla:5](0) Loss=0.13147\n",
            "[xla:7](0) Loss=0.10724\n",
            "[xla:0](0) Loss=0.21898\n",
            "[xla:1](0) Loss=0.17511\n",
            "[xla:4](0) Loss=0.18007\n",
            "[xla:3](0) Loss=0.13899\n",
            "[xla:2](20) Loss=0.07337\n",
            "[xla:5](20) Loss=0.11743\n",
            "[xla:6](20) Loss=0.11459\n",
            "[xla:7](20) Loss=0.11266\n",
            "[xla:0](20) Loss=0.20395\n",
            "[xla:1](20) Loss=0.14566\n",
            "[xla:4](20) Loss=0.10821\n",
            "[xla:3](20) Loss=0.12903\n",
            "[xla:2](40) Loss=0.15497\n",
            "[xla:6](40) Loss=0.20304\n",
            "[xla:5](40) Loss=0.11671\n",
            "[xla:7](40) Loss=0.08837\n",
            "[xla:1](40) Loss=0.14865\n",
            "[xla:0](40) Loss=0.14207\n",
            "[xla:3](40) Loss=0.21586\n",
            "[xla:4](40) Loss=0.14636\n",
            "Finished training epoch 41\n",
            "[xla:7] Accuracy=89.10%\n",
            "[xla:6] Accuracy=89.14%\n",
            "[xla:1] Accuracy=89.12%\n",
            "[xla:4] Accuracy=89.16%\n",
            "[xla:2] Accuracy=89.17%\n",
            "[xla:0] Accuracy=89.08%\n",
            "[xla:5] Accuracy=89.15%\n",
            "[xla:3] Accuracy=89.13%\n",
            "[xla:7](0) Loss=0.10445\n",
            "[xla:1](0) Loss=0.17093\n",
            "[xla:6](0) Loss=0.25788\n",
            "[xla:2](0) Loss=0.17814\n",
            "[xla:4](0) Loss=0.17520\n",
            "[xla:0](0) Loss=0.21413\n",
            "[xla:5](0) Loss=0.12488\n",
            "[xla:3](0) Loss=0.13569\n",
            "[xla:7](20) Loss=0.11133\n",
            "[xla:6](20) Loss=0.11539\n",
            "[xla:1](20) Loss=0.13946\n",
            "[xla:4](20) Loss=0.10284\n",
            "[xla:2](20) Loss=0.06960\n",
            "[xla:0](20) Loss=0.19397\n",
            "[xla:3](20) Loss=0.12766\n",
            "[xla:5](20) Loss=0.11077\n",
            "[xla:7](40) Loss=0.08495\n",
            "[xla:1](40) Loss=0.14631\n",
            "[xla:5](40) Loss=0.12047\n",
            "[xla:3](40) Loss=0.21031\n",
            "[xla:4](40) Loss=0.14907\n",
            "[xla:0](40) Loss=0.13670\n",
            "[xla:6](40) Loss=0.20219\n",
            "[xla:2](40) Loss=0.16004\n",
            "Finished training epoch 42\n",
            "[xla:7] Accuracy=89.23%\n",
            "[xla:6] Accuracy=89.25%\n",
            "[xla:1] Accuracy=89.22%\n",
            "[xla:2] Accuracy=89.26%\n",
            "[xla:4] Accuracy=89.16%\n",
            "[xla:3] Accuracy=89.20%\n",
            "[xla:0] Accuracy=89.10%\n",
            "[xla:5] Accuracy=89.18%\n",
            "[xla:6](0) Loss=0.25720\n",
            "[xla:3](0) Loss=0.13052\n",
            "[xla:1](0) Loss=0.16413\n",
            "[xla:2](0) Loss=0.17388\n",
            "[xla:4](0) Loss=0.17207\n",
            "[xla:7](0) Loss=0.10498\n",
            "[xla:0](0) Loss=0.21342\n",
            "[xla:5](0) Loss=0.12316\n",
            "[xla:6](20) Loss=0.10796\n",
            "[xla:2](20) Loss=0.06670\n",
            "[xla:3](20) Loss=0.11750\n",
            "[xla:1](20) Loss=0.14315\n",
            "[xla:7](20) Loss=0.10709\n",
            "[xla:0](20) Loss=0.18540\n",
            "[xla:4](20) Loss=0.10126\n",
            "[xla:5](20) Loss=0.11091\n",
            "[xla:2](40) Loss=0.15631\n",
            "[xla:3](40) Loss=0.20887\n",
            "[xla:6](40) Loss=0.19352\n",
            "[xla:1](40) Loss=0.14273\n",
            "[xla:0](40) Loss=0.13353\n",
            "[xla:4](40) Loss=0.14835\n",
            "[xla:7](40) Loss=0.08267\n",
            "[xla:5](40) Loss=0.11636\n",
            "Finished training epoch 43\n",
            "[xla:7] Accuracy=89.13%\n",
            "[xla:2] Accuracy=89.16%\n",
            "[xla:3] Accuracy=89.06%\n",
            "[xla:5] Accuracy=89.08%\n",
            "[xla:1] Accuracy=89.13%\n",
            "[xla:0] Accuracy=89.10%\n",
            "[xla:4] Accuracy=89.12%\n",
            "[xla:6] Accuracy=89.13%\n",
            "[xla:7](0) Loss=0.10448\n",
            "[xla:2](0) Loss=0.17008\n",
            "[xla:3](0) Loss=0.13328\n",
            "[xla:5](0) Loss=0.12680\n",
            "[xla:4](0) Loss=0.16595\n",
            "[xla:1](0) Loss=0.15896\n",
            "[xla:0](0) Loss=0.21286\n",
            "[xla:6](0) Loss=0.25765\n",
            "[xla:7](20) Loss=0.10776\n",
            "[xla:2](20) Loss=0.06722\n",
            "[xla:3](20) Loss=0.11233\n",
            "[xla:5](20) Loss=0.10781\n",
            "[xla:4](20) Loss=0.10069\n",
            "[xla:6](20) Loss=0.10765\n",
            "[xla:0](20) Loss=0.19291\n",
            "[xla:1](20) Loss=0.13823\n",
            "[xla:2](40) Loss=0.15585\n",
            "[xla:7](40) Loss=0.07823\n",
            "[xla:3](40) Loss=0.20612\n",
            "[xla:5](40) Loss=0.11558\n",
            "[xla:4](40) Loss=0.13697\n",
            "[xla:0](40) Loss=0.13162\n",
            "[xla:6](40) Loss=0.18646\n",
            "[xla:1](40) Loss=0.14501\n",
            "Finished training epoch 44\n",
            "[xla:7] Accuracy=89.08%\n",
            "[xla:2] Accuracy=89.07%\n",
            "[xla:5] Accuracy=89.04%\n",
            "[xla:1] Accuracy=89.01%\n",
            "[xla:3] Accuracy=89.04%\n",
            "[xla:4] Accuracy=89.06%\n",
            "[xla:0] Accuracy=89.02%\n",
            "[xla:6] Accuracy=89.09%\n",
            "[xla:3](0) Loss=0.12749\n",
            "[xla:5](0) Loss=0.12340\n",
            "[xla:7](0) Loss=0.10435\n",
            "[xla:1](0) Loss=0.15893\n",
            "[xla:2](0) Loss=0.16034\n",
            "[xla:4](0) Loss=0.16117\n",
            "[xla:0](0) Loss=0.20558\n",
            "[xla:6](0) Loss=0.25238\n",
            "[xla:1](20) Loss=0.13190\n",
            "[xla:7](20) Loss=0.10681\n",
            "[xla:3](20) Loss=0.11900\n",
            "[xla:5](20) Loss=0.10071\n",
            "[xla:2](20) Loss=0.07078\n",
            "[xla:4](20) Loss=0.09611\n",
            "[xla:0](20) Loss=0.19706\n",
            "[xla:6](20) Loss=0.11112\n",
            "[xla:7](40) Loss=0.07967\n",
            "[xla:1](40) Loss=0.14465\n",
            "[xla:3](40) Loss=0.20122\n",
            "[xla:5](40) Loss=0.11089\n",
            "[xla:2](40) Loss=0.16155\n",
            "[xla:4](40) Loss=0.13838\n",
            "[xla:0](40) Loss=0.12438\n",
            "[xla:6](40) Loss=0.18642\n",
            "Finished training epoch 45\n",
            "[xla:3] Accuracy=89.36%\n",
            "[xla:2] Accuracy=89.33%\n",
            "[xla:6] Accuracy=89.29%\n",
            "[xla:1] Accuracy=89.28%\n",
            "[xla:4] Accuracy=89.31%\n",
            "[xla:5] Accuracy=89.31%\n",
            "[xla:7] Accuracy=89.27%\n",
            "[xla:0] Accuracy=89.34%\n",
            "[xla:4](0) Loss=0.15910\n",
            "[xla:3](0) Loss=0.13501\n",
            "[xla:6](0) Loss=0.24973\n",
            "[xla:7](0) Loss=0.09880\n",
            "[xla:2](0) Loss=0.16115\n",
            "[xla:1](0) Loss=0.15375\n",
            "[xla:0](0) Loss=0.19495\n",
            "[xla:5](0) Loss=0.12445\n",
            "[xla:3](20) Loss=0.11540\n",
            "[xla:4](20) Loss=0.09384\n",
            "[xla:6](20) Loss=0.11023\n",
            "[xla:1](20) Loss=0.13331\n",
            "[xla:7](20) Loss=0.09689\n",
            "[xla:2](20) Loss=0.06713\n",
            "[xla:0](20) Loss=0.19602\n",
            "[xla:5](20) Loss=0.10274\n",
            "[xla:4](40) Loss=0.13424\n",
            "[xla:3](40) Loss=0.19674\n",
            "[xla:1](40) Loss=0.13645\n",
            "[xla:6](40) Loss=0.17318\n",
            "[xla:7](40) Loss=0.07570\n",
            "[xla:0](40) Loss=0.11915\n",
            "[xla:2](40) Loss=0.14950\n",
            "[xla:5](40) Loss=0.11100\n",
            "Finished training epoch 46\n",
            "[xla:3] Accuracy=89.01%\n",
            "[xla:1] Accuracy=89.01%\n",
            "[xla:4] Accuracy=88.99%\n",
            "[xla:2] Accuracy=89.08%\n",
            "[xla:5] Accuracy=89.00%\n",
            "[xla:0] Accuracy=89.01%\n",
            "[xla:6] Accuracy=89.01%\n",
            "[xla:7] Accuracy=89.10%\n",
            "[xla:1](0) Loss=0.15493\n",
            "[xla:2](0) Loss=0.15664\n",
            "[xla:4](0) Loss=0.16000\n",
            "[xla:3](0) Loss=0.12319\n",
            "[xla:5](0) Loss=0.12196\n",
            "[xla:6](0) Loss=0.24890\n",
            "[xla:0](0) Loss=0.19743\n",
            "[xla:7](0) Loss=0.09691\n",
            "[xla:1](20) Loss=0.13390\n",
            "[xla:4](20) Loss=0.09874\n",
            "[xla:2](20) Loss=0.06466\n",
            "[xla:3](20) Loss=0.10697\n",
            "[xla:5](20) Loss=0.09326\n",
            "[xla:0](20) Loss=0.19240\n",
            "[xla:7](20) Loss=0.10421\n",
            "[xla:6](20) Loss=0.11067\n",
            "[xla:1](40) Loss=0.13896\n",
            "[xla:4](40) Loss=0.14101\n",
            "[xla:2](40) Loss=0.14605\n",
            "[xla:3](40) Loss=0.19425\n",
            "[xla:5](40) Loss=0.10528\n",
            "[xla:7](40) Loss=0.07086\n",
            "[xla:0](40) Loss=0.11743\n",
            "[xla:6](40) Loss=0.17106\n",
            "Finished training epoch 47\n",
            "[xla:4] Accuracy=89.10%\n",
            "[xla:3] Accuracy=89.07%\n",
            "[xla:7] Accuracy=89.15%\n",
            "[xla:6] Accuracy=89.09%\n",
            "[xla:0] Accuracy=89.05%\n",
            "[xla:1] Accuracy=89.13%\n",
            "[xla:2] Accuracy=89.10%\n",
            "[xla:5] Accuracy=89.10%\n",
            "[xla:4](0) Loss=0.15424\n",
            "[xla:3](0) Loss=0.11956\n",
            "[xla:1](0) Loss=0.15049\n",
            "[xla:7](0) Loss=0.09749\n",
            "[xla:6](0) Loss=0.24833\n",
            "[xla:0](0) Loss=0.18963\n",
            "[xla:5](0) Loss=0.11597\n",
            "[xla:2](0) Loss=0.15147\n",
            "[xla:4](20) Loss=0.09244\n",
            "[xla:3](20) Loss=0.10984\n",
            "[xla:7](20) Loss=0.09502\n",
            "[xla:1](20) Loss=0.12828\n",
            "[xla:6](20) Loss=0.10904\n",
            "[xla:0](20) Loss=0.19548\n",
            "[xla:2](20) Loss=0.06828\n",
            "[xla:5](20) Loss=0.09614\n",
            "[xla:4](40) Loss=0.13952\n",
            "[xla:3](40) Loss=0.19581\n",
            "[xla:7](40) Loss=0.07359\n",
            "[xla:6](40) Loss=0.16634\n",
            "[xla:1](40) Loss=0.13890\n",
            "[xla:0](40) Loss=0.11406\n",
            "[xla:2](40) Loss=0.14672\n",
            "[xla:5](40) Loss=0.10307\n",
            "Finished training epoch 48\n",
            "[xla:5] Accuracy=89.33%\n",
            "[xla:4] Accuracy=89.33%\n",
            "[xla:3] Accuracy=89.34%\n",
            "[xla:6] Accuracy=89.30%\n",
            "[xla:7] Accuracy=89.37%\n",
            "[xla:2] Accuracy=89.37%\n",
            "[xla:1] Accuracy=89.34%\n",
            "[xla:0] Accuracy=89.28%\n",
            "[xla:5](0) Loss=0.11841\n",
            "[xla:4](0) Loss=0.15289\n",
            "[xla:6](0) Loss=0.23769\n",
            "[xla:3](0) Loss=0.11927\n",
            "[xla:7](0) Loss=0.10450\n",
            "[xla:0](0) Loss=0.17650\n",
            "[xla:1](0) Loss=0.13536\n",
            "[xla:2](0) Loss=0.14689\n",
            "[xla:5](20) Loss=0.09106\n",
            "[xla:4](20) Loss=0.09716\n",
            "[xla:6](20) Loss=0.11219\n",
            "[xla:7](20) Loss=0.10350\n",
            "[xla:3](20) Loss=0.10245\n",
            "[xla:0](20) Loss=0.18801\n",
            "[xla:1](20) Loss=0.12961\n",
            "[xla:2](20) Loss=0.06799\n",
            "[xla:5](40) Loss=0.10181\n",
            "[xla:4](40) Loss=0.13967\n",
            "[xla:6](40) Loss=0.17029\n",
            "[xla:3](40) Loss=0.19854\n",
            "[xla:7](40) Loss=0.07253\n",
            "[xla:2](40) Loss=0.13999\n",
            "[xla:0](40) Loss=0.11114\n",
            "[xla:1](40) Loss=0.13010\n",
            "Finished training epoch 49\n",
            "[xla:7] Accuracy=89.34%\n",
            "[xla:4] Accuracy=89.25%\n",
            "[xla:1] Accuracy=89.33%\n",
            "[xla:6] Accuracy=89.30%\n",
            "[xla:3] Accuracy=89.34%\n",
            "[xla:5] Accuracy=89.36%\n",
            "[xla:2] Accuracy=89.40%\n",
            "[xla:0] Accuracy=89.22%\n",
            "[xla:4](0) Loss=0.15688\n",
            "[xla:7](0) Loss=0.09739\n",
            "[xla:3](0) Loss=0.11571\n",
            "[xla:6](0) Loss=0.23685\n",
            "[xla:5](0) Loss=0.10973\n",
            "[xla:1](0) Loss=0.14036\n",
            "[xla:2](0) Loss=0.14232\n",
            "[xla:0](0) Loss=0.17726\n",
            "[xla:4](20) Loss=0.09519\n",
            "[xla:7](20) Loss=0.10434\n",
            "[xla:6](20) Loss=0.10788\n",
            "[xla:3](20) Loss=0.09529\n",
            "[xla:5](20) Loss=0.08942\n",
            "[xla:2](20) Loss=0.06166\n",
            "[xla:1](20) Loss=0.12543\n",
            "[xla:0](20) Loss=0.18488\n",
            "[xla:4](40) Loss=0.13149\n",
            "[xla:7](40) Loss=0.06558\n",
            "[xla:6](40) Loss=0.16696\n",
            "[xla:2](40) Loss=0.15521\n",
            "[xla:5](40) Loss=0.10020\n",
            "[xla:3](40) Loss=0.19408\n",
            "[xla:1](40) Loss=0.12821\n",
            "[xla:0](40) Loss=0.10159\n",
            "Finished training epoch 50\n",
            "[xla:0] Accuracy=89.13%\n",
            "[xla:5] Accuracy=89.22%\n",
            "[xla:2] Accuracy=89.15%\n",
            "[xla:4] Accuracy=89.16%\n",
            "[xla:3] Accuracy=89.22%\n",
            "[xla:7] Accuracy=89.23%\n",
            "[xla:6] Accuracy=89.18%\n",
            "[xla:1] Accuracy=89.16%\n"
          ]
        }
      ]
    },
    {
      "cell_type": "markdown",
      "metadata": {
        "id": "dvxjh5B2fGzD"
      },
      "source": [
        "Finally, we can also visualize the predictions by the trained model."
      ]
    },
    {
      "cell_type": "code",
      "metadata": {
        "colab": {
          "base_uri": "https://localhost:8080/",
          "height": 881
        },
        "id": "EPtT9ae9fIsi",
        "outputId": "58abdb39-a61a-42e0-805e-90f29f8a9011"
      },
      "source": [
        "from google.colab.patches import cv2_imshow\n",
        "import cv2\n",
        "img = cv2.imread(RESULT_IMG_PATH, cv2.IMREAD_UNCHANGED)\n",
        "cv2_imshow(img)"
      ],
      "execution_count": null,
      "outputs": [
        {
          "output_type": "display_data",
          "data": {
            "image/png": "[encoded data removed]",
            "text/plain": [
              "<PIL.Image.Image image mode=RGBA size=864x864 at 0x7F4455A6D050>"
            ]
          },
          "metadata": {}
        }
      ]
    }
  ]
}